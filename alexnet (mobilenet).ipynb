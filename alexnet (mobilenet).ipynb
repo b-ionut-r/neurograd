{
 "cells": [
  {
   "cell_type": "markdown",
   "metadata": {
    "id": "ZM8-dSQw4dFH"
   },
   "source": [
    "# Import necessary modules"
   ]
  },
  {
   "cell_type": "code",
   "execution_count": 1,
   "metadata": {
    "colab": {
     "base_uri": "https://localhost:8080/"
    },
    "execution": {
     "iopub.execute_input": "2025-08-26T01:47:22.242846Z",
     "iopub.status.busy": "2025-08-26T01:47:22.242275Z",
     "iopub.status.idle": "2025-08-26T01:47:48.925257Z",
     "shell.execute_reply": "2025-08-26T01:47:48.924387Z",
     "shell.execute_reply.started": "2025-08-26T01:47:22.242820Z"
    },
    "id": "12GhOQ_WzjqH",
    "outputId": "d991cd6e-2fbe-4517-9f47-0adce705c93f",
    "tags": [],
    "trusted": true
   },
   "outputs": [
    {
     "name": "stdout",
     "output_type": "stream",
     "text": [
      "\u001b[2K     \u001b[90m━━━━━━━━━━━━━━━━━━━━━━━━━━━━━━━━━━━━━━━━\u001b[0m \u001b[32m81.3/81.3 kB\u001b[0m \u001b[31m2.9 MB/s\u001b[0m eta \u001b[36m0:00:00\u001b[0m\n",
      "\u001b[2K   \u001b[90m━━━━━━━━━━━━━━━━━━━━━━━━━━━━━━━━━━━━━━━━\u001b[0m \u001b[32m1.7/1.7 MB\u001b[0m \u001b[31m24.8 MB/s\u001b[0m eta \u001b[36m0:00:00\u001b[0m00:01\u001b[0m00:01\u001b[0m\n",
      "\u001b[2K   \u001b[90m━━━━━━━━━━━━━━━━━━━━━━━━━━━━━━━━━━━━━━━━\u001b[0m \u001b[32m57.9/57.9 kB\u001b[0m \u001b[31m2.7 MB/s\u001b[0m eta \u001b[36m0:00:00\u001b[0m\n",
      "\u001b[2K   \u001b[90m━━━━━━━━━━━━━━━━━━━━━━━━━━━━━━━━━━━━━━━━\u001b[0m \u001b[32m12.6/12.6 MB\u001b[0m \u001b[31m96.4 MB/s\u001b[0m eta \u001b[36m0:00:00\u001b[0m:00:01\u001b[0m:01\u001b[0mm\n",
      "\u001b[2K   \u001b[90m━━━━━━━━━━━━━━━━━━━━━━━━━━━━━━━━━━━━━━━━\u001b[0m \u001b[32m62.9/62.9 kB\u001b[0m \u001b[31m3.4 MB/s\u001b[0m eta \u001b[36m0:00:00\u001b[0m\n",
      "\u001b[2K   \u001b[90m━━━━━━━━━━━━━━━━━━━━━━━━━━━━━━━━━━━━━━━━\u001b[0m \u001b[32m63.6/63.6 kB\u001b[0m \u001b[31m3.7 MB/s\u001b[0m eta \u001b[36m0:00:00\u001b[0m\n",
      "\u001b[?25hNote: you may need to restart the kernel to use updated packages.\n",
      "\u001b[2K   \u001b[90m━━━━━━━━━━━━━━━━━━━━━━━━━━━━━━━━━━━━━━━━\u001b[0m \u001b[32m113.0/113.0 MB\u001b[0m \u001b[31m9.4 MB/s\u001b[0m eta \u001b[36m0:00:00\u001b[0m:00:01\u001b[0m00:01\u001b[0m\n",
      "\u001b[?25hNote: you may need to restart the kernel to use updated packages.\n"
     ]
    }
   ],
   "source": [
    "%pip install -U -q neurograd[\"all\"]\n",
    "%pip install -U -q cupy-cuda12x\n",
    "# %pip install -q scalene==1.5.20\n",
    "# %reload_ext scalene\n",
    "import neurograd as ng\n",
    "import os\n",
    "import numpy as np\n",
    "import gzip\n",
    "import urllib.request\n",
    "\n",
    "try:\n",
    "    import cupy as cp\n",
    "    # Clear all device memory\n",
    "    cp.get_default_memory_pool().free_all_blocks()\n",
    "    cp.get_default_pinned_memory_pool().free_all_blocks()\n",
    "    cp.cuda.runtime.deviceSynchronize()\n",
    "except ImportError:\n",
    "    print(\"[INFO] CuPy not found – using NumPy (CPU) for the demo.\")\n",
    "    import numpy as cp\n",
    "\n",
    "from matplotlib import pyplot as plt\n",
    "import random"
   ]
  },
  {
   "cell_type": "markdown",
   "metadata": {
    "id": "kGpJcIbC4aqO"
   },
   "source": [
    "# Prepare tiny ImageNet"
   ]
  },
  {
   "cell_type": "code",
   "execution_count": null,
   "metadata": {
    "colab": {
     "base_uri": "https://localhost:8080/"
    },
    "execution": {
     "iopub.execute_input": "2025-08-26T01:47:48.927225Z",
     "iopub.status.busy": "2025-08-26T01:47:48.926851Z",
     "iopub.status.idle": "2025-08-26T01:48:00.248528Z",
     "shell.execute_reply": "2025-08-26T01:48:00.245442Z",
     "shell.execute_reply.started": "2025-08-26T01:47:48.927203Z"
    },
    "id": "5zhF-BR7zXxf",
    "outputId": "0c73c648-808a-4f15-dbd8-726fccd22e53",
    "tags": [],
    "trusted": true
   },
   "outputs": [
    {
     "name": "stdout",
     "output_type": "stream",
     "text": [
      "[SKIP] tiny-imagenet-200.zip already present.\n",
      "[SKIP] Already extracted.\n",
      "[TRAIN] Restructured. Found 200 valid class directories.\n",
      "[VAL] Already restructured.\n",
      "[VERIFY] train: Expected 200 classes, found 200\n",
      "[VERIFY] val: Expected 200 classes, found 200\n",
      "[OK] Loaded 82115 WNID->words mappings.\n",
      "[OK] Renamed 0 directories with word labels.\n",
      "[OK] Renamed 0 directories with word labels.\n",
      "\n",
      "Tiny-ImageNet batch:\n",
      "X: (240, 3, 227, 227) <class 'numpy.float32'>\n",
      "y: (240, 200) <class 'numpy.float32'>\n",
      "\n",
      "Total valid class folders: 200\n",
      "Sample class folder names: ['n01443537_goldfish', 'n01629819_European_fire_salamander', 'n01641577_bullfrog', 'n01644900_tailed_frog', 'n01698640_American_alligator', 'n01742172_boa_constrictor', 'n01768244_trilobite', 'n01770393_scorpion', 'n01774384_black_widow', 'n01774750_tarantula']\n",
      "\n",
      "Relevant WNID->words mappings (200):\n",
      "  n01443537: goldfish\n",
      "  n01629819: European fire salamander\n",
      "  n01641577: bullfrog\n",
      "  n01644900: tailed frog\n",
      "  n01698640: American alligator\n",
      "  n01742172: boa constrictor\n",
      "  n01768244: trilobite\n",
      "  n01770393: scorpion\n",
      "  n01774384: black widow\n",
      "  n01774750: tarantula\n",
      "\n",
      "Dataset verification:\n",
      "Total classes in dataset: 200\n",
      "Expected classes: 200\n",
      "Match: good\n",
      "First 10 class names: ['n01443537_goldfish', 'n01629819_European_fire_salamander', 'n01641577_bullfrog', 'n01644900_tailed_frog', 'n01698640_American_alligator', 'n01742172_boa_constrictor', 'n01768244_trilobite', 'n01770393_scorpion', 'n01774384_black_widow', 'n01774750_tarantula']\n"
     ]
    }
   ],
   "source": [
    "# ================================================\n",
    "# Tiny-ImageNet-200: download, extract, restructure,\n",
    "# map WNIDs to words, then use ImageFolder + DataLoader\n",
    "# ================================================\n",
    "import os, zipfile, urllib.request, shutil\n",
    "from pathlib import Path\n",
    "import neurograd\n",
    "import neurograd as ng\n",
    "from neurograd import Tensor, xp\n",
    "from neurograd.utils.data import ImageFolder, DataLoader\n",
    "import albumentations as A\n",
    "import cv2\n",
    "\n",
    "# -------- config --------\n",
    "DATA_DIR = Path(\"./data\")\n",
    "ZIP_PATH = DATA_DIR / \"tiny-imagenet-200.zip\"\n",
    "ROOT     = DATA_DIR / \"tiny-imagenet-200\"\n",
    "TRAIN    = ROOT / \"train\"\n",
    "VAL      = ROOT / \"val\"\n",
    "VAL_IMG  = VAL / \"images\"\n",
    "VAL_ANN  = VAL / \"val_annotations.txt\"\n",
    "WORDS_TXT = ROOT / \"words.txt\"\n",
    "\n",
    "URLS = [\n",
    "    \"http://cs231n.stanford.edu/tiny-imagenet-200.zip\",\n",
    "    \"https://tiny-imagenet.s3.amazonaws.com/tiny-imagenet-200.zip\",  # fallback\n",
    "]\n",
    "\n",
    "BATCH_SIZE   = 240\n",
    "IMG_SHAPE    = (224, 224)\n",
    "IMG_MODE     = \"RGB\"\n",
    "USE_ONE_HOT  = True\n",
    "NUM_CLASSES  = 200\n",
    "\n",
    "# -------- helpers --------\n",
    "def download_with_fallback(urls, dst: Path):\n",
    "    dst.parent.mkdir(parents=True, exist_ok=True)\n",
    "    if dst.exists() and dst.stat().st_size > 0:\n",
    "        print(f\"[SKIP] {dst.name} already present.\")\n",
    "        return\n",
    "    for url in urls:\n",
    "        try:\n",
    "            print(f\"[DOWNLOAD] {url}\")\n",
    "            urllib.request.urlretrieve(url, dst)\n",
    "            print(\"[OK] Downloaded.\")\n",
    "            return\n",
    "        except Exception as e:\n",
    "            print(f\"[WARN] Failed: {e}\")\n",
    "    raise RuntimeError(\"All downloads failed.\")\n",
    "\n",
    "def extract_zip(zip_path: Path, out_dir: Path):\n",
    "    if out_dir.exists() and (out_dir / \"train\").exists() and (out_dir / \"val\").exists():\n",
    "        print(\"[SKIP] Already extracted.\")\n",
    "        return\n",
    "    print(f\"[EXTRACT] {zip_path} -> {out_dir.parent}\")\n",
    "    with zipfile.ZipFile(zip_path, \"r\") as zf:\n",
    "        zf.extractall(out_dir.parent)\n",
    "    print(\"[OK] Extracted.\")\n",
    "\n",
    "def clean_unwanted_directories(base_dir: Path):\n",
    "    \"\"\"Remove unwanted directories like .ipynb_checkpoints, .DS_Store, etc.\"\"\"\n",
    "    unwanted_patterns = ['.ipynb_checkpoints', '.DS_Store', '__pycache__', 'Thumbs.db']\n",
    "    removed_count = 0\n",
    "    \n",
    "    for pattern in unwanted_patterns:\n",
    "        for path in base_dir.glob(f\"**/{pattern}\"):\n",
    "            if path.is_dir():\n",
    "                shutil.rmtree(path)\n",
    "                print(f\"[CLEAN] Removed directory: {path}\")\n",
    "                removed_count += 1\n",
    "            elif path.is_file():\n",
    "                path.unlink()\n",
    "                print(f\"[CLEAN] Removed file: {path}\")\n",
    "                removed_count += 1\n",
    "    \n",
    "    if removed_count > 0:\n",
    "        print(f\"[OK] Cleaned {removed_count} unwanted items.\")\n",
    "    return removed_count\n",
    "\n",
    "def is_valid_wnid(directory_name: str):\n",
    "    \"\"\"Check if directory name looks like a valid WNID (starts with 'n' followed by 8 digits)\"\"\"\n",
    "    parts = directory_name.split('_')\n",
    "    wnid = parts[0]\n",
    "    return (len(wnid) == 9 and \n",
    "            wnid.startswith('n') and \n",
    "            wnid[1:].isdigit())\n",
    "\n",
    "def restructure_train_inplace(train_dir: Path):\n",
    "    # First clean unwanted directories\n",
    "    clean_unwanted_directories(train_dir)\n",
    "    \n",
    "    valid_dirs = []\n",
    "    for wnid in [p for p in train_dir.iterdir() if p.is_dir()]:\n",
    "        if is_valid_wnid(wnid.name):\n",
    "            valid_dirs.append(wnid)\n",
    "            images_dir = wnid / \"images\"\n",
    "            if images_dir.is_dir():\n",
    "                for img in images_dir.iterdir():\n",
    "                    if img.is_file():\n",
    "                        os.replace(img, wnid / img.name)\n",
    "                try:\n",
    "                    images_dir.rmdir()\n",
    "                except OSError:\n",
    "                    pass\n",
    "        else:\n",
    "            print(f\"[WARN] Removing invalid directory: {wnid.name}\")\n",
    "            if wnid.is_dir():\n",
    "                shutil.rmtree(wnid)\n",
    "            else:\n",
    "                wnid.unlink()\n",
    "    \n",
    "    print(f\"[TRAIN] Restructured. Found {len(valid_dirs)} valid class directories.\")\n",
    "\n",
    "def restructure_val_inplace(val_dir: Path):\n",
    "    # First clean unwanted directories\n",
    "    clean_unwanted_directories(val_dir)\n",
    "    \n",
    "    if not (val_dir / \"images\").exists():\n",
    "        print(\"[VAL] Already restructured.\")\n",
    "        return\n",
    "    \n",
    "    mapping = {}\n",
    "    with open(val_dir / \"val_annotations.txt\", \"r\") as f:\n",
    "        for line in f:\n",
    "            fname, wnid = line.strip().split(\"\\t\")[:2]\n",
    "            if is_valid_wnid(wnid):\n",
    "                mapping[fname] = wnid\n",
    "    \n",
    "    valid_classes = set()\n",
    "    for fname, wnid in mapping.items():\n",
    "        src = val_dir / \"images\" / fname\n",
    "        if src.exists():\n",
    "            dst_dir = val_dir / wnid\n",
    "            dst_dir.mkdir(parents=True, exist_ok=True)\n",
    "            os.replace(src, dst_dir / fname)\n",
    "            valid_classes.add(wnid)\n",
    "    \n",
    "    try:\n",
    "        (val_dir / \"images\").rmdir()\n",
    "    except OSError:\n",
    "        pass\n",
    "    \n",
    "    print(f\"[VAL] Restructured. Found {len(valid_classes)} valid class directories.\")\n",
    "\n",
    "def load_wnid_to_words(words_file: Path):\n",
    "    wnid_to_words = {}\n",
    "    if not words_file.exists():\n",
    "        print(f\"[WARN] {words_file} not found. Using WNIDs as class names.\")\n",
    "        return wnid_to_words\n",
    "    with open(words_file, \"r\") as f:\n",
    "        for line in f:\n",
    "            parts = line.strip().split(\"\\t\")\n",
    "            if len(parts) >= 2:\n",
    "                wnid = parts[0]\n",
    "                # Only include valid WNIDs that are actually used in Tiny-ImageNet-200\n",
    "                if is_valid_wnid(wnid):\n",
    "                    words = parts[1].split(\",\")[0].strip()\n",
    "                    wnid_to_words[wnid] = words\n",
    "    print(f\"[OK] Loaded {len(wnid_to_words)} WNID->words mappings.\")\n",
    "    return wnid_to_words\n",
    "\n",
    "def rename_directories_to_words(base_dir: Path, wnid_to_words: dict):\n",
    "    if not wnid_to_words:\n",
    "        print(\"[SKIP] No WNID mappings available.\")\n",
    "        return {}\n",
    "    \n",
    "    wnid_to_new_name, renamed_count = {}, 0\n",
    "    valid_dirs = [p for p in base_dir.iterdir() if p.is_dir() and is_valid_wnid(p.name)]\n",
    "    \n",
    "    for wnid_dir in valid_dirs:\n",
    "        wnid = wnid_dir.name.split('_')[0]  # Get the WNID part\n",
    "        if wnid in wnid_to_words:\n",
    "            clean_word = \"\".join(c if c.isalnum() else \"_\" for c in wnid_to_words[wnid]).strip(\"_\")\n",
    "            new_name = f\"{wnid}_{clean_word}\"\n",
    "            new_dir = base_dir / new_name\n",
    "            if not wnid_dir.name.endswith(f\"_{clean_word}\"):\n",
    "                try:\n",
    "                    wnid_dir.rename(new_dir)\n",
    "                    wnid_to_new_name[wnid] = new_name\n",
    "                    renamed_count += 1\n",
    "                except OSError as e:\n",
    "                    print(f\"[WARN] Could not rename {wnid}: {e}\")\n",
    "                    wnid_to_new_name[wnid] = wnid_dir.name\n",
    "            else:\n",
    "                wnid_to_new_name[wnid] = wnid_dir.name\n",
    "        else:\n",
    "            wnid_to_new_name[wnid] = wnid_dir.name\n",
    "    \n",
    "    print(f\"[OK] Renamed {renamed_count} directories with word labels.\")\n",
    "    return wnid_to_new_name\n",
    "\n",
    "def verify_class_count(base_dir: Path, expected_count: int = NUM_CLASSES):\n",
    "    \"\"\"Verify that we have exactly the expected number of classes\"\"\"\n",
    "    valid_dirs = [p for p in base_dir.iterdir() if p.is_dir() and is_valid_wnid(p.name)]\n",
    "    actual_count = len(valid_dirs)\n",
    "    \n",
    "    print(f\"[VERIFY] {base_dir.name}: Expected {expected_count} classes, found {actual_count}\")\n",
    "    \n",
    "    if actual_count != expected_count:\n",
    "        print(f\"[ERROR] Class count mismatch! Expected {expected_count}, got {actual_count}\")\n",
    "        print(\"Valid class directories found:\")\n",
    "        for i, d in enumerate(sorted(valid_dirs)[:10]):\n",
    "            print(f\"  {i+1}: {d.name}\")\n",
    "        if len(valid_dirs) > 10:\n",
    "            print(f\"  ... and {len(valid_dirs) - 10} more\")\n",
    "        return False\n",
    "    return True\n",
    "\n",
    "# -------- run prep --------\n",
    "download_with_fallback(URLS, ZIP_PATH)\n",
    "extract_zip(ZIP_PATH, ROOT)\n",
    "restructure_train_inplace(TRAIN)\n",
    "restructure_val_inplace(VAL)\n",
    "\n",
    "# Verify class counts before proceeding\n",
    "train_valid = verify_class_count(TRAIN, NUM_CLASSES)\n",
    "val_valid = verify_class_count(VAL, NUM_CLASSES)\n",
    "\n",
    "if not (train_valid and val_valid):\n",
    "    print(\"[ERROR] Invalid class structure detected. Please check your data.\")\n",
    "    exit(1)\n",
    "\n",
    "# -------- load wnid mappings and rename directories --------\n",
    "wnid_to_words = load_wnid_to_words(WORDS_TXT)\n",
    "train_mapping = rename_directories_to_words(TRAIN, wnid_to_words)\n",
    "val_mapping = rename_directories_to_words(VAL, wnid_to_words)\n",
    "\n",
    "# -------- one-hot transform (with optional label smoothing) --------\n",
    "LABEL_SMOOTH = 0.1  # set 0.0 to disable\n",
    "def to_one_hot(idx: int, num_classes: int = NUM_CLASSES, smooth: float = LABEL_SMOOTH):\n",
    "    v = xp.full((num_classes,), fill_value=0.0, dtype=xp.float32)\n",
    "    if smooth and smooth > 0:\n",
    "        off = smooth / num_classes\n",
    "        v[:] = off\n",
    "        v[idx] = 1.0 - smooth + off\n",
    "    else:\n",
    "        v[idx] = 1.0\n",
    "    return v\n",
    "\n",
    "target_tf = (lambda i: to_one_hot(i, NUM_CLASSES)) if USE_ONE_HOT else None\n",
    "target_dtype = xp.float32 if USE_ONE_HOT else xp.int64\n",
    "\n",
    "# -------- augmentations/datasets/loaders --------\n",
    "H, W = IMG_SHAPE\n",
    "# good #\n",
    "train_aug = A.Compose([ \n",
    "    # geometry\n",
    "    A.RandomResizedCrop(\n",
    "        size=IMG_SHAPE,                   # (H, W)\n",
    "        scale=(0.5, 1.0),\n",
    "        ratio=(3/4, 4/3),\n",
    "        p=1.0\n",
    "    ),\n",
    "    A.HorizontalFlip(p=0.5),\n",
    "    A.Affine(\n",
    "        translate_percent=(0.08, 0.08),\n",
    "        scale=(0.85, 1.15),\n",
    "        rotate=(-15, 15),\n",
    "        shear=(-8, 8),\n",
    "        fit_output=False,\n",
    "        fill=0,                           # <- was cval\n",
    "        p=0.7\n",
    "    ),\n",
    "\n",
    "    # photometric\n",
    "    A.OneOf([\n",
    "        A.ColorJitter(brightness=0.4, contrast=0.4, saturation=0.4, hue=0.05, p=1.0),\n",
    "        A.HueSaturationValue(hue_shift_limit=12, sat_shift_limit=20, val_shift_limit=12, p=1.0),\n",
    "    ], p=0.9),\n",
    "    A.RandomGamma(gamma_limit=(70, 130), p=0.2),\n",
    "    A.RGBShift(r_shift_limit=10, g_shift_limit=10, b_shift_limit=10, p=0.2),\n",
    "\n",
    "    # blur/noise (light)\n",
    "    A.OneOf([\n",
    "        A.MotionBlur(blur_limit=5, p=1.0),\n",
    "        A.MedianBlur(blur_limit=3, p=1.0),\n",
    "        A.GaussNoise(std_range=(0.05, 0.15), mean_range=(0.0, 0.0), p=1.0),  # <- was var_limit/mean\n",
    "    ], p=0.25),\n",
    "\n",
    "    # occlusion\n",
    "    A.CoarseDropout(\n",
    "        num_holes_range=(1, 3),                     # <- was min_holes/max_holes\n",
    "        hole_height_range=(0.06, 0.18),             # <- was min_height/max_height\n",
    "        hole_width_range=(0.06, 0.18),              # <- was min_width/max_width\n",
    "        fill=0,                                     # <- was fill_value\n",
    "        p=0.7\n",
    "    ),\n",
    "])\n",
    "\n",
    "\n",
    "train_ds = ImageFolder(\n",
    "    root=str(TRAIN),\n",
    "    img_shape=IMG_SHAPE,\n",
    "    img_mode=IMG_MODE,\n",
    "    img_normalize=True,\n",
    "    img_transform=train_aug,\n",
    "    target_transform=target_tf,\n",
    "    img_dtype=xp.float32,\n",
    "    target_dtype=target_dtype,\n",
    "    chw=True,\n",
    ")\n",
    "\n",
    "val_ds = ImageFolder(\n",
    "    root=str(VAL),\n",
    "    img_shape=IMG_SHAPE,\n",
    "    img_mode=IMG_MODE,\n",
    "    img_normalize=True,\n",
    "    target_transform=target_tf,\n",
    "    img_dtype=xp.float32,\n",
    "    target_dtype=target_dtype,\n",
    "    chw=True,\n",
    ")\n",
    "\n",
    "train_loader = DataLoader(\n",
    "    train_ds, batch_size=BATCH_SIZE, shuffle=True,\n",
    ")\n",
    "val_loader = DataLoader(\n",
    "    val_ds, batch_size=BATCH_SIZE, shuffle=False,\n",
    ")\n",
    "\n",
    "# -------- sanity check --------\n",
    "Xb, yb = next(iter(train_loader))\n",
    "print(\"\\nTiny-ImageNet batch:\")\n",
    "print(\"X:\", Xb.shape, Xb.dtype)\n",
    "print(\"y:\", yb.shape, yb.dtype)\n",
    "\n",
    "# Show class folder names (should now be exactly 200)\n",
    "class_folders = sorted([d for d in os.listdir(TRAIN) if os.path.isdir(os.path.join(TRAIN, d)) and is_valid_wnid(d)])\n",
    "print(f\"\\nTotal valid class folders: {len(class_folders)}\")\n",
    "print(\"Sample class folder names:\", class_folders[:10])\n",
    "\n",
    "# Show relevant WNID mappings (only for classes that exist in our dataset)\n",
    "if wnid_to_words:\n",
    "    relevant_mappings = {wnid: word for wnid, word in wnid_to_words.items() \n",
    "                        if any(folder.startswith(wnid) for folder in class_folders)}\n",
    "    print(f\"\\nRelevant WNID->words mappings ({len(relevant_mappings)}):\")\n",
    "    for i, (wnid, word) in enumerate(list(relevant_mappings.items())[:10]):\n",
    "        print(f\"  {wnid}: {word}\")\n",
    "\n",
    "TARGET_MAPPING = train_ds.target_mapping\n",
    "TARGET_INV_MAPPING = {v: k for k, v in TARGET_MAPPING.items()}\n",
    "TARGET_NAMES = train_ds.target_names\n",
    "\n",
    "print(f\"\\nDataset verification:\")\n",
    "print(f\"Total classes in dataset: {train_ds.num_classes}\")\n",
    "print(f\"Expected classes: {NUM_CLASSES}\")\n",
    "print(f\"Match: {'good' if train_ds.num_classes == NUM_CLASSES else 'not good'}\")\n",
    "\n",
    "if train_ds.num_classes == NUM_CLASSES:\n",
    "    print(\"First 10 class names:\", TARGET_NAMES[:10])\n",
    "else:\n",
    "    print(\"[ERROR] Class count still doesn't match!\")\n",
    "    print(\"All class names found:\", TARGET_NAMES)"
   ]
  },
  {
   "cell_type": "code",
   "execution_count": 3,
   "metadata": {
    "colab": {
     "base_uri": "https://localhost:8080/",
     "height": 200
    },
    "execution": {
     "iopub.execute_input": "2025-08-26T01:48:00.250555Z",
     "iopub.status.busy": "2025-08-26T01:48:00.250230Z",
     "iopub.status.idle": "2025-08-26T01:48:01.588472Z",
     "shell.execute_reply": "2025-08-26T01:48:01.587311Z",
     "shell.execute_reply.started": "2025-08-26T01:48:00.250538Z"
    },
    "id": "n5Wk_Dv05QQz",
    "outputId": "68a56996-b599-43c5-8a9e-8d0313922bbd",
    "tags": [],
    "trusted": true
   },
   "outputs": [
    {
     "data": {
      "image/png": "[encoded data removed]",
      "text/plain": [
       "<Figure size 640x480 with 4 Axes>"
      ]
     },
     "metadata": {},
     "output_type": "display_data"
    }
   ],
   "source": [
    "# Plot 4 random images\n",
    "\n",
    "indices = range(len(train_ds))\n",
    "chosen = random.sample(indices, 4)\n",
    "\n",
    "for i, idx in enumerate(chosen, 1):\n",
    "  plt.subplot(1, 4, i)\n",
    "  img, label = train_ds[idx]\n",
    "  img = img.data.transpose(1, 2, 0).get()\n",
    "  label = TARGET_INV_MAPPING.get(label.data.argmax().item()).split(\"_\")[1]\n",
    "  plt.axis(\"off\")\n",
    "  plt.imshow(img)\n",
    "  plt.title(f\"Label: {label}\")\n",
    "plt.tight_layout()\n",
    "plt.show()"
   ]
  },
  {
   "cell_type": "markdown",
   "metadata": {
    "id": "_mjh6qAb7OJi"
   },
   "source": [
    "# Model architecture, optimizer and losses"
   ]
  },
  {
   "cell_type": "code",
   "execution_count": 4,
   "metadata": {
    "execution": {
     "iopub.execute_input": "2025-08-26T01:48:01.593877Z",
     "iopub.status.busy": "2025-08-26T01:48:01.593484Z",
     "iopub.status.idle": "2025-08-26T01:48:02.512587Z",
     "shell.execute_reply": "2025-08-26T01:48:02.511813Z",
     "shell.execute_reply.started": "2025-08-26T01:48:01.593857Z"
    },
    "tags": [],
    "trusted": true
   },
   "outputs": [],
   "source": [
    "try:\n",
    "    checkpoint = ng.load(\"checkpoint.pkl\")\n",
    "except:\n",
    "    checkpoint = None"
   ]
  },
  {
   "cell_type": "code",
   "execution_count": null,
   "metadata": {},
   "outputs": [],
   "source": [
    "from typing import List, Tuple\n",
    "from neurograd import xp\n",
    "# adjust this import if Module lives elsewhere in your repo\n",
    "from neurograd.nn.module import Module\n",
    "from neurograd.nn.layers import Conv2D, Linear, Sequential, Dropout  # Dropout optional\n",
    "\n",
    "\n",
    "def make_divisible(v: int, divisor: int = 8, min_value: int = None) -> int:\n",
    "    \"\"\"Match TF/timm-style channel rounding.\"\"\"\n",
    "    if min_value is None:\n",
    "        min_value = divisor\n",
    "    new_v = max(min_value, int(v + divisor / 2) // divisor * divisor)\n",
    "    if new_v < 0.9 * v:\n",
    "        new_v += divisor\n",
    "    return new_v\n",
    "\n",
    "\n",
    "class Bottleneck(Module):\n",
    "    \"\"\"MobileNetV2 inverted residual block.\"\"\"\n",
    "    def __init__(self, in_channels: int, out_channels: int, stride: int = 1, expansion: int = 6,\n",
    "                 activation: str = \"relu6\", batch_normalization: bool = True):\n",
    "        super().__init__()\n",
    "        hidden = in_channels * expansion\n",
    "        self.use_expansion = (expansion != 1)\n",
    "        self.use_shortcut = (stride == 1 and in_channels == out_channels)\n",
    "\n",
    "        if self.use_expansion:\n",
    "            self.conv1 = Conv2D(\n",
    "                in_channels=in_channels, out_channels=hidden,\n",
    "                kernel_size=1, strides=1, padding=\"valid\",\n",
    "                activation=activation, batch_normalization=batch_normalization\n",
    "            )\n",
    "\n",
    "        self.conv2 = Conv2D(\n",
    "            in_channels=hidden if self.use_expansion else in_channels,\n",
    "            kernel_size=3, strides=stride, padding=\"same\", depthwise=True,\n",
    "            activation=activation, batch_normalization=batch_normalization\n",
    "        )\n",
    "\n",
    "        self.conv3 = Conv2D(\n",
    "            in_channels=hidden if self.use_expansion else in_channels,\n",
    "            out_channels=out_channels,\n",
    "            kernel_size=1, strides=1, padding=\"valid\",\n",
    "            activation=\"passthrough\",  # linear bottleneck\n",
    "            batch_normalization=batch_normalization\n",
    "        )\n",
    "\n",
    "    def forward(self, x):\n",
    "        identity = x\n",
    "        if self.use_expansion:\n",
    "            x = self.conv1(x)\n",
    "        x = self.conv2(x)\n",
    "        x = self.conv3(x)\n",
    "        if self.use_shortcut:\n",
    "            x = x + identity\n",
    "        return x\n",
    "\n",
    "\n",
    "class MobileNetV2(Module):\n",
    "    \"\"\"\n",
    "    MobileNetV2.\n",
    "    Stages follow: [t, c, n, s] =\n",
    "        [1,  16, 1, 1],\n",
    "        [6,  24, 2, 2],\n",
    "        [6,  32, 3, 2],\n",
    "        [6,  64, 4, 2],\n",
    "        [6,  96, 3, 1],\n",
    "        [6, 160, 3, 2],\n",
    "        [6, 320, 1, 1]\n",
    "    \"\"\"\n",
    "    def __init__(\n",
    "        self,\n",
    "        num_classes: int = 1000,\n",
    "        width_mult: float = 1.0,\n",
    "        activation: str = \"relu6\",\n",
    "        batch_normalization: bool = True,\n",
    "        include_top: bool = True,\n",
    "        dropout: float = 0.2,\n",
    "    ):\n",
    "        super().__init__()\n",
    "        self.include_top = include_top\n",
    "        self.dropout_p = dropout\n",
    "\n",
    "        # Stem\n",
    "        input_channels = make_divisible(32 * width_mult, 8)\n",
    "        features: List[Module] = [\n",
    "            Conv2D(\n",
    "                in_channels=3, out_channels=input_channels,\n",
    "                kernel_size=3, strides=2, padding=\"same\",\n",
    "                activation=activation, batch_normalization=batch_normalization\n",
    "            )\n",
    "        ]\n",
    "\n",
    "        # Inverted residual settings: (t, c, n, s)\n",
    "        settings: List[Tuple[int, int, int, int]] = [\n",
    "            (1,  16, 1, 1),\n",
    "            (6,  24, 2, 2),\n",
    "            (6,  32, 3, 2),\n",
    "            (6,  64, 4, 2),\n",
    "            (6,  96, 3, 1),\n",
    "            (6, 160, 3, 2),\n",
    "            (6, 320, 1, 1),\n",
    "        ]\n",
    "\n",
    "        # Bottleneck stages\n",
    "        for t, c, n, s in settings:\n",
    "            out_channels = make_divisible(int(c * width_mult), 8)\n",
    "            for i in range(n):\n",
    "                stride = s if i == 0 else 1\n",
    "                features.append(\n",
    "                    Bottleneck(\n",
    "                        in_channels=input_channels,\n",
    "                        out_channels=out_channels,\n",
    "                        stride=stride,\n",
    "                        expansion=t,\n",
    "                        activation=activation,\n",
    "                        batch_normalization=batch_normalization,\n",
    "                    )\n",
    "                )\n",
    "                input_channels = out_channels\n",
    "\n",
    "        # Head: 1x1 to last_channel then GAP → classifier\n",
    "        last_channel = make_divisible(int(1280 * width_mult), 8)\n",
    "        features.append(\n",
    "            Conv2D(\n",
    "                in_channels=input_channels, out_channels=last_channel,\n",
    "                kernel_size=1, strides=1, padding=\"valid\",\n",
    "                activation=activation, batch_normalization=batch_normalization\n",
    "            )\n",
    "        )\n",
    "        self.features = Sequential(*features)\n",
    "\n",
    "        # Classifier\n",
    "        if include_top:\n",
    "            # (optional) dropout before final linear\n",
    "            if dropout and dropout > 0:\n",
    "                self.drop = Dropout(dropout)\n",
    "            else:\n",
    "                self.drop = None\n",
    "            self.classifier = Linear(\n",
    "                in_features=last_channel,\n",
    "                out_features=num_classes,\n",
    "                activation=\"passthrough\",\n",
    "                batch_normalization=False\n",
    "            )\n",
    "        else:\n",
    "            self.drop = None\n",
    "            self.classifier = None\n",
    "\n",
    "    def forward(self, x):\n",
    "        x = self.features(x)                 # N, C, H, W\n",
    "        x = ng.mean(x, axis=(2, 3))        # global average pool → N, C\n",
    "        if self.include_top:\n",
    "            if self.drop is not None:\n",
    "                x = self.drop(x)\n",
    "            x = self.classifier(x)           # logits\n",
    "        return x\n",
    "\n",
    "\n",
    "# Convenience factory (same signature as many libs)\n",
    "def mobilenet_v2(num_classes=1000, width_mult=1.0, include_top=True, dropout=0.2):\n",
    "    return MobileNetV2(\n",
    "        num_classes=num_classes,\n",
    "        width_mult=width_mult,\n",
    "        include_top=include_top,\n",
    "        dropout=dropout,\n",
    "    )"
   ]
  },
  {
   "cell_type": "code",
   "execution_count": null,
   "metadata": {
    "colab": {
     "base_uri": "https://localhost:8080/"
    },
    "execution": {
     "iopub.execute_input": "2025-08-26T01:48:02.540123Z",
     "iopub.status.busy": "2025-08-26T01:48:02.539907Z",
     "iopub.status.idle": "2025-08-26T01:48:03.118315Z",
     "shell.execute_reply": "2025-08-26T01:48:03.117552Z",
     "shell.execute_reply.started": "2025-08-26T01:48:02.540107Z"
    },
    "id": "lMmhKSHc8Atn",
    "outputId": "ed7bd561-9772-43e3-b366-e08ced6c44e4",
    "tags": [],
    "trusted": true
   },
   "outputs": [
    {
     "name": "stdout",
     "output_type": "stream",
     "text": [
      "features.layer_0.kernels (32, 3, 3, 3)\n",
      "features.layer_0.batch_norm.mean_scaler (1, 32, 1, 1)\n",
      "features.layer_0.batch_norm.std_scaler (1, 32, 1, 1)\n",
      "features.layer_1.conv2.kernels (32, 3, 3)\n",
      "features.layer_1.conv2.batch_norm.mean_scaler (1, 32, 1, 1)\n",
      "features.layer_1.conv2.batch_norm.std_scaler (1, 32, 1, 1)\n",
      "features.layer_1.conv3.kernels (16, 32, 1, 1)\n",
      "features.layer_1.conv3.batch_norm.mean_scaler (1, 16, 1, 1)\n",
      "features.layer_1.conv3.batch_norm.std_scaler (1, 16, 1, 1)\n",
      "features.layer_2.conv1.kernels (96, 16, 1, 1)\n",
      "features.layer_2.conv1.batch_norm.mean_scaler (1, 96, 1, 1)\n",
      "features.layer_2.conv1.batch_norm.std_scaler (1, 96, 1, 1)\n",
      "features.layer_2.conv2.kernels (96, 3, 3)\n",
      "features.layer_2.conv2.batch_norm.mean_scaler (1, 96, 1, 1)\n",
      "features.layer_2.conv2.batch_norm.std_scaler (1, 96, 1, 1)\n",
      "features.layer_2.conv3.kernels (24, 96, 1, 1)\n",
      "features.layer_2.conv3.batch_norm.mean_scaler (1, 24, 1, 1)\n",
      "features.layer_2.conv3.batch_norm.std_scaler (1, 24, 1, 1)\n",
      "features.layer_3.conv1.kernels (144, 24, 1, 1)\n",
      "features.layer_3.conv1.batch_norm.mean_scaler (1, 144, 1, 1)\n",
      "features.layer_3.conv1.batch_norm.std_scaler (1, 144, 1, 1)\n",
      "features.layer_3.conv2.kernels (144, 3, 3)\n",
      "features.layer_3.conv2.batch_norm.mean_scaler (1, 144, 1, 1)\n",
      "features.layer_3.conv2.batch_norm.std_scaler (1, 144, 1, 1)\n",
      "features.layer_3.conv3.kernels (24, 144, 1, 1)\n",
      "features.layer_3.conv3.batch_norm.mean_scaler (1, 24, 1, 1)\n",
      "features.layer_3.conv3.batch_norm.std_scaler (1, 24, 1, 1)\n",
      "features.layer_4.conv1.kernels (144, 24, 1, 1)\n",
      "features.layer_4.conv1.batch_norm.mean_scaler (1, 144, 1, 1)\n",
      "features.layer_4.conv1.batch_norm.std_scaler (1, 144, 1, 1)\n",
      "features.layer_4.conv2.kernels (144, 3, 3)\n",
      "features.layer_4.conv2.batch_norm.mean_scaler (1, 144, 1, 1)\n",
      "features.layer_4.conv2.batch_norm.std_scaler (1, 144, 1, 1)\n",
      "features.layer_4.conv3.kernels (32, 144, 1, 1)\n",
      "features.layer_4.conv3.batch_norm.mean_scaler (1, 32, 1, 1)\n",
      "features.layer_4.conv3.batch_norm.std_scaler (1, 32, 1, 1)\n",
      "features.layer_5.conv1.kernels (192, 32, 1, 1)\n",
      "features.layer_5.conv1.batch_norm.mean_scaler (1, 192, 1, 1)\n",
      "features.layer_5.conv1.batch_norm.std_scaler (1, 192, 1, 1)\n",
      "features.layer_5.conv2.kernels (192, 3, 3)\n",
      "features.layer_5.conv2.batch_norm.mean_scaler (1, 192, 1, 1)\n",
      "features.layer_5.conv2.batch_norm.std_scaler (1, 192, 1, 1)\n",
      "features.layer_5.conv3.kernels (32, 192, 1, 1)\n",
      "features.layer_5.conv3.batch_norm.mean_scaler (1, 32, 1, 1)\n",
      "features.layer_5.conv3.batch_norm.std_scaler (1, 32, 1, 1)\n",
      "features.layer_6.conv1.kernels (192, 32, 1, 1)\n",
      "features.layer_6.conv1.batch_norm.mean_scaler (1, 192, 1, 1)\n",
      "features.layer_6.conv1.batch_norm.std_scaler (1, 192, 1, 1)\n",
      "features.layer_6.conv2.kernels (192, 3, 3)\n",
      "features.layer_6.conv2.batch_norm.mean_scaler (1, 192, 1, 1)\n",
      "features.layer_6.conv2.batch_norm.std_scaler (1, 192, 1, 1)\n",
      "features.layer_6.conv3.kernels (32, 192, 1, 1)\n",
      "features.layer_6.conv3.batch_norm.mean_scaler (1, 32, 1, 1)\n",
      "features.layer_6.conv3.batch_norm.std_scaler (1, 32, 1, 1)\n",
      "features.layer_7.conv1.kernels (192, 32, 1, 1)\n",
      "features.layer_7.conv1.batch_norm.mean_scaler (1, 192, 1, 1)\n",
      "features.layer_7.conv1.batch_norm.std_scaler (1, 192, 1, 1)\n",
      "features.layer_7.conv2.kernels (192, 3, 3)\n",
      "features.layer_7.conv2.batch_norm.mean_scaler (1, 192, 1, 1)\n",
      "features.layer_7.conv2.batch_norm.std_scaler (1, 192, 1, 1)\n",
      "features.layer_7.conv3.kernels (64, 192, 1, 1)\n",
      "features.layer_7.conv3.batch_norm.mean_scaler (1, 64, 1, 1)\n",
      "features.layer_7.conv3.batch_norm.std_scaler (1, 64, 1, 1)\n",
      "features.layer_8.conv1.kernels (384, 64, 1, 1)\n",
      "features.layer_8.conv1.batch_norm.mean_scaler (1, 384, 1, 1)\n",
      "features.layer_8.conv1.batch_norm.std_scaler (1, 384, 1, 1)\n",
      "features.layer_8.conv2.kernels (384, 3, 3)\n",
      "features.layer_8.conv2.batch_norm.mean_scaler (1, 384, 1, 1)\n",
      "features.layer_8.conv2.batch_norm.std_scaler (1, 384, 1, 1)\n",
      "features.layer_8.conv3.kernels (64, 384, 1, 1)\n",
      "features.layer_8.conv3.batch_norm.mean_scaler (1, 64, 1, 1)\n",
      "features.layer_8.conv3.batch_norm.std_scaler (1, 64, 1, 1)\n",
      "features.layer_9.conv1.kernels (384, 64, 1, 1)\n",
      "features.layer_9.conv1.batch_norm.mean_scaler (1, 384, 1, 1)\n",
      "features.layer_9.conv1.batch_norm.std_scaler (1, 384, 1, 1)\n",
      "features.layer_9.conv2.kernels (384, 3, 3)\n",
      "features.layer_9.conv2.batch_norm.mean_scaler (1, 384, 1, 1)\n",
      "features.layer_9.conv2.batch_norm.std_scaler (1, 384, 1, 1)\n",
      "features.layer_9.conv3.kernels (64, 384, 1, 1)\n",
      "features.layer_9.conv3.batch_norm.mean_scaler (1, 64, 1, 1)\n",
      "features.layer_9.conv3.batch_norm.std_scaler (1, 64, 1, 1)\n",
      "features.layer_10.conv1.kernels (384, 64, 1, 1)\n",
      "features.layer_10.conv1.batch_norm.mean_scaler (1, 384, 1, 1)\n",
      "features.layer_10.conv1.batch_norm.std_scaler (1, 384, 1, 1)\n",
      "features.layer_10.conv2.kernels (384, 3, 3)\n",
      "features.layer_10.conv2.batch_norm.mean_scaler (1, 384, 1, 1)\n",
      "features.layer_10.conv2.batch_norm.std_scaler (1, 384, 1, 1)\n",
      "features.layer_10.conv3.kernels (64, 384, 1, 1)\n",
      "features.layer_10.conv3.batch_norm.mean_scaler (1, 64, 1, 1)\n",
      "features.layer_10.conv3.batch_norm.std_scaler (1, 64, 1, 1)\n",
      "features.layer_11.conv1.kernels (384, 64, 1, 1)\n",
      "features.layer_11.conv1.batch_norm.mean_scaler (1, 384, 1, 1)\n",
      "features.layer_11.conv1.batch_norm.std_scaler (1, 384, 1, 1)\n",
      "features.layer_11.conv2.kernels (384, 3, 3)\n",
      "features.layer_11.conv2.batch_norm.mean_scaler (1, 384, 1, 1)\n",
      "features.layer_11.conv2.batch_norm.std_scaler (1, 384, 1, 1)\n",
      "features.layer_11.conv3.kernels (96, 384, 1, 1)\n",
      "features.layer_11.conv3.batch_norm.mean_scaler (1, 96, 1, 1)\n",
      "features.layer_11.conv3.batch_norm.std_scaler (1, 96, 1, 1)\n",
      "features.layer_12.conv1.kernels (576, 96, 1, 1)\n",
      "features.layer_12.conv1.batch_norm.mean_scaler (1, 576, 1, 1)\n",
      "features.layer_12.conv1.batch_norm.std_scaler (1, 576, 1, 1)\n",
      "features.layer_12.conv2.kernels (576, 3, 3)\n",
      "features.layer_12.conv2.batch_norm.mean_scaler (1, 576, 1, 1)\n",
      "features.layer_12.conv2.batch_norm.std_scaler (1, 576, 1, 1)\n",
      "features.layer_12.conv3.kernels (96, 576, 1, 1)\n",
      "features.layer_12.conv3.batch_norm.mean_scaler (1, 96, 1, 1)\n",
      "features.layer_12.conv3.batch_norm.std_scaler (1, 96, 1, 1)\n",
      "features.layer_13.conv1.kernels (576, 96, 1, 1)\n",
      "features.layer_13.conv1.batch_norm.mean_scaler (1, 576, 1, 1)\n",
      "features.layer_13.conv1.batch_norm.std_scaler (1, 576, 1, 1)\n",
      "features.layer_13.conv2.kernels (576, 3, 3)\n",
      "features.layer_13.conv2.batch_norm.mean_scaler (1, 576, 1, 1)\n",
      "features.layer_13.conv2.batch_norm.std_scaler (1, 576, 1, 1)\n",
      "features.layer_13.conv3.kernels (96, 576, 1, 1)\n",
      "features.layer_13.conv3.batch_norm.mean_scaler (1, 96, 1, 1)\n",
      "features.layer_13.conv3.batch_norm.std_scaler (1, 96, 1, 1)\n",
      "features.layer_14.conv1.kernels (576, 96, 1, 1)\n",
      "features.layer_14.conv1.batch_norm.mean_scaler (1, 576, 1, 1)\n",
      "features.layer_14.conv1.batch_norm.std_scaler (1, 576, 1, 1)\n",
      "features.layer_14.conv2.kernels (576, 3, 3)\n",
      "features.layer_14.conv2.batch_norm.mean_scaler (1, 576, 1, 1)\n",
      "features.layer_14.conv2.batch_norm.std_scaler (1, 576, 1, 1)\n",
      "features.layer_14.conv3.kernels (160, 576, 1, 1)\n",
      "features.layer_14.conv3.batch_norm.mean_scaler (1, 160, 1, 1)\n",
      "features.layer_14.conv3.batch_norm.std_scaler (1, 160, 1, 1)\n",
      "features.layer_15.conv1.kernels (960, 160, 1, 1)\n",
      "features.layer_15.conv1.batch_norm.mean_scaler (1, 960, 1, 1)\n",
      "features.layer_15.conv1.batch_norm.std_scaler (1, 960, 1, 1)\n",
      "features.layer_15.conv2.kernels (960, 3, 3)\n",
      "features.layer_15.conv2.batch_norm.mean_scaler (1, 960, 1, 1)\n",
      "features.layer_15.conv2.batch_norm.std_scaler (1, 960, 1, 1)\n",
      "features.layer_15.conv3.kernels (160, 960, 1, 1)\n",
      "features.layer_15.conv3.batch_norm.mean_scaler (1, 160, 1, 1)\n",
      "features.layer_15.conv3.batch_norm.std_scaler (1, 160, 1, 1)\n",
      "features.layer_16.conv1.kernels (960, 160, 1, 1)\n",
      "features.layer_16.conv1.batch_norm.mean_scaler (1, 960, 1, 1)\n",
      "features.layer_16.conv1.batch_norm.std_scaler (1, 960, 1, 1)\n",
      "features.layer_16.conv2.kernels (960, 3, 3)\n",
      "features.layer_16.conv2.batch_norm.mean_scaler (1, 960, 1, 1)\n",
      "features.layer_16.conv2.batch_norm.std_scaler (1, 960, 1, 1)\n",
      "features.layer_16.conv3.kernels (160, 960, 1, 1)\n",
      "features.layer_16.conv3.batch_norm.mean_scaler (1, 160, 1, 1)\n",
      "features.layer_16.conv3.batch_norm.std_scaler (1, 160, 1, 1)\n",
      "features.layer_17.conv1.kernels (960, 160, 1, 1)\n",
      "features.layer_17.conv1.batch_norm.mean_scaler (1, 960, 1, 1)\n",
      "features.layer_17.conv1.batch_norm.std_scaler (1, 960, 1, 1)\n",
      "features.layer_17.conv2.kernels (960, 3, 3)\n",
      "features.layer_17.conv2.batch_norm.mean_scaler (1, 960, 1, 1)\n",
      "features.layer_17.conv2.batch_norm.std_scaler (1, 960, 1, 1)\n",
      "features.layer_17.conv3.kernels (320, 960, 1, 1)\n",
      "features.layer_17.conv3.batch_norm.mean_scaler (1, 320, 1, 1)\n",
      "features.layer_17.conv3.batch_norm.std_scaler (1, 320, 1, 1)\n",
      "features.layer_18.kernels (1280, 320, 1, 1)\n",
      "features.layer_18.batch_norm.mean_scaler (1, 1280, 1, 1)\n",
      "features.layer_18.batch_norm.std_scaler (1, 1280, 1, 1)\n",
      "classifier.weight (1280, 200)\n",
      "classifier.bias (200,)\n"
     ]
    }
   ],
   "source": [
    "model = mobilenet_v2(num_classes=NUM_CLASSES, width_mult=1.0, include_top=True, dropout=0.2)\n",
    "\n",
    "checkpoint = None\n",
    "if checkpoint:\n",
    "    model.load_state_dict(checkpoint[\"model\"])\n",
    "\n",
    "for name, param in model.named_parameters():\n",
    "    if param.requires_grad:\n",
    "        print(name, param.shape)"
   ]
  },
  {
   "cell_type": "code",
   "execution_count": 7,
   "metadata": {
    "execution": {
     "iopub.execute_input": "2025-08-26T01:48:03.119639Z",
     "iopub.status.busy": "2025-08-26T01:48:03.119121Z",
     "iopub.status.idle": "2025-08-26T01:48:03.128357Z",
     "shell.execute_reply": "2025-08-26T01:48:03.127789Z",
     "shell.execute_reply.started": "2025-08-26T01:48:03.119613Z"
    },
    "id": "r108dB-v7mMj",
    "tags": [],
    "trusted": true
   },
   "outputs": [],
   "source": [
    "from neurograd.optim import AdamW, SGD, Adam\n",
    "from neurograd.nn.losses import CategoricalCrossEntropy\n",
    "from neurograd.nn.metrics import accuracy_score\n",
    "\n",
    "# Optimizer tuned for MobileNetV2 on Tiny-ImageNet (224px)\n",
    "# Switch to AdamW with cosine schedule and warmup\n",
    "global_batch = BATCH_SIZE\n",
    "base_lr = 1e-3 * (global_batch / 256.0)\n",
    "optimizer = AdamW(model.named_parameters(), lr=base_lr, weight_decay=2e-2)\n",
    "if checkpoint:\n",
    "    optimizer.load_state_dict(checkpoint[\"optimizer\"])\n",
    "loss_fn = CategoricalCrossEntropy(from_logits=True)"
   ]
  },
  {
   "cell_type": "markdown",
   "metadata": {
    "id": "7qNgCMin-coo"
   },
   "source": [
    "# Training (mixed precision)"
   ]
  },
  {
   "cell_type": "code",
   "execution_count": null,
   "metadata": {
    "execution": {
     "execution_failed": "2025-08-26T12:08:34.686Z",
     "iopub.execute_input": "2025-08-26T01:48:03.129606Z",
     "iopub.status.busy": "2025-08-26T01:48:03.129363Z"
    },
    "tags": [],
    "trusted": true
   },
   "outputs": [
    {
     "name": "stdout",
     "output_type": "stream",
     "text": [
      "Epoch: 1 / 200:\n"
     ]
    },
    {
     "data": {
      "application/vnd.jupyter.widget-view+json": {
       "model_id": "561c984cffc04297b0ba3ff12bcb7b01",
       "version_major": 2,
       "version_minor": 0
      },
      "text/plain": [
       "  0%|          | 0/417 [00:00<?, ?it/s]"
      ]
     },
     "metadata": {},
     "output_type": "display_data"
    },
    {
     "name": "stdout",
     "output_type": "stream",
     "text": [
      "Train loss: 5.3801, Train acc: 0.0270, Test loss: 4.6024, Test acc: 0.0661\n",
      "✅ Saved checkpoint (val acc improved to 0.0661)\n",
      "Epoch: 2 / 200:\n"
     ]
    },
    {
     "data": {
      "application/vnd.jupyter.widget-view+json": {
       "model_id": "ffed3e5a03f545b4a814e079fe768c2c",
       "version_major": 2,
       "version_minor": 0
      },
      "text/plain": [
       "  0%|          | 0/417 [00:00<?, ?it/s]"
      ]
     },
     "metadata": {},
     "output_type": "display_data"
    },
    {
     "name": "stdout",
     "output_type": "stream",
     "text": [
      "Train loss: 4.8091, Train acc: 0.0602, Test loss: 4.4094, Test acc: 0.0891\n",
      "✅ Saved checkpoint (val acc improved to 0.0891)\n",
      "Epoch: 3 / 200:\n"
     ]
    },
    {
     "data": {
      "application/vnd.jupyter.widget-view+json": {
       "model_id": "b91eed7d8950413197f487045fb6de05",
       "version_major": 2,
       "version_minor": 0
      },
      "text/plain": [
       "  0%|          | 0/417 [00:00<?, ?it/s]"
      ]
     },
     "metadata": {},
     "output_type": "display_data"
    },
    {
     "name": "stdout",
     "output_type": "stream",
     "text": [
      "Train loss: 4.5159, Train acc: 0.0841, Test loss: 6.0914, Test acc: 0.0226\n",
      "Epoch: 4 / 200:\n"
     ]
    },
    {
     "data": {
      "application/vnd.jupyter.widget-view+json": {
       "model_id": "5cfb7fbc252845fd85d90d49dddbc745",
       "version_major": 2,
       "version_minor": 0
      },
      "text/plain": [
       "  0%|          | 0/417 [00:00<?, ?it/s]"
      ]
     },
     "metadata": {},
     "output_type": "display_data"
    },
    {
     "name": "stdout",
     "output_type": "stream",
     "text": [
      "Train loss: 4.3706, Train acc: 0.0984, Test loss: 5.6348, Test acc: 0.0318\n",
      "Epoch: 5 / 200:\n"
     ]
    },
    {
     "data": {
      "application/vnd.jupyter.widget-view+json": {
       "model_id": "bd55dfa6e0a944a1832a5233d3fcdd63",
       "version_major": 2,
       "version_minor": 0
      },
      "text/plain": [
       "  0%|          | 0/417 [00:00<?, ?it/s]"
      ]
     },
     "metadata": {},
     "output_type": "display_data"
    },
    {
     "name": "stdout",
     "output_type": "stream",
     "text": [
      "Train loss: 4.2916, Train acc: 0.1072, Test loss: 5.2698, Test acc: 0.0515\n",
      "Epoch: 6 / 200:\n"
     ]
    },
    {
     "data": {
      "application/vnd.jupyter.widget-view+json": {
       "model_id": "0996178877244f8ba6fa1c69f8bf5c42",
       "version_major": 2,
       "version_minor": 0
      },
      "text/plain": [
       "  0%|          | 0/417 [00:00<?, ?it/s]"
      ]
     },
     "metadata": {},
     "output_type": "display_data"
    },
    {
     "name": "stdout",
     "output_type": "stream",
     "text": [
      "Train loss: 4.2216, Train acc: 0.1176, Test loss: 4.2522, Test acc: 0.1167\n",
      "✅ Saved checkpoint (val acc improved to 0.1167)\n",
      "Epoch: 7 / 200:\n"
     ]
    },
    {
     "data": {
      "application/vnd.jupyter.widget-view+json": {
       "model_id": "c42b5e10baab488caa6e97a83b3e421f",
       "version_major": 2,
       "version_minor": 0
      },
      "text/plain": [
       "  0%|          | 0/417 [00:00<?, ?it/s]"
      ]
     },
     "metadata": {},
     "output_type": "display_data"
    },
    {
     "name": "stdout",
     "output_type": "stream",
     "text": [
      "Train loss: 4.2156, Train acc: 0.1203, Test loss: 4.5114, Test acc: 0.0873\n",
      "Epoch: 8 / 200:\n"
     ]
    },
    {
     "data": {
      "application/vnd.jupyter.widget-view+json": {
       "model_id": "8b7407f5ed0e42efa26b03af5a51b065",
       "version_major": 2,
       "version_minor": 0
      },
      "text/plain": [
       "  0%|          | 0/417 [00:00<?, ?it/s]"
      ]
     },
     "metadata": {},
     "output_type": "display_data"
    },
    {
     "name": "stdout",
     "output_type": "stream",
     "text": [
      "Train loss: 4.1727, Train acc: 0.1255, Test loss: 4.3675, Test acc: 0.1074\n",
      "Epoch: 9 / 200:\n"
     ]
    },
    {
     "data": {
      "application/vnd.jupyter.widget-view+json": {
       "model_id": "2242a9e78bf24b258d33f2bfc0f3e104",
       "version_major": 2,
       "version_minor": 0
      },
      "text/plain": [
       "  0%|          | 0/417 [00:00<?, ?it/s]"
      ]
     },
     "metadata": {},
     "output_type": "display_data"
    },
    {
     "name": "stdout",
     "output_type": "stream",
     "text": [
      "Train loss: 4.1442, Train acc: 0.1284, Test loss: 4.0340, Test acc: 0.1457\n",
      "✅ Saved checkpoint (val acc improved to 0.1457)\n",
      "Epoch: 10 / 200:\n"
     ]
    },
    {
     "data": {
      "application/vnd.jupyter.widget-view+json": {
       "model_id": "9179292146cb4cf791723990c5762bc0",
       "version_major": 2,
       "version_minor": 0
      },
      "text/plain": [
       "  0%|          | 0/417 [00:00<?, ?it/s]"
      ]
     },
     "metadata": {},
     "output_type": "display_data"
    },
    {
     "name": "stdout",
     "output_type": "stream",
     "text": [
      "Train loss: 4.0819, Train acc: 0.1384, Test loss: 4.0686, Test acc: 0.1392\n",
      "Epoch: 11 / 200:\n"
     ]
    },
    {
     "data": {
      "application/vnd.jupyter.widget-view+json": {
       "model_id": "7db28ec54a49499e9840ddf0878e0220",
       "version_major": 2,
       "version_minor": 0
      },
      "text/plain": [
       "  0%|          | 0/417 [00:00<?, ?it/s]"
      ]
     },
     "metadata": {},
     "output_type": "display_data"
    },
    {
     "name": "stdout",
     "output_type": "stream",
     "text": [
      "Train loss: 4.0240, Train acc: 0.1469, Test loss: 4.2364, Test acc: 0.1232\n",
      "Epoch: 12 / 200:\n"
     ]
    },
    {
     "data": {
      "application/vnd.jupyter.widget-view+json": {
       "model_id": "80bc881c4ad044948fdda348fbf4850c",
       "version_major": 2,
       "version_minor": 0
      },
      "text/plain": [
       "  0%|          | 0/417 [00:00<?, ?it/s]"
      ]
     },
     "metadata": {},
     "output_type": "display_data"
    },
    {
     "name": "stdout",
     "output_type": "stream",
     "text": [
      "Train loss: 3.9685, Train acc: 0.1551, Test loss: 3.6609, Test acc: 0.2043\n",
      "✅ Saved checkpoint (val acc improved to 0.2043)\n",
      "Epoch: 13 / 200:\n"
     ]
    },
    {
     "data": {
      "application/vnd.jupyter.widget-view+json": {
       "model_id": "9c6e30adb76745a48f624643c0751cee",
       "version_major": 2,
       "version_minor": 0
      },
      "text/plain": [
       "  0%|          | 0/417 [00:00<?, ?it/s]"
      ]
     },
     "metadata": {},
     "output_type": "display_data"
    },
    {
     "name": "stdout",
     "output_type": "stream",
     "text": [
      "Train loss: 3.9287, Train acc: 0.1622, Test loss: 3.7385, Test acc: 0.1887\n",
      "Epoch: 14 / 200:\n"
     ]
    },
    {
     "data": {
      "application/vnd.jupyter.widget-view+json": {
       "model_id": "4c270efb18fd47be825460f9e8e83f24",
       "version_major": 2,
       "version_minor": 0
      },
      "text/plain": [
       "  0%|          | 0/417 [00:00<?, ?it/s]"
      ]
     },
     "metadata": {},
     "output_type": "display_data"
    },
    {
     "name": "stdout",
     "output_type": "stream",
     "text": [
      "Train loss: 3.8831, Train acc: 0.1675, Test loss: 4.1660, Test acc: 0.1360\n",
      "Epoch: 15 / 200:\n"
     ]
    },
    {
     "data": {
      "application/vnd.jupyter.widget-view+json": {
       "model_id": "1a0e9e34e24f4079984f7403a252d3cd",
       "version_major": 2,
       "version_minor": 0
      },
      "text/plain": [
       "  0%|          | 0/417 [00:00<?, ?it/s]"
      ]
     },
     "metadata": {},
     "output_type": "display_data"
    },
    {
     "name": "stdout",
     "output_type": "stream",
     "text": [
      "Train loss: 3.8524, Train acc: 0.1709, Test loss: 4.3266, Test acc: 0.1392\n",
      "Epoch: 16 / 200:\n"
     ]
    },
    {
     "data": {
      "application/vnd.jupyter.widget-view+json": {
       "model_id": "dcbe102101464d9e93c3b719c50694af",
       "version_major": 2,
       "version_minor": 0
      },
      "text/plain": [
       "  0%|          | 0/417 [00:00<?, ?it/s]"
      ]
     },
     "metadata": {},
     "output_type": "display_data"
    },
    {
     "name": "stdout",
     "output_type": "stream",
     "text": [
      "Train loss: 3.8221, Train acc: 0.1775, Test loss: 3.6003, Test acc: 0.2108\n",
      "✅ Saved checkpoint (val acc improved to 0.2108)\n",
      "Epoch: 17 / 200:\n"
     ]
    },
    {
     "data": {
      "application/vnd.jupyter.widget-view+json": {
       "model_id": "3612fb3fe94448e999f8b8b443c92f8b",
       "version_major": 2,
       "version_minor": 0
      },
      "text/plain": [
       "  0%|          | 0/417 [00:00<?, ?it/s]"
      ]
     },
     "metadata": {},
     "output_type": "display_data"
    },
    {
     "name": "stdout",
     "output_type": "stream",
     "text": [
      "Train loss: 3.7752, Train acc: 0.1841, Test loss: 3.5361, Test acc: 0.2174\n",
      "✅ Saved checkpoint (val acc improved to 0.2174)\n",
      "Epoch: 18 / 200:\n"
     ]
    },
    {
     "data": {
      "application/vnd.jupyter.widget-view+json": {
       "model_id": "508e4fed664443c0a5528572dca21c9f",
       "version_major": 2,
       "version_minor": 0
      },
      "text/plain": [
       "  0%|          | 0/417 [00:00<?, ?it/s]"
      ]
     },
     "metadata": {},
     "output_type": "display_data"
    },
    {
     "name": "stdout",
     "output_type": "stream",
     "text": [
      "Train loss: 3.7417, Train acc: 0.1865, Test loss: 3.7143, Test acc: 0.1972\n",
      "Epoch: 19 / 200:\n"
     ]
    },
    {
     "data": {
      "application/vnd.jupyter.widget-view+json": {
       "model_id": "7e37088fc1e34d118225d881aaa6f4e1",
       "version_major": 2,
       "version_minor": 0
      },
      "text/plain": [
       "  0%|          | 0/417 [00:00<?, ?it/s]"
      ]
     },
     "metadata": {},
     "output_type": "display_data"
    },
    {
     "name": "stdout",
     "output_type": "stream",
     "text": [
      "Train loss: 3.7112, Train acc: 0.1950, Test loss: 3.7278, Test acc: 0.1990\n",
      "Epoch: 20 / 200:\n"
     ]
    },
    {
     "data": {
      "application/vnd.jupyter.widget-view+json": {
       "model_id": "d9b03f7ba2114d36aa6fc290388e17f1",
       "version_major": 2,
       "version_minor": 0
      },
      "text/plain": [
       "  0%|          | 0/417 [00:00<?, ?it/s]"
      ]
     },
     "metadata": {},
     "output_type": "display_data"
    },
    {
     "name": "stdout",
     "output_type": "stream",
     "text": [
      "Train loss: 3.6763, Train acc: 0.1989, Test loss: 3.4574, Test acc: 0.2424\n",
      "✅ Saved checkpoint (val acc improved to 0.2424)\n",
      "Epoch: 21 / 200:\n"
     ]
    },
    {
     "data": {
      "application/vnd.jupyter.widget-view+json": {
       "model_id": "73b9281670844a00b34131a999a9acd3",
       "version_major": 2,
       "version_minor": 0
      },
      "text/plain": [
       "  0%|          | 0/417 [00:00<?, ?it/s]"
      ]
     },
     "metadata": {},
     "output_type": "display_data"
    },
    {
     "name": "stdout",
     "output_type": "stream",
     "text": [
      "Train loss: 3.6293, Train acc: 0.2070, Test loss: 3.5006, Test acc: 0.2282\n",
      "Epoch: 22 / 200:\n"
     ]
    },
    {
     "data": {
      "application/vnd.jupyter.widget-view+json": {
       "model_id": "4c62ec5d9ef346b2a958741c2411e797",
       "version_major": 2,
       "version_minor": 0
      },
      "text/plain": [
       "  0%|          | 0/417 [00:00<?, ?it/s]"
      ]
     },
     "metadata": {},
     "output_type": "display_data"
    },
    {
     "name": "stdout",
     "output_type": "stream",
     "text": [
      "Train loss: 3.5962, Train acc: 0.2122, Test loss: 3.6008, Test acc: 0.2237\n",
      "Epoch: 23 / 200:\n"
     ]
    },
    {
     "data": {
      "application/vnd.jupyter.widget-view+json": {
       "model_id": "400ac8b68d0e41bc8988b7f206c9d22b",
       "version_major": 2,
       "version_minor": 0
      },
      "text/plain": [
       "  0%|          | 0/417 [00:00<?, ?it/s]"
      ]
     },
     "metadata": {},
     "output_type": "display_data"
    },
    {
     "name": "stdout",
     "output_type": "stream",
     "text": [
      "Train loss: 3.5568, Train acc: 0.2182, Test loss: 3.8214, Test acc: 0.2006\n",
      "Epoch: 24 / 200:\n"
     ]
    },
    {
     "data": {
      "application/vnd.jupyter.widget-view+json": {
       "model_id": "ef1dd99c0e514c9ca0f401518d638672",
       "version_major": 2,
       "version_minor": 0
      },
      "text/plain": [
       "  0%|          | 0/417 [00:00<?, ?it/s]"
      ]
     },
     "metadata": {},
     "output_type": "display_data"
    },
    {
     "name": "stdout",
     "output_type": "stream",
     "text": [
      "Train loss: 3.5273, Train acc: 0.2219, Test loss: 3.2883, Test acc: 0.2747\n",
      "✅ Saved checkpoint (val acc improved to 0.2747)\n",
      "Epoch: 25 / 200:\n"
     ]
    },
    {
     "data": {
      "application/vnd.jupyter.widget-view+json": {
       "model_id": "2621944d05894e0f846c94d0a725b60a",
       "version_major": 2,
       "version_minor": 0
      },
      "text/plain": [
       "  0%|          | 0/417 [00:00<?, ?it/s]"
      ]
     },
     "metadata": {},
     "output_type": "display_data"
    },
    {
     "name": "stdout",
     "output_type": "stream",
     "text": [
      "Train loss: 3.4982, Train acc: 0.2270, Test loss: 3.4450, Test acc: 0.2444\n",
      "Epoch: 26 / 200:\n"
     ]
    },
    {
     "data": {
      "application/vnd.jupyter.widget-view+json": {
       "model_id": "0d95a99702f943baa10df12280989e3c",
       "version_major": 2,
       "version_minor": 0
      },
      "text/plain": [
       "  0%|          | 0/417 [00:00<?, ?it/s]"
      ]
     },
     "metadata": {},
     "output_type": "display_data"
    },
    {
     "name": "stdout",
     "output_type": "stream",
     "text": [
      "Train loss: 3.4481, Train acc: 0.2349, Test loss: 3.5458, Test acc: 0.2364\n",
      "Epoch: 27 / 200:\n"
     ]
    },
    {
     "data": {
      "application/vnd.jupyter.widget-view+json": {
       "model_id": "2bdc6101f1364084b809fa65a0834d05",
       "version_major": 2,
       "version_minor": 0
      },
      "text/plain": [
       "  0%|          | 0/417 [00:00<?, ?it/s]"
      ]
     },
     "metadata": {},
     "output_type": "display_data"
    },
    {
     "name": "stdout",
     "output_type": "stream",
     "text": [
      "Train loss: 3.4122, Train acc: 0.2392, Test loss: 3.2534, Test acc: 0.2725\n",
      "Epoch: 28 / 200:\n"
     ]
    },
    {
     "data": {
      "application/vnd.jupyter.widget-view+json": {
       "model_id": "02477c63e9eb4dd4a108ace858451a80",
       "version_major": 2,
       "version_minor": 0
      },
      "text/plain": [
       "  0%|          | 0/417 [00:00<?, ?it/s]"
      ]
     },
     "metadata": {},
     "output_type": "display_data"
    },
    {
     "name": "stdout",
     "output_type": "stream",
     "text": [
      "Train loss: 3.3848, Train acc: 0.2445, Test loss: 3.2071, Test acc: 0.2831\n",
      "✅ Saved checkpoint (val acc improved to 0.2831)\n",
      "Epoch: 29 / 200:\n"
     ]
    },
    {
     "data": {
      "application/vnd.jupyter.widget-view+json": {
       "model_id": "59639dc62da345ca86127c5c0472ea3e",
       "version_major": 2,
       "version_minor": 0
      },
      "text/plain": [
       "  0%|          | 0/417 [00:00<?, ?it/s]"
      ]
     },
     "metadata": {},
     "output_type": "display_data"
    },
    {
     "name": "stdout",
     "output_type": "stream",
     "text": [
      "Train loss: 3.3684, Train acc: 0.2483, Test loss: 3.2777, Test acc: 0.2759\n",
      "Epoch: 30 / 200:\n"
     ]
    },
    {
     "data": {
      "application/vnd.jupyter.widget-view+json": {
       "model_id": "4b7d9b38e03f4c9a92e88d06f0d4083c",
       "version_major": 2,
       "version_minor": 0
      },
      "text/plain": [
       "  0%|          | 0/417 [00:00<?, ?it/s]"
      ]
     },
     "metadata": {},
     "output_type": "display_data"
    },
    {
     "name": "stdout",
     "output_type": "stream",
     "text": [
      "Train loss: 3.3251, Train acc: 0.2566, Test loss: 3.1492, Test acc: 0.2911\n",
      "✅ Saved checkpoint (val acc improved to 0.2911)\n",
      "Epoch: 31 / 200:\n"
     ]
    },
    {
     "data": {
      "application/vnd.jupyter.widget-view+json": {
       "model_id": "089c8756275a48428d620432fcc628ca",
       "version_major": 2,
       "version_minor": 0
      },
      "text/plain": [
       "  0%|          | 0/417 [00:00<?, ?it/s]"
      ]
     },
     "metadata": {},
     "output_type": "display_data"
    },
    {
     "name": "stdout",
     "output_type": "stream",
     "text": [
      "Train loss: 3.2990, Train acc: 0.2597, Test loss: 3.1087, Test acc: 0.3020\n",
      "✅ Saved checkpoint (val acc improved to 0.3020)\n",
      "Epoch: 32 / 200:\n"
     ]
    },
    {
     "data": {
      "application/vnd.jupyter.widget-view+json": {
       "model_id": "41d054d394a8414a8eefd3c3e88bde55",
       "version_major": 2,
       "version_minor": 0
      },
      "text/plain": [
       "  0%|          | 0/417 [00:00<?, ?it/s]"
      ]
     },
     "metadata": {},
     "output_type": "display_data"
    },
    {
     "name": "stdout",
     "output_type": "stream",
     "text": [
      "Train loss: 3.2691, Train acc: 0.2634, Test loss: 3.2016, Test acc: 0.2804\n",
      "Epoch: 33 / 200:\n"
     ]
    },
    {
     "data": {
      "application/vnd.jupyter.widget-view+json": {
       "model_id": "587b730db11d4f4caac0aae84deacdeb",
       "version_major": 2,
       "version_minor": 0
      },
      "text/plain": [
       "  0%|          | 0/417 [00:00<?, ?it/s]"
      ]
     },
     "metadata": {},
     "output_type": "display_data"
    },
    {
     "name": "stdout",
     "output_type": "stream",
     "text": [
      "Train loss: 3.2465, Train acc: 0.2661, Test loss: 3.1878, Test acc: 0.2888\n",
      "Epoch: 34 / 200:\n"
     ]
    },
    {
     "data": {
      "application/vnd.jupyter.widget-view+json": {
       "model_id": "115efebd9b614a5fb02f52d99340e0ec",
       "version_major": 2,
       "version_minor": 0
      },
      "text/plain": [
       "  0%|          | 0/417 [00:00<?, ?it/s]"
      ]
     },
     "metadata": {},
     "output_type": "display_data"
    },
    {
     "name": "stdout",
     "output_type": "stream",
     "text": [
      "Train loss: 3.2157, Train acc: 0.2730, Test loss: 3.0573, Test acc: 0.3108\n",
      "✅ Saved checkpoint (val acc improved to 0.3108)\n",
      "Epoch: 35 / 200:\n"
     ]
    },
    {
     "data": {
      "application/vnd.jupyter.widget-view+json": {
       "model_id": "4359e42250d54a8e9863e93ac117a1e5",
       "version_major": 2,
       "version_minor": 0
      },
      "text/plain": [
       "  0%|          | 0/417 [00:00<?, ?it/s]"
      ]
     },
     "metadata": {},
     "output_type": "display_data"
    },
    {
     "name": "stdout",
     "output_type": "stream",
     "text": [
      "Train loss: 3.1828, Train acc: 0.2770, Test loss: 3.0305, Test acc: 0.3171\n",
      "✅ Saved checkpoint (val acc improved to 0.3171)\n",
      "Epoch: 36 / 200:\n"
     ]
    },
    {
     "data": {
      "application/vnd.jupyter.widget-view+json": {
       "model_id": "10417735a41a46f9965fcf2faabea23b",
       "version_major": 2,
       "version_minor": 0
      },
      "text/plain": [
       "  0%|          | 0/417 [00:00<?, ?it/s]"
      ]
     },
     "metadata": {},
     "output_type": "display_data"
    },
    {
     "name": "stdout",
     "output_type": "stream",
     "text": [
      "Train loss: 3.1541, Train acc: 0.2837, Test loss: 3.1528, Test acc: 0.2978\n",
      "Epoch: 37 / 200:\n"
     ]
    },
    {
     "data": {
      "application/vnd.jupyter.widget-view+json": {
       "model_id": "6bc139ebe7c144078f9ed3c34f5dc6bd",
       "version_major": 2,
       "version_minor": 0
      },
      "text/plain": [
       "  0%|          | 0/417 [00:00<?, ?it/s]"
      ]
     },
     "metadata": {},
     "output_type": "display_data"
    },
    {
     "name": "stdout",
     "output_type": "stream",
     "text": [
      "Train loss: 3.1327, Train acc: 0.2865, Test loss: 3.2229, Test acc: 0.2857\n",
      "Epoch: 38 / 200:\n"
     ]
    },
    {
     "data": {
      "application/vnd.jupyter.widget-view+json": {
       "model_id": "10fd9b08b11848e78b61e5e6e5513bff",
       "version_major": 2,
       "version_minor": 0
      },
      "text/plain": [
       "  0%|          | 0/417 [00:00<?, ?it/s]"
      ]
     },
     "metadata": {},
     "output_type": "display_data"
    },
    {
     "name": "stdout",
     "output_type": "stream",
     "text": [
      "Train loss: 3.0931, Train acc: 0.2938, Test loss: 2.9960, Test acc: 0.3229\n",
      "✅ Saved checkpoint (val acc improved to 0.3229)\n",
      "Epoch: 39 / 200:\n"
     ]
    },
    {
     "data": {
      "application/vnd.jupyter.widget-view+json": {
       "model_id": "4850e396471742559a5472d2ceeed3fc",
       "version_major": 2,
       "version_minor": 0
      },
      "text/plain": [
       "  0%|          | 0/417 [00:00<?, ?it/s]"
      ]
     },
     "metadata": {},
     "output_type": "display_data"
    },
    {
     "name": "stdout",
     "output_type": "stream",
     "text": [
      "Train loss: 3.0596, Train acc: 0.2985, Test loss: 3.0093, Test acc: 0.3208\n",
      "Epoch: 40 / 200:\n"
     ]
    },
    {
     "data": {
      "application/vnd.jupyter.widget-view+json": {
       "model_id": "b06c4f8df8524c54a92684d98564a616",
       "version_major": 2,
       "version_minor": 0
      },
      "text/plain": [
       "  0%|          | 0/417 [00:00<?, ?it/s]"
      ]
     },
     "metadata": {},
     "output_type": "display_data"
    },
    {
     "name": "stdout",
     "output_type": "stream",
     "text": [
      "Train loss: 3.0313, Train acc: 0.3060, Test loss: 3.1150, Test acc: 0.3041\n",
      "Epoch: 41 / 200:\n"
     ]
    },
    {
     "data": {
      "application/vnd.jupyter.widget-view+json": {
       "model_id": "f1c8f6cfaf1c46c68d03c0e45b2397b0",
       "version_major": 2,
       "version_minor": 0
      },
      "text/plain": [
       "  0%|          | 0/417 [00:00<?, ?it/s]"
      ]
     },
     "metadata": {},
     "output_type": "display_data"
    },
    {
     "name": "stdout",
     "output_type": "stream",
     "text": [
      "Train loss: 2.9946, Train acc: 0.3103, Test loss: 3.0398, Test acc: 0.3161\n",
      "Epoch: 42 / 200:\n"
     ]
    },
    {
     "data": {
      "application/vnd.jupyter.widget-view+json": {
       "model_id": "bba9ee5b6bb841a1990ad68313b272dc",
       "version_major": 2,
       "version_minor": 0
      },
      "text/plain": [
       "  0%|          | 0/417 [00:00<?, ?it/s]"
      ]
     },
     "metadata": {},
     "output_type": "display_data"
    },
    {
     "name": "stdout",
     "output_type": "stream",
     "text": [
      "Train loss: 2.9695, Train acc: 0.3153, Test loss: 2.9320, Test acc: 0.3342\n",
      "✅ Saved checkpoint (val acc improved to 0.3342)\n",
      "Epoch: 43 / 200:\n"
     ]
    },
    {
     "data": {
      "application/vnd.jupyter.widget-view+json": {
       "model_id": "8392243e4b084dcfa2525bd85d57fc92",
       "version_major": 2,
       "version_minor": 0
      },
      "text/plain": [
       "  0%|          | 0/417 [00:00<?, ?it/s]"
      ]
     },
     "metadata": {},
     "output_type": "display_data"
    },
    {
     "name": "stdout",
     "output_type": "stream",
     "text": [
      "Train loss: 2.9493, Train acc: 0.3177, Test loss: 2.9963, Test acc: 0.3263\n",
      "Epoch: 44 / 200:\n"
     ]
    },
    {
     "data": {
      "application/vnd.jupyter.widget-view+json": {
       "model_id": "bdbccaedb68044e88cca71fef83b9b34",
       "version_major": 2,
       "version_minor": 0
      },
      "text/plain": [
       "  0%|          | 0/417 [00:00<?, ?it/s]"
      ]
     },
     "metadata": {},
     "output_type": "display_data"
    },
    {
     "name": "stdout",
     "output_type": "stream",
     "text": [
      "Train loss: 2.9303, Train acc: 0.3208, Test loss: 2.8440, Test acc: 0.3524\n",
      "✅ Saved checkpoint (val acc improved to 0.3524)\n",
      "Epoch: 45 / 200:\n"
     ]
    },
    {
     "data": {
      "application/vnd.jupyter.widget-view+json": {
       "model_id": "6c8dd216b7734f55a9ce52047e37148d",
       "version_major": 2,
       "version_minor": 0
      },
      "text/plain": [
       "  0%|          | 0/417 [00:00<?, ?it/s]"
      ]
     },
     "metadata": {},
     "output_type": "display_data"
    },
    {
     "name": "stdout",
     "output_type": "stream",
     "text": [
      "Train loss: 2.9045, Train acc: 0.3261, Test loss: 2.8935, Test acc: 0.3482\n",
      "Epoch: 46 / 200:\n"
     ]
    },
    {
     "data": {
      "application/vnd.jupyter.widget-view+json": {
       "model_id": "c03e1ebe72a943d7a6b47df54ce6d136",
       "version_major": 2,
       "version_minor": 0
      },
      "text/plain": [
       "  0%|          | 0/417 [00:00<?, ?it/s]"
      ]
     },
     "metadata": {},
     "output_type": "display_data"
    },
    {
     "name": "stdout",
     "output_type": "stream",
     "text": [
      "Train loss: 2.8673, Train acc: 0.2377, Test loss: nan, Test acc: 0.0050\n",
      "Epoch: 47 / 200:\n"
     ]
    },
    {
     "data": {
      "application/vnd.jupyter.widget-view+json": {
       "model_id": "f4dd5714ce3e4d2da1c3dfef07795adb",
       "version_major": 2,
       "version_minor": 0
      },
      "text/plain": [
       "  0%|          | 0/417 [00:00<?, ?it/s]"
      ]
     },
     "metadata": {},
     "output_type": "display_data"
    },
    {
     "name": "stdout",
     "output_type": "stream",
     "text": [
      "Train loss: nan, Train acc: 0.0050, Test loss: nan, Test acc: 0.0050\n",
      "Epoch: 48 / 200:\n"
     ]
    },
    {
     "data": {
      "application/vnd.jupyter.widget-view+json": {
       "model_id": "54f80c20cf1b49a9961a63831fe58e03",
       "version_major": 2,
       "version_minor": 0
      },
      "text/plain": [
       "  0%|          | 0/417 [00:00<?, ?it/s]"
      ]
     },
     "metadata": {},
     "output_type": "display_data"
    },
    {
     "name": "stdout",
     "output_type": "stream",
     "text": [
      "Train loss: nan, Train acc: 0.0050, Test loss: nan, Test acc: 0.0050\n",
      "Epoch: 49 / 200:\n"
     ]
    },
    {
     "data": {
      "application/vnd.jupyter.widget-view+json": {
       "model_id": "1d7ed3e044da497a9f97ab92eb907611",
       "version_major": 2,
       "version_minor": 0
      },
      "text/plain": [
       "  0%|          | 0/417 [00:00<?, ?it/s]"
      ]
     },
     "metadata": {},
     "output_type": "display_data"
    },
    {
     "name": "stdout",
     "output_type": "stream",
     "text": [
      "Train loss: nan, Train acc: 0.0050, Test loss: nan, Test acc: 0.0050\n",
      "Epoch: 50 / 200:\n"
     ]
    },
    {
     "data": {
      "application/vnd.jupyter.widget-view+json": {
       "model_id": "d9782e5b39c2483a97bc3ad11665edb7",
       "version_major": 2,
       "version_minor": 0
      },
      "text/plain": [
       "  0%|          | 0/417 [00:00<?, ?it/s]"
      ]
     },
     "metadata": {},
     "output_type": "display_data"
    },
    {
     "name": "stdout",
     "output_type": "stream",
     "text": [
      "Train loss: nan, Train acc: 0.0050, Test loss: nan, Test acc: 0.0050\n",
      "Epoch: 51 / 200:\n"
     ]
    },
    {
     "data": {
      "application/vnd.jupyter.widget-view+json": {
       "model_id": "c709af524ef845c8aa06817621e0f388",
       "version_major": 2,
       "version_minor": 0
      },
      "text/plain": [
       "  0%|          | 0/417 [00:00<?, ?it/s]"
      ]
     },
     "metadata": {},
     "output_type": "display_data"
    },
    {
     "name": "stdout",
     "output_type": "stream",
     "text": [
      "Train loss: nan, Train acc: 0.0050, Test loss: nan, Test acc: 0.0050\n",
      "Epoch: 52 / 200:\n"
     ]
    },
    {
     "data": {
      "application/vnd.jupyter.widget-view+json": {
       "model_id": "692502d4b389400eb74c52ba89cf23ea",
       "version_major": 2,
       "version_minor": 0
      },
      "text/plain": [
       "  0%|          | 0/417 [00:00<?, ?it/s]"
      ]
     },
     "metadata": {},
     "output_type": "display_data"
    },
    {
     "name": "stdout",
     "output_type": "stream",
     "text": [
      "Train loss: nan, Train acc: 0.0050, Test loss: nan, Test acc: 0.0050\n",
      "Epoch: 53 / 200:\n"
     ]
    },
    {
     "data": {
      "application/vnd.jupyter.widget-view+json": {
       "model_id": "367d133c8d004ae3aa6d93dfb6b5112f",
       "version_major": 2,
       "version_minor": 0
      },
      "text/plain": [
       "  0%|          | 0/417 [00:00<?, ?it/s]"
      ]
     },
     "metadata": {},
     "output_type": "display_data"
    },
    {
     "name": "stdout",
     "output_type": "stream",
     "text": [
      "Train loss: nan, Train acc: 0.0050, Test loss: nan, Test acc: 0.0050\n",
      "Epoch: 54 / 200:\n"
     ]
    },
    {
     "data": {
      "application/vnd.jupyter.widget-view+json": {
       "model_id": "433e1d9aa30e46a5ae30deba60822019",
       "version_major": 2,
       "version_minor": 0
      },
      "text/plain": [
       "  0%|          | 0/417 [00:00<?, ?it/s]"
      ]
     },
     "metadata": {},
     "output_type": "display_data"
    },
    {
     "name": "stdout",
     "output_type": "stream",
     "text": [
      "Train loss: nan, Train acc: 0.0050, Test loss: nan, Test acc: 0.0050\n",
      "Epoch: 55 / 200:\n"
     ]
    },
    {
     "data": {
      "application/vnd.jupyter.widget-view+json": {
       "model_id": "b4819f7e8d834d3cb6335e71a085c78f",
       "version_major": 2,
       "version_minor": 0
      },
      "text/plain": [
       "  0%|          | 0/417 [00:00<?, ?it/s]"
      ]
     },
     "metadata": {},
     "output_type": "display_data"
    },
    {
     "name": "stdout",
     "output_type": "stream",
     "text": [
      "Train loss: nan, Train acc: 0.0050, Test loss: nan, Test acc: 0.0050\n",
      "Epoch: 56 / 200:\n"
     ]
    },
    {
     "data": {
      "application/vnd.jupyter.widget-view+json": {
       "model_id": "27a73c8d43e644e08dd951106849e5f3",
       "version_major": 2,
       "version_minor": 0
      },
      "text/plain": [
       "  0%|          | 0/417 [00:00<?, ?it/s]"
      ]
     },
     "metadata": {},
     "output_type": "display_data"
    },
    {
     "name": "stdout",
     "output_type": "stream",
     "text": [
      "Train loss: nan, Train acc: 0.0050, Test loss: nan, Test acc: 0.0050\n",
      "Epoch: 57 / 200:\n"
     ]
    },
    {
     "data": {
      "application/vnd.jupyter.widget-view+json": {
       "model_id": "84cf15cd6b2c4009acc190cc407cf496",
       "version_major": 2,
       "version_minor": 0
      },
      "text/plain": [
       "  0%|          | 0/417 [00:00<?, ?it/s]"
      ]
     },
     "metadata": {},
     "output_type": "display_data"
    },
    {
     "name": "stdout",
     "output_type": "stream",
     "text": [
      "Train loss: nan, Train acc: 0.0050, Test loss: nan, Test acc: 0.0050\n",
      "Epoch: 58 / 200:\n"
     ]
    },
    {
     "data": {
      "application/vnd.jupyter.widget-view+json": {
       "model_id": "b327d97a6f684a6db4d039e66349c4db",
       "version_major": 2,
       "version_minor": 0
      },
      "text/plain": [
       "  0%|          | 0/417 [00:00<?, ?it/s]"
      ]
     },
     "metadata": {},
     "output_type": "display_data"
    },
    {
     "name": "stdout",
     "output_type": "stream",
     "text": [
      "Train loss: nan, Train acc: 0.0050, Test loss: nan, Test acc: 0.0050\n",
      "Epoch: 59 / 200:\n"
     ]
    },
    {
     "data": {
      "application/vnd.jupyter.widget-view+json": {
       "model_id": "9fa633ac61c84b7d9527439c004e6c2e",
       "version_major": 2,
       "version_minor": 0
      },
      "text/plain": [
       "  0%|          | 0/417 [00:00<?, ?it/s]"
      ]
     },
     "metadata": {},
     "output_type": "display_data"
    },
    {
     "name": "stdout",
     "output_type": "stream",
     "text": [
      "Train loss: nan, Train acc: 0.0050, Test loss: nan, Test acc: 0.0050\n",
      "Epoch: 60 / 200:\n"
     ]
    },
    {
     "data": {
      "application/vnd.jupyter.widget-view+json": {
       "model_id": "008b15ede9bd4601bcfb112a877085f1",
       "version_major": 2,
       "version_minor": 0
      },
      "text/plain": [
       "  0%|          | 0/417 [00:00<?, ?it/s]"
      ]
     },
     "metadata": {},
     "output_type": "display_data"
    },
    {
     "name": "stdout",
     "output_type": "stream",
     "text": [
      "Train loss: nan, Train acc: 0.0050, Test loss: nan, Test acc: 0.0050\n",
      "Epoch: 61 / 200:\n"
     ]
    },
    {
     "data": {
      "application/vnd.jupyter.widget-view+json": {
       "model_id": "1a299263923a4e9d9f86a50b3e4291e3",
       "version_major": 2,
       "version_minor": 0
      },
      "text/plain": [
       "  0%|          | 0/417 [00:00<?, ?it/s]"
      ]
     },
     "metadata": {},
     "output_type": "display_data"
    },
    {
     "name": "stdout",
     "output_type": "stream",
     "text": [
      "Train loss: nan, Train acc: 0.0050, Test loss: nan, Test acc: 0.0050\n",
      "Epoch: 62 / 200:\n"
     ]
    },
    {
     "data": {
      "application/vnd.jupyter.widget-view+json": {
       "model_id": "23e1518b3dca4dd9a0ef64b1f4d4d28d",
       "version_major": 2,
       "version_minor": 0
      },
      "text/plain": [
       "  0%|          | 0/417 [00:00<?, ?it/s]"
      ]
     },
     "metadata": {},
     "output_type": "display_data"
    },
    {
     "name": "stdout",
     "output_type": "stream",
     "text": [
      "Train loss: nan, Train acc: 0.0050, Test loss: nan, Test acc: 0.0050\n",
      "Epoch: 63 / 200:\n"
     ]
    },
    {
     "data": {
      "application/vnd.jupyter.widget-view+json": {
       "model_id": "7392984aa39e4e67bef6c66ca5daa443",
       "version_major": 2,
       "version_minor": 0
      },
      "text/plain": [
       "  0%|          | 0/417 [00:00<?, ?it/s]"
      ]
     },
     "metadata": {},
     "output_type": "display_data"
    },
    {
     "name": "stdout",
     "output_type": "stream",
     "text": [
      "Train loss: nan, Train acc: 0.0050, Test loss: nan, Test acc: 0.0050\n",
      "Epoch: 64 / 200:\n"
     ]
    },
    {
     "data": {
      "application/vnd.jupyter.widget-view+json": {
       "model_id": "c8b7924252e341aaa0d50ac0028f90db",
       "version_major": 2,
       "version_minor": 0
      },
      "text/plain": [
       "  0%|          | 0/417 [00:00<?, ?it/s]"
      ]
     },
     "metadata": {},
     "output_type": "display_data"
    },
    {
     "name": "stdout",
     "output_type": "stream",
     "text": [
      "Train loss: nan, Train acc: 0.0050, Test loss: nan, Test acc: 0.0050\n",
      "Epoch: 65 / 200:\n"
     ]
    },
    {
     "data": {
      "application/vnd.jupyter.widget-view+json": {
       "model_id": "060085f1605546a8a01792a3426659d1",
       "version_major": 2,
       "version_minor": 0
      },
      "text/plain": [
       "  0%|          | 0/417 [00:00<?, ?it/s]"
      ]
     },
     "metadata": {},
     "output_type": "display_data"
    }
   ],
   "source": [
    "import neurograd as ng\n",
    "from tqdm.auto import tqdm\n",
    "from neurograd.amp import GradScaler\n",
    "from contextlib import nullcontext\n",
    "\n",
    "# ======== CONFIG ========\n",
    "USE_AMP = True  # Toggle mixed precision on/off\n",
    "EPOCHS = 200\n",
    "BATCH_SIZE = train_loader.batch_size\n",
    "\n",
    "# Cosine LR schedule with warmup (per-epoch)\n",
    "import math\n",
    "WARMUP_EPOCHS = 5\n",
    "MIN_LR = 1e-5\n",
    "# ========================\n",
    "\n",
    "if USE_AMP:\n",
    "    scaler = GradScaler()\n",
    "    if checkpoint:\n",
    "        scaler.load_state_dict(checkpoint[\"scaler\"])\n",
    "else:\n",
    "    scaler = None\n",
    "best_val_acc = checkpoint[\"val_acc\"] if checkpoint else float(\"-inf\")\n",
    "\n",
    "for epoch in range(1, EPOCHS + 1):\n",
    "    # Cosine schedule with linear warmup\n",
    "    if epoch <= WARMUP_EPOCHS:\n",
    "        optimizer.lr = MIN_LR + (base_lr - MIN_LR) * (epoch / WARMUP_EPOCHS)\n",
    "    else:\n",
    "        t = (epoch - WARMUP_EPOCHS) / max(1, (EPOCHS - WARMUP_EPOCHS))\n",
    "        optimizer.lr = MIN_LR + 0.5 * (base_lr - MIN_LR) * (1 + math.cos(math.pi * t))\n",
    "    \n",
    "    print(f\"Epoch: {epoch} / {EPOCHS}:\")\n",
    "    print(f\"  lr: {optimizer.lr:.6f}\")\n",
    "    print(f\"Epoch: {epoch} / {EPOCHS}:\")\n",
    "    train_losses, train_acc = [], []\n",
    "    test_losses, test_acc = [], []\n",
    "\n",
    "    # ===== Training loop =====\n",
    "    model.train()\n",
    "    for (X_train, y_train) in tqdm(train_loader):\n",
    "        ctx = ng.autocast() if USE_AMP else nullcontext()\n",
    "        with ctx:\n",
    "            y_pred = model(X_train)\n",
    "            loss = loss_fn(y_train, y_pred)\n",
    "            train_losses.append(loss.data)\n",
    "            optimizer.zero_grad()\n",
    "            if USE_AMP:\n",
    "                scaler.scale(loss).backward()\n",
    "                scaler.step(optimizer)\n",
    "                scaler.update()\n",
    "            else:\n",
    "                loss.backward()\n",
    "                optimizer.step()\n",
    "            acc = accuracy_score(y_train.argmax(axis=-1), y_pred.argmax(axis=-1))\n",
    "            train_acc.append(acc)\n",
    "\n",
    "    # ===== Validation loop =====\n",
    "    model.eval()\n",
    "    for (X_test, y_test) in val_loader:\n",
    "        ctx = ng.autocast() if USE_AMP else nullcontext()\n",
    "        with ctx:\n",
    "            y_pred = model(X_test)\n",
    "            loss = loss_fn(y_test, y_pred)\n",
    "            acc = accuracy_score(y_test.argmax(axis=-1), y_pred.argmax(axis=-1))\n",
    "            test_losses.append(loss.data)\n",
    "            test_acc.append(acc)\n",
    "\n",
    "    # Convert lists to arrays before mean\n",
    "    train_losses = cp.asarray(train_losses)\n",
    "    train_acc = cp.asarray(train_acc)\n",
    "    test_losses = cp.asarray(test_losses)\n",
    "    test_acc = cp.asarray(test_acc)\n",
    "\n",
    "    mean_train_loss = cp.nanmean(train_losses)\n",
    "    mean_train_acc = cp.mean(train_acc)\n",
    "    mean_test_loss = cp.nanmean(test_losses)\n",
    "    mean_test_acc = cp.mean(test_acc)\n",
    "\n",
    "    print(\n",
    "        f\"Train loss: {mean_train_loss:.4f}, \"\n",
    "        f\"Train acc: {mean_train_acc:.4f}, \"\n",
    "        f\"Test loss: {mean_test_loss:.4f}, \"\n",
    "        f\"Test acc: {mean_test_acc:.4f}\"\n",
    "    )\n",
    "\n",
    "    # ===== Save only if validation improved =====\n",
    "    if mean_test_acc > best_val_acc:   # change this to < if using loss\n",
    "        best_val_acc = mean_test_acc\n",
    "        ng.save({\n",
    "            \"model\": model.state_dict(),\n",
    "            \"optimizer\": optimizer.state_dict(),\n",
    "            \"scaler\": scaler.state_dict(),\n",
    "            \"epoch\": epoch,\n",
    "            \"val_acc\": float(best_val_acc),\n",
    "            \"val_loss\": float(mean_test_loss),\n",
    "        }, \"checkpoint.pkl\")\n",
    "        print(f\"✅ Saved checkpoint (val acc improved to {best_val_acc:.4f})\")\n"
   ]
  },
  {
   "cell_type": "code",
   "execution_count": null,
   "metadata": {
    "colab": {
     "base_uri": "https://localhost:8080/",
     "height": 498
    },
    "execution": {
     "execution_failed": "2025-08-25T10:00:52.319Z"
    },
    "id": "7_bM1xGz_IYl",
    "outputId": "79b9a8a2-d66d-4ffe-8d00-55e6e6677ed7",
    "trusted": true
   },
   "outputs": [],
   "source": [
    "# Plot 4 random predictions from validation set\n",
    "X, y = random.choice(val_loader)\n",
    "\n",
    "with ng.autocast():\n",
    "    y_pred = model(X)\n",
    "\n",
    "indices = range(len(X))\n",
    "chosen = random.sample(indices, 4)\n",
    "\n",
    "correct = 0\n",
    "for i, idx in enumerate(chosen, 1):\n",
    "    plt.subplot(1, 4, i)\n",
    "    img = X[idx].data.transpose(1, 2, 0).get()  # Convert CHW to HWC\n",
    "\n",
    "    if USE_ONE_HOT:\n",
    "        label = y[idx].data.argmax(-1).item()\n",
    "        pred = y_pred[idx].data.argmax(-1).item()\n",
    "    else:\n",
    "        label = y[idx].data.item()\n",
    "        pred = y_pred[idx].data.argmax(-1).item()\n",
    "\n",
    "    correct += (label == pred)\n",
    "\n",
    "    # Get human-readable class names\n",
    "    label_name = TARGET_NAMES[label] if label < len(TARGET_NAMES) else str(label)\n",
    "    pred_name = TARGET_NAMES[pred] if pred < len(TARGET_NAMES) else str(pred)\n",
    "\n",
    "    plt.axis(\"off\")\n",
    "    plt.imshow(img)\n",
    "    plt.title(f\"Label: {label_name}\\nPred: {pred_name}\")\n",
    "\n",
    "plt.tight_layout()\n",
    "plt.show()\n",
    "print(f\"Guessed {correct} / 4\")"
   ]
  },
  {
   "cell_type": "code",
   "execution_count": null,
   "metadata": {},
   "outputs": [],
   "source": []
  }
 ],
 "metadata": {
  "accelerator": "GPU",
  "colab": {
   "gpuType": "T4",
   "provenance": []
  },
  "kaggle": {
   "accelerator": "none",
   "dataSources": [],
   "dockerImageVersionId": 31089,
   "isGpuEnabled": false,
   "isInternetEnabled": true,
   "language": "python",
   "sourceType": "notebook"
  },
  "kernelspec": {
   "display_name": "ml_env",
   "language": "python",
   "name": "python3"
  },
  "language_info": {
   "codemirror_mode": {
    "name": "ipython",
    "version": 3
   },
   "file_extension": ".py",
   "mimetype": "text/x-python",
   "name": "python",
   "nbconvert_exporter": "python",
   "pygments_lexer": "ipython3",
   "version": "3.9.19"
  },
  "widgets": {
   "application/vnd.jupyter.widget-state+json": {
    "00a5ce718ed5497fb353b8329d23ab10": {
     "model_module": "@jupyter-widgets/controls",
     "model_module_version": "1.5.0",
     "model_name": "DescriptionStyleModel",
     "state": {
      "_model_module": "@jupyter-widgets/controls",
      "_model_module_version": "1.5.0",
      "_model_name": "DescriptionStyleModel",
      "_view_count": null,
      "_view_module": "@jupyter-widgets/base",
      "_view_module_version": "1.2.0",
      "_view_name": "StyleView",
      "description_width": ""
     }
    },
    "00ddf327ceea475bb82ef72d5541ebdb": {
     "model_module": "@jupyter-widgets/controls",
     "model_module_version": "1.5.0",
     "model_name": "HBoxModel",
     "state": {
      "_dom_classes": [],
      "_model_module": "@jupyter-widgets/controls",
      "_model_module_version": "1.5.0",
      "_model_name": "HBoxModel",
      "_view_count": null,
      "_view_module": "@jupyter-widgets/controls",
      "_view_module_version": "1.5.0",
      "_view_name": "HBoxView",
      "box_style": "",
      "children": [
       "IPY_MODEL_dde2e2f2e7024152b9102bcf1fc237c1",
       "IPY_MODEL_af3118beb5fe4946ad285441fbb47ea8",
       "IPY_MODEL_5bfb1262f64c436fb9dea22e280e2597"
      ],
      "layout": "IPY_MODEL_1d4693817f0f444b93476e9a059df7b3"
     }
    },
    "03d11e19e62842ceb50fd9a81f33bc7f": {
     "model_module": "@jupyter-widgets/controls",
     "model_module_version": "1.5.0",
     "model_name": "HTMLModel",
     "state": {
      "_dom_classes": [],
      "_model_module": "@jupyter-widgets/controls",
      "_model_module_version": "1.5.0",
      "_model_name": "HTMLModel",
      "_view_count": null,
      "_view_module": "@jupyter-widgets/controls",
      "_view_module_version": "1.5.0",
      "_view_name": "HTMLView",
      "description": "",
      "description_tooltip": null,
      "layout": "IPY_MODEL_a3ea202c5b7f4a39bc9b44072a658823",
      "placeholder": "​",
      "style": "IPY_MODEL_f4e9c0bacb5042f4bd8e2e2d556bc033",
      "value": " 782/782 [08:07&lt;00:00,  1.81it/s]"
     }
    },
    "11ae289a2502433ebefb6116792f5f10": {
     "model_module": "@jupyter-widgets/controls",
     "model_module_version": "1.5.0",
     "model_name": "FloatProgressModel",
     "state": {
      "_dom_classes": [],
      "_model_module": "@jupyter-widgets/controls",
      "_model_module_version": "1.5.0",
      "_model_name": "FloatProgressModel",
      "_view_count": null,
      "_view_module": "@jupyter-widgets/controls",
      "_view_module_version": "1.5.0",
      "_view_name": "ProgressView",
      "bar_style": "success",
      "description": "",
      "description_tooltip": null,
      "layout": "IPY_MODEL_c3dfe838574341ed971aeaebba5b360f",
      "max": 782,
      "min": 0,
      "orientation": "horizontal",
      "style": "IPY_MODEL_b07251bd292448f08a88fb12ccb4c3e5",
      "value": 782
     }
    },
    "12927d6dc2b8427db516601f442fabf3": {
     "model_module": "@jupyter-widgets/base",
     "model_module_version": "1.2.0",
     "model_name": "LayoutModel",
     "state": {
      "_model_module": "@jupyter-widgets/base",
      "_model_module_version": "1.2.0",
      "_model_name": "LayoutModel",
      "_view_count": null,
      "_view_module": "@jupyter-widgets/base",
      "_view_module_version": "1.2.0",
      "_view_name": "LayoutView",
      "align_content": null,
      "align_items": null,
      "align_self": null,
      "border": null,
      "bottom": null,
      "display": null,
      "flex": null,
      "flex_flow": null,
      "grid_area": null,
      "grid_auto_columns": null,
      "grid_auto_flow": null,
      "grid_auto_rows": null,
      "grid_column": null,
      "grid_gap": null,
      "grid_row": null,
      "grid_template_areas": null,
      "grid_template_columns": null,
      "grid_template_rows": null,
      "height": null,
      "justify_content": null,
      "justify_items": null,
      "left": null,
      "margin": null,
      "max_height": null,
      "max_width": null,
      "min_height": null,
      "min_width": null,
      "object_fit": null,
      "object_position": null,
      "order": null,
      "overflow": null,
      "overflow_x": null,
      "overflow_y": null,
      "padding": null,
      "right": null,
      "top": null,
      "visibility": null,
      "width": null
     }
    },
    "1d4693817f0f444b93476e9a059df7b3": {
     "model_module": "@jupyter-widgets/base",
     "model_module_version": "1.2.0",
     "model_name": "LayoutModel",
     "state": {
      "_model_module": "@jupyter-widgets/base",
      "_model_module_version": "1.2.0",
      "_model_name": "LayoutModel",
      "_view_count": null,
      "_view_module": "@jupyter-widgets/base",
      "_view_module_version": "1.2.0",
      "_view_name": "LayoutView",
      "align_content": null,
      "align_items": null,
      "align_self": null,
      "border": null,
      "bottom": null,
      "display": null,
      "flex": null,
      "flex_flow": null,
      "grid_area": null,
      "grid_auto_columns": null,
      "grid_auto_flow": null,
      "grid_auto_rows": null,
      "grid_column": null,
      "grid_gap": null,
      "grid_row": null,
      "grid_template_areas": null,
      "grid_template_columns": null,
      "grid_template_rows": null,
      "height": null,
      "justify_content": null,
      "justify_items": null,
      "left": null,
      "margin": null,
      "max_height": null,
      "max_width": null,
      "min_height": null,
      "min_width": null,
      "object_fit": null,
      "object_position": null,
      "order": null,
      "overflow": null,
      "overflow_x": null,
      "overflow_y": null,
      "padding": null,
      "right": null,
      "top": null,
      "visibility": null,
      "width": null
     }
    },
    "2e1bc7c2cdb749e2b01c9295293451f7": {
     "model_module": "@jupyter-widgets/base",
     "model_module_version": "1.2.0",
     "model_name": "LayoutModel",
     "state": {
      "_model_module": "@jupyter-widgets/base",
      "_model_module_version": "1.2.0",
      "_model_name": "LayoutModel",
      "_view_count": null,
      "_view_module": "@jupyter-widgets/base",
      "_view_module_version": "1.2.0",
      "_view_name": "LayoutView",
      "align_content": null,
      "align_items": null,
      "align_self": null,
      "border": null,
      "bottom": null,
      "display": null,
      "flex": null,
      "flex_flow": null,
      "grid_area": null,
      "grid_auto_columns": null,
      "grid_auto_flow": null,
      "grid_auto_rows": null,
      "grid_column": null,
      "grid_gap": null,
      "grid_row": null,
      "grid_template_areas": null,
      "grid_template_columns": null,
      "grid_template_rows": null,
      "height": null,
      "justify_content": null,
      "justify_items": null,
      "left": null,
      "margin": null,
      "max_height": null,
      "max_width": null,
      "min_height": null,
      "min_width": null,
      "object_fit": null,
      "object_position": null,
      "order": null,
      "overflow": null,
      "overflow_x": null,
      "overflow_y": null,
      "padding": null,
      "right": null,
      "top": null,
      "visibility": null,
      "width": null
     }
    },
    "2e5690aaa1434cebadb96e2177bacfcf": {
     "model_module": "@jupyter-widgets/controls",
     "model_module_version": "1.5.0",
     "model_name": "DescriptionStyleModel",
     "state": {
      "_model_module": "@jupyter-widgets/controls",
      "_model_module_version": "1.5.0",
      "_model_name": "DescriptionStyleModel",
      "_view_count": null,
      "_view_module": "@jupyter-widgets/base",
      "_view_module_version": "1.2.0",
      "_view_name": "StyleView",
      "description_width": ""
     }
    },
    "32f341f5b3814f88ad44c42615a5b0eb": {
     "model_module": "@jupyter-widgets/controls",
     "model_module_version": "1.5.0",
     "model_name": "ProgressStyleModel",
     "state": {
      "_model_module": "@jupyter-widgets/controls",
      "_model_module_version": "1.5.0",
      "_model_name": "ProgressStyleModel",
      "_view_count": null,
      "_view_module": "@jupyter-widgets/base",
      "_view_module_version": "1.2.0",
      "_view_name": "StyleView",
      "bar_color": null,
      "description_width": ""
     }
    },
    "367b431c0bbe4528b0a141c0dc776b07": {
     "model_module": "@jupyter-widgets/base",
     "model_module_version": "1.2.0",
     "model_name": "LayoutModel",
     "state": {
      "_model_module": "@jupyter-widgets/base",
      "_model_module_version": "1.2.0",
      "_model_name": "LayoutModel",
      "_view_count": null,
      "_view_module": "@jupyter-widgets/base",
      "_view_module_version": "1.2.0",
      "_view_name": "LayoutView",
      "align_content": null,
      "align_items": null,
      "align_self": null,
      "border": null,
      "bottom": null,
      "display": null,
      "flex": null,
      "flex_flow": null,
      "grid_area": null,
      "grid_auto_columns": null,
      "grid_auto_flow": null,
      "grid_auto_rows": null,
      "grid_column": null,
      "grid_gap": null,
      "grid_row": null,
      "grid_template_areas": null,
      "grid_template_columns": null,
      "grid_template_rows": null,
      "height": null,
      "justify_content": null,
      "justify_items": null,
      "left": null,
      "margin": null,
      "max_height": null,
      "max_width": null,
      "min_height": null,
      "min_width": null,
      "object_fit": null,
      "object_position": null,
      "order": null,
      "overflow": null,
      "overflow_x": null,
      "overflow_y": null,
      "padding": null,
      "right": null,
      "top": null,
      "visibility": null,
      "width": null
     }
    },
    "36b4a953282c42218c28ae948434209c": {
     "model_module": "@jupyter-widgets/controls",
     "model_module_version": "1.5.0",
     "model_name": "FloatProgressModel",
     "state": {
      "_dom_classes": [],
      "_model_module": "@jupyter-widgets/controls",
      "_model_module_version": "1.5.0",
      "_model_name": "FloatProgressModel",
      "_view_count": null,
      "_view_module": "@jupyter-widgets/controls",
      "_view_module_version": "1.5.0",
      "_view_name": "ProgressView",
      "bar_style": "success",
      "description": "",
      "description_tooltip": null,
      "layout": "IPY_MODEL_dde11222734642c4b70d68d0a3a418c0",
      "max": 782,
      "min": 0,
      "orientation": "horizontal",
      "style": "IPY_MODEL_b7e72432d8e14b40904ac208522fff87",
      "value": 782
     }
    },
    "373061212d1a45c48356e87463ebd22c": {
     "model_module": "@jupyter-widgets/controls",
     "model_module_version": "1.5.0",
     "model_name": "DescriptionStyleModel",
     "state": {
      "_model_module": "@jupyter-widgets/controls",
      "_model_module_version": "1.5.0",
      "_model_name": "DescriptionStyleModel",
      "_view_count": null,
      "_view_module": "@jupyter-widgets/base",
      "_view_module_version": "1.2.0",
      "_view_name": "StyleView",
      "description_width": ""
     }
    },
    "38a58fff12ba4d838d120dd3c4191638": {
     "model_module": "@jupyter-widgets/base",
     "model_module_version": "1.2.0",
     "model_name": "LayoutModel",
     "state": {
      "_model_module": "@jupyter-widgets/base",
      "_model_module_version": "1.2.0",
      "_model_name": "LayoutModel",
      "_view_count": null,
      "_view_module": "@jupyter-widgets/base",
      "_view_module_version": "1.2.0",
      "_view_name": "LayoutView",
      "align_content": null,
      "align_items": null,
      "align_self": null,
      "border": null,
      "bottom": null,
      "display": null,
      "flex": null,
      "flex_flow": null,
      "grid_area": null,
      "grid_auto_columns": null,
      "grid_auto_flow": null,
      "grid_auto_rows": null,
      "grid_column": null,
      "grid_gap": null,
      "grid_row": null,
      "grid_template_areas": null,
      "grid_template_columns": null,
      "grid_template_rows": null,
      "height": null,
      "justify_content": null,
      "justify_items": null,
      "left": null,
      "margin": null,
      "max_height": null,
      "max_width": null,
      "min_height": null,
      "min_width": null,
      "object_fit": null,
      "object_position": null,
      "order": null,
      "overflow": null,
      "overflow_x": null,
      "overflow_y": null,
      "padding": null,
      "right": null,
      "top": null,
      "visibility": null,
      "width": null
     }
    },
    "3ef6f403e8894aca89f7a8cab4c3b3df": {
     "model_module": "@jupyter-widgets/controls",
     "model_module_version": "1.5.0",
     "model_name": "HTMLModel",
     "state": {
      "_dom_classes": [],
      "_model_module": "@jupyter-widgets/controls",
      "_model_module_version": "1.5.0",
      "_model_name": "HTMLModel",
      "_view_count": null,
      "_view_module": "@jupyter-widgets/controls",
      "_view_module_version": "1.5.0",
      "_view_name": "HTMLView",
      "description": "",
      "description_tooltip": null,
      "layout": "IPY_MODEL_d45edd9cab6540ed8770637fcf3e7628",
      "placeholder": "​",
      "style": "IPY_MODEL_fe8c38160d044443b9f353a71ce278fe",
      "value": "100%"
     }
    },
    "430748901276400b8d487aafd86ad537": {
     "model_module": "@jupyter-widgets/controls",
     "model_module_version": "1.5.0",
     "model_name": "HTMLModel",
     "state": {
      "_dom_classes": [],
      "_model_module": "@jupyter-widgets/controls",
      "_model_module_version": "1.5.0",
      "_model_name": "HTMLModel",
      "_view_count": null,
      "_view_module": "@jupyter-widgets/controls",
      "_view_module_version": "1.5.0",
      "_view_name": "HTMLView",
      "description": "",
      "description_tooltip": null,
      "layout": "IPY_MODEL_c91f9ca7c0e34348b37f5a24b5b0a01b",
      "placeholder": "​",
      "style": "IPY_MODEL_682c9569278d4e02ac6f165e056cb623",
      "value": " 782/782 [08:05&lt;00:00,  1.92it/s]"
     }
    },
    "46792aa94d4e40df87e7ebacb00b56b4": {
     "model_module": "@jupyter-widgets/controls",
     "model_module_version": "1.5.0",
     "model_name": "DescriptionStyleModel",
     "state": {
      "_model_module": "@jupyter-widgets/controls",
      "_model_module_version": "1.5.0",
      "_model_name": "DescriptionStyleModel",
      "_view_count": null,
      "_view_module": "@jupyter-widgets/base",
      "_view_module_version": "1.2.0",
      "_view_name": "StyleView",
      "description_width": ""
     }
    },
    "4cff7b065da7481cb30762b0386f36d3": {
     "model_module": "@jupyter-widgets/controls",
     "model_module_version": "1.5.0",
     "model_name": "HTMLModel",
     "state": {
      "_dom_classes": [],
      "_model_module": "@jupyter-widgets/controls",
      "_model_module_version": "1.5.0",
      "_model_name": "HTMLModel",
      "_view_count": null,
      "_view_module": "@jupyter-widgets/controls",
      "_view_module_version": "1.5.0",
      "_view_name": "HTMLView",
      "description": "",
      "description_tooltip": null,
      "layout": "IPY_MODEL_90f80f7f0b214df392ea191e85c06efa",
      "placeholder": "​",
      "style": "IPY_MODEL_373061212d1a45c48356e87463ebd22c",
      "value": "100%"
     }
    },
    "4d158039a7c4437f812a1d22f66ed07b": {
     "model_module": "@jupyter-widgets/base",
     "model_module_version": "1.2.0",
     "model_name": "LayoutModel",
     "state": {
      "_model_module": "@jupyter-widgets/base",
      "_model_module_version": "1.2.0",
      "_model_name": "LayoutModel",
      "_view_count": null,
      "_view_module": "@jupyter-widgets/base",
      "_view_module_version": "1.2.0",
      "_view_name": "LayoutView",
      "align_content": null,
      "align_items": null,
      "align_self": null,
      "border": null,
      "bottom": null,
      "display": null,
      "flex": null,
      "flex_flow": null,
      "grid_area": null,
      "grid_auto_columns": null,
      "grid_auto_flow": null,
      "grid_auto_rows": null,
      "grid_column": null,
      "grid_gap": null,
      "grid_row": null,
      "grid_template_areas": null,
      "grid_template_columns": null,
      "grid_template_rows": null,
      "height": null,
      "justify_content": null,
      "justify_items": null,
      "left": null,
      "margin": null,
      "max_height": null,
      "max_width": null,
      "min_height": null,
      "min_width": null,
      "object_fit": null,
      "object_position": null,
      "order": null,
      "overflow": null,
      "overflow_x": null,
      "overflow_y": null,
      "padding": null,
      "right": null,
      "top": null,
      "visibility": null,
      "width": null
     }
    },
    "4f02cf2a7e3a491bb4e3a76225207950": {
     "model_module": "@jupyter-widgets/base",
     "model_module_version": "1.2.0",
     "model_name": "LayoutModel",
     "state": {
      "_model_module": "@jupyter-widgets/base",
      "_model_module_version": "1.2.0",
      "_model_name": "LayoutModel",
      "_view_count": null,
      "_view_module": "@jupyter-widgets/base",
      "_view_module_version": "1.2.0",
      "_view_name": "LayoutView",
      "align_content": null,
      "align_items": null,
      "align_self": null,
      "border": null,
      "bottom": null,
      "display": null,
      "flex": null,
      "flex_flow": null,
      "grid_area": null,
      "grid_auto_columns": null,
      "grid_auto_flow": null,
      "grid_auto_rows": null,
      "grid_column": null,
      "grid_gap": null,
      "grid_row": null,
      "grid_template_areas": null,
      "grid_template_columns": null,
      "grid_template_rows": null,
      "height": null,
      "justify_content": null,
      "justify_items": null,
      "left": null,
      "margin": null,
      "max_height": null,
      "max_width": null,
      "min_height": null,
      "min_width": null,
      "object_fit": null,
      "object_position": null,
      "order": null,
      "overflow": null,
      "overflow_x": null,
      "overflow_y": null,
      "padding": null,
      "right": null,
      "top": null,
      "visibility": null,
      "width": null
     }
    },
    "4f7a4523e07e4bc0a91e98ca6b7c5f61": {
     "model_module": "@jupyter-widgets/controls",
     "model_module_version": "1.5.0",
     "model_name": "DescriptionStyleModel",
     "state": {
      "_model_module": "@jupyter-widgets/controls",
      "_model_module_version": "1.5.0",
      "_model_name": "DescriptionStyleModel",
      "_view_count": null,
      "_view_module": "@jupyter-widgets/base",
      "_view_module_version": "1.2.0",
      "_view_name": "StyleView",
      "description_width": ""
     }
    },
    "53f9817f435441a4bc833f8b9beb75e7": {
     "model_module": "@jupyter-widgets/controls",
     "model_module_version": "1.5.0",
     "model_name": "DescriptionStyleModel",
     "state": {
      "_model_module": "@jupyter-widgets/controls",
      "_model_module_version": "1.5.0",
      "_model_name": "DescriptionStyleModel",
      "_view_count": null,
      "_view_module": "@jupyter-widgets/base",
      "_view_module_version": "1.2.0",
      "_view_name": "StyleView",
      "description_width": ""
     }
    },
    "553c7b10a5944188bb10a4851bcd01c8": {
     "model_module": "@jupyter-widgets/controls",
     "model_module_version": "1.5.0",
     "model_name": "HTMLModel",
     "state": {
      "_dom_classes": [],
      "_model_module": "@jupyter-widgets/controls",
      "_model_module_version": "1.5.0",
      "_model_name": "HTMLModel",
      "_view_count": null,
      "_view_module": "@jupyter-widgets/controls",
      "_view_module_version": "1.5.0",
      "_view_name": "HTMLView",
      "description": "",
      "description_tooltip": null,
      "layout": "IPY_MODEL_a491c2d9ffdd49b8a44321bfaa0f4962",
      "placeholder": "​",
      "style": "IPY_MODEL_a17f0212617b4c75b8da611a210c1675",
      "value": " 53/782 [00:33&lt;07:57,  1.53it/s]"
     }
    },
    "5542aa6c6dd544138e814bf36d673480": {
     "model_module": "@jupyter-widgets/controls",
     "model_module_version": "1.5.0",
     "model_name": "FloatProgressModel",
     "state": {
      "_dom_classes": [],
      "_model_module": "@jupyter-widgets/controls",
      "_model_module_version": "1.5.0",
      "_model_name": "FloatProgressModel",
      "_view_count": null,
      "_view_module": "@jupyter-widgets/controls",
      "_view_module_version": "1.5.0",
      "_view_name": "ProgressView",
      "bar_style": "success",
      "description": "",
      "description_tooltip": null,
      "layout": "IPY_MODEL_7184f30f84e643d492998762a7842d0a",
      "max": 782,
      "min": 0,
      "orientation": "horizontal",
      "style": "IPY_MODEL_32f341f5b3814f88ad44c42615a5b0eb",
      "value": 782
     }
    },
    "575d33a5fc064a87ba006f13b9b88d36": {
     "model_module": "@jupyter-widgets/controls",
     "model_module_version": "1.5.0",
     "model_name": "HTMLModel",
     "state": {
      "_dom_classes": [],
      "_model_module": "@jupyter-widgets/controls",
      "_model_module_version": "1.5.0",
      "_model_name": "HTMLModel",
      "_view_count": null,
      "_view_module": "@jupyter-widgets/controls",
      "_view_module_version": "1.5.0",
      "_view_name": "HTMLView",
      "description": "",
      "description_tooltip": null,
      "layout": "IPY_MODEL_9619e8768bbf447491b4b3bf1654ba12",
      "placeholder": "​",
      "style": "IPY_MODEL_46792aa94d4e40df87e7ebacb00b56b4",
      "value": " 782/782 [08:14&lt;00:00,  2.00it/s]"
     }
    },
    "588ba68630b14a56890acff7cb6284ea": {
     "model_module": "@jupyter-widgets/controls",
     "model_module_version": "1.5.0",
     "model_name": "HTMLModel",
     "state": {
      "_dom_classes": [],
      "_model_module": "@jupyter-widgets/controls",
      "_model_module_version": "1.5.0",
      "_model_name": "HTMLModel",
      "_view_count": null,
      "_view_module": "@jupyter-widgets/controls",
      "_view_module_version": "1.5.0",
      "_view_name": "HTMLView",
      "description": "",
      "description_tooltip": null,
      "layout": "IPY_MODEL_cc40c730a67a4a229136eaa5878b200d",
      "placeholder": "​",
      "style": "IPY_MODEL_53f9817f435441a4bc833f8b9beb75e7",
      "value": "100%"
     }
    },
    "5ac41749a0544bc4ae976e3808f183e5": {
     "model_module": "@jupyter-widgets/base",
     "model_module_version": "1.2.0",
     "model_name": "LayoutModel",
     "state": {
      "_model_module": "@jupyter-widgets/base",
      "_model_module_version": "1.2.0",
      "_model_name": "LayoutModel",
      "_view_count": null,
      "_view_module": "@jupyter-widgets/base",
      "_view_module_version": "1.2.0",
      "_view_name": "LayoutView",
      "align_content": null,
      "align_items": null,
      "align_self": null,
      "border": null,
      "bottom": null,
      "display": null,
      "flex": null,
      "flex_flow": null,
      "grid_area": null,
      "grid_auto_columns": null,
      "grid_auto_flow": null,
      "grid_auto_rows": null,
      "grid_column": null,
      "grid_gap": null,
      "grid_row": null,
      "grid_template_areas": null,
      "grid_template_columns": null,
      "grid_template_rows": null,
      "height": null,
      "justify_content": null,
      "justify_items": null,
      "left": null,
      "margin": null,
      "max_height": null,
      "max_width": null,
      "min_height": null,
      "min_width": null,
      "object_fit": null,
      "object_position": null,
      "order": null,
      "overflow": null,
      "overflow_x": null,
      "overflow_y": null,
      "padding": null,
      "right": null,
      "top": null,
      "visibility": null,
      "width": null
     }
    },
    "5bcdc83dd3474d15a412b0bb38fda9bb": {
     "model_module": "@jupyter-widgets/controls",
     "model_module_version": "1.5.0",
     "model_name": "HBoxModel",
     "state": {
      "_dom_classes": [],
      "_model_module": "@jupyter-widgets/controls",
      "_model_module_version": "1.5.0",
      "_model_name": "HBoxModel",
      "_view_count": null,
      "_view_module": "@jupyter-widgets/controls",
      "_view_module_version": "1.5.0",
      "_view_name": "HBoxView",
      "box_style": "",
      "children": [
       "IPY_MODEL_d0f5b1f57fab4aea8510346b69e50e51",
       "IPY_MODEL_11ae289a2502433ebefb6116792f5f10",
       "IPY_MODEL_f1fc9bb0f4e347f48c74fb34a2dbbcfb"
      ],
      "layout": "IPY_MODEL_ad42668e0a5742cd9bb7c8e048bd31ae"
     }
    },
    "5bfb1262f64c436fb9dea22e280e2597": {
     "model_module": "@jupyter-widgets/controls",
     "model_module_version": "1.5.0",
     "model_name": "HTMLModel",
     "state": {
      "_dom_classes": [],
      "_model_module": "@jupyter-widgets/controls",
      "_model_module_version": "1.5.0",
      "_model_name": "HTMLModel",
      "_view_count": null,
      "_view_module": "@jupyter-widgets/controls",
      "_view_module_version": "1.5.0",
      "_view_name": "HTMLView",
      "description": "",
      "description_tooltip": null,
      "layout": "IPY_MODEL_d856383408b54a689603b8c178c2aaed",
      "placeholder": "​",
      "style": "IPY_MODEL_e09b2b39adbc4540b6cff6ff08bf3aa0",
      "value": " 782/782 [08:07&lt;00:00,  1.97it/s]"
     }
    },
    "5d3c0d4bf2ca4d0b9f7954c49e0a813e": {
     "model_module": "@jupyter-widgets/controls",
     "model_module_version": "1.5.0",
     "model_name": "DescriptionStyleModel",
     "state": {
      "_model_module": "@jupyter-widgets/controls",
      "_model_module_version": "1.5.0",
      "_model_name": "DescriptionStyleModel",
      "_view_count": null,
      "_view_module": "@jupyter-widgets/base",
      "_view_module_version": "1.2.0",
      "_view_name": "StyleView",
      "description_width": ""
     }
    },
    "5f85a79e1bbb4899970cb01d9b729574": {
     "model_module": "@jupyter-widgets/controls",
     "model_module_version": "1.5.0",
     "model_name": "DescriptionStyleModel",
     "state": {
      "_model_module": "@jupyter-widgets/controls",
      "_model_module_version": "1.5.0",
      "_model_name": "DescriptionStyleModel",
      "_view_count": null,
      "_view_module": "@jupyter-widgets/base",
      "_view_module_version": "1.2.0",
      "_view_name": "StyleView",
      "description_width": ""
     }
    },
    "5fe973f5ef7d47faa72e0d2cf93fe09c": {
     "model_module": "@jupyter-widgets/controls",
     "model_module_version": "1.5.0",
     "model_name": "HBoxModel",
     "state": {
      "_dom_classes": [],
      "_model_module": "@jupyter-widgets/controls",
      "_model_module_version": "1.5.0",
      "_model_name": "HBoxModel",
      "_view_count": null,
      "_view_module": "@jupyter-widgets/controls",
      "_view_module_version": "1.5.0",
      "_view_name": "HBoxView",
      "box_style": "",
      "children": [
       "IPY_MODEL_588ba68630b14a56890acff7cb6284ea",
       "IPY_MODEL_f3171cc57b48470dba4d76d192d31bcd",
       "IPY_MODEL_575d33a5fc064a87ba006f13b9b88d36"
      ],
      "layout": "IPY_MODEL_7bc78a1e9abc479b9cf82dc3e051ac58"
     }
    },
    "61f7886b71e346a6ab334e1ac26ed882": {
     "model_module": "@jupyter-widgets/base",
     "model_module_version": "1.2.0",
     "model_name": "LayoutModel",
     "state": {
      "_model_module": "@jupyter-widgets/base",
      "_model_module_version": "1.2.0",
      "_model_name": "LayoutModel",
      "_view_count": null,
      "_view_module": "@jupyter-widgets/base",
      "_view_module_version": "1.2.0",
      "_view_name": "LayoutView",
      "align_content": null,
      "align_items": null,
      "align_self": null,
      "border": null,
      "bottom": null,
      "display": null,
      "flex": null,
      "flex_flow": null,
      "grid_area": null,
      "grid_auto_columns": null,
      "grid_auto_flow": null,
      "grid_auto_rows": null,
      "grid_column": null,
      "grid_gap": null,
      "grid_row": null,
      "grid_template_areas": null,
      "grid_template_columns": null,
      "grid_template_rows": null,
      "height": null,
      "justify_content": null,
      "justify_items": null,
      "left": null,
      "margin": null,
      "max_height": null,
      "max_width": null,
      "min_height": null,
      "min_width": null,
      "object_fit": null,
      "object_position": null,
      "order": null,
      "overflow": null,
      "overflow_x": null,
      "overflow_y": null,
      "padding": null,
      "right": null,
      "top": null,
      "visibility": null,
      "width": null
     }
    },
    "63de4807ebff4d7c8f80352b44eb13b0": {
     "model_module": "@jupyter-widgets/controls",
     "model_module_version": "1.5.0",
     "model_name": "DescriptionStyleModel",
     "state": {
      "_model_module": "@jupyter-widgets/controls",
      "_model_module_version": "1.5.0",
      "_model_name": "DescriptionStyleModel",
      "_view_count": null,
      "_view_module": "@jupyter-widgets/base",
      "_view_module_version": "1.2.0",
      "_view_name": "StyleView",
      "description_width": ""
     }
    },
    "682c9569278d4e02ac6f165e056cb623": {
     "model_module": "@jupyter-widgets/controls",
     "model_module_version": "1.5.0",
     "model_name": "DescriptionStyleModel",
     "state": {
      "_model_module": "@jupyter-widgets/controls",
      "_model_module_version": "1.5.0",
      "_model_name": "DescriptionStyleModel",
      "_view_count": null,
      "_view_module": "@jupyter-widgets/base",
      "_view_module_version": "1.2.0",
      "_view_name": "StyleView",
      "description_width": ""
     }
    },
    "6ddcf4a765104985a824832a58a9c41f": {
     "model_module": "@jupyter-widgets/base",
     "model_module_version": "1.2.0",
     "model_name": "LayoutModel",
     "state": {
      "_model_module": "@jupyter-widgets/base",
      "_model_module_version": "1.2.0",
      "_model_name": "LayoutModel",
      "_view_count": null,
      "_view_module": "@jupyter-widgets/base",
      "_view_module_version": "1.2.0",
      "_view_name": "LayoutView",
      "align_content": null,
      "align_items": null,
      "align_self": null,
      "border": null,
      "bottom": null,
      "display": null,
      "flex": null,
      "flex_flow": null,
      "grid_area": null,
      "grid_auto_columns": null,
      "grid_auto_flow": null,
      "grid_auto_rows": null,
      "grid_column": null,
      "grid_gap": null,
      "grid_row": null,
      "grid_template_areas": null,
      "grid_template_columns": null,
      "grid_template_rows": null,
      "height": null,
      "justify_content": null,
      "justify_items": null,
      "left": null,
      "margin": null,
      "max_height": null,
      "max_width": null,
      "min_height": null,
      "min_width": null,
      "object_fit": null,
      "object_position": null,
      "order": null,
      "overflow": null,
      "overflow_x": null,
      "overflow_y": null,
      "padding": null,
      "right": null,
      "top": null,
      "visibility": null,
      "width": null
     }
    },
    "7184f30f84e643d492998762a7842d0a": {
     "model_module": "@jupyter-widgets/base",
     "model_module_version": "1.2.0",
     "model_name": "LayoutModel",
     "state": {
      "_model_module": "@jupyter-widgets/base",
      "_model_module_version": "1.2.0",
      "_model_name": "LayoutModel",
      "_view_count": null,
      "_view_module": "@jupyter-widgets/base",
      "_view_module_version": "1.2.0",
      "_view_name": "LayoutView",
      "align_content": null,
      "align_items": null,
      "align_self": null,
      "border": null,
      "bottom": null,
      "display": null,
      "flex": null,
      "flex_flow": null,
      "grid_area": null,
      "grid_auto_columns": null,
      "grid_auto_flow": null,
      "grid_auto_rows": null,
      "grid_column": null,
      "grid_gap": null,
      "grid_row": null,
      "grid_template_areas": null,
      "grid_template_columns": null,
      "grid_template_rows": null,
      "height": null,
      "justify_content": null,
      "justify_items": null,
      "left": null,
      "margin": null,
      "max_height": null,
      "max_width": null,
      "min_height": null,
      "min_width": null,
      "object_fit": null,
      "object_position": null,
      "order": null,
      "overflow": null,
      "overflow_x": null,
      "overflow_y": null,
      "padding": null,
      "right": null,
      "top": null,
      "visibility": null,
      "width": null
     }
    },
    "7b154f76ed8b4b56b6c9f9749c60fd55": {
     "model_module": "@jupyter-widgets/controls",
     "model_module_version": "1.5.0",
     "model_name": "ProgressStyleModel",
     "state": {
      "_model_module": "@jupyter-widgets/controls",
      "_model_module_version": "1.5.0",
      "_model_name": "ProgressStyleModel",
      "_view_count": null,
      "_view_module": "@jupyter-widgets/base",
      "_view_module_version": "1.2.0",
      "_view_name": "StyleView",
      "bar_color": null,
      "description_width": ""
     }
    },
    "7bc78a1e9abc479b9cf82dc3e051ac58": {
     "model_module": "@jupyter-widgets/base",
     "model_module_version": "1.2.0",
     "model_name": "LayoutModel",
     "state": {
      "_model_module": "@jupyter-widgets/base",
      "_model_module_version": "1.2.0",
      "_model_name": "LayoutModel",
      "_view_count": null,
      "_view_module": "@jupyter-widgets/base",
      "_view_module_version": "1.2.0",
      "_view_name": "LayoutView",
      "align_content": null,
      "align_items": null,
      "align_self": null,
      "border": null,
      "bottom": null,
      "display": null,
      "flex": null,
      "flex_flow": null,
      "grid_area": null,
      "grid_auto_columns": null,
      "grid_auto_flow": null,
      "grid_auto_rows": null,
      "grid_column": null,
      "grid_gap": null,
      "grid_row": null,
      "grid_template_areas": null,
      "grid_template_columns": null,
      "grid_template_rows": null,
      "height": null,
      "justify_content": null,
      "justify_items": null,
      "left": null,
      "margin": null,
      "max_height": null,
      "max_width": null,
      "min_height": null,
      "min_width": null,
      "object_fit": null,
      "object_position": null,
      "order": null,
      "overflow": null,
      "overflow_x": null,
      "overflow_y": null,
      "padding": null,
      "right": null,
      "top": null,
      "visibility": null,
      "width": null
     }
    },
    "82a363e6bb564164a7f6c9f8b4a982e1": {
     "model_module": "@jupyter-widgets/controls",
     "model_module_version": "1.5.0",
     "model_name": "FloatProgressModel",
     "state": {
      "_dom_classes": [],
      "_model_module": "@jupyter-widgets/controls",
      "_model_module_version": "1.5.0",
      "_model_name": "FloatProgressModel",
      "_view_count": null,
      "_view_module": "@jupyter-widgets/controls",
      "_view_module_version": "1.5.0",
      "_view_name": "ProgressView",
      "bar_style": "danger",
      "description": "",
      "description_tooltip": null,
      "layout": "IPY_MODEL_12927d6dc2b8427db516601f442fabf3",
      "max": 782,
      "min": 0,
      "orientation": "horizontal",
      "style": "IPY_MODEL_9ff1b5d29357444c85f74c46f5358237",
      "value": 53
     }
    },
    "8689e518b9e945c3b662d9c663ae0a5f": {
     "model_module": "@jupyter-widgets/base",
     "model_module_version": "1.2.0",
     "model_name": "LayoutModel",
     "state": {
      "_model_module": "@jupyter-widgets/base",
      "_model_module_version": "1.2.0",
      "_model_name": "LayoutModel",
      "_view_count": null,
      "_view_module": "@jupyter-widgets/base",
      "_view_module_version": "1.2.0",
      "_view_name": "LayoutView",
      "align_content": null,
      "align_items": null,
      "align_self": null,
      "border": null,
      "bottom": null,
      "display": null,
      "flex": null,
      "flex_flow": null,
      "grid_area": null,
      "grid_auto_columns": null,
      "grid_auto_flow": null,
      "grid_auto_rows": null,
      "grid_column": null,
      "grid_gap": null,
      "grid_row": null,
      "grid_template_areas": null,
      "grid_template_columns": null,
      "grid_template_rows": null,
      "height": null,
      "justify_content": null,
      "justify_items": null,
      "left": null,
      "margin": null,
      "max_height": null,
      "max_width": null,
      "min_height": null,
      "min_width": null,
      "object_fit": null,
      "object_position": null,
      "order": null,
      "overflow": null,
      "overflow_x": null,
      "overflow_y": null,
      "padding": null,
      "right": null,
      "top": null,
      "visibility": null,
      "width": null
     }
    },
    "88a9f733f5384bc18ebe354e385c0a36": {
     "model_module": "@jupyter-widgets/base",
     "model_module_version": "1.2.0",
     "model_name": "LayoutModel",
     "state": {
      "_model_module": "@jupyter-widgets/base",
      "_model_module_version": "1.2.0",
      "_model_name": "LayoutModel",
      "_view_count": null,
      "_view_module": "@jupyter-widgets/base",
      "_view_module_version": "1.2.0",
      "_view_name": "LayoutView",
      "align_content": null,
      "align_items": null,
      "align_self": null,
      "border": null,
      "bottom": null,
      "display": null,
      "flex": null,
      "flex_flow": null,
      "grid_area": null,
      "grid_auto_columns": null,
      "grid_auto_flow": null,
      "grid_auto_rows": null,
      "grid_column": null,
      "grid_gap": null,
      "grid_row": null,
      "grid_template_areas": null,
      "grid_template_columns": null,
      "grid_template_rows": null,
      "height": null,
      "justify_content": null,
      "justify_items": null,
      "left": null,
      "margin": null,
      "max_height": null,
      "max_width": null,
      "min_height": null,
      "min_width": null,
      "object_fit": null,
      "object_position": null,
      "order": null,
      "overflow": null,
      "overflow_x": null,
      "overflow_y": null,
      "padding": null,
      "right": null,
      "top": null,
      "visibility": null,
      "width": null
     }
    },
    "90f80f7f0b214df392ea191e85c06efa": {
     "model_module": "@jupyter-widgets/base",
     "model_module_version": "1.2.0",
     "model_name": "LayoutModel",
     "state": {
      "_model_module": "@jupyter-widgets/base",
      "_model_module_version": "1.2.0",
      "_model_name": "LayoutModel",
      "_view_count": null,
      "_view_module": "@jupyter-widgets/base",
      "_view_module_version": "1.2.0",
      "_view_name": "LayoutView",
      "align_content": null,
      "align_items": null,
      "align_self": null,
      "border": null,
      "bottom": null,
      "display": null,
      "flex": null,
      "flex_flow": null,
      "grid_area": null,
      "grid_auto_columns": null,
      "grid_auto_flow": null,
      "grid_auto_rows": null,
      "grid_column": null,
      "grid_gap": null,
      "grid_row": null,
      "grid_template_areas": null,
      "grid_template_columns": null,
      "grid_template_rows": null,
      "height": null,
      "justify_content": null,
      "justify_items": null,
      "left": null,
      "margin": null,
      "max_height": null,
      "max_width": null,
      "min_height": null,
      "min_width": null,
      "object_fit": null,
      "object_position": null,
      "order": null,
      "overflow": null,
      "overflow_x": null,
      "overflow_y": null,
      "padding": null,
      "right": null,
      "top": null,
      "visibility": null,
      "width": null
     }
    },
    "940bac3caaa6462ca5f1d233d4f11e65": {
     "model_module": "@jupyter-widgets/base",
     "model_module_version": "1.2.0",
     "model_name": "LayoutModel",
     "state": {
      "_model_module": "@jupyter-widgets/base",
      "_model_module_version": "1.2.0",
      "_model_name": "LayoutModel",
      "_view_count": null,
      "_view_module": "@jupyter-widgets/base",
      "_view_module_version": "1.2.0",
      "_view_name": "LayoutView",
      "align_content": null,
      "align_items": null,
      "align_self": null,
      "border": null,
      "bottom": null,
      "display": null,
      "flex": null,
      "flex_flow": null,
      "grid_area": null,
      "grid_auto_columns": null,
      "grid_auto_flow": null,
      "grid_auto_rows": null,
      "grid_column": null,
      "grid_gap": null,
      "grid_row": null,
      "grid_template_areas": null,
      "grid_template_columns": null,
      "grid_template_rows": null,
      "height": null,
      "justify_content": null,
      "justify_items": null,
      "left": null,
      "margin": null,
      "max_height": null,
      "max_width": null,
      "min_height": null,
      "min_width": null,
      "object_fit": null,
      "object_position": null,
      "order": null,
      "overflow": null,
      "overflow_x": null,
      "overflow_y": null,
      "padding": null,
      "right": null,
      "top": null,
      "visibility": null,
      "width": null
     }
    },
    "9619e8768bbf447491b4b3bf1654ba12": {
     "model_module": "@jupyter-widgets/base",
     "model_module_version": "1.2.0",
     "model_name": "LayoutModel",
     "state": {
      "_model_module": "@jupyter-widgets/base",
      "_model_module_version": "1.2.0",
      "_model_name": "LayoutModel",
      "_view_count": null,
      "_view_module": "@jupyter-widgets/base",
      "_view_module_version": "1.2.0",
      "_view_name": "LayoutView",
      "align_content": null,
      "align_items": null,
      "align_self": null,
      "border": null,
      "bottom": null,
      "display": null,
      "flex": null,
      "flex_flow": null,
      "grid_area": null,
      "grid_auto_columns": null,
      "grid_auto_flow": null,
      "grid_auto_rows": null,
      "grid_column": null,
      "grid_gap": null,
      "grid_row": null,
      "grid_template_areas": null,
      "grid_template_columns": null,
      "grid_template_rows": null,
      "height": null,
      "justify_content": null,
      "justify_items": null,
      "left": null,
      "margin": null,
      "max_height": null,
      "max_width": null,
      "min_height": null,
      "min_width": null,
      "object_fit": null,
      "object_position": null,
      "order": null,
      "overflow": null,
      "overflow_x": null,
      "overflow_y": null,
      "padding": null,
      "right": null,
      "top": null,
      "visibility": null,
      "width": null
     }
    },
    "980aa0289b8f4bb3b92df5e4f49ef504": {
     "model_module": "@jupyter-widgets/controls",
     "model_module_version": "1.5.0",
     "model_name": "HTMLModel",
     "state": {
      "_dom_classes": [],
      "_model_module": "@jupyter-widgets/controls",
      "_model_module_version": "1.5.0",
      "_model_name": "HTMLModel",
      "_view_count": null,
      "_view_module": "@jupyter-widgets/controls",
      "_view_module_version": "1.5.0",
      "_view_name": "HTMLView",
      "description": "",
      "description_tooltip": null,
      "layout": "IPY_MODEL_61f7886b71e346a6ab334e1ac26ed882",
      "placeholder": "​",
      "style": "IPY_MODEL_63de4807ebff4d7c8f80352b44eb13b0",
      "value": "  7%"
     }
    },
    "9b1ebb3c22ab4c119cf77a8f523c55b1": {
     "model_module": "@jupyter-widgets/controls",
     "model_module_version": "1.5.0",
     "model_name": "ProgressStyleModel",
     "state": {
      "_model_module": "@jupyter-widgets/controls",
      "_model_module_version": "1.5.0",
      "_model_name": "ProgressStyleModel",
      "_view_count": null,
      "_view_module": "@jupyter-widgets/base",
      "_view_module_version": "1.2.0",
      "_view_name": "StyleView",
      "bar_color": null,
      "description_width": ""
     }
    },
    "9b7333296ec34e5c934595043f667ceb": {
     "model_module": "@jupyter-widgets/controls",
     "model_module_version": "1.5.0",
     "model_name": "DescriptionStyleModel",
     "state": {
      "_model_module": "@jupyter-widgets/controls",
      "_model_module_version": "1.5.0",
      "_model_name": "DescriptionStyleModel",
      "_view_count": null,
      "_view_module": "@jupyter-widgets/base",
      "_view_module_version": "1.2.0",
      "_view_name": "StyleView",
      "description_width": ""
     }
    },
    "9eb284716a5b48aebf25a08aeb88b543": {
     "model_module": "@jupyter-widgets/base",
     "model_module_version": "1.2.0",
     "model_name": "LayoutModel",
     "state": {
      "_model_module": "@jupyter-widgets/base",
      "_model_module_version": "1.2.0",
      "_model_name": "LayoutModel",
      "_view_count": null,
      "_view_module": "@jupyter-widgets/base",
      "_view_module_version": "1.2.0",
      "_view_name": "LayoutView",
      "align_content": null,
      "align_items": null,
      "align_self": null,
      "border": null,
      "bottom": null,
      "display": null,
      "flex": null,
      "flex_flow": null,
      "grid_area": null,
      "grid_auto_columns": null,
      "grid_auto_flow": null,
      "grid_auto_rows": null,
      "grid_column": null,
      "grid_gap": null,
      "grid_row": null,
      "grid_template_areas": null,
      "grid_template_columns": null,
      "grid_template_rows": null,
      "height": null,
      "justify_content": null,
      "justify_items": null,
      "left": null,
      "margin": null,
      "max_height": null,
      "max_width": null,
      "min_height": null,
      "min_width": null,
      "object_fit": null,
      "object_position": null,
      "order": null,
      "overflow": null,
      "overflow_x": null,
      "overflow_y": null,
      "padding": null,
      "right": null,
      "top": null,
      "visibility": null,
      "width": null
     }
    },
    "9ff1b5d29357444c85f74c46f5358237": {
     "model_module": "@jupyter-widgets/controls",
     "model_module_version": "1.5.0",
     "model_name": "ProgressStyleModel",
     "state": {
      "_model_module": "@jupyter-widgets/controls",
      "_model_module_version": "1.5.0",
      "_model_name": "ProgressStyleModel",
      "_view_count": null,
      "_view_module": "@jupyter-widgets/base",
      "_view_module_version": "1.2.0",
      "_view_name": "StyleView",
      "bar_color": null,
      "description_width": ""
     }
    },
    "a17f0212617b4c75b8da611a210c1675": {
     "model_module": "@jupyter-widgets/controls",
     "model_module_version": "1.5.0",
     "model_name": "DescriptionStyleModel",
     "state": {
      "_model_module": "@jupyter-widgets/controls",
      "_model_module_version": "1.5.0",
      "_model_name": "DescriptionStyleModel",
      "_view_count": null,
      "_view_module": "@jupyter-widgets/base",
      "_view_module_version": "1.2.0",
      "_view_name": "StyleView",
      "description_width": ""
     }
    },
    "a28f246df78147c9aff5ad7ff701cbf0": {
     "model_module": "@jupyter-widgets/controls",
     "model_module_version": "1.5.0",
     "model_name": "HTMLModel",
     "state": {
      "_dom_classes": [],
      "_model_module": "@jupyter-widgets/controls",
      "_model_module_version": "1.5.0",
      "_model_name": "HTMLModel",
      "_view_count": null,
      "_view_module": "@jupyter-widgets/controls",
      "_view_module_version": "1.5.0",
      "_view_name": "HTMLView",
      "description": "",
      "description_tooltip": null,
      "layout": "IPY_MODEL_5ac41749a0544bc4ae976e3808f183e5",
      "placeholder": "​",
      "style": "IPY_MODEL_9b7333296ec34e5c934595043f667ceb",
      "value": "100%"
     }
    },
    "a3ea202c5b7f4a39bc9b44072a658823": {
     "model_module": "@jupyter-widgets/base",
     "model_module_version": "1.2.0",
     "model_name": "LayoutModel",
     "state": {
      "_model_module": "@jupyter-widgets/base",
      "_model_module_version": "1.2.0",
      "_model_name": "LayoutModel",
      "_view_count": null,
      "_view_module": "@jupyter-widgets/base",
      "_view_module_version": "1.2.0",
      "_view_name": "LayoutView",
      "align_content": null,
      "align_items": null,
      "align_self": null,
      "border": null,
      "bottom": null,
      "display": null,
      "flex": null,
      "flex_flow": null,
      "grid_area": null,
      "grid_auto_columns": null,
      "grid_auto_flow": null,
      "grid_auto_rows": null,
      "grid_column": null,
      "grid_gap": null,
      "grid_row": null,
      "grid_template_areas": null,
      "grid_template_columns": null,
      "grid_template_rows": null,
      "height": null,
      "justify_content": null,
      "justify_items": null,
      "left": null,
      "margin": null,
      "max_height": null,
      "max_width": null,
      "min_height": null,
      "min_width": null,
      "object_fit": null,
      "object_position": null,
      "order": null,
      "overflow": null,
      "overflow_x": null,
      "overflow_y": null,
      "padding": null,
      "right": null,
      "top": null,
      "visibility": null,
      "width": null
     }
    },
    "a491c2d9ffdd49b8a44321bfaa0f4962": {
     "model_module": "@jupyter-widgets/base",
     "model_module_version": "1.2.0",
     "model_name": "LayoutModel",
     "state": {
      "_model_module": "@jupyter-widgets/base",
      "_model_module_version": "1.2.0",
      "_model_name": "LayoutModel",
      "_view_count": null,
      "_view_module": "@jupyter-widgets/base",
      "_view_module_version": "1.2.0",
      "_view_name": "LayoutView",
      "align_content": null,
      "align_items": null,
      "align_self": null,
      "border": null,
      "bottom": null,
      "display": null,
      "flex": null,
      "flex_flow": null,
      "grid_area": null,
      "grid_auto_columns": null,
      "grid_auto_flow": null,
      "grid_auto_rows": null,
      "grid_column": null,
      "grid_gap": null,
      "grid_row": null,
      "grid_template_areas": null,
      "grid_template_columns": null,
      "grid_template_rows": null,
      "height": null,
      "justify_content": null,
      "justify_items": null,
      "left": null,
      "margin": null,
      "max_height": null,
      "max_width": null,
      "min_height": null,
      "min_width": null,
      "object_fit": null,
      "object_position": null,
      "order": null,
      "overflow": null,
      "overflow_x": null,
      "overflow_y": null,
      "padding": null,
      "right": null,
      "top": null,
      "visibility": null,
      "width": null
     }
    },
    "a5080ae5eb814a2b86965892201444f0": {
     "model_module": "@jupyter-widgets/base",
     "model_module_version": "1.2.0",
     "model_name": "LayoutModel",
     "state": {
      "_model_module": "@jupyter-widgets/base",
      "_model_module_version": "1.2.0",
      "_model_name": "LayoutModel",
      "_view_count": null,
      "_view_module": "@jupyter-widgets/base",
      "_view_module_version": "1.2.0",
      "_view_name": "LayoutView",
      "align_content": null,
      "align_items": null,
      "align_self": null,
      "border": null,
      "bottom": null,
      "display": null,
      "flex": null,
      "flex_flow": null,
      "grid_area": null,
      "grid_auto_columns": null,
      "grid_auto_flow": null,
      "grid_auto_rows": null,
      "grid_column": null,
      "grid_gap": null,
      "grid_row": null,
      "grid_template_areas": null,
      "grid_template_columns": null,
      "grid_template_rows": null,
      "height": null,
      "justify_content": null,
      "justify_items": null,
      "left": null,
      "margin": null,
      "max_height": null,
      "max_width": null,
      "min_height": null,
      "min_width": null,
      "object_fit": null,
      "object_position": null,
      "order": null,
      "overflow": null,
      "overflow_x": null,
      "overflow_y": null,
      "padding": null,
      "right": null,
      "top": null,
      "visibility": null,
      "width": null
     }
    },
    "a937a3db874044889227c7ab1a18e3bd": {
     "model_module": "@jupyter-widgets/controls",
     "model_module_version": "1.5.0",
     "model_name": "FloatProgressModel",
     "state": {
      "_dom_classes": [],
      "_model_module": "@jupyter-widgets/controls",
      "_model_module_version": "1.5.0",
      "_model_name": "FloatProgressModel",
      "_view_count": null,
      "_view_module": "@jupyter-widgets/controls",
      "_view_module_version": "1.5.0",
      "_view_name": "ProgressView",
      "bar_style": "success",
      "description": "",
      "description_tooltip": null,
      "layout": "IPY_MODEL_367b431c0bbe4528b0a141c0dc776b07",
      "max": 782,
      "min": 0,
      "orientation": "horizontal",
      "style": "IPY_MODEL_d7e7d440bfe54fd2a3753907f9a8b479",
      "value": 782
     }
    },
    "ad42668e0a5742cd9bb7c8e048bd31ae": {
     "model_module": "@jupyter-widgets/base",
     "model_module_version": "1.2.0",
     "model_name": "LayoutModel",
     "state": {
      "_model_module": "@jupyter-widgets/base",
      "_model_module_version": "1.2.0",
      "_model_name": "LayoutModel",
      "_view_count": null,
      "_view_module": "@jupyter-widgets/base",
      "_view_module_version": "1.2.0",
      "_view_name": "LayoutView",
      "align_content": null,
      "align_items": null,
      "align_self": null,
      "border": null,
      "bottom": null,
      "display": null,
      "flex": null,
      "flex_flow": null,
      "grid_area": null,
      "grid_auto_columns": null,
      "grid_auto_flow": null,
      "grid_auto_rows": null,
      "grid_column": null,
      "grid_gap": null,
      "grid_row": null,
      "grid_template_areas": null,
      "grid_template_columns": null,
      "grid_template_rows": null,
      "height": null,
      "justify_content": null,
      "justify_items": null,
      "left": null,
      "margin": null,
      "max_height": null,
      "max_width": null,
      "min_height": null,
      "min_width": null,
      "object_fit": null,
      "object_position": null,
      "order": null,
      "overflow": null,
      "overflow_x": null,
      "overflow_y": null,
      "padding": null,
      "right": null,
      "top": null,
      "visibility": null,
      "width": null
     }
    },
    "af3118beb5fe4946ad285441fbb47ea8": {
     "model_module": "@jupyter-widgets/controls",
     "model_module_version": "1.5.0",
     "model_name": "FloatProgressModel",
     "state": {
      "_dom_classes": [],
      "_model_module": "@jupyter-widgets/controls",
      "_model_module_version": "1.5.0",
      "_model_name": "FloatProgressModel",
      "_view_count": null,
      "_view_module": "@jupyter-widgets/controls",
      "_view_module_version": "1.5.0",
      "_view_name": "ProgressView",
      "bar_style": "success",
      "description": "",
      "description_tooltip": null,
      "layout": "IPY_MODEL_2e1bc7c2cdb749e2b01c9295293451f7",
      "max": 782,
      "min": 0,
      "orientation": "horizontal",
      "style": "IPY_MODEL_9b1ebb3c22ab4c119cf77a8f523c55b1",
      "value": 782
     }
    },
    "b07251bd292448f08a88fb12ccb4c3e5": {
     "model_module": "@jupyter-widgets/controls",
     "model_module_version": "1.5.0",
     "model_name": "ProgressStyleModel",
     "state": {
      "_model_module": "@jupyter-widgets/controls",
      "_model_module_version": "1.5.0",
      "_model_name": "ProgressStyleModel",
      "_view_count": null,
      "_view_module": "@jupyter-widgets/base",
      "_view_module_version": "1.2.0",
      "_view_name": "StyleView",
      "bar_color": null,
      "description_width": ""
     }
    },
    "b1d256999a64478aaf27a62d9d733aa8": {
     "model_module": "@jupyter-widgets/controls",
     "model_module_version": "1.5.0",
     "model_name": "HBoxModel",
     "state": {
      "_dom_classes": [],
      "_model_module": "@jupyter-widgets/controls",
      "_model_module_version": "1.5.0",
      "_model_name": "HBoxModel",
      "_view_count": null,
      "_view_module": "@jupyter-widgets/controls",
      "_view_module_version": "1.5.0",
      "_view_name": "HBoxView",
      "box_style": "",
      "children": [
       "IPY_MODEL_a28f246df78147c9aff5ad7ff701cbf0",
       "IPY_MODEL_5542aa6c6dd544138e814bf36d673480",
       "IPY_MODEL_03d11e19e62842ceb50fd9a81f33bc7f"
      ],
      "layout": "IPY_MODEL_8689e518b9e945c3b662d9c663ae0a5f"
     }
    },
    "b7e72432d8e14b40904ac208522fff87": {
     "model_module": "@jupyter-widgets/controls",
     "model_module_version": "1.5.0",
     "model_name": "ProgressStyleModel",
     "state": {
      "_model_module": "@jupyter-widgets/controls",
      "_model_module_version": "1.5.0",
      "_model_name": "ProgressStyleModel",
      "_view_count": null,
      "_view_module": "@jupyter-widgets/base",
      "_view_module_version": "1.2.0",
      "_view_name": "StyleView",
      "bar_color": null,
      "description_width": ""
     }
    },
    "b80141d2c47c46fa91510d7fbab6dbac": {
     "model_module": "@jupyter-widgets/controls",
     "model_module_version": "1.5.0",
     "model_name": "HTMLModel",
     "state": {
      "_dom_classes": [],
      "_model_module": "@jupyter-widgets/controls",
      "_model_module_version": "1.5.0",
      "_model_name": "HTMLModel",
      "_view_count": null,
      "_view_module": "@jupyter-widgets/controls",
      "_view_module_version": "1.5.0",
      "_view_name": "HTMLView",
      "description": "",
      "description_tooltip": null,
      "layout": "IPY_MODEL_6ddcf4a765104985a824832a58a9c41f",
      "placeholder": "​",
      "style": "IPY_MODEL_5f85a79e1bbb4899970cb01d9b729574",
      "value": " 782/782 [08:06&lt;00:00,  2.01it/s]"
     }
    },
    "b92df4d13f854c61a467fb53b5b87f8a": {
     "model_module": "@jupyter-widgets/controls",
     "model_module_version": "1.5.0",
     "model_name": "HTMLModel",
     "state": {
      "_dom_classes": [],
      "_model_module": "@jupyter-widgets/controls",
      "_model_module_version": "1.5.0",
      "_model_name": "HTMLModel",
      "_view_count": null,
      "_view_module": "@jupyter-widgets/controls",
      "_view_module_version": "1.5.0",
      "_view_name": "HTMLView",
      "description": "",
      "description_tooltip": null,
      "layout": "IPY_MODEL_eb52d6a804414f398f7903e59cb00354",
      "placeholder": "​",
      "style": "IPY_MODEL_feb85931878b4b8782d1e97d16119f0e",
      "value": " 782/782 [08:04&lt;00:00,  2.02it/s]"
     }
    },
    "c3a46edac78e46a8a24299fe83dc8f8b": {
     "model_module": "@jupyter-widgets/controls",
     "model_module_version": "1.5.0",
     "model_name": "HTMLModel",
     "state": {
      "_dom_classes": [],
      "_model_module": "@jupyter-widgets/controls",
      "_model_module_version": "1.5.0",
      "_model_name": "HTMLModel",
      "_view_count": null,
      "_view_module": "@jupyter-widgets/controls",
      "_view_module_version": "1.5.0",
      "_view_name": "HTMLView",
      "description": "",
      "description_tooltip": null,
      "layout": "IPY_MODEL_d9d205cd51cb453b8e3b031a5b4176a9",
      "placeholder": "​",
      "style": "IPY_MODEL_00a5ce718ed5497fb353b8329d23ab10",
      "value": "100%"
     }
    },
    "c3dfe838574341ed971aeaebba5b360f": {
     "model_module": "@jupyter-widgets/base",
     "model_module_version": "1.2.0",
     "model_name": "LayoutModel",
     "state": {
      "_model_module": "@jupyter-widgets/base",
      "_model_module_version": "1.2.0",
      "_model_name": "LayoutModel",
      "_view_count": null,
      "_view_module": "@jupyter-widgets/base",
      "_view_module_version": "1.2.0",
      "_view_name": "LayoutView",
      "align_content": null,
      "align_items": null,
      "align_self": null,
      "border": null,
      "bottom": null,
      "display": null,
      "flex": null,
      "flex_flow": null,
      "grid_area": null,
      "grid_auto_columns": null,
      "grid_auto_flow": null,
      "grid_auto_rows": null,
      "grid_column": null,
      "grid_gap": null,
      "grid_row": null,
      "grid_template_areas": null,
      "grid_template_columns": null,
      "grid_template_rows": null,
      "height": null,
      "justify_content": null,
      "justify_items": null,
      "left": null,
      "margin": null,
      "max_height": null,
      "max_width": null,
      "min_height": null,
      "min_width": null,
      "object_fit": null,
      "object_position": null,
      "order": null,
      "overflow": null,
      "overflow_x": null,
      "overflow_y": null,
      "padding": null,
      "right": null,
      "top": null,
      "visibility": null,
      "width": null
     }
    },
    "c45e49d84520436b8ef67d9532987ecf": {
     "model_module": "@jupyter-widgets/base",
     "model_module_version": "1.2.0",
     "model_name": "LayoutModel",
     "state": {
      "_model_module": "@jupyter-widgets/base",
      "_model_module_version": "1.2.0",
      "_model_name": "LayoutModel",
      "_view_count": null,
      "_view_module": "@jupyter-widgets/base",
      "_view_module_version": "1.2.0",
      "_view_name": "LayoutView",
      "align_content": null,
      "align_items": null,
      "align_self": null,
      "border": null,
      "bottom": null,
      "display": null,
      "flex": null,
      "flex_flow": null,
      "grid_area": null,
      "grid_auto_columns": null,
      "grid_auto_flow": null,
      "grid_auto_rows": null,
      "grid_column": null,
      "grid_gap": null,
      "grid_row": null,
      "grid_template_areas": null,
      "grid_template_columns": null,
      "grid_template_rows": null,
      "height": null,
      "justify_content": null,
      "justify_items": null,
      "left": null,
      "margin": null,
      "max_height": null,
      "max_width": null,
      "min_height": null,
      "min_width": null,
      "object_fit": null,
      "object_position": null,
      "order": null,
      "overflow": null,
      "overflow_x": null,
      "overflow_y": null,
      "padding": null,
      "right": null,
      "top": null,
      "visibility": null,
      "width": null
     }
    },
    "c7ad67c4dce24a66a91c4016172354c3": {
     "model_module": "@jupyter-widgets/controls",
     "model_module_version": "1.5.0",
     "model_name": "HBoxModel",
     "state": {
      "_dom_classes": [],
      "_model_module": "@jupyter-widgets/controls",
      "_model_module_version": "1.5.0",
      "_model_name": "HBoxModel",
      "_view_count": null,
      "_view_module": "@jupyter-widgets/controls",
      "_view_module_version": "1.5.0",
      "_view_name": "HBoxView",
      "box_style": "",
      "children": [
       "IPY_MODEL_4cff7b065da7481cb30762b0386f36d3",
       "IPY_MODEL_d69b7368386441b8b4dc6394aa5a5bc6",
       "IPY_MODEL_b92df4d13f854c61a467fb53b5b87f8a"
      ],
      "layout": "IPY_MODEL_38a58fff12ba4d838d120dd3c4191638"
     }
    },
    "c91f9ca7c0e34348b37f5a24b5b0a01b": {
     "model_module": "@jupyter-widgets/base",
     "model_module_version": "1.2.0",
     "model_name": "LayoutModel",
     "state": {
      "_model_module": "@jupyter-widgets/base",
      "_model_module_version": "1.2.0",
      "_model_name": "LayoutModel",
      "_view_count": null,
      "_view_module": "@jupyter-widgets/base",
      "_view_module_version": "1.2.0",
      "_view_name": "LayoutView",
      "align_content": null,
      "align_items": null,
      "align_self": null,
      "border": null,
      "bottom": null,
      "display": null,
      "flex": null,
      "flex_flow": null,
      "grid_area": null,
      "grid_auto_columns": null,
      "grid_auto_flow": null,
      "grid_auto_rows": null,
      "grid_column": null,
      "grid_gap": null,
      "grid_row": null,
      "grid_template_areas": null,
      "grid_template_columns": null,
      "grid_template_rows": null,
      "height": null,
      "justify_content": null,
      "justify_items": null,
      "left": null,
      "margin": null,
      "max_height": null,
      "max_width": null,
      "min_height": null,
      "min_width": null,
      "object_fit": null,
      "object_position": null,
      "order": null,
      "overflow": null,
      "overflow_x": null,
      "overflow_y": null,
      "padding": null,
      "right": null,
      "top": null,
      "visibility": null,
      "width": null
     }
    },
    "cad06531ee3f44f092f1357675b18459": {
     "model_module": "@jupyter-widgets/base",
     "model_module_version": "1.2.0",
     "model_name": "LayoutModel",
     "state": {
      "_model_module": "@jupyter-widgets/base",
      "_model_module_version": "1.2.0",
      "_model_name": "LayoutModel",
      "_view_count": null,
      "_view_module": "@jupyter-widgets/base",
      "_view_module_version": "1.2.0",
      "_view_name": "LayoutView",
      "align_content": null,
      "align_items": null,
      "align_self": null,
      "border": null,
      "bottom": null,
      "display": null,
      "flex": null,
      "flex_flow": null,
      "grid_area": null,
      "grid_auto_columns": null,
      "grid_auto_flow": null,
      "grid_auto_rows": null,
      "grid_column": null,
      "grid_gap": null,
      "grid_row": null,
      "grid_template_areas": null,
      "grid_template_columns": null,
      "grid_template_rows": null,
      "height": null,
      "justify_content": null,
      "justify_items": null,
      "left": null,
      "margin": null,
      "max_height": null,
      "max_width": null,
      "min_height": null,
      "min_width": null,
      "object_fit": null,
      "object_position": null,
      "order": null,
      "overflow": null,
      "overflow_x": null,
      "overflow_y": null,
      "padding": null,
      "right": null,
      "top": null,
      "visibility": null,
      "width": null
     }
    },
    "cc40c730a67a4a229136eaa5878b200d": {
     "model_module": "@jupyter-widgets/base",
     "model_module_version": "1.2.0",
     "model_name": "LayoutModel",
     "state": {
      "_model_module": "@jupyter-widgets/base",
      "_model_module_version": "1.2.0",
      "_model_name": "LayoutModel",
      "_view_count": null,
      "_view_module": "@jupyter-widgets/base",
      "_view_module_version": "1.2.0",
      "_view_name": "LayoutView",
      "align_content": null,
      "align_items": null,
      "align_self": null,
      "border": null,
      "bottom": null,
      "display": null,
      "flex": null,
      "flex_flow": null,
      "grid_area": null,
      "grid_auto_columns": null,
      "grid_auto_flow": null,
      "grid_auto_rows": null,
      "grid_column": null,
      "grid_gap": null,
      "grid_row": null,
      "grid_template_areas": null,
      "grid_template_columns": null,
      "grid_template_rows": null,
      "height": null,
      "justify_content": null,
      "justify_items": null,
      "left": null,
      "margin": null,
      "max_height": null,
      "max_width": null,
      "min_height": null,
      "min_width": null,
      "object_fit": null,
      "object_position": null,
      "order": null,
      "overflow": null,
      "overflow_x": null,
      "overflow_y": null,
      "padding": null,
      "right": null,
      "top": null,
      "visibility": null,
      "width": null
     }
    },
    "d0f5b1f57fab4aea8510346b69e50e51": {
     "model_module": "@jupyter-widgets/controls",
     "model_module_version": "1.5.0",
     "model_name": "HTMLModel",
     "state": {
      "_dom_classes": [],
      "_model_module": "@jupyter-widgets/controls",
      "_model_module_version": "1.5.0",
      "_model_name": "HTMLModel",
      "_view_count": null,
      "_view_module": "@jupyter-widgets/controls",
      "_view_module_version": "1.5.0",
      "_view_name": "HTMLView",
      "description": "",
      "description_tooltip": null,
      "layout": "IPY_MODEL_cad06531ee3f44f092f1357675b18459",
      "placeholder": "​",
      "style": "IPY_MODEL_5d3c0d4bf2ca4d0b9f7954c49e0a813e",
      "value": "100%"
     }
    },
    "d45edd9cab6540ed8770637fcf3e7628": {
     "model_module": "@jupyter-widgets/base",
     "model_module_version": "1.2.0",
     "model_name": "LayoutModel",
     "state": {
      "_model_module": "@jupyter-widgets/base",
      "_model_module_version": "1.2.0",
      "_model_name": "LayoutModel",
      "_view_count": null,
      "_view_module": "@jupyter-widgets/base",
      "_view_module_version": "1.2.0",
      "_view_name": "LayoutView",
      "align_content": null,
      "align_items": null,
      "align_self": null,
      "border": null,
      "bottom": null,
      "display": null,
      "flex": null,
      "flex_flow": null,
      "grid_area": null,
      "grid_auto_columns": null,
      "grid_auto_flow": null,
      "grid_auto_rows": null,
      "grid_column": null,
      "grid_gap": null,
      "grid_row": null,
      "grid_template_areas": null,
      "grid_template_columns": null,
      "grid_template_rows": null,
      "height": null,
      "justify_content": null,
      "justify_items": null,
      "left": null,
      "margin": null,
      "max_height": null,
      "max_width": null,
      "min_height": null,
      "min_width": null,
      "object_fit": null,
      "object_position": null,
      "order": null,
      "overflow": null,
      "overflow_x": null,
      "overflow_y": null,
      "padding": null,
      "right": null,
      "top": null,
      "visibility": null,
      "width": null
     }
    },
    "d69b7368386441b8b4dc6394aa5a5bc6": {
     "model_module": "@jupyter-widgets/controls",
     "model_module_version": "1.5.0",
     "model_name": "FloatProgressModel",
     "state": {
      "_dom_classes": [],
      "_model_module": "@jupyter-widgets/controls",
      "_model_module_version": "1.5.0",
      "_model_name": "FloatProgressModel",
      "_view_count": null,
      "_view_module": "@jupyter-widgets/controls",
      "_view_module_version": "1.5.0",
      "_view_name": "ProgressView",
      "bar_style": "success",
      "description": "",
      "description_tooltip": null,
      "layout": "IPY_MODEL_a5080ae5eb814a2b86965892201444f0",
      "max": 782,
      "min": 0,
      "orientation": "horizontal",
      "style": "IPY_MODEL_7b154f76ed8b4b56b6c9f9749c60fd55",
      "value": 782
     }
    },
    "d7e7d440bfe54fd2a3753907f9a8b479": {
     "model_module": "@jupyter-widgets/controls",
     "model_module_version": "1.5.0",
     "model_name": "ProgressStyleModel",
     "state": {
      "_model_module": "@jupyter-widgets/controls",
      "_model_module_version": "1.5.0",
      "_model_name": "ProgressStyleModel",
      "_view_count": null,
      "_view_module": "@jupyter-widgets/base",
      "_view_module_version": "1.2.0",
      "_view_name": "StyleView",
      "bar_color": null,
      "description_width": ""
     }
    },
    "d84a3697ae48434597dd63bb37258dc0": {
     "model_module": "@jupyter-widgets/controls",
     "model_module_version": "1.5.0",
     "model_name": "ProgressStyleModel",
     "state": {
      "_model_module": "@jupyter-widgets/controls",
      "_model_module_version": "1.5.0",
      "_model_name": "ProgressStyleModel",
      "_view_count": null,
      "_view_module": "@jupyter-widgets/base",
      "_view_module_version": "1.2.0",
      "_view_name": "StyleView",
      "bar_color": null,
      "description_width": ""
     }
    },
    "d856383408b54a689603b8c178c2aaed": {
     "model_module": "@jupyter-widgets/base",
     "model_module_version": "1.2.0",
     "model_name": "LayoutModel",
     "state": {
      "_model_module": "@jupyter-widgets/base",
      "_model_module_version": "1.2.0",
      "_model_name": "LayoutModel",
      "_view_count": null,
      "_view_module": "@jupyter-widgets/base",
      "_view_module_version": "1.2.0",
      "_view_name": "LayoutView",
      "align_content": null,
      "align_items": null,
      "align_self": null,
      "border": null,
      "bottom": null,
      "display": null,
      "flex": null,
      "flex_flow": null,
      "grid_area": null,
      "grid_auto_columns": null,
      "grid_auto_flow": null,
      "grid_auto_rows": null,
      "grid_column": null,
      "grid_gap": null,
      "grid_row": null,
      "grid_template_areas": null,
      "grid_template_columns": null,
      "grid_template_rows": null,
      "height": null,
      "justify_content": null,
      "justify_items": null,
      "left": null,
      "margin": null,
      "max_height": null,
      "max_width": null,
      "min_height": null,
      "min_width": null,
      "object_fit": null,
      "object_position": null,
      "order": null,
      "overflow": null,
      "overflow_x": null,
      "overflow_y": null,
      "padding": null,
      "right": null,
      "top": null,
      "visibility": null,
      "width": null
     }
    },
    "d9d205cd51cb453b8e3b031a5b4176a9": {
     "model_module": "@jupyter-widgets/base",
     "model_module_version": "1.2.0",
     "model_name": "LayoutModel",
     "state": {
      "_model_module": "@jupyter-widgets/base",
      "_model_module_version": "1.2.0",
      "_model_name": "LayoutModel",
      "_view_count": null,
      "_view_module": "@jupyter-widgets/base",
      "_view_module_version": "1.2.0",
      "_view_name": "LayoutView",
      "align_content": null,
      "align_items": null,
      "align_self": null,
      "border": null,
      "bottom": null,
      "display": null,
      "flex": null,
      "flex_flow": null,
      "grid_area": null,
      "grid_auto_columns": null,
      "grid_auto_flow": null,
      "grid_auto_rows": null,
      "grid_column": null,
      "grid_gap": null,
      "grid_row": null,
      "grid_template_areas": null,
      "grid_template_columns": null,
      "grid_template_rows": null,
      "height": null,
      "justify_content": null,
      "justify_items": null,
      "left": null,
      "margin": null,
      "max_height": null,
      "max_width": null,
      "min_height": null,
      "min_width": null,
      "object_fit": null,
      "object_position": null,
      "order": null,
      "overflow": null,
      "overflow_x": null,
      "overflow_y": null,
      "padding": null,
      "right": null,
      "top": null,
      "visibility": null,
      "width": null
     }
    },
    "db77f09628464022b26c4fb7cace7dbe": {
     "model_module": "@jupyter-widgets/controls",
     "model_module_version": "1.5.0",
     "model_name": "HBoxModel",
     "state": {
      "_dom_classes": [],
      "_model_module": "@jupyter-widgets/controls",
      "_model_module_version": "1.5.0",
      "_model_name": "HBoxModel",
      "_view_count": null,
      "_view_module": "@jupyter-widgets/controls",
      "_view_module_version": "1.5.0",
      "_view_name": "HBoxView",
      "box_style": "",
      "children": [
       "IPY_MODEL_980aa0289b8f4bb3b92df5e4f49ef504",
       "IPY_MODEL_82a363e6bb564164a7f6c9f8b4a982e1",
       "IPY_MODEL_553c7b10a5944188bb10a4851bcd01c8"
      ],
      "layout": "IPY_MODEL_4f02cf2a7e3a491bb4e3a76225207950"
     }
    },
    "dde11222734642c4b70d68d0a3a418c0": {
     "model_module": "@jupyter-widgets/base",
     "model_module_version": "1.2.0",
     "model_name": "LayoutModel",
     "state": {
      "_model_module": "@jupyter-widgets/base",
      "_model_module_version": "1.2.0",
      "_model_name": "LayoutModel",
      "_view_count": null,
      "_view_module": "@jupyter-widgets/base",
      "_view_module_version": "1.2.0",
      "_view_name": "LayoutView",
      "align_content": null,
      "align_items": null,
      "align_self": null,
      "border": null,
      "bottom": null,
      "display": null,
      "flex": null,
      "flex_flow": null,
      "grid_area": null,
      "grid_auto_columns": null,
      "grid_auto_flow": null,
      "grid_auto_rows": null,
      "grid_column": null,
      "grid_gap": null,
      "grid_row": null,
      "grid_template_areas": null,
      "grid_template_columns": null,
      "grid_template_rows": null,
      "height": null,
      "justify_content": null,
      "justify_items": null,
      "left": null,
      "margin": null,
      "max_height": null,
      "max_width": null,
      "min_height": null,
      "min_width": null,
      "object_fit": null,
      "object_position": null,
      "order": null,
      "overflow": null,
      "overflow_x": null,
      "overflow_y": null,
      "padding": null,
      "right": null,
      "top": null,
      "visibility": null,
      "width": null
     }
    },
    "dde2e2f2e7024152b9102bcf1fc237c1": {
     "model_module": "@jupyter-widgets/controls",
     "model_module_version": "1.5.0",
     "model_name": "HTMLModel",
     "state": {
      "_dom_classes": [],
      "_model_module": "@jupyter-widgets/controls",
      "_model_module_version": "1.5.0",
      "_model_name": "HTMLModel",
      "_view_count": null,
      "_view_module": "@jupyter-widgets/controls",
      "_view_module_version": "1.5.0",
      "_view_name": "HTMLView",
      "description": "",
      "description_tooltip": null,
      "layout": "IPY_MODEL_940bac3caaa6462ca5f1d233d4f11e65",
      "placeholder": "​",
      "style": "IPY_MODEL_2e5690aaa1434cebadb96e2177bacfcf",
      "value": "100%"
     }
    },
    "e09b2b39adbc4540b6cff6ff08bf3aa0": {
     "model_module": "@jupyter-widgets/controls",
     "model_module_version": "1.5.0",
     "model_name": "DescriptionStyleModel",
     "state": {
      "_model_module": "@jupyter-widgets/controls",
      "_model_module_version": "1.5.0",
      "_model_name": "DescriptionStyleModel",
      "_view_count": null,
      "_view_module": "@jupyter-widgets/base",
      "_view_module_version": "1.2.0",
      "_view_name": "StyleView",
      "description_width": ""
     }
    },
    "e4179d6b29c248c3bd08723c06b7e4a0": {
     "model_module": "@jupyter-widgets/controls",
     "model_module_version": "1.5.0",
     "model_name": "HBoxModel",
     "state": {
      "_dom_classes": [],
      "_model_module": "@jupyter-widgets/controls",
      "_model_module_version": "1.5.0",
      "_model_name": "HBoxModel",
      "_view_count": null,
      "_view_module": "@jupyter-widgets/controls",
      "_view_module_version": "1.5.0",
      "_view_name": "HBoxView",
      "box_style": "",
      "children": [
       "IPY_MODEL_3ef6f403e8894aca89f7a8cab4c3b3df",
       "IPY_MODEL_a937a3db874044889227c7ab1a18e3bd",
       "IPY_MODEL_430748901276400b8d487aafd86ad537"
      ],
      "layout": "IPY_MODEL_88a9f733f5384bc18ebe354e385c0a36"
     }
    },
    "e7faea54094f482bae61dafb250b1ae3": {
     "model_module": "@jupyter-widgets/controls",
     "model_module_version": "1.5.0",
     "model_name": "HBoxModel",
     "state": {
      "_dom_classes": [],
      "_model_module": "@jupyter-widgets/controls",
      "_model_module_version": "1.5.0",
      "_model_name": "HBoxModel",
      "_view_count": null,
      "_view_module": "@jupyter-widgets/controls",
      "_view_module_version": "1.5.0",
      "_view_name": "HBoxView",
      "box_style": "",
      "children": [
       "IPY_MODEL_c3a46edac78e46a8a24299fe83dc8f8b",
       "IPY_MODEL_36b4a953282c42218c28ae948434209c",
       "IPY_MODEL_b80141d2c47c46fa91510d7fbab6dbac"
      ],
      "layout": "IPY_MODEL_4d158039a7c4437f812a1d22f66ed07b"
     }
    },
    "eb52d6a804414f398f7903e59cb00354": {
     "model_module": "@jupyter-widgets/base",
     "model_module_version": "1.2.0",
     "model_name": "LayoutModel",
     "state": {
      "_model_module": "@jupyter-widgets/base",
      "_model_module_version": "1.2.0",
      "_model_name": "LayoutModel",
      "_view_count": null,
      "_view_module": "@jupyter-widgets/base",
      "_view_module_version": "1.2.0",
      "_view_name": "LayoutView",
      "align_content": null,
      "align_items": null,
      "align_self": null,
      "border": null,
      "bottom": null,
      "display": null,
      "flex": null,
      "flex_flow": null,
      "grid_area": null,
      "grid_auto_columns": null,
      "grid_auto_flow": null,
      "grid_auto_rows": null,
      "grid_column": null,
      "grid_gap": null,
      "grid_row": null,
      "grid_template_areas": null,
      "grid_template_columns": null,
      "grid_template_rows": null,
      "height": null,
      "justify_content": null,
      "justify_items": null,
      "left": null,
      "margin": null,
      "max_height": null,
      "max_width": null,
      "min_height": null,
      "min_width": null,
      "object_fit": null,
      "object_position": null,
      "order": null,
      "overflow": null,
      "overflow_x": null,
      "overflow_y": null,
      "padding": null,
      "right": null,
      "top": null,
      "visibility": null,
      "width": null
     }
    },
    "f1fc9bb0f4e347f48c74fb34a2dbbcfb": {
     "model_module": "@jupyter-widgets/controls",
     "model_module_version": "1.5.0",
     "model_name": "HTMLModel",
     "state": {
      "_dom_classes": [],
      "_model_module": "@jupyter-widgets/controls",
      "_model_module_version": "1.5.0",
      "_model_name": "HTMLModel",
      "_view_count": null,
      "_view_module": "@jupyter-widgets/controls",
      "_view_module_version": "1.5.0",
      "_view_name": "HTMLView",
      "description": "",
      "description_tooltip": null,
      "layout": "IPY_MODEL_c45e49d84520436b8ef67d9532987ecf",
      "placeholder": "​",
      "style": "IPY_MODEL_4f7a4523e07e4bc0a91e98ca6b7c5f61",
      "value": " 782/782 [08:07&lt;00:00,  1.96it/s]"
     }
    },
    "f3171cc57b48470dba4d76d192d31bcd": {
     "model_module": "@jupyter-widgets/controls",
     "model_module_version": "1.5.0",
     "model_name": "FloatProgressModel",
     "state": {
      "_dom_classes": [],
      "_model_module": "@jupyter-widgets/controls",
      "_model_module_version": "1.5.0",
      "_model_name": "FloatProgressModel",
      "_view_count": null,
      "_view_module": "@jupyter-widgets/controls",
      "_view_module_version": "1.5.0",
      "_view_name": "ProgressView",
      "bar_style": "success",
      "description": "",
      "description_tooltip": null,
      "layout": "IPY_MODEL_9eb284716a5b48aebf25a08aeb88b543",
      "max": 782,
      "min": 0,
      "orientation": "horizontal",
      "style": "IPY_MODEL_d84a3697ae48434597dd63bb37258dc0",
      "value": 782
     }
    },
    "f4e9c0bacb5042f4bd8e2e2d556bc033": {
     "model_module": "@jupyter-widgets/controls",
     "model_module_version": "1.5.0",
     "model_name": "DescriptionStyleModel",
     "state": {
      "_model_module": "@jupyter-widgets/controls",
      "_model_module_version": "1.5.0",
      "_model_name": "DescriptionStyleModel",
      "_view_count": null,
      "_view_module": "@jupyter-widgets/base",
      "_view_module_version": "1.2.0",
      "_view_name": "StyleView",
      "description_width": ""
     }
    },
    "fe8c38160d044443b9f353a71ce278fe": {
     "model_module": "@jupyter-widgets/controls",
     "model_module_version": "1.5.0",
     "model_name": "DescriptionStyleModel",
     "state": {
      "_model_module": "@jupyter-widgets/controls",
      "_model_module_version": "1.5.0",
      "_model_name": "DescriptionStyleModel",
      "_view_count": null,
      "_view_module": "@jupyter-widgets/base",
      "_view_module_version": "1.2.0",
      "_view_name": "StyleView",
      "description_width": ""
     }
    },
    "feb85931878b4b8782d1e97d16119f0e": {
     "model_module": "@jupyter-widgets/controls",
     "model_module_version": "1.5.0",
     "model_name": "DescriptionStyleModel",
     "state": {
      "_model_module": "@jupyter-widgets/controls",
      "_model_module_version": "1.5.0",
      "_model_name": "DescriptionStyleModel",
      "_view_count": null,
      "_view_module": "@jupyter-widgets/base",
      "_view_module_version": "1.2.0",
      "_view_name": "StyleView",
      "description_width": ""
     }
    }
   }
  }
 },
 "nbformat": 4,
 "nbformat_minor": 4
}
