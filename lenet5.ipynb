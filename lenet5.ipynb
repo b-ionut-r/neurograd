{
  "nbformat": 4,
  "nbformat_minor": 0,
  "metadata": {
    "colab": {
      "provenance": [],
      "gpuType": "T4"
    },
    "kernelspec": {
      "name": "python3",
      "display_name": "Python 3"
    },
    "language_info": {
      "name": "python"
    },
    "accelerator": "GPU",
    "widgets": {
      "application/vnd.jupyter.widget-state+json": {
        "c015209d2465491dbd9da28c81f2af99": {
          "model_module": "@jupyter-widgets/controls",
          "model_name": "HBoxModel",
          "model_module_version": "1.5.0",
          "state": {
            "_dom_classes": [],
            "_model_module": "@jupyter-widgets/controls",
            "_model_module_version": "1.5.0",
            "_model_name": "HBoxModel",
            "_view_count": null,
            "_view_module": "@jupyter-widgets/controls",
            "_view_module_version": "1.5.0",
            "_view_name": "HBoxView",
            "box_style": "",
            "children": [
              "IPY_MODEL_2157eb8f5150429ea1372c27b22ec898",
              "IPY_MODEL_6c8c652a213e45298c779953dc760287",
              "IPY_MODEL_c025f0275282403d943ac78e51d51fd0"
            ],
            "layout": "IPY_MODEL_081818c43fc94a2ba21819f1a3f55fbb"
          }
        },
        "2157eb8f5150429ea1372c27b22ec898": {
          "model_module": "@jupyter-widgets/controls",
          "model_name": "HTMLModel",
          "model_module_version": "1.5.0",
          "state": {
            "_dom_classes": [],
            "_model_module": "@jupyter-widgets/controls",
            "_model_module_version": "1.5.0",
            "_model_name": "HTMLModel",
            "_view_count": null,
            "_view_module": "@jupyter-widgets/controls",
            "_view_module_version": "1.5.0",
            "_view_name": "HTMLView",
            "description": "",
            "description_tooltip": null,
            "layout": "IPY_MODEL_f6d1e645c4a64ce5b45e817c4b4485fe",
            "placeholder": "​",
            "style": "IPY_MODEL_7db46771ce8a4a7cb6379d9c18a97cc9",
            "value": "100%"
          }
        },
        "6c8c652a213e45298c779953dc760287": {
          "model_module": "@jupyter-widgets/controls",
          "model_name": "FloatProgressModel",
          "model_module_version": "1.5.0",
          "state": {
            "_dom_classes": [],
            "_model_module": "@jupyter-widgets/controls",
            "_model_module_version": "1.5.0",
            "_model_name": "FloatProgressModel",
            "_view_count": null,
            "_view_module": "@jupyter-widgets/controls",
            "_view_module_version": "1.5.0",
            "_view_name": "ProgressView",
            "bar_style": "success",
            "description": "",
            "description_tooltip": null,
            "layout": "IPY_MODEL_9a8f145165924b2292387a156b307b93",
            "max": 1875,
            "min": 0,
            "orientation": "horizontal",
            "style": "IPY_MODEL_947629ef2e274190828b445b43bd59ef",
            "value": 1875
          }
        },
        "c025f0275282403d943ac78e51d51fd0": {
          "model_module": "@jupyter-widgets/controls",
          "model_name": "HTMLModel",
          "model_module_version": "1.5.0",
          "state": {
            "_dom_classes": [],
            "_model_module": "@jupyter-widgets/controls",
            "_model_module_version": "1.5.0",
            "_model_name": "HTMLModel",
            "_view_count": null,
            "_view_module": "@jupyter-widgets/controls",
            "_view_module_version": "1.5.0",
            "_view_name": "HTMLView",
            "description": "",
            "description_tooltip": null,
            "layout": "IPY_MODEL_2ff7850a56c54b4580def05313220c45",
            "placeholder": "​",
            "style": "IPY_MODEL_e2b41f9ab83a4606924a14b48971666e",
            "value": " 1875/1875 [00:46&lt;00:00, 57.77it/s]"
          }
        },
        "081818c43fc94a2ba21819f1a3f55fbb": {
          "model_module": "@jupyter-widgets/base",
          "model_name": "LayoutModel",
          "model_module_version": "1.2.0",
          "state": {
            "_model_module": "@jupyter-widgets/base",
            "_model_module_version": "1.2.0",
            "_model_name": "LayoutModel",
            "_view_count": null,
            "_view_module": "@jupyter-widgets/base",
            "_view_module_version": "1.2.0",
            "_view_name": "LayoutView",
            "align_content": null,
            "align_items": null,
            "align_self": null,
            "border": null,
            "bottom": null,
            "display": null,
            "flex": null,
            "flex_flow": null,
            "grid_area": null,
            "grid_auto_columns": null,
            "grid_auto_flow": null,
            "grid_auto_rows": null,
            "grid_column": null,
            "grid_gap": null,
            "grid_row": null,
            "grid_template_areas": null,
            "grid_template_columns": null,
            "grid_template_rows": null,
            "height": null,
            "justify_content": null,
            "justify_items": null,
            "left": null,
            "margin": null,
            "max_height": null,
            "max_width": null,
            "min_height": null,
            "min_width": null,
            "object_fit": null,
            "object_position": null,
            "order": null,
            "overflow": null,
            "overflow_x": null,
            "overflow_y": null,
            "padding": null,
            "right": null,
            "top": null,
            "visibility": null,
            "width": null
          }
        },
        "f6d1e645c4a64ce5b45e817c4b4485fe": {
          "model_module": "@jupyter-widgets/base",
          "model_name": "LayoutModel",
          "model_module_version": "1.2.0",
          "state": {
            "_model_module": "@jupyter-widgets/base",
            "_model_module_version": "1.2.0",
            "_model_name": "LayoutModel",
            "_view_count": null,
            "_view_module": "@jupyter-widgets/base",
            "_view_module_version": "1.2.0",
            "_view_name": "LayoutView",
            "align_content": null,
            "align_items": null,
            "align_self": null,
            "border": null,
            "bottom": null,
            "display": null,
            "flex": null,
            "flex_flow": null,
            "grid_area": null,
            "grid_auto_columns": null,
            "grid_auto_flow": null,
            "grid_auto_rows": null,
            "grid_column": null,
            "grid_gap": null,
            "grid_row": null,
            "grid_template_areas": null,
            "grid_template_columns": null,
            "grid_template_rows": null,
            "height": null,
            "justify_content": null,
            "justify_items": null,
            "left": null,
            "margin": null,
            "max_height": null,
            "max_width": null,
            "min_height": null,
            "min_width": null,
            "object_fit": null,
            "object_position": null,
            "order": null,
            "overflow": null,
            "overflow_x": null,
            "overflow_y": null,
            "padding": null,
            "right": null,
            "top": null,
            "visibility": null,
            "width": null
          }
        },
        "7db46771ce8a4a7cb6379d9c18a97cc9": {
          "model_module": "@jupyter-widgets/controls",
          "model_name": "DescriptionStyleModel",
          "model_module_version": "1.5.0",
          "state": {
            "_model_module": "@jupyter-widgets/controls",
            "_model_module_version": "1.5.0",
            "_model_name": "DescriptionStyleModel",
            "_view_count": null,
            "_view_module": "@jupyter-widgets/base",
            "_view_module_version": "1.2.0",
            "_view_name": "StyleView",
            "description_width": ""
          }
        },
        "9a8f145165924b2292387a156b307b93": {
          "model_module": "@jupyter-widgets/base",
          "model_name": "LayoutModel",
          "model_module_version": "1.2.0",
          "state": {
            "_model_module": "@jupyter-widgets/base",
            "_model_module_version": "1.2.0",
            "_model_name": "LayoutModel",
            "_view_count": null,
            "_view_module": "@jupyter-widgets/base",
            "_view_module_version": "1.2.0",
            "_view_name": "LayoutView",
            "align_content": null,
            "align_items": null,
            "align_self": null,
            "border": null,
            "bottom": null,
            "display": null,
            "flex": null,
            "flex_flow": null,
            "grid_area": null,
            "grid_auto_columns": null,
            "grid_auto_flow": null,
            "grid_auto_rows": null,
            "grid_column": null,
            "grid_gap": null,
            "grid_row": null,
            "grid_template_areas": null,
            "grid_template_columns": null,
            "grid_template_rows": null,
            "height": null,
            "justify_content": null,
            "justify_items": null,
            "left": null,
            "margin": null,
            "max_height": null,
            "max_width": null,
            "min_height": null,
            "min_width": null,
            "object_fit": null,
            "object_position": null,
            "order": null,
            "overflow": null,
            "overflow_x": null,
            "overflow_y": null,
            "padding": null,
            "right": null,
            "top": null,
            "visibility": null,
            "width": null
          }
        },
        "947629ef2e274190828b445b43bd59ef": {
          "model_module": "@jupyter-widgets/controls",
          "model_name": "ProgressStyleModel",
          "model_module_version": "1.5.0",
          "state": {
            "_model_module": "@jupyter-widgets/controls",
            "_model_module_version": "1.5.0",
            "_model_name": "ProgressStyleModel",
            "_view_count": null,
            "_view_module": "@jupyter-widgets/base",
            "_view_module_version": "1.2.0",
            "_view_name": "StyleView",
            "bar_color": null,
            "description_width": ""
          }
        },
        "2ff7850a56c54b4580def05313220c45": {
          "model_module": "@jupyter-widgets/base",
          "model_name": "LayoutModel",
          "model_module_version": "1.2.0",
          "state": {
            "_model_module": "@jupyter-widgets/base",
            "_model_module_version": "1.2.0",
            "_model_name": "LayoutModel",
            "_view_count": null,
            "_view_module": "@jupyter-widgets/base",
            "_view_module_version": "1.2.0",
            "_view_name": "LayoutView",
            "align_content": null,
            "align_items": null,
            "align_self": null,
            "border": null,
            "bottom": null,
            "display": null,
            "flex": null,
            "flex_flow": null,
            "grid_area": null,
            "grid_auto_columns": null,
            "grid_auto_flow": null,
            "grid_auto_rows": null,
            "grid_column": null,
            "grid_gap": null,
            "grid_row": null,
            "grid_template_areas": null,
            "grid_template_columns": null,
            "grid_template_rows": null,
            "height": null,
            "justify_content": null,
            "justify_items": null,
            "left": null,
            "margin": null,
            "max_height": null,
            "max_width": null,
            "min_height": null,
            "min_width": null,
            "object_fit": null,
            "object_position": null,
            "order": null,
            "overflow": null,
            "overflow_x": null,
            "overflow_y": null,
            "padding": null,
            "right": null,
            "top": null,
            "visibility": null,
            "width": null
          }
        },
        "e2b41f9ab83a4606924a14b48971666e": {
          "model_module": "@jupyter-widgets/controls",
          "model_name": "DescriptionStyleModel",
          "model_module_version": "1.5.0",
          "state": {
            "_model_module": "@jupyter-widgets/controls",
            "_model_module_version": "1.5.0",
            "_model_name": "DescriptionStyleModel",
            "_view_count": null,
            "_view_module": "@jupyter-widgets/base",
            "_view_module_version": "1.2.0",
            "_view_name": "StyleView",
            "description_width": ""
          }
        },
        "39afc7cff4034200b14ffaa1cf8c6cc3": {
          "model_module": "@jupyter-widgets/controls",
          "model_name": "HBoxModel",
          "model_module_version": "1.5.0",
          "state": {
            "_dom_classes": [],
            "_model_module": "@jupyter-widgets/controls",
            "_model_module_version": "1.5.0",
            "_model_name": "HBoxModel",
            "_view_count": null,
            "_view_module": "@jupyter-widgets/controls",
            "_view_module_version": "1.5.0",
            "_view_name": "HBoxView",
            "box_style": "",
            "children": [
              "IPY_MODEL_d905e3f939ce49e5b75126782fe042ad",
              "IPY_MODEL_3278ca9d8887457e90e1b36808203137",
              "IPY_MODEL_2fb04b6c91fa47dca381038e933812d5"
            ],
            "layout": "IPY_MODEL_203d5735b4e34026bafd522feb923484"
          }
        },
        "d905e3f939ce49e5b75126782fe042ad": {
          "model_module": "@jupyter-widgets/controls",
          "model_name": "HTMLModel",
          "model_module_version": "1.5.0",
          "state": {
            "_dom_classes": [],
            "_model_module": "@jupyter-widgets/controls",
            "_model_module_version": "1.5.0",
            "_model_name": "HTMLModel",
            "_view_count": null,
            "_view_module": "@jupyter-widgets/controls",
            "_view_module_version": "1.5.0",
            "_view_name": "HTMLView",
            "description": "",
            "description_tooltip": null,
            "layout": "IPY_MODEL_8c9dcfc1488345509eb507fcbfabad3e",
            "placeholder": "​",
            "style": "IPY_MODEL_2bcf8d390b7549ca9bf38a1d058dd986",
            "value": "100%"
          }
        },
        "3278ca9d8887457e90e1b36808203137": {
          "model_module": "@jupyter-widgets/controls",
          "model_name": "FloatProgressModel",
          "model_module_version": "1.5.0",
          "state": {
            "_dom_classes": [],
            "_model_module": "@jupyter-widgets/controls",
            "_model_module_version": "1.5.0",
            "_model_name": "FloatProgressModel",
            "_view_count": null,
            "_view_module": "@jupyter-widgets/controls",
            "_view_module_version": "1.5.0",
            "_view_name": "ProgressView",
            "bar_style": "success",
            "description": "",
            "description_tooltip": null,
            "layout": "IPY_MODEL_4742d9be18884a9b9a496bec2e65d80a",
            "max": 1875,
            "min": 0,
            "orientation": "horizontal",
            "style": "IPY_MODEL_cfd970bdb96e4e63bb96b160afa66d08",
            "value": 1875
          }
        },
        "2fb04b6c91fa47dca381038e933812d5": {
          "model_module": "@jupyter-widgets/controls",
          "model_name": "HTMLModel",
          "model_module_version": "1.5.0",
          "state": {
            "_dom_classes": [],
            "_model_module": "@jupyter-widgets/controls",
            "_model_module_version": "1.5.0",
            "_model_name": "HTMLModel",
            "_view_count": null,
            "_view_module": "@jupyter-widgets/controls",
            "_view_module_version": "1.5.0",
            "_view_name": "HTMLView",
            "description": "",
            "description_tooltip": null,
            "layout": "IPY_MODEL_1da3fcd5c13943f4ba1d97908cedcb8f",
            "placeholder": "​",
            "style": "IPY_MODEL_9a77d1cdf0ab44c8b4f86f0a7e0792ae",
            "value": " 1875/1875 [00:47&lt;00:00, 42.72it/s]"
          }
        },
        "203d5735b4e34026bafd522feb923484": {
          "model_module": "@jupyter-widgets/base",
          "model_name": "LayoutModel",
          "model_module_version": "1.2.0",
          "state": {
            "_model_module": "@jupyter-widgets/base",
            "_model_module_version": "1.2.0",
            "_model_name": "LayoutModel",
            "_view_count": null,
            "_view_module": "@jupyter-widgets/base",
            "_view_module_version": "1.2.0",
            "_view_name": "LayoutView",
            "align_content": null,
            "align_items": null,
            "align_self": null,
            "border": null,
            "bottom": null,
            "display": null,
            "flex": null,
            "flex_flow": null,
            "grid_area": null,
            "grid_auto_columns": null,
            "grid_auto_flow": null,
            "grid_auto_rows": null,
            "grid_column": null,
            "grid_gap": null,
            "grid_row": null,
            "grid_template_areas": null,
            "grid_template_columns": null,
            "grid_template_rows": null,
            "height": null,
            "justify_content": null,
            "justify_items": null,
            "left": null,
            "margin": null,
            "max_height": null,
            "max_width": null,
            "min_height": null,
            "min_width": null,
            "object_fit": null,
            "object_position": null,
            "order": null,
            "overflow": null,
            "overflow_x": null,
            "overflow_y": null,
            "padding": null,
            "right": null,
            "top": null,
            "visibility": null,
            "width": null
          }
        },
        "8c9dcfc1488345509eb507fcbfabad3e": {
          "model_module": "@jupyter-widgets/base",
          "model_name": "LayoutModel",
          "model_module_version": "1.2.0",
          "state": {
            "_model_module": "@jupyter-widgets/base",
            "_model_module_version": "1.2.0",
            "_model_name": "LayoutModel",
            "_view_count": null,
            "_view_module": "@jupyter-widgets/base",
            "_view_module_version": "1.2.0",
            "_view_name": "LayoutView",
            "align_content": null,
            "align_items": null,
            "align_self": null,
            "border": null,
            "bottom": null,
            "display": null,
            "flex": null,
            "flex_flow": null,
            "grid_area": null,
            "grid_auto_columns": null,
            "grid_auto_flow": null,
            "grid_auto_rows": null,
            "grid_column": null,
            "grid_gap": null,
            "grid_row": null,
            "grid_template_areas": null,
            "grid_template_columns": null,
            "grid_template_rows": null,
            "height": null,
            "justify_content": null,
            "justify_items": null,
            "left": null,
            "margin": null,
            "max_height": null,
            "max_width": null,
            "min_height": null,
            "min_width": null,
            "object_fit": null,
            "object_position": null,
            "order": null,
            "overflow": null,
            "overflow_x": null,
            "overflow_y": null,
            "padding": null,
            "right": null,
            "top": null,
            "visibility": null,
            "width": null
          }
        },
        "2bcf8d390b7549ca9bf38a1d058dd986": {
          "model_module": "@jupyter-widgets/controls",
          "model_name": "DescriptionStyleModel",
          "model_module_version": "1.5.0",
          "state": {
            "_model_module": "@jupyter-widgets/controls",
            "_model_module_version": "1.5.0",
            "_model_name": "DescriptionStyleModel",
            "_view_count": null,
            "_view_module": "@jupyter-widgets/base",
            "_view_module_version": "1.2.0",
            "_view_name": "StyleView",
            "description_width": ""
          }
        },
        "4742d9be18884a9b9a496bec2e65d80a": {
          "model_module": "@jupyter-widgets/base",
          "model_name": "LayoutModel",
          "model_module_version": "1.2.0",
          "state": {
            "_model_module": "@jupyter-widgets/base",
            "_model_module_version": "1.2.0",
            "_model_name": "LayoutModel",
            "_view_count": null,
            "_view_module": "@jupyter-widgets/base",
            "_view_module_version": "1.2.0",
            "_view_name": "LayoutView",
            "align_content": null,
            "align_items": null,
            "align_self": null,
            "border": null,
            "bottom": null,
            "display": null,
            "flex": null,
            "flex_flow": null,
            "grid_area": null,
            "grid_auto_columns": null,
            "grid_auto_flow": null,
            "grid_auto_rows": null,
            "grid_column": null,
            "grid_gap": null,
            "grid_row": null,
            "grid_template_areas": null,
            "grid_template_columns": null,
            "grid_template_rows": null,
            "height": null,
            "justify_content": null,
            "justify_items": null,
            "left": null,
            "margin": null,
            "max_height": null,
            "max_width": null,
            "min_height": null,
            "min_width": null,
            "object_fit": null,
            "object_position": null,
            "order": null,
            "overflow": null,
            "overflow_x": null,
            "overflow_y": null,
            "padding": null,
            "right": null,
            "top": null,
            "visibility": null,
            "width": null
          }
        },
        "cfd970bdb96e4e63bb96b160afa66d08": {
          "model_module": "@jupyter-widgets/controls",
          "model_name": "ProgressStyleModel",
          "model_module_version": "1.5.0",
          "state": {
            "_model_module": "@jupyter-widgets/controls",
            "_model_module_version": "1.5.0",
            "_model_name": "ProgressStyleModel",
            "_view_count": null,
            "_view_module": "@jupyter-widgets/base",
            "_view_module_version": "1.2.0",
            "_view_name": "StyleView",
            "bar_color": null,
            "description_width": ""
          }
        },
        "1da3fcd5c13943f4ba1d97908cedcb8f": {
          "model_module": "@jupyter-widgets/base",
          "model_name": "LayoutModel",
          "model_module_version": "1.2.0",
          "state": {
            "_model_module": "@jupyter-widgets/base",
            "_model_module_version": "1.2.0",
            "_model_name": "LayoutModel",
            "_view_count": null,
            "_view_module": "@jupyter-widgets/base",
            "_view_module_version": "1.2.0",
            "_view_name": "LayoutView",
            "align_content": null,
            "align_items": null,
            "align_self": null,
            "border": null,
            "bottom": null,
            "display": null,
            "flex": null,
            "flex_flow": null,
            "grid_area": null,
            "grid_auto_columns": null,
            "grid_auto_flow": null,
            "grid_auto_rows": null,
            "grid_column": null,
            "grid_gap": null,
            "grid_row": null,
            "grid_template_areas": null,
            "grid_template_columns": null,
            "grid_template_rows": null,
            "height": null,
            "justify_content": null,
            "justify_items": null,
            "left": null,
            "margin": null,
            "max_height": null,
            "max_width": null,
            "min_height": null,
            "min_width": null,
            "object_fit": null,
            "object_position": null,
            "order": null,
            "overflow": null,
            "overflow_x": null,
            "overflow_y": null,
            "padding": null,
            "right": null,
            "top": null,
            "visibility": null,
            "width": null
          }
        },
        "9a77d1cdf0ab44c8b4f86f0a7e0792ae": {
          "model_module": "@jupyter-widgets/controls",
          "model_name": "DescriptionStyleModel",
          "model_module_version": "1.5.0",
          "state": {
            "_model_module": "@jupyter-widgets/controls",
            "_model_module_version": "1.5.0",
            "_model_name": "DescriptionStyleModel",
            "_view_count": null,
            "_view_module": "@jupyter-widgets/base",
            "_view_module_version": "1.2.0",
            "_view_name": "StyleView",
            "description_width": ""
          }
        },
        "0753f2a19b8448d9952244edf8c9f62d": {
          "model_module": "@jupyter-widgets/controls",
          "model_name": "HBoxModel",
          "model_module_version": "1.5.0",
          "state": {
            "_dom_classes": [],
            "_model_module": "@jupyter-widgets/controls",
            "_model_module_version": "1.5.0",
            "_model_name": "HBoxModel",
            "_view_count": null,
            "_view_module": "@jupyter-widgets/controls",
            "_view_module_version": "1.5.0",
            "_view_name": "HBoxView",
            "box_style": "",
            "children": [
              "IPY_MODEL_4fc1b36af5914c08a9da836b0fe6f65c",
              "IPY_MODEL_042cd8d7ba4e4b4e982e22aabe847cbc",
              "IPY_MODEL_41fac7827df345a8bbdd63f0a55bd978"
            ],
            "layout": "IPY_MODEL_f8a953f52a534a1fbb67da689c1cb371"
          }
        },
        "4fc1b36af5914c08a9da836b0fe6f65c": {
          "model_module": "@jupyter-widgets/controls",
          "model_name": "HTMLModel",
          "model_module_version": "1.5.0",
          "state": {
            "_dom_classes": [],
            "_model_module": "@jupyter-widgets/controls",
            "_model_module_version": "1.5.0",
            "_model_name": "HTMLModel",
            "_view_count": null,
            "_view_module": "@jupyter-widgets/controls",
            "_view_module_version": "1.5.0",
            "_view_name": "HTMLView",
            "description": "",
            "description_tooltip": null,
            "layout": "IPY_MODEL_368a4e85d7954557a6b35f30ebd84d22",
            "placeholder": "​",
            "style": "IPY_MODEL_dabadffcae274807b3393e9c92e4df46",
            "value": "100%"
          }
        },
        "042cd8d7ba4e4b4e982e22aabe847cbc": {
          "model_module": "@jupyter-widgets/controls",
          "model_name": "FloatProgressModel",
          "model_module_version": "1.5.0",
          "state": {
            "_dom_classes": [],
            "_model_module": "@jupyter-widgets/controls",
            "_model_module_version": "1.5.0",
            "_model_name": "FloatProgressModel",
            "_view_count": null,
            "_view_module": "@jupyter-widgets/controls",
            "_view_module_version": "1.5.0",
            "_view_name": "ProgressView",
            "bar_style": "success",
            "description": "",
            "description_tooltip": null,
            "layout": "IPY_MODEL_2a99eec9539d4547b3230b99d07205d8",
            "max": 1875,
            "min": 0,
            "orientation": "horizontal",
            "style": "IPY_MODEL_6cad12acf9ea4402ac3d615e3229087e",
            "value": 1875
          }
        },
        "41fac7827df345a8bbdd63f0a55bd978": {
          "model_module": "@jupyter-widgets/controls",
          "model_name": "HTMLModel",
          "model_module_version": "1.5.0",
          "state": {
            "_dom_classes": [],
            "_model_module": "@jupyter-widgets/controls",
            "_model_module_version": "1.5.0",
            "_model_name": "HTMLModel",
            "_view_count": null,
            "_view_module": "@jupyter-widgets/controls",
            "_view_module_version": "1.5.0",
            "_view_name": "HTMLView",
            "description": "",
            "description_tooltip": null,
            "layout": "IPY_MODEL_c3c1c69761a147bb9dab9b103833b70a",
            "placeholder": "​",
            "style": "IPY_MODEL_174f48116cfc4942a06c3b9576c66455",
            "value": " 1875/1875 [01:53&lt;00:00, 17.10it/s]"
          }
        },
        "f8a953f52a534a1fbb67da689c1cb371": {
          "model_module": "@jupyter-widgets/base",
          "model_name": "LayoutModel",
          "model_module_version": "1.2.0",
          "state": {
            "_model_module": "@jupyter-widgets/base",
            "_model_module_version": "1.2.0",
            "_model_name": "LayoutModel",
            "_view_count": null,
            "_view_module": "@jupyter-widgets/base",
            "_view_module_version": "1.2.0",
            "_view_name": "LayoutView",
            "align_content": null,
            "align_items": null,
            "align_self": null,
            "border": null,
            "bottom": null,
            "display": null,
            "flex": null,
            "flex_flow": null,
            "grid_area": null,
            "grid_auto_columns": null,
            "grid_auto_flow": null,
            "grid_auto_rows": null,
            "grid_column": null,
            "grid_gap": null,
            "grid_row": null,
            "grid_template_areas": null,
            "grid_template_columns": null,
            "grid_template_rows": null,
            "height": null,
            "justify_content": null,
            "justify_items": null,
            "left": null,
            "margin": null,
            "max_height": null,
            "max_width": null,
            "min_height": null,
            "min_width": null,
            "object_fit": null,
            "object_position": null,
            "order": null,
            "overflow": null,
            "overflow_x": null,
            "overflow_y": null,
            "padding": null,
            "right": null,
            "top": null,
            "visibility": null,
            "width": null
          }
        },
        "368a4e85d7954557a6b35f30ebd84d22": {
          "model_module": "@jupyter-widgets/base",
          "model_name": "LayoutModel",
          "model_module_version": "1.2.0",
          "state": {
            "_model_module": "@jupyter-widgets/base",
            "_model_module_version": "1.2.0",
            "_model_name": "LayoutModel",
            "_view_count": null,
            "_view_module": "@jupyter-widgets/base",
            "_view_module_version": "1.2.0",
            "_view_name": "LayoutView",
            "align_content": null,
            "align_items": null,
            "align_self": null,
            "border": null,
            "bottom": null,
            "display": null,
            "flex": null,
            "flex_flow": null,
            "grid_area": null,
            "grid_auto_columns": null,
            "grid_auto_flow": null,
            "grid_auto_rows": null,
            "grid_column": null,
            "grid_gap": null,
            "grid_row": null,
            "grid_template_areas": null,
            "grid_template_columns": null,
            "grid_template_rows": null,
            "height": null,
            "justify_content": null,
            "justify_items": null,
            "left": null,
            "margin": null,
            "max_height": null,
            "max_width": null,
            "min_height": null,
            "min_width": null,
            "object_fit": null,
            "object_position": null,
            "order": null,
            "overflow": null,
            "overflow_x": null,
            "overflow_y": null,
            "padding": null,
            "right": null,
            "top": null,
            "visibility": null,
            "width": null
          }
        },
        "dabadffcae274807b3393e9c92e4df46": {
          "model_module": "@jupyter-widgets/controls",
          "model_name": "DescriptionStyleModel",
          "model_module_version": "1.5.0",
          "state": {
            "_model_module": "@jupyter-widgets/controls",
            "_model_module_version": "1.5.0",
            "_model_name": "DescriptionStyleModel",
            "_view_count": null,
            "_view_module": "@jupyter-widgets/base",
            "_view_module_version": "1.2.0",
            "_view_name": "StyleView",
            "description_width": ""
          }
        },
        "2a99eec9539d4547b3230b99d07205d8": {
          "model_module": "@jupyter-widgets/base",
          "model_name": "LayoutModel",
          "model_module_version": "1.2.0",
          "state": {
            "_model_module": "@jupyter-widgets/base",
            "_model_module_version": "1.2.0",
            "_model_name": "LayoutModel",
            "_view_count": null,
            "_view_module": "@jupyter-widgets/base",
            "_view_module_version": "1.2.0",
            "_view_name": "LayoutView",
            "align_content": null,
            "align_items": null,
            "align_self": null,
            "border": null,
            "bottom": null,
            "display": null,
            "flex": null,
            "flex_flow": null,
            "grid_area": null,
            "grid_auto_columns": null,
            "grid_auto_flow": null,
            "grid_auto_rows": null,
            "grid_column": null,
            "grid_gap": null,
            "grid_row": null,
            "grid_template_areas": null,
            "grid_template_columns": null,
            "grid_template_rows": null,
            "height": null,
            "justify_content": null,
            "justify_items": null,
            "left": null,
            "margin": null,
            "max_height": null,
            "max_width": null,
            "min_height": null,
            "min_width": null,
            "object_fit": null,
            "object_position": null,
            "order": null,
            "overflow": null,
            "overflow_x": null,
            "overflow_y": null,
            "padding": null,
            "right": null,
            "top": null,
            "visibility": null,
            "width": null
          }
        },
        "6cad12acf9ea4402ac3d615e3229087e": {
          "model_module": "@jupyter-widgets/controls",
          "model_name": "ProgressStyleModel",
          "model_module_version": "1.5.0",
          "state": {
            "_model_module": "@jupyter-widgets/controls",
            "_model_module_version": "1.5.0",
            "_model_name": "ProgressStyleModel",
            "_view_count": null,
            "_view_module": "@jupyter-widgets/base",
            "_view_module_version": "1.2.0",
            "_view_name": "StyleView",
            "bar_color": null,
            "description_width": ""
          }
        },
        "c3c1c69761a147bb9dab9b103833b70a": {
          "model_module": "@jupyter-widgets/base",
          "model_name": "LayoutModel",
          "model_module_version": "1.2.0",
          "state": {
            "_model_module": "@jupyter-widgets/base",
            "_model_module_version": "1.2.0",
            "_model_name": "LayoutModel",
            "_view_count": null,
            "_view_module": "@jupyter-widgets/base",
            "_view_module_version": "1.2.0",
            "_view_name": "LayoutView",
            "align_content": null,
            "align_items": null,
            "align_self": null,
            "border": null,
            "bottom": null,
            "display": null,
            "flex": null,
            "flex_flow": null,
            "grid_area": null,
            "grid_auto_columns": null,
            "grid_auto_flow": null,
            "grid_auto_rows": null,
            "grid_column": null,
            "grid_gap": null,
            "grid_row": null,
            "grid_template_areas": null,
            "grid_template_columns": null,
            "grid_template_rows": null,
            "height": null,
            "justify_content": null,
            "justify_items": null,
            "left": null,
            "margin": null,
            "max_height": null,
            "max_width": null,
            "min_height": null,
            "min_width": null,
            "object_fit": null,
            "object_position": null,
            "order": null,
            "overflow": null,
            "overflow_x": null,
            "overflow_y": null,
            "padding": null,
            "right": null,
            "top": null,
            "visibility": null,
            "width": null
          }
        },
        "174f48116cfc4942a06c3b9576c66455": {
          "model_module": "@jupyter-widgets/controls",
          "model_name": "DescriptionStyleModel",
          "model_module_version": "1.5.0",
          "state": {
            "_model_module": "@jupyter-widgets/controls",
            "_model_module_version": "1.5.0",
            "_model_name": "DescriptionStyleModel",
            "_view_count": null,
            "_view_module": "@jupyter-widgets/base",
            "_view_module_version": "1.2.0",
            "_view_name": "StyleView",
            "description_width": ""
          }
        }
      }
    }
  },
  "cells": [
    {
      "cell_type": "markdown",
      "source": [
        "# Import necessary modules"
      ],
      "metadata": {
        "id": "ZM8-dSQw4dFH"
      }
    },
    {
      "cell_type": "code",
      "source": [
        "!pip install -U -q neurograd[\"all\"]\n",
        "\n",
        "import neurograd as ng\n",
        "import os\n",
        "import numpy as np\n",
        "import gzip\n",
        "import urllib.request\n",
        "\n",
        "try:\n",
        "    import cupy as cp\n",
        "except ImportError:\n",
        "    print(\"[INFO] CuPy not found – using NumPy (CPU) for the demo.\")\n",
        "    import numpy as cp\n",
        "\n",
        "from matplotlib import pyplot as plt\n",
        "import random"
      ],
      "metadata": {
        "id": "12GhOQ_WzjqH",
        "colab": {
          "base_uri": "https://localhost:8080/"
        },
        "outputId": "4961f750-3066-4395-c7d0-1cd19c82036c"
      },
      "execution_count": 1,
      "outputs": [
        {
          "output_type": "stream",
          "name": "stdout",
          "text": [
            "\u001b[2K     \u001b[90m━━━━━━━━━━━━━━━━━━━━━━━━━━━━━━━━━━━━━━━━\u001b[0m \u001b[32m81.3/81.3 kB\u001b[0m \u001b[31m3.9 MB/s\u001b[0m eta \u001b[36m0:00:00\u001b[0m\n",
            "\u001b[2K   \u001b[90m━━━━━━━━━━━━━━━━━━━━━━━━━━━━━━━━━━━━━━━━\u001b[0m \u001b[32m1.7/1.7 MB\u001b[0m \u001b[31m54.8 MB/s\u001b[0m eta \u001b[36m0:00:00\u001b[0m\n",
            "\u001b[2K   \u001b[90m━━━━━━━━━━━━━━━━━━━━━━━━━━━━━━━━━━━━━━━━\u001b[0m \u001b[32m57.9/57.9 kB\u001b[0m \u001b[31m5.2 MB/s\u001b[0m eta \u001b[36m0:00:00\u001b[0m\n",
            "\u001b[2K   \u001b[90m━━━━━━━━━━━━━━━━━━━━━━━━━━━━━━━━━━━━━━━━\u001b[0m \u001b[32m12.6/12.6 MB\u001b[0m \u001b[31m113.6 MB/s\u001b[0m eta \u001b[36m0:00:00\u001b[0m\n",
            "\u001b[2K   \u001b[90m━━━━━━━━━━━━━━━━━━━━━━━━━━━━━━━━━━━━━━━━\u001b[0m \u001b[32m54.0/54.0 kB\u001b[0m \u001b[31m4.3 MB/s\u001b[0m eta \u001b[36m0:00:00\u001b[0m\n",
            "\u001b[2K   \u001b[90m━━━━━━━━━━━━━━━━━━━━━━━━━━━━━━━━━━━━━━━━\u001b[0m \u001b[32m248.8/248.8 kB\u001b[0m \u001b[31m20.6 MB/s\u001b[0m eta \u001b[36m0:00:00\u001b[0m\n",
            "\u001b[2K   \u001b[90m━━━━━━━━━━━━━━━━━━━━━━━━━━━━━━━━━━━━━━━━\u001b[0m \u001b[32m63.6/63.6 kB\u001b[0m \u001b[31m5.2 MB/s\u001b[0m eta \u001b[36m0:00:00\u001b[0m\n",
            "\u001b[2K   \u001b[90m━━━━━━━━━━━━━━━━━━━━━━━━━━━━━━━━━━━━━━━━\u001b[0m \u001b[32m12.3/12.3 MB\u001b[0m \u001b[31m102.9 MB/s\u001b[0m eta \u001b[36m0:00:00\u001b[0m\n",
            "\u001b[2K   \u001b[90m━━━━━━━━━━━━━━━━━━━━━━━━━━━━━━━━━━━━━━━━\u001b[0m \u001b[32m1.6/1.6 MB\u001b[0m \u001b[31m68.5 MB/s\u001b[0m eta \u001b[36m0:00:00\u001b[0m\n",
            "\u001b[2K   \u001b[90m━━━━━━━━━━━━━━━━━━━━━━━━━━━━━━━━━━━━━━━━\u001b[0m \u001b[32m69.4/69.4 kB\u001b[0m \u001b[31m6.2 MB/s\u001b[0m eta \u001b[36m0:00:00\u001b[0m\n",
            "\u001b[2K   \u001b[90m━━━━━━━━━━━━━━━━━━━━━━━━━━━━━━━━━━━━━━━━\u001b[0m \u001b[32m386.9/386.9 kB\u001b[0m \u001b[31m29.7 MB/s\u001b[0m eta \u001b[36m0:00:00\u001b[0m\n",
            "\u001b[2K   \u001b[90m━━━━━━━━━━━━━━━━━━━━━━━━━━━━━━━━━━━━━━━━\u001b[0m \u001b[32m133.5/133.5 kB\u001b[0m \u001b[31m12.7 MB/s\u001b[0m eta \u001b[36m0:00:00\u001b[0m\n",
            "\u001b[2K   \u001b[90m━━━━━━━━━━━━━━━━━━━━━━━━━━━━━━━━━━━━━━━━\u001b[0m \u001b[32m59.7/59.7 kB\u001b[0m \u001b[31m4.7 MB/s\u001b[0m eta \u001b[36m0:00:00\u001b[0m\n",
            "\u001b[2K   \u001b[90m━━━━━━━━━━━━━━━━━━━━━━━━━━━━━━━━━━━━━━━━\u001b[0m \u001b[32m66.4/66.4 kB\u001b[0m \u001b[31m6.3 MB/s\u001b[0m eta \u001b[36m0:00:00\u001b[0m\n",
            "\u001b[2K   \u001b[90m━━━━━━━━━━━━━━━━━━━━━━━━━━━━━━━━━━━━━━━━\u001b[0m \u001b[32m111.0/111.0 kB\u001b[0m \u001b[31m10.5 MB/s\u001b[0m eta \u001b[36m0:00:00\u001b[0m\n",
            "\u001b[?25h\u001b[31mERROR: pip's dependency resolver does not currently take into account all the packages that are installed. This behaviour is the source of the following dependency conflicts.\n",
            "google-colab 1.0.0 requires jupyter-server==1.16.0, but you have jupyter-server 2.16.0 which is incompatible.\u001b[0m\u001b[31m\n",
            "\u001b[0m"
          ]
        }
      ]
    },
    {
      "cell_type": "markdown",
      "source": [
        "# Prepare Lecun's MNIST dataset"
      ],
      "metadata": {
        "id": "kGpJcIbC4aqO"
      }
    },
    {
      "cell_type": "code",
      "execution_count": 2,
      "metadata": {
        "colab": {
          "base_uri": "https://localhost:8080/"
        },
        "id": "5zhF-BR7zXxf",
        "outputId": "af6e336a-5bd9-4269-dd0a-639cd3ffc931"
      },
      "outputs": [
        {
          "output_type": "stream",
          "name": "stdout",
          "text": [
            "[DOWNLOAD] https://storage.googleapis.com/cvdf-datasets/mnist/train-images-idx3-ubyte.gz\n",
            "[DOWNLOAD] https://storage.googleapis.com/cvdf-datasets/mnist/train-labels-idx1-ubyte.gz\n",
            "[DOWNLOAD] https://storage.googleapis.com/cvdf-datasets/mnist/t10k-images-idx3-ubyte.gz\n",
            "[DOWNLOAD] https://storage.googleapis.com/cvdf-datasets/mnist/t10k-labels-idx1-ubyte.gz\n",
            "\n",
            "=== Dataset summary ===\n",
            "X_train shape : (60000, 1, 32, 32)   dtype: float32\n",
            "y_train shape : (60000, 10)   dtype: float32\n",
            "X_test  shape : (10000, 1, 32, 32)    dtype: float32\n",
            "y_test shape : (10000, 10)   dtype: float32\n"
          ]
        }
      ],
      "source": [
        "# -------------------------------------------------\n",
        "# MNIST → CuPy (or NumPy) with one‑hot labels,\n",
        "# downloading directly from the Google‑Cloud mirror.\n",
        "\n",
        "MIRROR_URL = \"https://storage.googleapis.com/cvdf-datasets/mnist/\"\n",
        "FILES = {\n",
        "    \"train_images\": \"train-images-idx3-ubyte.gz\",\n",
        "    \"train_labels\": \"train-labels-idx1-ubyte.gz\",\n",
        "    \"test_images\":  \"t10k-images-idx3-ubyte.gz\",\n",
        "    \"test_labels\":  \"t10k-labels-idx1-ubyte.gz\",\n",
        "}\n",
        "NUM_CLASSES = 10\n",
        "IMG_SHAPE   = (28, 28)   # original MNIST size\n",
        "PADDED_SHAPE = (32, 32)  # after padding (2‑pixel border each side)\n",
        "\n",
        "\n",
        "\n",
        "def maybe_download(filename: str) -> str:\n",
        "    \"\"\"\n",
        "    Download `filename` from the Google‑Cloud mirror if it does not already exist.\n",
        "    Returns the local path to the file.\n",
        "    \"\"\"\n",
        "    if not os.path.exists(filename):\n",
        "        url = MIRROR_URL + filename\n",
        "        print(f\"[DOWNLOAD] {url}\")\n",
        "        urllib.request.urlretrieve(url, filename)\n",
        "    else:\n",
        "        print(f\"[SKIP] {filename} already present.\")\n",
        "    return filename\n",
        "\n",
        "\n",
        "\n",
        "def read_idx_gz(path: str, header_bytes: int) -> np.ndarray:\n",
        "    \"\"\"\n",
        "    Read a gzipped IDX file and return the raw contents as a 1‑D uint8 NumPy array.\n",
        "    `header_bytes` is the number of bytes to strip (magic number + dimensions).\n",
        "    \"\"\"\n",
        "    with gzip.open(path, \"rb\") as f:\n",
        "        buffer = f.read()\n",
        "    return np.frombuffer(buffer, dtype=np.uint8)[header_bytes:]\n",
        "\n",
        "\n",
        "# -------------------------------------------------\n",
        "# Download + parse all four files\n",
        "# -------------------------------------------------\n",
        "train_images_path = maybe_download(FILES[\"train_images\"])\n",
        "train_labels_path = maybe_download(FILES[\"train_labels\"])\n",
        "test_images_path  = maybe_download(FILES[\"test_images\"])\n",
        "test_labels_path  = maybe_download(FILES[\"test_labels\"])\n",
        "\n",
        "train_images = read_idx_gz(train_images_path, header_bytes=16).reshape(-1, *IMG_SHAPE)\n",
        "train_labels = read_idx_gz(train_labels_path, header_bytes=8)\n",
        "\n",
        "test_images  = read_idx_gz(test_images_path,  header_bytes=16).reshape(-1, *IMG_SHAPE)\n",
        "test_labels  = read_idx_gz(test_labels_path,  header_bytes=8)\n",
        "\n",
        "# -------------------------------------------------\n",
        "# Normalise, pad, add channel dimension, move to CuPy/NumPy\n",
        "# -------------------------------------------------\n",
        "def preprocess(images: np.ndarray) -> cp.ndarray:\n",
        "    \"\"\"\n",
        "    * Convert uint8 → float32 and scale to [0,1]\n",
        "    * Pad from 28×28 → 32×32 (2‑pixel zero border)\n",
        "    * Add the channel dimension → (N,1,32,32)\n",
        "    Returns a CuPy (or NumPy) array.\n",
        "    \"\"\"\n",
        "    # 1️⃣ Normalise\n",
        "    images = images.astype(np.float32) / 255.0\n",
        "\n",
        "    # 2️⃣ Pad height & width (constant = 0)\n",
        "    images = np.pad(images,\n",
        "                    pad_width=((0, 0), (2, 2), (2, 2)),\n",
        "                    mode=\"constant\")\n",
        "\n",
        "    # 3️⃣ Add channel axis\n",
        "    images = images[:, None, :, :]    # (N, 1, 32, 32)\n",
        "\n",
        "    # 4️⃣ Transfer to the backend (GPU if CuPy, else CPU)\n",
        "    return cp.asarray(images)\n",
        "\n",
        "\n",
        "X_train = preprocess(train_images)\n",
        "X_test  = preprocess(test_images)\n",
        "\n",
        "# -------------------------------------------------\n",
        "# Convert integer labels → one‑hot vectors\n",
        "# -------------------------------------------------\n",
        "def one_hot(labels: cp.ndarray, num_classes: int = NUM_CLASSES) -> cp.ndarray:\n",
        "    \"\"\"\n",
        "    `labels` is a CuPy/NumPy 1‑D integer array.\n",
        "    Returns a (N, num_classes) float32 array where the column matching the label is 1.\n",
        "    \"\"\"\n",
        "    # `cp.eye` creates an identity matrix (num_classes × num_classes).\n",
        "    # Indexing that matrix with the label vector expands each label into a row.\n",
        "    return cp.eye(num_classes, dtype=cp.float32)[labels]\n",
        "\n",
        "\n",
        "# Move integer labels onto the same backend first\n",
        "y_train = cp.asarray(train_labels, dtype=cp.int64)\n",
        "y_test  = cp.asarray(test_labels,  dtype=cp.int64)\n",
        "\n",
        "# One‑hot encode\n",
        "y_train = one_hot(y_train)\n",
        "y_test  = one_hot(y_test)\n",
        "\n",
        "# -------------------------------------------------\n",
        "# Quick sanity‑check (printing a few shapes / dtypes)\n",
        "# -------------------------------------------------\n",
        "print(\"\\n=== Dataset summary ===\")\n",
        "print(f\"X_train shape : {X_train.shape}   dtype: {X_train.dtype}\")\n",
        "print(f\"y_train shape : {y_train.shape}   dtype: {y_train.dtype}\")\n",
        "\n",
        "print(f\"X_test  shape : {X_test.shape}    dtype: {X_test.dtype}\")\n",
        "print(f\"y_test shape : {y_test.shape}   dtype: {y_test.dtype}\")"
      ]
    },
    {
      "cell_type": "code",
      "source": [
        "# Plot 4 random images\n",
        "\n",
        "indices = range(len(X_train))\n",
        "chosen = cp.random.choice(indices, 4)\n",
        "\n",
        "plt.figure(figsize=(10, 7))\n",
        "for i, idx in enumerate(chosen, 1):\n",
        "  plt.subplot(1, 4, i)\n",
        "  img = X_train[idx].reshape(32, 32).get()\n",
        "  label = y_train[idx].argmax().squeeze().get()\n",
        "  plt.axis(\"off\")\n",
        "  plt.imshow(img, cmap='gray')\n",
        "  plt.title(f\"Label: {label}\")\n",
        "plt.show()"
      ],
      "metadata": {
        "colab": {
          "base_uri": "https://localhost:8080/",
          "height": 227
        },
        "id": "n5Wk_Dv05QQz",
        "outputId": "dd5451eb-dd0c-4bb5-deed-bdcc6a8c7d05"
      },
      "execution_count": 3,
      "outputs": [
        {
          "output_type": "display_data",
          "data": {
            "text/plain": [
              "<Figure size 1000x700 with 4 Axes>"
            ],
            "image/png": "[encoded data removed]"
          },
          "metadata": {}
        }
      ]
    },
    {
      "cell_type": "code",
      "source": [
        "from neurograd.utils.data import Dataset, DataLoader\n",
        "\n",
        "train_dataset = Dataset(X_train, y_train)\n",
        "train_loader = DataLoader(train_dataset, batch_size=32, shuffle=True)\n",
        "\n",
        "test_dataset = Dataset(X_test, y_test)\n",
        "test_loader = DataLoader(test_dataset, batch_size=32, shuffle=False)"
      ],
      "metadata": {
        "id": "AOt2rCLO6VZv"
      },
      "execution_count": 4,
      "outputs": []
    },
    {
      "cell_type": "markdown",
      "source": [
        "# Model architecture, optimizer and losses"
      ],
      "metadata": {
        "id": "_mjh6qAb7OJi"
      }
    },
    {
      "cell_type": "code",
      "source": [
        "from neurograd.nn.layers import Sequential, Conv2D, AveragePool2D, Flatten, Linear\n",
        "\n",
        "model = Sequential(\n",
        "    Conv2D(in_channels=1, out_channels=6, kernel_size=5, strides=1, activation=\"tanh\"),\n",
        "    AveragePool2D(pool_size=2, strides=2),\n",
        "    Conv2D(in_channels=6, out_channels=16, kernel_size=5, strides=1, activation=\"tanh\"),\n",
        "    AveragePool2D(pool_size=2, strides=2),\n",
        "    Flatten(),\n",
        "    Linear(in_features=400, out_features=120, activation=\"tanh\"),\n",
        "    Linear(in_features=120, out_features=84, activation=\"tanh\"),\n",
        "    Linear(in_features=84, out_features=10, activation=\"softmax\")\n",
        ")\n",
        "\n",
        "for name, param in model.named_parameters():\n",
        "    print(name, param.shape)"
      ],
      "metadata": {
        "colab": {
          "base_uri": "https://localhost:8080/"
        },
        "id": "lMmhKSHc8Atn",
        "outputId": "6da3075e-66ab-44ec-e1a6-fe1e4fb980f2"
      },
      "execution_count": 5,
      "outputs": [
        {
          "output_type": "stream",
          "name": "stdout",
          "text": [
            "layer_0.kernels (6, 1, 5, 5)\n",
            "layer_0.bias (1, 6, 1, 1)\n",
            "layer_2.kernels (16, 6, 5, 5)\n",
            "layer_2.bias (1, 16, 1, 1)\n",
            "layer_5.weight (400, 120)\n",
            "layer_5.bias (120,)\n",
            "layer_6.weight (120, 84)\n",
            "layer_6.bias (84,)\n",
            "layer_7.weight (84, 10)\n",
            "layer_7.bias (10,)\n"
          ]
        }
      ]
    },
    {
      "cell_type": "code",
      "source": [
        "from neurograd.optim import Adam\n",
        "from neurograd.nn.losses import CategoricalCrossEntropy\n",
        "from neurograd.nn.metrics import accuracy_score\n",
        "\n",
        "optimizer = Adam(model.named_parameters(), lr=0.001)\n",
        "loss_fn = CategoricalCrossEntropy()"
      ],
      "metadata": {
        "id": "r108dB-v7mMj"
      },
      "execution_count": 6,
      "outputs": []
    },
    {
      "cell_type": "markdown",
      "source": [
        "# Training (mixed precision)"
      ],
      "metadata": {
        "id": "7qNgCMin-coo"
      }
    },
    {
      "cell_type": "code",
      "source": [
        "from tqdm.auto import tqdm\n",
        "from neurograd.amp import GradScaler\n",
        "scaler = GradScaler()\n",
        "\n",
        "EPOCHS = 3\n",
        "BATCH_SIZE = train_loader.batch_size\n",
        "\n",
        "\n",
        "for epoch in range(1, EPOCHS + 1):\n",
        "\n",
        "  print(f\"Epoch: {epoch} / {EPOCHS}:\")\n",
        "  train_losses, train_acc = [], []\n",
        "  test_losses, test_acc = [], []\n",
        "\n",
        "  model.train()\n",
        "  for (X_train, y_train) in tqdm(train_loader):\n",
        "      with ng.autocast():\n",
        "        y_pred = model(X_train)\n",
        "        loss = loss_fn(y_train, y_pred)\n",
        "        train_losses.append(loss.data)\n",
        "        optimizer.zero_grad()\n",
        "        scaler.scale(loss).backward()\n",
        "        scaler.step(optimizer)\n",
        "        scaler.update()\n",
        "        acc = accuracy_score(y_train.argmax(axis=-1), y_pred.argmax(axis=-1))\n",
        "        train_acc.append(acc)\n",
        "\n",
        "  model.eval()\n",
        "  for (X_test, y_test) in test_loader:\n",
        "    with ng.autocast():\n",
        "      y_pred = model(X_test)\n",
        "      loss = loss_fn(y_test, y_pred)\n",
        "      acc = accuracy_score(y_test.argmax(axis=-1), y_pred.argmax(axis=-1))\n",
        "      test_losses.append(loss.data)\n",
        "      test_acc.append(acc)\n",
        "\n",
        "  # Convert lists to arrays before mean\n",
        "  train_losses = cp.asarray(train_losses)\n",
        "  train_acc = cp.asarray(train_acc)\n",
        "  test_losses = cp.asarray(test_losses)\n",
        "  test_acc = cp.asarray(test_acc)\n",
        "\n",
        "  print(\n",
        "      f\"Train loss: {cp.mean(train_losses):.4f}, \"\n",
        "      f\"Train acc: {cp.mean(train_acc):.4f}, \"\n",
        "      f\"Test loss: {cp.mean(test_losses):.4f}, \"\n",
        "      f\"Test acc: {cp.mean(test_acc):.4f}\"\n",
        "  )"
      ],
      "metadata": {
        "colab": {
          "base_uri": "https://localhost:8080/",
          "height": 217,
          "referenced_widgets": [
            "c015209d2465491dbd9da28c81f2af99",
            "2157eb8f5150429ea1372c27b22ec898",
            "6c8c652a213e45298c779953dc760287",
            "c025f0275282403d943ac78e51d51fd0",
            "081818c43fc94a2ba21819f1a3f55fbb",
            "f6d1e645c4a64ce5b45e817c4b4485fe",
            "7db46771ce8a4a7cb6379d9c18a97cc9",
            "9a8f145165924b2292387a156b307b93",
            "947629ef2e274190828b445b43bd59ef",
            "2ff7850a56c54b4580def05313220c45",
            "e2b41f9ab83a4606924a14b48971666e",
            "39afc7cff4034200b14ffaa1cf8c6cc3",
            "d905e3f939ce49e5b75126782fe042ad",
            "3278ca9d8887457e90e1b36808203137",
            "2fb04b6c91fa47dca381038e933812d5",
            "203d5735b4e34026bafd522feb923484",
            "8c9dcfc1488345509eb507fcbfabad3e",
            "2bcf8d390b7549ca9bf38a1d058dd986",
            "4742d9be18884a9b9a496bec2e65d80a",
            "cfd970bdb96e4e63bb96b160afa66d08",
            "1da3fcd5c13943f4ba1d97908cedcb8f",
            "9a77d1cdf0ab44c8b4f86f0a7e0792ae",
            "0753f2a19b8448d9952244edf8c9f62d",
            "4fc1b36af5914c08a9da836b0fe6f65c",
            "042cd8d7ba4e4b4e982e22aabe847cbc",
            "41fac7827df345a8bbdd63f0a55bd978",
            "f8a953f52a534a1fbb67da689c1cb371",
            "368a4e85d7954557a6b35f30ebd84d22",
            "dabadffcae274807b3393e9c92e4df46",
            "2a99eec9539d4547b3230b99d07205d8",
            "6cad12acf9ea4402ac3d615e3229087e",
            "c3c1c69761a147bb9dab9b103833b70a",
            "174f48116cfc4942a06c3b9576c66455"
          ]
        },
        "id": "WmlIWwO39ugK",
        "outputId": "da0d6c2d-21dd-40ea-bef9-6f73a336da74"
      },
      "execution_count": 7,
      "outputs": [
        {
          "output_type": "stream",
          "name": "stdout",
          "text": [
            "Epoch: 1 / 3:\n"
          ]
        },
        {
          "output_type": "display_data",
          "data": {
            "text/plain": [
              "  0%|          | 0/1875 [00:00<?, ?it/s]"
            ],
            "application/vnd.jupyter.widget-view+json": {
              "version_major": 2,
              "version_minor": 0,
              "model_id": "c015209d2465491dbd9da28c81f2af99"
            }
          },
          "metadata": {}
        },
        {
          "output_type": "stream",
          "name": "stdout",
          "text": [
            "Train loss: 0.2236, Train acc: 0.9328, Test loss: 0.1160, Test acc: 0.9645\n",
            "Epoch: 2 / 3:\n"
          ]
        },
        {
          "output_type": "display_data",
          "data": {
            "text/plain": [
              "  0%|          | 0/1875 [00:00<?, ?it/s]"
            ],
            "application/vnd.jupyter.widget-view+json": {
              "version_major": 2,
              "version_minor": 0,
              "model_id": "39afc7cff4034200b14ffaa1cf8c6cc3"
            }
          },
          "metadata": {}
        },
        {
          "output_type": "stream",
          "name": "stdout",
          "text": [
            "Train loss: 0.0885, Train acc: 0.9729, Test loss: 0.0683, Test acc: 0.9761\n",
            "Epoch: 3 / 3:\n"
          ]
        },
        {
          "output_type": "display_data",
          "data": {
            "text/plain": [
              "  0%|          | 0/1875 [00:00<?, ?it/s]"
            ],
            "application/vnd.jupyter.widget-view+json": {
              "version_major": 2,
              "version_minor": 0,
              "model_id": "0753f2a19b8448d9952244edf8c9f62d"
            }
          },
          "metadata": {}
        },
        {
          "output_type": "stream",
          "name": "stdout",
          "text": [
            "Train loss: 0.0609, Train acc: 0.9805, Test loss: 0.0608, Test acc: 0.9809\n"
          ]
        }
      ]
    },
    {
      "cell_type": "markdown",
      "source": [
        "# Visualize model predictions"
      ],
      "metadata": {
        "id": "IYRMkvTHFo4e"
      }
    },
    {
      "cell_type": "code",
      "source": [
        "X, y = random.choice(test_loader)\n",
        "with ng.autocast():\n",
        "    y_pred = model(X)\n",
        "\n",
        "correct = 0\n",
        "for idx in range(32):  # 4 rows * 8 cols = 32 images\n",
        "    img = X[idx].data.reshape(32, 32).get()\n",
        "    label = y[idx].data.argmax(-1).get()\n",
        "    pred = y_pred[idx].data.argmax(-1).get()\n",
        "    correct += label == pred\n",
        "\n",
        "    plt.subplot(4, 8, idx + 1)  # subplot indices start at 1\n",
        "    plt.imshow(img, cmap='gray')\n",
        "    plt.axis('off')\n",
        "    plt.title(f\"Label: {label}\\nPred: {pred}\")\n",
        "\n",
        "plt.tight_layout()\n",
        "plt.show()\n",
        "print(f\"Guessed {correct} / 32\")"
      ],
      "metadata": {
        "colab": {
          "base_uri": "https://localhost:8080/",
          "height": 498
        },
        "id": "7_bM1xGz_IYl",
        "outputId": "a508d88b-fddd-427f-cb80-68e2628b4080"
      },
      "execution_count": 8,
      "outputs": [
        {
          "output_type": "display_data",
          "data": {
            "text/plain": [
              "<Figure size 640x480 with 32 Axes>"
            ],
            "image/png": "[encoded data removed]"
          },
          "metadata": {}
        },
        {
          "output_type": "stream",
          "name": "stdout",
          "text": [
            "Guessed 31 / 32\n"
          ]
        }
      ]
    },
    {
      "cell_type": "code",
      "source": [],
      "metadata": {
        "id": "IjADapsZFuvQ"
      },
      "execution_count": null,
      "outputs": []
    }
  ]
}