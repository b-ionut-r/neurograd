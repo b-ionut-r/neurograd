{
  "nbformat": 4,
  "nbformat_minor": 0,
  "metadata": {
    "colab": {
      "provenance": [],
      "gpuType": "T4"
    },
    "kernelspec": {
      "name": "python3",
      "display_name": "Python 3"
    },
    "language_info": {
      "name": "python"
    },
    "accelerator": "GPU",
    "widgets": {
      "application/vnd.jupyter.widget-state+json": {
        "3b24dd647250421c89b4dbe35ee4b648": {
          "model_module": "@jupyter-widgets/controls",
          "model_name": "HBoxModel",
          "model_module_version": "1.5.0",
          "state": {
            "_dom_classes": [],
            "_model_module": "@jupyter-widgets/controls",
            "_model_module_version": "1.5.0",
            "_model_name": "HBoxModel",
            "_view_count": null,
            "_view_module": "@jupyter-widgets/controls",
            "_view_module_version": "1.5.0",
            "_view_name": "HBoxView",
            "box_style": "",
            "children": [
              "IPY_MODEL_26da18f536aa44ddaeecd6c5b8e27922",
              "IPY_MODEL_7af74a93ab97444c997e5724aebc0bdf",
              "IPY_MODEL_7bc410626f184a199b63cf4194f564b8"
            ],
            "layout": "IPY_MODEL_374953ffea374beca96eccf82ce1fd3b"
          }
        },
        "26da18f536aa44ddaeecd6c5b8e27922": {
          "model_module": "@jupyter-widgets/controls",
          "model_name": "HTMLModel",
          "model_module_version": "1.5.0",
          "state": {
            "_dom_classes": [],
            "_model_module": "@jupyter-widgets/controls",
            "_model_module_version": "1.5.0",
            "_model_name": "HTMLModel",
            "_view_count": null,
            "_view_module": "@jupyter-widgets/controls",
            "_view_module_version": "1.5.0",
            "_view_name": "HTMLView",
            "description": "",
            "description_tooltip": null,
            "layout": "IPY_MODEL_e67e434a7c7c469e969135ecdd1a2d5f",
            "placeholder": "​",
            "style": "IPY_MODEL_c58d89f795ae4bbd9cdf8f7e1329c1f2",
            "value": "100%"
          }
        },
        "7af74a93ab97444c997e5724aebc0bdf": {
          "model_module": "@jupyter-widgets/controls",
          "model_name": "FloatProgressModel",
          "model_module_version": "1.5.0",
          "state": {
            "_dom_classes": [],
            "_model_module": "@jupyter-widgets/controls",
            "_model_module_version": "1.5.0",
            "_model_name": "FloatProgressModel",
            "_view_count": null,
            "_view_module": "@jupyter-widgets/controls",
            "_view_module_version": "1.5.0",
            "_view_name": "ProgressView",
            "bar_style": "success",
            "description": "",
            "description_tooltip": null,
            "layout": "IPY_MODEL_93c6724da47e4c1cb925b0318168e1eb",
            "max": 1875,
            "min": 0,
            "orientation": "horizontal",
            "style": "IPY_MODEL_ac38625dcfe7420cb687d7381a628b7f",
            "value": 1875
          }
        },
        "7bc410626f184a199b63cf4194f564b8": {
          "model_module": "@jupyter-widgets/controls",
          "model_name": "HTMLModel",
          "model_module_version": "1.5.0",
          "state": {
            "_dom_classes": [],
            "_model_module": "@jupyter-widgets/controls",
            "_model_module_version": "1.5.0",
            "_model_name": "HTMLModel",
            "_view_count": null,
            "_view_module": "@jupyter-widgets/controls",
            "_view_module_version": "1.5.0",
            "_view_name": "HTMLView",
            "description": "",
            "description_tooltip": null,
            "layout": "IPY_MODEL_0614160db1be4bde992849f6c0c7331e",
            "placeholder": "​",
            "style": "IPY_MODEL_1e3633722a444d65a68591103e3c5363",
            "value": " 1875/1875 [00:43&lt;00:00, 43.27it/s]"
          }
        },
        "374953ffea374beca96eccf82ce1fd3b": {
          "model_module": "@jupyter-widgets/base",
          "model_name": "LayoutModel",
          "model_module_version": "1.2.0",
          "state": {
            "_model_module": "@jupyter-widgets/base",
            "_model_module_version": "1.2.0",
            "_model_name": "LayoutModel",
            "_view_count": null,
            "_view_module": "@jupyter-widgets/base",
            "_view_module_version": "1.2.0",
            "_view_name": "LayoutView",
            "align_content": null,
            "align_items": null,
            "align_self": null,
            "border": null,
            "bottom": null,
            "display": null,
            "flex": null,
            "flex_flow": null,
            "grid_area": null,
            "grid_auto_columns": null,
            "grid_auto_flow": null,
            "grid_auto_rows": null,
            "grid_column": null,
            "grid_gap": null,
            "grid_row": null,
            "grid_template_areas": null,
            "grid_template_columns": null,
            "grid_template_rows": null,
            "height": null,
            "justify_content": null,
            "justify_items": null,
            "left": null,
            "margin": null,
            "max_height": null,
            "max_width": null,
            "min_height": null,
            "min_width": null,
            "object_fit": null,
            "object_position": null,
            "order": null,
            "overflow": null,
            "overflow_x": null,
            "overflow_y": null,
            "padding": null,
            "right": null,
            "top": null,
            "visibility": null,
            "width": null
          }
        },
        "e67e434a7c7c469e969135ecdd1a2d5f": {
          "model_module": "@jupyter-widgets/base",
          "model_name": "LayoutModel",
          "model_module_version": "1.2.0",
          "state": {
            "_model_module": "@jupyter-widgets/base",
            "_model_module_version": "1.2.0",
            "_model_name": "LayoutModel",
            "_view_count": null,
            "_view_module": "@jupyter-widgets/base",
            "_view_module_version": "1.2.0",
            "_view_name": "LayoutView",
            "align_content": null,
            "align_items": null,
            "align_self": null,
            "border": null,
            "bottom": null,
            "display": null,
            "flex": null,
            "flex_flow": null,
            "grid_area": null,
            "grid_auto_columns": null,
            "grid_auto_flow": null,
            "grid_auto_rows": null,
            "grid_column": null,
            "grid_gap": null,
            "grid_row": null,
            "grid_template_areas": null,
            "grid_template_columns": null,
            "grid_template_rows": null,
            "height": null,
            "justify_content": null,
            "justify_items": null,
            "left": null,
            "margin": null,
            "max_height": null,
            "max_width": null,
            "min_height": null,
            "min_width": null,
            "object_fit": null,
            "object_position": null,
            "order": null,
            "overflow": null,
            "overflow_x": null,
            "overflow_y": null,
            "padding": null,
            "right": null,
            "top": null,
            "visibility": null,
            "width": null
          }
        },
        "c58d89f795ae4bbd9cdf8f7e1329c1f2": {
          "model_module": "@jupyter-widgets/controls",
          "model_name": "DescriptionStyleModel",
          "model_module_version": "1.5.0",
          "state": {
            "_model_module": "@jupyter-widgets/controls",
            "_model_module_version": "1.5.0",
            "_model_name": "DescriptionStyleModel",
            "_view_count": null,
            "_view_module": "@jupyter-widgets/base",
            "_view_module_version": "1.2.0",
            "_view_name": "StyleView",
            "description_width": ""
          }
        },
        "93c6724da47e4c1cb925b0318168e1eb": {
          "model_module": "@jupyter-widgets/base",
          "model_name": "LayoutModel",
          "model_module_version": "1.2.0",
          "state": {
            "_model_module": "@jupyter-widgets/base",
            "_model_module_version": "1.2.0",
            "_model_name": "LayoutModel",
            "_view_count": null,
            "_view_module": "@jupyter-widgets/base",
            "_view_module_version": "1.2.0",
            "_view_name": "LayoutView",
            "align_content": null,
            "align_items": null,
            "align_self": null,
            "border": null,
            "bottom": null,
            "display": null,
            "flex": null,
            "flex_flow": null,
            "grid_area": null,
            "grid_auto_columns": null,
            "grid_auto_flow": null,
            "grid_auto_rows": null,
            "grid_column": null,
            "grid_gap": null,
            "grid_row": null,
            "grid_template_areas": null,
            "grid_template_columns": null,
            "grid_template_rows": null,
            "height": null,
            "justify_content": null,
            "justify_items": null,
            "left": null,
            "margin": null,
            "max_height": null,
            "max_width": null,
            "min_height": null,
            "min_width": null,
            "object_fit": null,
            "object_position": null,
            "order": null,
            "overflow": null,
            "overflow_x": null,
            "overflow_y": null,
            "padding": null,
            "right": null,
            "top": null,
            "visibility": null,
            "width": null
          }
        },
        "ac38625dcfe7420cb687d7381a628b7f": {
          "model_module": "@jupyter-widgets/controls",
          "model_name": "ProgressStyleModel",
          "model_module_version": "1.5.0",
          "state": {
            "_model_module": "@jupyter-widgets/controls",
            "_model_module_version": "1.5.0",
            "_model_name": "ProgressStyleModel",
            "_view_count": null,
            "_view_module": "@jupyter-widgets/base",
            "_view_module_version": "1.2.0",
            "_view_name": "StyleView",
            "bar_color": null,
            "description_width": ""
          }
        },
        "0614160db1be4bde992849f6c0c7331e": {
          "model_module": "@jupyter-widgets/base",
          "model_name": "LayoutModel",
          "model_module_version": "1.2.0",
          "state": {
            "_model_module": "@jupyter-widgets/base",
            "_model_module_version": "1.2.0",
            "_model_name": "LayoutModel",
            "_view_count": null,
            "_view_module": "@jupyter-widgets/base",
            "_view_module_version": "1.2.0",
            "_view_name": "LayoutView",
            "align_content": null,
            "align_items": null,
            "align_self": null,
            "border": null,
            "bottom": null,
            "display": null,
            "flex": null,
            "flex_flow": null,
            "grid_area": null,
            "grid_auto_columns": null,
            "grid_auto_flow": null,
            "grid_auto_rows": null,
            "grid_column": null,
            "grid_gap": null,
            "grid_row": null,
            "grid_template_areas": null,
            "grid_template_columns": null,
            "grid_template_rows": null,
            "height": null,
            "justify_content": null,
            "justify_items": null,
            "left": null,
            "margin": null,
            "max_height": null,
            "max_width": null,
            "min_height": null,
            "min_width": null,
            "object_fit": null,
            "object_position": null,
            "order": null,
            "overflow": null,
            "overflow_x": null,
            "overflow_y": null,
            "padding": null,
            "right": null,
            "top": null,
            "visibility": null,
            "width": null
          }
        },
        "1e3633722a444d65a68591103e3c5363": {
          "model_module": "@jupyter-widgets/controls",
          "model_name": "DescriptionStyleModel",
          "model_module_version": "1.5.0",
          "state": {
            "_model_module": "@jupyter-widgets/controls",
            "_model_module_version": "1.5.0",
            "_model_name": "DescriptionStyleModel",
            "_view_count": null,
            "_view_module": "@jupyter-widgets/base",
            "_view_module_version": "1.2.0",
            "_view_name": "StyleView",
            "description_width": ""
          }
        },
        "d8581b57d9d64611a104663e1b5ef07a": {
          "model_module": "@jupyter-widgets/controls",
          "model_name": "HBoxModel",
          "model_module_version": "1.5.0",
          "state": {
            "_dom_classes": [],
            "_model_module": "@jupyter-widgets/controls",
            "_model_module_version": "1.5.0",
            "_model_name": "HBoxModel",
            "_view_count": null,
            "_view_module": "@jupyter-widgets/controls",
            "_view_module_version": "1.5.0",
            "_view_name": "HBoxView",
            "box_style": "",
            "children": [
              "IPY_MODEL_3988016725d14f7f9cd3c7acf42cadf6",
              "IPY_MODEL_9da25bc458fc462b8874cce24f80099c",
              "IPY_MODEL_285d30d7dd1d4a7fad0f6c2b88525b4f"
            ],
            "layout": "IPY_MODEL_4386254f7d764fd781a43f3ddd07cd13"
          }
        },
        "3988016725d14f7f9cd3c7acf42cadf6": {
          "model_module": "@jupyter-widgets/controls",
          "model_name": "HTMLModel",
          "model_module_version": "1.5.0",
          "state": {
            "_dom_classes": [],
            "_model_module": "@jupyter-widgets/controls",
            "_model_module_version": "1.5.0",
            "_model_name": "HTMLModel",
            "_view_count": null,
            "_view_module": "@jupyter-widgets/controls",
            "_view_module_version": "1.5.0",
            "_view_name": "HTMLView",
            "description": "",
            "description_tooltip": null,
            "layout": "IPY_MODEL_94e409ea474a42e0b2db783afb944e3d",
            "placeholder": "​",
            "style": "IPY_MODEL_73fb422ed27145ee8f49d7787ac09f75",
            "value": "100%"
          }
        },
        "9da25bc458fc462b8874cce24f80099c": {
          "model_module": "@jupyter-widgets/controls",
          "model_name": "FloatProgressModel",
          "model_module_version": "1.5.0",
          "state": {
            "_dom_classes": [],
            "_model_module": "@jupyter-widgets/controls",
            "_model_module_version": "1.5.0",
            "_model_name": "FloatProgressModel",
            "_view_count": null,
            "_view_module": "@jupyter-widgets/controls",
            "_view_module_version": "1.5.0",
            "_view_name": "ProgressView",
            "bar_style": "success",
            "description": "",
            "description_tooltip": null,
            "layout": "IPY_MODEL_5d14c28ab58042ac9d9d43ad230ab5a0",
            "max": 1875,
            "min": 0,
            "orientation": "horizontal",
            "style": "IPY_MODEL_2db1e937cbc34d4bbfceaef6e45ac3e7",
            "value": 1875
          }
        },
        "285d30d7dd1d4a7fad0f6c2b88525b4f": {
          "model_module": "@jupyter-widgets/controls",
          "model_name": "HTMLModel",
          "model_module_version": "1.5.0",
          "state": {
            "_dom_classes": [],
            "_model_module": "@jupyter-widgets/controls",
            "_model_module_version": "1.5.0",
            "_model_name": "HTMLModel",
            "_view_count": null,
            "_view_module": "@jupyter-widgets/controls",
            "_view_module_version": "1.5.0",
            "_view_name": "HTMLView",
            "description": "",
            "description_tooltip": null,
            "layout": "IPY_MODEL_3effe85f54de428cad1c955eb5630b59",
            "placeholder": "​",
            "style": "IPY_MODEL_c0b5b8fe896a457382d0f700fb1f6e64",
            "value": " 1875/1875 [00:43&lt;00:00, 39.77it/s]"
          }
        },
        "4386254f7d764fd781a43f3ddd07cd13": {
          "model_module": "@jupyter-widgets/base",
          "model_name": "LayoutModel",
          "model_module_version": "1.2.0",
          "state": {
            "_model_module": "@jupyter-widgets/base",
            "_model_module_version": "1.2.0",
            "_model_name": "LayoutModel",
            "_view_count": null,
            "_view_module": "@jupyter-widgets/base",
            "_view_module_version": "1.2.0",
            "_view_name": "LayoutView",
            "align_content": null,
            "align_items": null,
            "align_self": null,
            "border": null,
            "bottom": null,
            "display": null,
            "flex": null,
            "flex_flow": null,
            "grid_area": null,
            "grid_auto_columns": null,
            "grid_auto_flow": null,
            "grid_auto_rows": null,
            "grid_column": null,
            "grid_gap": null,
            "grid_row": null,
            "grid_template_areas": null,
            "grid_template_columns": null,
            "grid_template_rows": null,
            "height": null,
            "justify_content": null,
            "justify_items": null,
            "left": null,
            "margin": null,
            "max_height": null,
            "max_width": null,
            "min_height": null,
            "min_width": null,
            "object_fit": null,
            "object_position": null,
            "order": null,
            "overflow": null,
            "overflow_x": null,
            "overflow_y": null,
            "padding": null,
            "right": null,
            "top": null,
            "visibility": null,
            "width": null
          }
        },
        "94e409ea474a42e0b2db783afb944e3d": {
          "model_module": "@jupyter-widgets/base",
          "model_name": "LayoutModel",
          "model_module_version": "1.2.0",
          "state": {
            "_model_module": "@jupyter-widgets/base",
            "_model_module_version": "1.2.0",
            "_model_name": "LayoutModel",
            "_view_count": null,
            "_view_module": "@jupyter-widgets/base",
            "_view_module_version": "1.2.0",
            "_view_name": "LayoutView",
            "align_content": null,
            "align_items": null,
            "align_self": null,
            "border": null,
            "bottom": null,
            "display": null,
            "flex": null,
            "flex_flow": null,
            "grid_area": null,
            "grid_auto_columns": null,
            "grid_auto_flow": null,
            "grid_auto_rows": null,
            "grid_column": null,
            "grid_gap": null,
            "grid_row": null,
            "grid_template_areas": null,
            "grid_template_columns": null,
            "grid_template_rows": null,
            "height": null,
            "justify_content": null,
            "justify_items": null,
            "left": null,
            "margin": null,
            "max_height": null,
            "max_width": null,
            "min_height": null,
            "min_width": null,
            "object_fit": null,
            "object_position": null,
            "order": null,
            "overflow": null,
            "overflow_x": null,
            "overflow_y": null,
            "padding": null,
            "right": null,
            "top": null,
            "visibility": null,
            "width": null
          }
        },
        "73fb422ed27145ee8f49d7787ac09f75": {
          "model_module": "@jupyter-widgets/controls",
          "model_name": "DescriptionStyleModel",
          "model_module_version": "1.5.0",
          "state": {
            "_model_module": "@jupyter-widgets/controls",
            "_model_module_version": "1.5.0",
            "_model_name": "DescriptionStyleModel",
            "_view_count": null,
            "_view_module": "@jupyter-widgets/base",
            "_view_module_version": "1.2.0",
            "_view_name": "StyleView",
            "description_width": ""
          }
        },
        "5d14c28ab58042ac9d9d43ad230ab5a0": {
          "model_module": "@jupyter-widgets/base",
          "model_name": "LayoutModel",
          "model_module_version": "1.2.0",
          "state": {
            "_model_module": "@jupyter-widgets/base",
            "_model_module_version": "1.2.0",
            "_model_name": "LayoutModel",
            "_view_count": null,
            "_view_module": "@jupyter-widgets/base",
            "_view_module_version": "1.2.0",
            "_view_name": "LayoutView",
            "align_content": null,
            "align_items": null,
            "align_self": null,
            "border": null,
            "bottom": null,
            "display": null,
            "flex": null,
            "flex_flow": null,
            "grid_area": null,
            "grid_auto_columns": null,
            "grid_auto_flow": null,
            "grid_auto_rows": null,
            "grid_column": null,
            "grid_gap": null,
            "grid_row": null,
            "grid_template_areas": null,
            "grid_template_columns": null,
            "grid_template_rows": null,
            "height": null,
            "justify_content": null,
            "justify_items": null,
            "left": null,
            "margin": null,
            "max_height": null,
            "max_width": null,
            "min_height": null,
            "min_width": null,
            "object_fit": null,
            "object_position": null,
            "order": null,
            "overflow": null,
            "overflow_x": null,
            "overflow_y": null,
            "padding": null,
            "right": null,
            "top": null,
            "visibility": null,
            "width": null
          }
        },
        "2db1e937cbc34d4bbfceaef6e45ac3e7": {
          "model_module": "@jupyter-widgets/controls",
          "model_name": "ProgressStyleModel",
          "model_module_version": "1.5.0",
          "state": {
            "_model_module": "@jupyter-widgets/controls",
            "_model_module_version": "1.5.0",
            "_model_name": "ProgressStyleModel",
            "_view_count": null,
            "_view_module": "@jupyter-widgets/base",
            "_view_module_version": "1.2.0",
            "_view_name": "StyleView",
            "bar_color": null,
            "description_width": ""
          }
        },
        "3effe85f54de428cad1c955eb5630b59": {
          "model_module": "@jupyter-widgets/base",
          "model_name": "LayoutModel",
          "model_module_version": "1.2.0",
          "state": {
            "_model_module": "@jupyter-widgets/base",
            "_model_module_version": "1.2.0",
            "_model_name": "LayoutModel",
            "_view_count": null,
            "_view_module": "@jupyter-widgets/base",
            "_view_module_version": "1.2.0",
            "_view_name": "LayoutView",
            "align_content": null,
            "align_items": null,
            "align_self": null,
            "border": null,
            "bottom": null,
            "display": null,
            "flex": null,
            "flex_flow": null,
            "grid_area": null,
            "grid_auto_columns": null,
            "grid_auto_flow": null,
            "grid_auto_rows": null,
            "grid_column": null,
            "grid_gap": null,
            "grid_row": null,
            "grid_template_areas": null,
            "grid_template_columns": null,
            "grid_template_rows": null,
            "height": null,
            "justify_content": null,
            "justify_items": null,
            "left": null,
            "margin": null,
            "max_height": null,
            "max_width": null,
            "min_height": null,
            "min_width": null,
            "object_fit": null,
            "object_position": null,
            "order": null,
            "overflow": null,
            "overflow_x": null,
            "overflow_y": null,
            "padding": null,
            "right": null,
            "top": null,
            "visibility": null,
            "width": null
          }
        },
        "c0b5b8fe896a457382d0f700fb1f6e64": {
          "model_module": "@jupyter-widgets/controls",
          "model_name": "DescriptionStyleModel",
          "model_module_version": "1.5.0",
          "state": {
            "_model_module": "@jupyter-widgets/controls",
            "_model_module_version": "1.5.0",
            "_model_name": "DescriptionStyleModel",
            "_view_count": null,
            "_view_module": "@jupyter-widgets/base",
            "_view_module_version": "1.2.0",
            "_view_name": "StyleView",
            "description_width": ""
          }
        },
        "4b33482786f94dd8aeb195285c53c407": {
          "model_module": "@jupyter-widgets/controls",
          "model_name": "HBoxModel",
          "model_module_version": "1.5.0",
          "state": {
            "_dom_classes": [],
            "_model_module": "@jupyter-widgets/controls",
            "_model_module_version": "1.5.0",
            "_model_name": "HBoxModel",
            "_view_count": null,
            "_view_module": "@jupyter-widgets/controls",
            "_view_module_version": "1.5.0",
            "_view_name": "HBoxView",
            "box_style": "",
            "children": [
              "IPY_MODEL_261127b5cc524a609faef00e1818fcfa",
              "IPY_MODEL_c5b6136dff3540a4a4b59d2a20df8f14",
              "IPY_MODEL_3acbeaf9f4074db4bc1e3af3c99eee71"
            ],
            "layout": "IPY_MODEL_8e712b53099f488294f4b88ffe90a3f6"
          }
        },
        "261127b5cc524a609faef00e1818fcfa": {
          "model_module": "@jupyter-widgets/controls",
          "model_name": "HTMLModel",
          "model_module_version": "1.5.0",
          "state": {
            "_dom_classes": [],
            "_model_module": "@jupyter-widgets/controls",
            "_model_module_version": "1.5.0",
            "_model_name": "HTMLModel",
            "_view_count": null,
            "_view_module": "@jupyter-widgets/controls",
            "_view_module_version": "1.5.0",
            "_view_name": "HTMLView",
            "description": "",
            "description_tooltip": null,
            "layout": "IPY_MODEL_daf99f93c69a41ff87ca14c6eb9385ed",
            "placeholder": "​",
            "style": "IPY_MODEL_53f3395d003a4cde8350cf0ab57af6a4",
            "value": "100%"
          }
        },
        "c5b6136dff3540a4a4b59d2a20df8f14": {
          "model_module": "@jupyter-widgets/controls",
          "model_name": "FloatProgressModel",
          "model_module_version": "1.5.0",
          "state": {
            "_dom_classes": [],
            "_model_module": "@jupyter-widgets/controls",
            "_model_module_version": "1.5.0",
            "_model_name": "FloatProgressModel",
            "_view_count": null,
            "_view_module": "@jupyter-widgets/controls",
            "_view_module_version": "1.5.0",
            "_view_name": "ProgressView",
            "bar_style": "success",
            "description": "",
            "description_tooltip": null,
            "layout": "IPY_MODEL_cc453ec13e464f2489a1634a2fd2afb2",
            "max": 1875,
            "min": 0,
            "orientation": "horizontal",
            "style": "IPY_MODEL_57cfc216a9154b4bb41565f8a3156093",
            "value": 1875
          }
        },
        "3acbeaf9f4074db4bc1e3af3c99eee71": {
          "model_module": "@jupyter-widgets/controls",
          "model_name": "HTMLModel",
          "model_module_version": "1.5.0",
          "state": {
            "_dom_classes": [],
            "_model_module": "@jupyter-widgets/controls",
            "_model_module_version": "1.5.0",
            "_model_name": "HTMLModel",
            "_view_count": null,
            "_view_module": "@jupyter-widgets/controls",
            "_view_module_version": "1.5.0",
            "_view_name": "HTMLView",
            "description": "",
            "description_tooltip": null,
            "layout": "IPY_MODEL_26fc3f2ff4eb4c70ae63b7dd83690368",
            "placeholder": "​",
            "style": "IPY_MODEL_4c4a06575f6844ecaf928577712a4e74",
            "value": " 1875/1875 [00:44&lt;00:00, 46.69it/s]"
          }
        },
        "8e712b53099f488294f4b88ffe90a3f6": {
          "model_module": "@jupyter-widgets/base",
          "model_name": "LayoutModel",
          "model_module_version": "1.2.0",
          "state": {
            "_model_module": "@jupyter-widgets/base",
            "_model_module_version": "1.2.0",
            "_model_name": "LayoutModel",
            "_view_count": null,
            "_view_module": "@jupyter-widgets/base",
            "_view_module_version": "1.2.0",
            "_view_name": "LayoutView",
            "align_content": null,
            "align_items": null,
            "align_self": null,
            "border": null,
            "bottom": null,
            "display": null,
            "flex": null,
            "flex_flow": null,
            "grid_area": null,
            "grid_auto_columns": null,
            "grid_auto_flow": null,
            "grid_auto_rows": null,
            "grid_column": null,
            "grid_gap": null,
            "grid_row": null,
            "grid_template_areas": null,
            "grid_template_columns": null,
            "grid_template_rows": null,
            "height": null,
            "justify_content": null,
            "justify_items": null,
            "left": null,
            "margin": null,
            "max_height": null,
            "max_width": null,
            "min_height": null,
            "min_width": null,
            "object_fit": null,
            "object_position": null,
            "order": null,
            "overflow": null,
            "overflow_x": null,
            "overflow_y": null,
            "padding": null,
            "right": null,
            "top": null,
            "visibility": null,
            "width": null
          }
        },
        "daf99f93c69a41ff87ca14c6eb9385ed": {
          "model_module": "@jupyter-widgets/base",
          "model_name": "LayoutModel",
          "model_module_version": "1.2.0",
          "state": {
            "_model_module": "@jupyter-widgets/base",
            "_model_module_version": "1.2.0",
            "_model_name": "LayoutModel",
            "_view_count": null,
            "_view_module": "@jupyter-widgets/base",
            "_view_module_version": "1.2.0",
            "_view_name": "LayoutView",
            "align_content": null,
            "align_items": null,
            "align_self": null,
            "border": null,
            "bottom": null,
            "display": null,
            "flex": null,
            "flex_flow": null,
            "grid_area": null,
            "grid_auto_columns": null,
            "grid_auto_flow": null,
            "grid_auto_rows": null,
            "grid_column": null,
            "grid_gap": null,
            "grid_row": null,
            "grid_template_areas": null,
            "grid_template_columns": null,
            "grid_template_rows": null,
            "height": null,
            "justify_content": null,
            "justify_items": null,
            "left": null,
            "margin": null,
            "max_height": null,
            "max_width": null,
            "min_height": null,
            "min_width": null,
            "object_fit": null,
            "object_position": null,
            "order": null,
            "overflow": null,
            "overflow_x": null,
            "overflow_y": null,
            "padding": null,
            "right": null,
            "top": null,
            "visibility": null,
            "width": null
          }
        },
        "53f3395d003a4cde8350cf0ab57af6a4": {
          "model_module": "@jupyter-widgets/controls",
          "model_name": "DescriptionStyleModel",
          "model_module_version": "1.5.0",
          "state": {
            "_model_module": "@jupyter-widgets/controls",
            "_model_module_version": "1.5.0",
            "_model_name": "DescriptionStyleModel",
            "_view_count": null,
            "_view_module": "@jupyter-widgets/base",
            "_view_module_version": "1.2.0",
            "_view_name": "StyleView",
            "description_width": ""
          }
        },
        "cc453ec13e464f2489a1634a2fd2afb2": {
          "model_module": "@jupyter-widgets/base",
          "model_name": "LayoutModel",
          "model_module_version": "1.2.0",
          "state": {
            "_model_module": "@jupyter-widgets/base",
            "_model_module_version": "1.2.0",
            "_model_name": "LayoutModel",
            "_view_count": null,
            "_view_module": "@jupyter-widgets/base",
            "_view_module_version": "1.2.0",
            "_view_name": "LayoutView",
            "align_content": null,
            "align_items": null,
            "align_self": null,
            "border": null,
            "bottom": null,
            "display": null,
            "flex": null,
            "flex_flow": null,
            "grid_area": null,
            "grid_auto_columns": null,
            "grid_auto_flow": null,
            "grid_auto_rows": null,
            "grid_column": null,
            "grid_gap": null,
            "grid_row": null,
            "grid_template_areas": null,
            "grid_template_columns": null,
            "grid_template_rows": null,
            "height": null,
            "justify_content": null,
            "justify_items": null,
            "left": null,
            "margin": null,
            "max_height": null,
            "max_width": null,
            "min_height": null,
            "min_width": null,
            "object_fit": null,
            "object_position": null,
            "order": null,
            "overflow": null,
            "overflow_x": null,
            "overflow_y": null,
            "padding": null,
            "right": null,
            "top": null,
            "visibility": null,
            "width": null
          }
        },
        "57cfc216a9154b4bb41565f8a3156093": {
          "model_module": "@jupyter-widgets/controls",
          "model_name": "ProgressStyleModel",
          "model_module_version": "1.5.0",
          "state": {
            "_model_module": "@jupyter-widgets/controls",
            "_model_module_version": "1.5.0",
            "_model_name": "ProgressStyleModel",
            "_view_count": null,
            "_view_module": "@jupyter-widgets/base",
            "_view_module_version": "1.2.0",
            "_view_name": "StyleView",
            "bar_color": null,
            "description_width": ""
          }
        },
        "26fc3f2ff4eb4c70ae63b7dd83690368": {
          "model_module": "@jupyter-widgets/base",
          "model_name": "LayoutModel",
          "model_module_version": "1.2.0",
          "state": {
            "_model_module": "@jupyter-widgets/base",
            "_model_module_version": "1.2.0",
            "_model_name": "LayoutModel",
            "_view_count": null,
            "_view_module": "@jupyter-widgets/base",
            "_view_module_version": "1.2.0",
            "_view_name": "LayoutView",
            "align_content": null,
            "align_items": null,
            "align_self": null,
            "border": null,
            "bottom": null,
            "display": null,
            "flex": null,
            "flex_flow": null,
            "grid_area": null,
            "grid_auto_columns": null,
            "grid_auto_flow": null,
            "grid_auto_rows": null,
            "grid_column": null,
            "grid_gap": null,
            "grid_row": null,
            "grid_template_areas": null,
            "grid_template_columns": null,
            "grid_template_rows": null,
            "height": null,
            "justify_content": null,
            "justify_items": null,
            "left": null,
            "margin": null,
            "max_height": null,
            "max_width": null,
            "min_height": null,
            "min_width": null,
            "object_fit": null,
            "object_position": null,
            "order": null,
            "overflow": null,
            "overflow_x": null,
            "overflow_y": null,
            "padding": null,
            "right": null,
            "top": null,
            "visibility": null,
            "width": null
          }
        },
        "4c4a06575f6844ecaf928577712a4e74": {
          "model_module": "@jupyter-widgets/controls",
          "model_name": "DescriptionStyleModel",
          "model_module_version": "1.5.0",
          "state": {
            "_model_module": "@jupyter-widgets/controls",
            "_model_module_version": "1.5.0",
            "_model_name": "DescriptionStyleModel",
            "_view_count": null,
            "_view_module": "@jupyter-widgets/base",
            "_view_module_version": "1.2.0",
            "_view_name": "StyleView",
            "description_width": ""
          }
        }
      }
    }
  },
  "cells": [
    {
      "cell_type": "markdown",
      "source": [
        "# Import necessary modules"
      ],
      "metadata": {
        "id": "ZM8-dSQw4dFH"
      }
    },
    {
      "cell_type": "code",
      "source": [
        "!pip install -U -q neurograd[\"all\"]\n",
        "\n",
        "import neurograd as ng\n",
        "import os\n",
        "import numpy as np\n",
        "import gzip\n",
        "import urllib.request\n",
        "\n",
        "try:\n",
        "    import cupy as cp\n",
        "except ImportError:\n",
        "    print(\"[INFO] CuPy not found – using NumPy (CPU) for the demo.\")\n",
        "    import numpy as cp\n",
        "\n",
        "from matplotlib import pyplot as plt\n",
        "import random"
      ],
      "metadata": {
        "id": "12GhOQ_WzjqH"
      },
      "execution_count": 32,
      "outputs": []
    },
    {
      "cell_type": "markdown",
      "source": [
        "# Prepare Lecun's MNIST dataset"
      ],
      "metadata": {
        "id": "kGpJcIbC4aqO"
      }
    },
    {
      "cell_type": "code",
      "execution_count": 10,
      "metadata": {
        "colab": {
          "base_uri": "https://localhost:8080/"
        },
        "id": "5zhF-BR7zXxf",
        "outputId": "c970c5cb-b1f3-4f48-fc40-85903f33c695"
      },
      "outputs": [
        {
          "output_type": "stream",
          "name": "stdout",
          "text": [
            "[SKIP] train-images-idx3-ubyte.gz already present.\n",
            "[SKIP] train-labels-idx1-ubyte.gz already present.\n",
            "[SKIP] t10k-images-idx3-ubyte.gz already present.\n",
            "[SKIP] t10k-labels-idx1-ubyte.gz already present.\n",
            "\n",
            "=== Dataset summary ===\n",
            "X_train shape : (60000, 1, 32, 32)   dtype: float32\n",
            "y_train shape : (60000, 10)   dtype: float32\n",
            "X_test  shape : (10000, 1, 32, 32)    dtype: float32\n",
            "y_test shape : (10000, 10)   dtype: float32\n"
          ]
        }
      ],
      "source": [
        "# -------------------------------------------------\n",
        "# MNIST → CuPy (or NumPy) with one‑hot labels,\n",
        "# downloading directly from the Google‑Cloud mirror.\n",
        "\n",
        "MIRROR_URL = \"https://storage.googleapis.com/cvdf-datasets/mnist/\"\n",
        "FILES = {\n",
        "    \"train_images\": \"train-images-idx3-ubyte.gz\",\n",
        "    \"train_labels\": \"train-labels-idx1-ubyte.gz\",\n",
        "    \"test_images\":  \"t10k-images-idx3-ubyte.gz\",\n",
        "    \"test_labels\":  \"t10k-labels-idx1-ubyte.gz\",\n",
        "}\n",
        "NUM_CLASSES = 10\n",
        "IMG_SHAPE   = (28, 28)   # original MNIST size\n",
        "PADDED_SHAPE = (32, 32)  # after padding (2‑pixel border each side)\n",
        "\n",
        "\n",
        "\n",
        "def maybe_download(filename: str) -> str:\n",
        "    \"\"\"\n",
        "    Download `filename` from the Google‑Cloud mirror if it does not already exist.\n",
        "    Returns the local path to the file.\n",
        "    \"\"\"\n",
        "    if not os.path.exists(filename):\n",
        "        url = MIRROR_URL + filename\n",
        "        print(f\"[DOWNLOAD] {url}\")\n",
        "        urllib.request.urlretrieve(url, filename)\n",
        "    else:\n",
        "        print(f\"[SKIP] {filename} already present.\")\n",
        "    return filename\n",
        "\n",
        "\n",
        "\n",
        "def read_idx_gz(path: str, header_bytes: int) -> np.ndarray:\n",
        "    \"\"\"\n",
        "    Read a gzipped IDX file and return the raw contents as a 1‑D uint8 NumPy array.\n",
        "    `header_bytes` is the number of bytes to strip (magic number + dimensions).\n",
        "    \"\"\"\n",
        "    with gzip.open(path, \"rb\") as f:\n",
        "        buffer = f.read()\n",
        "    return np.frombuffer(buffer, dtype=np.uint8)[header_bytes:]\n",
        "\n",
        "\n",
        "# -------------------------------------------------\n",
        "# Download + parse all four files\n",
        "# -------------------------------------------------\n",
        "train_images_path = maybe_download(FILES[\"train_images\"])\n",
        "train_labels_path = maybe_download(FILES[\"train_labels\"])\n",
        "test_images_path  = maybe_download(FILES[\"test_images\"])\n",
        "test_labels_path  = maybe_download(FILES[\"test_labels\"])\n",
        "\n",
        "train_images = read_idx_gz(train_images_path, header_bytes=16).reshape(-1, *IMG_SHAPE)\n",
        "train_labels = read_idx_gz(train_labels_path, header_bytes=8)\n",
        "\n",
        "test_images  = read_idx_gz(test_images_path,  header_bytes=16).reshape(-1, *IMG_SHAPE)\n",
        "test_labels  = read_idx_gz(test_labels_path,  header_bytes=8)\n",
        "\n",
        "# -------------------------------------------------\n",
        "# Normalise, pad, add channel dimension, move to CuPy/NumPy\n",
        "# -------------------------------------------------\n",
        "def preprocess(images: np.ndarray) -> cp.ndarray:\n",
        "    \"\"\"\n",
        "    * Convert uint8 → float32 and scale to [0,1]\n",
        "    * Pad from 28×28 → 32×32 (2‑pixel zero border)\n",
        "    * Add the channel dimension → (N,1,32,32)\n",
        "    Returns a CuPy (or NumPy) array.\n",
        "    \"\"\"\n",
        "    # 1️⃣ Normalise\n",
        "    images = images.astype(np.float32) / 255.0\n",
        "\n",
        "    # 2️⃣ Pad height & width (constant = 0)\n",
        "    images = np.pad(images,\n",
        "                    pad_width=((0, 0), (2, 2), (2, 2)),\n",
        "                    mode=\"constant\")\n",
        "\n",
        "    # 3️⃣ Add channel axis\n",
        "    images = images[:, None, :, :]    # (N, 1, 32, 32)\n",
        "\n",
        "    # 4️⃣ Transfer to the backend (GPU if CuPy, else CPU)\n",
        "    return cp.asarray(images)\n",
        "\n",
        "\n",
        "X_train = preprocess(train_images)\n",
        "X_test  = preprocess(test_images)\n",
        "\n",
        "# -------------------------------------------------\n",
        "# Convert integer labels → one‑hot vectors\n",
        "# -------------------------------------------------\n",
        "def one_hot(labels: cp.ndarray, num_classes: int = NUM_CLASSES) -> cp.ndarray:\n",
        "    \"\"\"\n",
        "    `labels` is a CuPy/NumPy 1‑D integer array.\n",
        "    Returns a (N, num_classes) float32 array where the column matching the label is 1.\n",
        "    \"\"\"\n",
        "    # `cp.eye` creates an identity matrix (num_classes × num_classes).\n",
        "    # Indexing that matrix with the label vector expands each label into a row.\n",
        "    return cp.eye(num_classes, dtype=cp.float32)[labels]\n",
        "\n",
        "\n",
        "# Move integer labels onto the same backend first\n",
        "y_train = cp.asarray(train_labels, dtype=cp.int64)\n",
        "y_test  = cp.asarray(test_labels,  dtype=cp.int64)\n",
        "\n",
        "# One‑hot encode\n",
        "y_train = one_hot(y_train)\n",
        "y_test  = one_hot(y_test)\n",
        "\n",
        "# -------------------------------------------------\n",
        "# Quick sanity‑check (printing a few shapes / dtypes)\n",
        "# -------------------------------------------------\n",
        "print(\"\\n=== Dataset summary ===\")\n",
        "print(f\"X_train shape : {X_train.shape}   dtype: {X_train.dtype}\")\n",
        "print(f\"y_train shape : {y_train.shape}   dtype: {y_train.dtype}\")\n",
        "\n",
        "print(f\"X_test  shape : {X_test.shape}    dtype: {X_test.dtype}\")\n",
        "print(f\"y_test shape : {y_test.shape}   dtype: {y_test.dtype}\")"
      ]
    },
    {
      "cell_type": "code",
      "source": [
        "# Plot 4 random images\n",
        "\n",
        "indices = range(len(X_train))\n",
        "chosen = cp.random.choice(indices, 4)\n",
        "\n",
        "plt.figure(figsize=(10, 7))\n",
        "for i, idx in enumerate(chosen, 1):\n",
        "  plt.subplot(1, 4, i)\n",
        "  img = X_train[idx].reshape(32, 32).get()\n",
        "  label = y_train[idx].argmax().squeeze().get()\n",
        "  plt.axis(\"off\")\n",
        "  plt.imshow(img, cmap='gray')\n",
        "  plt.title(f\"Label: {label}\")\n",
        "plt.show()"
      ],
      "metadata": {
        "colab": {
          "base_uri": "https://localhost:8080/",
          "height": 227
        },
        "id": "n5Wk_Dv05QQz",
        "outputId": "e18b6cec-e887-4e76-9846-738d097df849"
      },
      "execution_count": 26,
      "outputs": [
        {
          "output_type": "display_data",
          "data": {
            "text/plain": [
              "<Figure size 1000x700 with 4 Axes>"
            ],
            "image/png": "[encoded data removed]"
          },
          "metadata": {}
        }
      ]
    },
    {
      "cell_type": "code",
      "source": [
        "from neurograd.utils.data import Dataset, DataLoader\n",
        "\n",
        "train_dataset = Dataset(X_train, y_train)\n",
        "train_loader = DataLoader(train_dataset, batch_size=32, shuffle=True)\n",
        "\n",
        "test_dataset = Dataset(X_test, y_test)\n",
        "test_loader = DataLoader(test_dataset, batch_size=32, shuffle=False)"
      ],
      "metadata": {
        "id": "AOt2rCLO6VZv"
      },
      "execution_count": 30,
      "outputs": []
    },
    {
      "cell_type": "markdown",
      "source": [
        "# Model architecture, optimizer and losses"
      ],
      "metadata": {
        "id": "_mjh6qAb7OJi"
      }
    },
    {
      "cell_type": "code",
      "source": [
        "from neurograd.nn.layers import Sequential, Conv2D, AveragePool2D, Flatten, Linear\n",
        "\n",
        "model = Sequential(\n",
        "    Conv2D(in_channels=1, out_channels=6, kernel_size=5, strides=1, activation=\"tanh\"),\n",
        "    AveragePool2D(pool_size=2, strides=2),\n",
        "    Conv2D(in_channels=6, out_channels=16, kernel_size=5, strides=1, activation=\"tanh\"),\n",
        "    AveragePool2D(pool_size=2, strides=2),\n",
        "    Flatten(),\n",
        "    Linear(in_features=400, out_features=120, activation=\"tanh\"),\n",
        "    Linear(in_features=120, out_features=84, activation=\"tanh\"),\n",
        "    Linear(in_features=84, out_features=10, activation=\"softmax\")\n",
        ")\n",
        "\n",
        "for name, param in model.named_parameters():\n",
        "    print(name, param.shape)"
      ],
      "metadata": {
        "colab": {
          "base_uri": "https://localhost:8080/"
        },
        "id": "lMmhKSHc8Atn",
        "outputId": "708222c8-4906-4d75-e41c-7ef62f7c70b4"
      },
      "execution_count": 77,
      "outputs": [
        {
          "output_type": "stream",
          "name": "stdout",
          "text": [
            "layer_0.kernels (6, 1, 5, 5)\n",
            "layer_0.bias (1, 6, 1, 1)\n",
            "layer_2.kernels (16, 6, 5, 5)\n",
            "layer_2.bias (1, 16, 1, 1)\n",
            "layer_5.weight (400, 120)\n",
            "layer_5.bias (120,)\n",
            "layer_6.weight (120, 84)\n",
            "layer_6.bias (84,)\n",
            "layer_7.weight (84, 10)\n",
            "layer_7.bias (10,)\n"
          ]
        }
      ]
    },
    {
      "cell_type": "code",
      "source": [
        "from neurograd.optim import Adam\n",
        "from neurograd.nn.losses import CategoricalCrossEntropy\n",
        "from neurograd.nn.metrics import accuracy_score\n",
        "\n",
        "optimizer = Adam(model.named_parameters(), lr=0.001)\n",
        "loss_fn = CategoricalCrossEntropy()"
      ],
      "metadata": {
        "id": "r108dB-v7mMj"
      },
      "execution_count": 78,
      "outputs": []
    },
    {
      "cell_type": "markdown",
      "source": [
        "# Training (mixed precision)"
      ],
      "metadata": {
        "id": "7qNgCMin-coo"
      }
    },
    {
      "cell_type": "code",
      "source": [
        "from tqdm.auto import tqdm\n",
        "from neurograd.amp import GradScaler\n",
        "scaler = GradScaler()\n",
        "\n",
        "EPOCHS = 3\n",
        "BATCH_SIZE = train_loader.batch_size\n",
        "\n",
        "\n",
        "for epoch in range(1, EPOCHS + 1):\n",
        "\n",
        "  print(f\"Epoch: {epoch} / {EPOCHS}:\")\n",
        "  train_losses, train_acc = [], []\n",
        "  test_losses, test_acc = [], []\n",
        "\n",
        "  model.train()\n",
        "  for (X_train, y_train) in tqdm(train_loader):\n",
        "      with ng.autocast():\n",
        "        y_pred = model(X_train)\n",
        "        loss = loss_fn(y_train, y_pred)\n",
        "        train_losses.append(loss.data)\n",
        "        optimizer.zero_grad()\n",
        "        scaler.scale(loss).backward()\n",
        "        scaler.step(optimizer)\n",
        "        scaler.update()\n",
        "        acc = accuracy_score(y_train.argmax(axis=-1), y_pred.argmax(axis=-1))\n",
        "        train_acc.append(acc)\n",
        "\n",
        "  model.eval()\n",
        "  for (X_test, y_test) in test_loader:\n",
        "    with ng.autocast():\n",
        "      y_pred = model(X_test)\n",
        "      loss = loss_fn(y_test, y_pred)\n",
        "      acc = accuracy_score(y_test.argmax(axis=-1), y_pred.argmax(axis=-1))\n",
        "      test_losses.append(loss.data)\n",
        "      test_acc.append(acc)\n",
        "\n",
        "  # Convert lists to arrays before mean\n",
        "  train_losses = cp.asarray(train_losses)\n",
        "  train_acc = cp.asarray(train_acc)\n",
        "  test_losses = cp.asarray(test_losses)\n",
        "  test_acc = cp.asarray(test_acc)\n",
        "\n",
        "  print(\n",
        "      f\"Train loss: {cp.mean(train_losses):.4f}, \"\n",
        "      f\"Train acc: {cp.mean(train_acc):.4f}, \"\n",
        "      f\"Test loss: {cp.mean(test_losses):.4f}, \"\n",
        "      f\"Test acc: {cp.mean(test_acc):.4f}\"\n",
        "  )"
      ],
      "metadata": {
        "colab": {
          "base_uri": "https://localhost:8080/",
          "height": 217,
          "referenced_widgets": [
            "3b24dd647250421c89b4dbe35ee4b648",
            "26da18f536aa44ddaeecd6c5b8e27922",
            "7af74a93ab97444c997e5724aebc0bdf",
            "7bc410626f184a199b63cf4194f564b8",
            "374953ffea374beca96eccf82ce1fd3b",
            "e67e434a7c7c469e969135ecdd1a2d5f",
            "c58d89f795ae4bbd9cdf8f7e1329c1f2",
            "93c6724da47e4c1cb925b0318168e1eb",
            "ac38625dcfe7420cb687d7381a628b7f",
            "0614160db1be4bde992849f6c0c7331e",
            "1e3633722a444d65a68591103e3c5363",
            "d8581b57d9d64611a104663e1b5ef07a",
            "3988016725d14f7f9cd3c7acf42cadf6",
            "9da25bc458fc462b8874cce24f80099c",
            "285d30d7dd1d4a7fad0f6c2b88525b4f",
            "4386254f7d764fd781a43f3ddd07cd13",
            "94e409ea474a42e0b2db783afb944e3d",
            "73fb422ed27145ee8f49d7787ac09f75",
            "5d14c28ab58042ac9d9d43ad230ab5a0",
            "2db1e937cbc34d4bbfceaef6e45ac3e7",
            "3effe85f54de428cad1c955eb5630b59",
            "c0b5b8fe896a457382d0f700fb1f6e64",
            "4b33482786f94dd8aeb195285c53c407",
            "261127b5cc524a609faef00e1818fcfa",
            "c5b6136dff3540a4a4b59d2a20df8f14",
            "3acbeaf9f4074db4bc1e3af3c99eee71",
            "8e712b53099f488294f4b88ffe90a3f6",
            "daf99f93c69a41ff87ca14c6eb9385ed",
            "53f3395d003a4cde8350cf0ab57af6a4",
            "cc453ec13e464f2489a1634a2fd2afb2",
            "57cfc216a9154b4bb41565f8a3156093",
            "26fc3f2ff4eb4c70ae63b7dd83690368",
            "4c4a06575f6844ecaf928577712a4e74"
          ]
        },
        "id": "WmlIWwO39ugK",
        "outputId": "032924ef-1995-4554-e803-d86795cb2629"
      },
      "execution_count": 79,
      "outputs": [
        {
          "output_type": "stream",
          "name": "stdout",
          "text": [
            "Epoch: 1 / 3:\n"
          ]
        },
        {
          "output_type": "display_data",
          "data": {
            "text/plain": [
              "  0%|          | 0/1875 [00:00<?, ?it/s]"
            ],
            "application/vnd.jupyter.widget-view+json": {
              "version_major": 2,
              "version_minor": 0,
              "model_id": "3b24dd647250421c89b4dbe35ee4b648"
            }
          },
          "metadata": {}
        },
        {
          "output_type": "stream",
          "name": "stdout",
          "text": [
            "Train loss: 1.5844, Train acc: 0.9195, Test loss: 1.4150, Test acc: 0.9579\n",
            "Epoch: 2 / 3:\n"
          ]
        },
        {
          "output_type": "display_data",
          "data": {
            "text/plain": [
              "  0%|          | 0/1875 [00:00<?, ?it/s]"
            ],
            "application/vnd.jupyter.widget-view+json": {
              "version_major": 2,
              "version_minor": 0,
              "model_id": "d8581b57d9d64611a104663e1b5ef07a"
            }
          },
          "metadata": {}
        },
        {
          "output_type": "stream",
          "name": "stdout",
          "text": [
            "Train loss: 1.4231, Train acc: 0.9591, Test loss: 1.3833, Test acc: 0.9656\n",
            "Epoch: 3 / 3:\n"
          ]
        },
        {
          "output_type": "display_data",
          "data": {
            "text/plain": [
              "  0%|          | 0/1875 [00:00<?, ?it/s]"
            ],
            "application/vnd.jupyter.widget-view+json": {
              "version_major": 2,
              "version_minor": 0,
              "model_id": "4b33482786f94dd8aeb195285c53c407"
            }
          },
          "metadata": {}
        },
        {
          "output_type": "stream",
          "name": "stdout",
          "text": [
            "Train loss: 1.3959, Train acc: 0.9663, Test loss: 1.3700, Test acc: 0.9696\n"
          ]
        }
      ]
    },
    {
      "cell_type": "markdown",
      "source": [
        "# Visualize model predictions"
      ],
      "metadata": {
        "id": "IYRMkvTHFo4e"
      }
    },
    {
      "cell_type": "code",
      "source": [
        "X, y = random.choice(test_loader)\n",
        "with ng.autocast():\n",
        "    y_pred = model(X)\n",
        "\n",
        "correct = 0\n",
        "for idx in range(32):  # 4 rows * 8 cols = 32 images\n",
        "    img = X[idx].data.reshape(32, 32).get()\n",
        "    label = y[idx].data.argmax(-1).get()\n",
        "    pred = y_pred[idx].data.argmax(-1).get()\n",
        "    correct += label == pred\n",
        "\n",
        "    plt.subplot(4, 8, idx + 1)  # subplot indices start at 1\n",
        "    plt.imshow(img, cmap='gray')\n",
        "    plt.axis('off')\n",
        "    plt.title(f\"Label: {label}\\nPred: {pred}\")\n",
        "\n",
        "plt.tight_layout()\n",
        "plt.show()\n",
        "print(f\"Guessed {correct} / 32\")"
      ],
      "metadata": {
        "colab": {
          "base_uri": "https://localhost:8080/",
          "height": 498
        },
        "id": "7_bM1xGz_IYl",
        "outputId": "7a9ed8da-2334-4185-ee8c-6c4b80e386fb"
      },
      "execution_count": 105,
      "outputs": [
        {
          "output_type": "display_data",
          "data": {
            "text/plain": [
              "<Figure size 640x480 with 32 Axes>"
            ],
            "image/png": "[encoded data removed]"
          },
          "metadata": {}
        },
        {
          "output_type": "stream",
          "name": "stdout",
          "text": [
            "Guessed 30 / 32\n"
          ]
        }
      ]
    },
    {
      "cell_type": "code",
      "source": [],
      "metadata": {
        "id": "IjADapsZFuvQ"
      },
      "execution_count": null,
      "outputs": []
    }
  ]
}