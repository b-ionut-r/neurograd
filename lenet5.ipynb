{
  "nbformat": 4,
  "nbformat_minor": 0,
  "metadata": {
    "colab": {
      "provenance": [],
      "gpuType": "T4"
    },
    "kernelspec": {
      "name": "python3",
      "display_name": "Python 3"
    },
    "language_info": {
      "name": "python"
    },
    "accelerator": "GPU",
    "widgets": {
      "application/vnd.jupyter.widget-state+json": {
        "43843b93ffbc4475a6d63b47943b79ca": {
          "model_module": "@jupyter-widgets/controls",
          "model_name": "HBoxModel",
          "model_module_version": "1.5.0",
          "state": {
            "_dom_classes": [],
            "_model_module": "@jupyter-widgets/controls",
            "_model_module_version": "1.5.0",
            "_model_name": "HBoxModel",
            "_view_count": null,
            "_view_module": "@jupyter-widgets/controls",
            "_view_module_version": "1.5.0",
            "_view_name": "HBoxView",
            "box_style": "",
            "children": [
              "IPY_MODEL_27a5535bcacf49da9bdf8f1ad5431965",
              "IPY_MODEL_5770ccf6f1534a0c81293109900a1da5",
              "IPY_MODEL_af515d74439d4d42910f28198e9c6f8f"
            ],
            "layout": "IPY_MODEL_c5c585cd1c0248aaada983fca7d9c3a6"
          }
        },
        "27a5535bcacf49da9bdf8f1ad5431965": {
          "model_module": "@jupyter-widgets/controls",
          "model_name": "HTMLModel",
          "model_module_version": "1.5.0",
          "state": {
            "_dom_classes": [],
            "_model_module": "@jupyter-widgets/controls",
            "_model_module_version": "1.5.0",
            "_model_name": "HTMLModel",
            "_view_count": null,
            "_view_module": "@jupyter-widgets/controls",
            "_view_module_version": "1.5.0",
            "_view_name": "HTMLView",
            "description": "",
            "description_tooltip": null,
            "layout": "IPY_MODEL_6771415316414c57b6933e337bc562a0",
            "placeholder": "​",
            "style": "IPY_MODEL_4a603aa233c74382b92754408b6ecc27",
            "value": "100%"
          }
        },
        "5770ccf6f1534a0c81293109900a1da5": {
          "model_module": "@jupyter-widgets/controls",
          "model_name": "FloatProgressModel",
          "model_module_version": "1.5.0",
          "state": {
            "_dom_classes": [],
            "_model_module": "@jupyter-widgets/controls",
            "_model_module_version": "1.5.0",
            "_model_name": "FloatProgressModel",
            "_view_count": null,
            "_view_module": "@jupyter-widgets/controls",
            "_view_module_version": "1.5.0",
            "_view_name": "ProgressView",
            "bar_style": "success",
            "description": "",
            "description_tooltip": null,
            "layout": "IPY_MODEL_e47c1e8ebc05463eb05f8f04f927858c",
            "max": 1875,
            "min": 0,
            "orientation": "horizontal",
            "style": "IPY_MODEL_9f476ceac253480485bc8daee60e346d",
            "value": 1875
          }
        },
        "af515d74439d4d42910f28198e9c6f8f": {
          "model_module": "@jupyter-widgets/controls",
          "model_name": "HTMLModel",
          "model_module_version": "1.5.0",
          "state": {
            "_dom_classes": [],
            "_model_module": "@jupyter-widgets/controls",
            "_model_module_version": "1.5.0",
            "_model_name": "HTMLModel",
            "_view_count": null,
            "_view_module": "@jupyter-widgets/controls",
            "_view_module_version": "1.5.0",
            "_view_name": "HTMLView",
            "description": "",
            "description_tooltip": null,
            "layout": "IPY_MODEL_60df735e59784aa2a397f99187bb030d",
            "placeholder": "​",
            "style": "IPY_MODEL_c4c2bb1054b8437ca5dfaa3f0e8ac54d",
            "value": " 1875/1875 [00:55&lt;00:00, 33.25it/s]"
          }
        },
        "c5c585cd1c0248aaada983fca7d9c3a6": {
          "model_module": "@jupyter-widgets/base",
          "model_name": "LayoutModel",
          "model_module_version": "1.2.0",
          "state": {
            "_model_module": "@jupyter-widgets/base",
            "_model_module_version": "1.2.0",
            "_model_name": "LayoutModel",
            "_view_count": null,
            "_view_module": "@jupyter-widgets/base",
            "_view_module_version": "1.2.0",
            "_view_name": "LayoutView",
            "align_content": null,
            "align_items": null,
            "align_self": null,
            "border": null,
            "bottom": null,
            "display": null,
            "flex": null,
            "flex_flow": null,
            "grid_area": null,
            "grid_auto_columns": null,
            "grid_auto_flow": null,
            "grid_auto_rows": null,
            "grid_column": null,
            "grid_gap": null,
            "grid_row": null,
            "grid_template_areas": null,
            "grid_template_columns": null,
            "grid_template_rows": null,
            "height": null,
            "justify_content": null,
            "justify_items": null,
            "left": null,
            "margin": null,
            "max_height": null,
            "max_width": null,
            "min_height": null,
            "min_width": null,
            "object_fit": null,
            "object_position": null,
            "order": null,
            "overflow": null,
            "overflow_x": null,
            "overflow_y": null,
            "padding": null,
            "right": null,
            "top": null,
            "visibility": null,
            "width": null
          }
        },
        "6771415316414c57b6933e337bc562a0": {
          "model_module": "@jupyter-widgets/base",
          "model_name": "LayoutModel",
          "model_module_version": "1.2.0",
          "state": {
            "_model_module": "@jupyter-widgets/base",
            "_model_module_version": "1.2.0",
            "_model_name": "LayoutModel",
            "_view_count": null,
            "_view_module": "@jupyter-widgets/base",
            "_view_module_version": "1.2.0",
            "_view_name": "LayoutView",
            "align_content": null,
            "align_items": null,
            "align_self": null,
            "border": null,
            "bottom": null,
            "display": null,
            "flex": null,
            "flex_flow": null,
            "grid_area": null,
            "grid_auto_columns": null,
            "grid_auto_flow": null,
            "grid_auto_rows": null,
            "grid_column": null,
            "grid_gap": null,
            "grid_row": null,
            "grid_template_areas": null,
            "grid_template_columns": null,
            "grid_template_rows": null,
            "height": null,
            "justify_content": null,
            "justify_items": null,
            "left": null,
            "margin": null,
            "max_height": null,
            "max_width": null,
            "min_height": null,
            "min_width": null,
            "object_fit": null,
            "object_position": null,
            "order": null,
            "overflow": null,
            "overflow_x": null,
            "overflow_y": null,
            "padding": null,
            "right": null,
            "top": null,
            "visibility": null,
            "width": null
          }
        },
        "4a603aa233c74382b92754408b6ecc27": {
          "model_module": "@jupyter-widgets/controls",
          "model_name": "DescriptionStyleModel",
          "model_module_version": "1.5.0",
          "state": {
            "_model_module": "@jupyter-widgets/controls",
            "_model_module_version": "1.5.0",
            "_model_name": "DescriptionStyleModel",
            "_view_count": null,
            "_view_module": "@jupyter-widgets/base",
            "_view_module_version": "1.2.0",
            "_view_name": "StyleView",
            "description_width": ""
          }
        },
        "e47c1e8ebc05463eb05f8f04f927858c": {
          "model_module": "@jupyter-widgets/base",
          "model_name": "LayoutModel",
          "model_module_version": "1.2.0",
          "state": {
            "_model_module": "@jupyter-widgets/base",
            "_model_module_version": "1.2.0",
            "_model_name": "LayoutModel",
            "_view_count": null,
            "_view_module": "@jupyter-widgets/base",
            "_view_module_version": "1.2.0",
            "_view_name": "LayoutView",
            "align_content": null,
            "align_items": null,
            "align_self": null,
            "border": null,
            "bottom": null,
            "display": null,
            "flex": null,
            "flex_flow": null,
            "grid_area": null,
            "grid_auto_columns": null,
            "grid_auto_flow": null,
            "grid_auto_rows": null,
            "grid_column": null,
            "grid_gap": null,
            "grid_row": null,
            "grid_template_areas": null,
            "grid_template_columns": null,
            "grid_template_rows": null,
            "height": null,
            "justify_content": null,
            "justify_items": null,
            "left": null,
            "margin": null,
            "max_height": null,
            "max_width": null,
            "min_height": null,
            "min_width": null,
            "object_fit": null,
            "object_position": null,
            "order": null,
            "overflow": null,
            "overflow_x": null,
            "overflow_y": null,
            "padding": null,
            "right": null,
            "top": null,
            "visibility": null,
            "width": null
          }
        },
        "9f476ceac253480485bc8daee60e346d": {
          "model_module": "@jupyter-widgets/controls",
          "model_name": "ProgressStyleModel",
          "model_module_version": "1.5.0",
          "state": {
            "_model_module": "@jupyter-widgets/controls",
            "_model_module_version": "1.5.0",
            "_model_name": "ProgressStyleModel",
            "_view_count": null,
            "_view_module": "@jupyter-widgets/base",
            "_view_module_version": "1.2.0",
            "_view_name": "StyleView",
            "bar_color": null,
            "description_width": ""
          }
        },
        "60df735e59784aa2a397f99187bb030d": {
          "model_module": "@jupyter-widgets/base",
          "model_name": "LayoutModel",
          "model_module_version": "1.2.0",
          "state": {
            "_model_module": "@jupyter-widgets/base",
            "_model_module_version": "1.2.0",
            "_model_name": "LayoutModel",
            "_view_count": null,
            "_view_module": "@jupyter-widgets/base",
            "_view_module_version": "1.2.0",
            "_view_name": "LayoutView",
            "align_content": null,
            "align_items": null,
            "align_self": null,
            "border": null,
            "bottom": null,
            "display": null,
            "flex": null,
            "flex_flow": null,
            "grid_area": null,
            "grid_auto_columns": null,
            "grid_auto_flow": null,
            "grid_auto_rows": null,
            "grid_column": null,
            "grid_gap": null,
            "grid_row": null,
            "grid_template_areas": null,
            "grid_template_columns": null,
            "grid_template_rows": null,
            "height": null,
            "justify_content": null,
            "justify_items": null,
            "left": null,
            "margin": null,
            "max_height": null,
            "max_width": null,
            "min_height": null,
            "min_width": null,
            "object_fit": null,
            "object_position": null,
            "order": null,
            "overflow": null,
            "overflow_x": null,
            "overflow_y": null,
            "padding": null,
            "right": null,
            "top": null,
            "visibility": null,
            "width": null
          }
        },
        "c4c2bb1054b8437ca5dfaa3f0e8ac54d": {
          "model_module": "@jupyter-widgets/controls",
          "model_name": "DescriptionStyleModel",
          "model_module_version": "1.5.0",
          "state": {
            "_model_module": "@jupyter-widgets/controls",
            "_model_module_version": "1.5.0",
            "_model_name": "DescriptionStyleModel",
            "_view_count": null,
            "_view_module": "@jupyter-widgets/base",
            "_view_module_version": "1.2.0",
            "_view_name": "StyleView",
            "description_width": ""
          }
        },
        "9d863d2ff663408194c3d7b23819a465": {
          "model_module": "@jupyter-widgets/controls",
          "model_name": "HBoxModel",
          "model_module_version": "1.5.0",
          "state": {
            "_dom_classes": [],
            "_model_module": "@jupyter-widgets/controls",
            "_model_module_version": "1.5.0",
            "_model_name": "HBoxModel",
            "_view_count": null,
            "_view_module": "@jupyter-widgets/controls",
            "_view_module_version": "1.5.0",
            "_view_name": "HBoxView",
            "box_style": "",
            "children": [
              "IPY_MODEL_9fa6923818e149d8b1b8028e19475191",
              "IPY_MODEL_5625668480774fcbaaed5957bd5d70dd",
              "IPY_MODEL_354fe81fb1924e889913547a8729acc5"
            ],
            "layout": "IPY_MODEL_e6b67b1c8ac34398ba5c0dd30a6127cc"
          }
        },
        "9fa6923818e149d8b1b8028e19475191": {
          "model_module": "@jupyter-widgets/controls",
          "model_name": "HTMLModel",
          "model_module_version": "1.5.0",
          "state": {
            "_dom_classes": [],
            "_model_module": "@jupyter-widgets/controls",
            "_model_module_version": "1.5.0",
            "_model_name": "HTMLModel",
            "_view_count": null,
            "_view_module": "@jupyter-widgets/controls",
            "_view_module_version": "1.5.0",
            "_view_name": "HTMLView",
            "description": "",
            "description_tooltip": null,
            "layout": "IPY_MODEL_e08e0f58d94d4c86a471e8da5a2e2d8a",
            "placeholder": "​",
            "style": "IPY_MODEL_bda145b1d26243c7be8ca1b9d7c24ba1",
            "value": "100%"
          }
        },
        "5625668480774fcbaaed5957bd5d70dd": {
          "model_module": "@jupyter-widgets/controls",
          "model_name": "FloatProgressModel",
          "model_module_version": "1.5.0",
          "state": {
            "_dom_classes": [],
            "_model_module": "@jupyter-widgets/controls",
            "_model_module_version": "1.5.0",
            "_model_name": "FloatProgressModel",
            "_view_count": null,
            "_view_module": "@jupyter-widgets/controls",
            "_view_module_version": "1.5.0",
            "_view_name": "ProgressView",
            "bar_style": "success",
            "description": "",
            "description_tooltip": null,
            "layout": "IPY_MODEL_646567a685a248e5a50f7d80d6256d81",
            "max": 1875,
            "min": 0,
            "orientation": "horizontal",
            "style": "IPY_MODEL_037b636f98e443c4b7b696226b474843",
            "value": 1875
          }
        },
        "354fe81fb1924e889913547a8729acc5": {
          "model_module": "@jupyter-widgets/controls",
          "model_name": "HTMLModel",
          "model_module_version": "1.5.0",
          "state": {
            "_dom_classes": [],
            "_model_module": "@jupyter-widgets/controls",
            "_model_module_version": "1.5.0",
            "_model_name": "HTMLModel",
            "_view_count": null,
            "_view_module": "@jupyter-widgets/controls",
            "_view_module_version": "1.5.0",
            "_view_name": "HTMLView",
            "description": "",
            "description_tooltip": null,
            "layout": "IPY_MODEL_653ca6005f054c41adc5487413c68b82",
            "placeholder": "​",
            "style": "IPY_MODEL_35ae65d73c2945adb3d4587e8544fcab",
            "value": " 1875/1875 [00:54&lt;00:00, 36.39it/s]"
          }
        },
        "e6b67b1c8ac34398ba5c0dd30a6127cc": {
          "model_module": "@jupyter-widgets/base",
          "model_name": "LayoutModel",
          "model_module_version": "1.2.0",
          "state": {
            "_model_module": "@jupyter-widgets/base",
            "_model_module_version": "1.2.0",
            "_model_name": "LayoutModel",
            "_view_count": null,
            "_view_module": "@jupyter-widgets/base",
            "_view_module_version": "1.2.0",
            "_view_name": "LayoutView",
            "align_content": null,
            "align_items": null,
            "align_self": null,
            "border": null,
            "bottom": null,
            "display": null,
            "flex": null,
            "flex_flow": null,
            "grid_area": null,
            "grid_auto_columns": null,
            "grid_auto_flow": null,
            "grid_auto_rows": null,
            "grid_column": null,
            "grid_gap": null,
            "grid_row": null,
            "grid_template_areas": null,
            "grid_template_columns": null,
            "grid_template_rows": null,
            "height": null,
            "justify_content": null,
            "justify_items": null,
            "left": null,
            "margin": null,
            "max_height": null,
            "max_width": null,
            "min_height": null,
            "min_width": null,
            "object_fit": null,
            "object_position": null,
            "order": null,
            "overflow": null,
            "overflow_x": null,
            "overflow_y": null,
            "padding": null,
            "right": null,
            "top": null,
            "visibility": null,
            "width": null
          }
        },
        "e08e0f58d94d4c86a471e8da5a2e2d8a": {
          "model_module": "@jupyter-widgets/base",
          "model_name": "LayoutModel",
          "model_module_version": "1.2.0",
          "state": {
            "_model_module": "@jupyter-widgets/base",
            "_model_module_version": "1.2.0",
            "_model_name": "LayoutModel",
            "_view_count": null,
            "_view_module": "@jupyter-widgets/base",
            "_view_module_version": "1.2.0",
            "_view_name": "LayoutView",
            "align_content": null,
            "align_items": null,
            "align_self": null,
            "border": null,
            "bottom": null,
            "display": null,
            "flex": null,
            "flex_flow": null,
            "grid_area": null,
            "grid_auto_columns": null,
            "grid_auto_flow": null,
            "grid_auto_rows": null,
            "grid_column": null,
            "grid_gap": null,
            "grid_row": null,
            "grid_template_areas": null,
            "grid_template_columns": null,
            "grid_template_rows": null,
            "height": null,
            "justify_content": null,
            "justify_items": null,
            "left": null,
            "margin": null,
            "max_height": null,
            "max_width": null,
            "min_height": null,
            "min_width": null,
            "object_fit": null,
            "object_position": null,
            "order": null,
            "overflow": null,
            "overflow_x": null,
            "overflow_y": null,
            "padding": null,
            "right": null,
            "top": null,
            "visibility": null,
            "width": null
          }
        },
        "bda145b1d26243c7be8ca1b9d7c24ba1": {
          "model_module": "@jupyter-widgets/controls",
          "model_name": "DescriptionStyleModel",
          "model_module_version": "1.5.0",
          "state": {
            "_model_module": "@jupyter-widgets/controls",
            "_model_module_version": "1.5.0",
            "_model_name": "DescriptionStyleModel",
            "_view_count": null,
            "_view_module": "@jupyter-widgets/base",
            "_view_module_version": "1.2.0",
            "_view_name": "StyleView",
            "description_width": ""
          }
        },
        "646567a685a248e5a50f7d80d6256d81": {
          "model_module": "@jupyter-widgets/base",
          "model_name": "LayoutModel",
          "model_module_version": "1.2.0",
          "state": {
            "_model_module": "@jupyter-widgets/base",
            "_model_module_version": "1.2.0",
            "_model_name": "LayoutModel",
            "_view_count": null,
            "_view_module": "@jupyter-widgets/base",
            "_view_module_version": "1.2.0",
            "_view_name": "LayoutView",
            "align_content": null,
            "align_items": null,
            "align_self": null,
            "border": null,
            "bottom": null,
            "display": null,
            "flex": null,
            "flex_flow": null,
            "grid_area": null,
            "grid_auto_columns": null,
            "grid_auto_flow": null,
            "grid_auto_rows": null,
            "grid_column": null,
            "grid_gap": null,
            "grid_row": null,
            "grid_template_areas": null,
            "grid_template_columns": null,
            "grid_template_rows": null,
            "height": null,
            "justify_content": null,
            "justify_items": null,
            "left": null,
            "margin": null,
            "max_height": null,
            "max_width": null,
            "min_height": null,
            "min_width": null,
            "object_fit": null,
            "object_position": null,
            "order": null,
            "overflow": null,
            "overflow_x": null,
            "overflow_y": null,
            "padding": null,
            "right": null,
            "top": null,
            "visibility": null,
            "width": null
          }
        },
        "037b636f98e443c4b7b696226b474843": {
          "model_module": "@jupyter-widgets/controls",
          "model_name": "ProgressStyleModel",
          "model_module_version": "1.5.0",
          "state": {
            "_model_module": "@jupyter-widgets/controls",
            "_model_module_version": "1.5.0",
            "_model_name": "ProgressStyleModel",
            "_view_count": null,
            "_view_module": "@jupyter-widgets/base",
            "_view_module_version": "1.2.0",
            "_view_name": "StyleView",
            "bar_color": null,
            "description_width": ""
          }
        },
        "653ca6005f054c41adc5487413c68b82": {
          "model_module": "@jupyter-widgets/base",
          "model_name": "LayoutModel",
          "model_module_version": "1.2.0",
          "state": {
            "_model_module": "@jupyter-widgets/base",
            "_model_module_version": "1.2.0",
            "_model_name": "LayoutModel",
            "_view_count": null,
            "_view_module": "@jupyter-widgets/base",
            "_view_module_version": "1.2.0",
            "_view_name": "LayoutView",
            "align_content": null,
            "align_items": null,
            "align_self": null,
            "border": null,
            "bottom": null,
            "display": null,
            "flex": null,
            "flex_flow": null,
            "grid_area": null,
            "grid_auto_columns": null,
            "grid_auto_flow": null,
            "grid_auto_rows": null,
            "grid_column": null,
            "grid_gap": null,
            "grid_row": null,
            "grid_template_areas": null,
            "grid_template_columns": null,
            "grid_template_rows": null,
            "height": null,
            "justify_content": null,
            "justify_items": null,
            "left": null,
            "margin": null,
            "max_height": null,
            "max_width": null,
            "min_height": null,
            "min_width": null,
            "object_fit": null,
            "object_position": null,
            "order": null,
            "overflow": null,
            "overflow_x": null,
            "overflow_y": null,
            "padding": null,
            "right": null,
            "top": null,
            "visibility": null,
            "width": null
          }
        },
        "35ae65d73c2945adb3d4587e8544fcab": {
          "model_module": "@jupyter-widgets/controls",
          "model_name": "DescriptionStyleModel",
          "model_module_version": "1.5.0",
          "state": {
            "_model_module": "@jupyter-widgets/controls",
            "_model_module_version": "1.5.0",
            "_model_name": "DescriptionStyleModel",
            "_view_count": null,
            "_view_module": "@jupyter-widgets/base",
            "_view_module_version": "1.2.0",
            "_view_name": "StyleView",
            "description_width": ""
          }
        },
        "8e740153b1ff4188aed24f96da8a39bb": {
          "model_module": "@jupyter-widgets/controls",
          "model_name": "HBoxModel",
          "model_module_version": "1.5.0",
          "state": {
            "_dom_classes": [],
            "_model_module": "@jupyter-widgets/controls",
            "_model_module_version": "1.5.0",
            "_model_name": "HBoxModel",
            "_view_count": null,
            "_view_module": "@jupyter-widgets/controls",
            "_view_module_version": "1.5.0",
            "_view_name": "HBoxView",
            "box_style": "",
            "children": [
              "IPY_MODEL_d247e4b96d034edd99dc890f7a009cea",
              "IPY_MODEL_7136f1a824fc4bdd851d27faa51f6499",
              "IPY_MODEL_a03fc3a3a18c49d5a5fc5bfb6f873f3a"
            ],
            "layout": "IPY_MODEL_ce5e863dafa8435fa023d45339cffdac"
          }
        },
        "d247e4b96d034edd99dc890f7a009cea": {
          "model_module": "@jupyter-widgets/controls",
          "model_name": "HTMLModel",
          "model_module_version": "1.5.0",
          "state": {
            "_dom_classes": [],
            "_model_module": "@jupyter-widgets/controls",
            "_model_module_version": "1.5.0",
            "_model_name": "HTMLModel",
            "_view_count": null,
            "_view_module": "@jupyter-widgets/controls",
            "_view_module_version": "1.5.0",
            "_view_name": "HTMLView",
            "description": "",
            "description_tooltip": null,
            "layout": "IPY_MODEL_47d77bff9edd4247a74e4425c937be94",
            "placeholder": "​",
            "style": "IPY_MODEL_414dcce2cf4547cc9df773cbc8ee0d2a",
            "value": "100%"
          }
        },
        "7136f1a824fc4bdd851d27faa51f6499": {
          "model_module": "@jupyter-widgets/controls",
          "model_name": "FloatProgressModel",
          "model_module_version": "1.5.0",
          "state": {
            "_dom_classes": [],
            "_model_module": "@jupyter-widgets/controls",
            "_model_module_version": "1.5.0",
            "_model_name": "FloatProgressModel",
            "_view_count": null,
            "_view_module": "@jupyter-widgets/controls",
            "_view_module_version": "1.5.0",
            "_view_name": "ProgressView",
            "bar_style": "success",
            "description": "",
            "description_tooltip": null,
            "layout": "IPY_MODEL_d9320ccc8eef4254b2f910667707ab2f",
            "max": 1875,
            "min": 0,
            "orientation": "horizontal",
            "style": "IPY_MODEL_d186cf8cf282412da1568964d026c136",
            "value": 1875
          }
        },
        "a03fc3a3a18c49d5a5fc5bfb6f873f3a": {
          "model_module": "@jupyter-widgets/controls",
          "model_name": "HTMLModel",
          "model_module_version": "1.5.0",
          "state": {
            "_dom_classes": [],
            "_model_module": "@jupyter-widgets/controls",
            "_model_module_version": "1.5.0",
            "_model_name": "HTMLModel",
            "_view_count": null,
            "_view_module": "@jupyter-widgets/controls",
            "_view_module_version": "1.5.0",
            "_view_name": "HTMLView",
            "description": "",
            "description_tooltip": null,
            "layout": "IPY_MODEL_6f3267964aa04a9b90b6f6cd32f7942e",
            "placeholder": "​",
            "style": "IPY_MODEL_6970c936bfb84104bd1fa76b40000a21",
            "value": " 1875/1875 [02:00&lt;00:00, 16.54it/s]"
          }
        },
        "ce5e863dafa8435fa023d45339cffdac": {
          "model_module": "@jupyter-widgets/base",
          "model_name": "LayoutModel",
          "model_module_version": "1.2.0",
          "state": {
            "_model_module": "@jupyter-widgets/base",
            "_model_module_version": "1.2.0",
            "_model_name": "LayoutModel",
            "_view_count": null,
            "_view_module": "@jupyter-widgets/base",
            "_view_module_version": "1.2.0",
            "_view_name": "LayoutView",
            "align_content": null,
            "align_items": null,
            "align_self": null,
            "border": null,
            "bottom": null,
            "display": null,
            "flex": null,
            "flex_flow": null,
            "grid_area": null,
            "grid_auto_columns": null,
            "grid_auto_flow": null,
            "grid_auto_rows": null,
            "grid_column": null,
            "grid_gap": null,
            "grid_row": null,
            "grid_template_areas": null,
            "grid_template_columns": null,
            "grid_template_rows": null,
            "height": null,
            "justify_content": null,
            "justify_items": null,
            "left": null,
            "margin": null,
            "max_height": null,
            "max_width": null,
            "min_height": null,
            "min_width": null,
            "object_fit": null,
            "object_position": null,
            "order": null,
            "overflow": null,
            "overflow_x": null,
            "overflow_y": null,
            "padding": null,
            "right": null,
            "top": null,
            "visibility": null,
            "width": null
          }
        },
        "47d77bff9edd4247a74e4425c937be94": {
          "model_module": "@jupyter-widgets/base",
          "model_name": "LayoutModel",
          "model_module_version": "1.2.0",
          "state": {
            "_model_module": "@jupyter-widgets/base",
            "_model_module_version": "1.2.0",
            "_model_name": "LayoutModel",
            "_view_count": null,
            "_view_module": "@jupyter-widgets/base",
            "_view_module_version": "1.2.0",
            "_view_name": "LayoutView",
            "align_content": null,
            "align_items": null,
            "align_self": null,
            "border": null,
            "bottom": null,
            "display": null,
            "flex": null,
            "flex_flow": null,
            "grid_area": null,
            "grid_auto_columns": null,
            "grid_auto_flow": null,
            "grid_auto_rows": null,
            "grid_column": null,
            "grid_gap": null,
            "grid_row": null,
            "grid_template_areas": null,
            "grid_template_columns": null,
            "grid_template_rows": null,
            "height": null,
            "justify_content": null,
            "justify_items": null,
            "left": null,
            "margin": null,
            "max_height": null,
            "max_width": null,
            "min_height": null,
            "min_width": null,
            "object_fit": null,
            "object_position": null,
            "order": null,
            "overflow": null,
            "overflow_x": null,
            "overflow_y": null,
            "padding": null,
            "right": null,
            "top": null,
            "visibility": null,
            "width": null
          }
        },
        "414dcce2cf4547cc9df773cbc8ee0d2a": {
          "model_module": "@jupyter-widgets/controls",
          "model_name": "DescriptionStyleModel",
          "model_module_version": "1.5.0",
          "state": {
            "_model_module": "@jupyter-widgets/controls",
            "_model_module_version": "1.5.0",
            "_model_name": "DescriptionStyleModel",
            "_view_count": null,
            "_view_module": "@jupyter-widgets/base",
            "_view_module_version": "1.2.0",
            "_view_name": "StyleView",
            "description_width": ""
          }
        },
        "d9320ccc8eef4254b2f910667707ab2f": {
          "model_module": "@jupyter-widgets/base",
          "model_name": "LayoutModel",
          "model_module_version": "1.2.0",
          "state": {
            "_model_module": "@jupyter-widgets/base",
            "_model_module_version": "1.2.0",
            "_model_name": "LayoutModel",
            "_view_count": null,
            "_view_module": "@jupyter-widgets/base",
            "_view_module_version": "1.2.0",
            "_view_name": "LayoutView",
            "align_content": null,
            "align_items": null,
            "align_self": null,
            "border": null,
            "bottom": null,
            "display": null,
            "flex": null,
            "flex_flow": null,
            "grid_area": null,
            "grid_auto_columns": null,
            "grid_auto_flow": null,
            "grid_auto_rows": null,
            "grid_column": null,
            "grid_gap": null,
            "grid_row": null,
            "grid_template_areas": null,
            "grid_template_columns": null,
            "grid_template_rows": null,
            "height": null,
            "justify_content": null,
            "justify_items": null,
            "left": null,
            "margin": null,
            "max_height": null,
            "max_width": null,
            "min_height": null,
            "min_width": null,
            "object_fit": null,
            "object_position": null,
            "order": null,
            "overflow": null,
            "overflow_x": null,
            "overflow_y": null,
            "padding": null,
            "right": null,
            "top": null,
            "visibility": null,
            "width": null
          }
        },
        "d186cf8cf282412da1568964d026c136": {
          "model_module": "@jupyter-widgets/controls",
          "model_name": "ProgressStyleModel",
          "model_module_version": "1.5.0",
          "state": {
            "_model_module": "@jupyter-widgets/controls",
            "_model_module_version": "1.5.0",
            "_model_name": "ProgressStyleModel",
            "_view_count": null,
            "_view_module": "@jupyter-widgets/base",
            "_view_module_version": "1.2.0",
            "_view_name": "StyleView",
            "bar_color": null,
            "description_width": ""
          }
        },
        "6f3267964aa04a9b90b6f6cd32f7942e": {
          "model_module": "@jupyter-widgets/base",
          "model_name": "LayoutModel",
          "model_module_version": "1.2.0",
          "state": {
            "_model_module": "@jupyter-widgets/base",
            "_model_module_version": "1.2.0",
            "_model_name": "LayoutModel",
            "_view_count": null,
            "_view_module": "@jupyter-widgets/base",
            "_view_module_version": "1.2.0",
            "_view_name": "LayoutView",
            "align_content": null,
            "align_items": null,
            "align_self": null,
            "border": null,
            "bottom": null,
            "display": null,
            "flex": null,
            "flex_flow": null,
            "grid_area": null,
            "grid_auto_columns": null,
            "grid_auto_flow": null,
            "grid_auto_rows": null,
            "grid_column": null,
            "grid_gap": null,
            "grid_row": null,
            "grid_template_areas": null,
            "grid_template_columns": null,
            "grid_template_rows": null,
            "height": null,
            "justify_content": null,
            "justify_items": null,
            "left": null,
            "margin": null,
            "max_height": null,
            "max_width": null,
            "min_height": null,
            "min_width": null,
            "object_fit": null,
            "object_position": null,
            "order": null,
            "overflow": null,
            "overflow_x": null,
            "overflow_y": null,
            "padding": null,
            "right": null,
            "top": null,
            "visibility": null,
            "width": null
          }
        },
        "6970c936bfb84104bd1fa76b40000a21": {
          "model_module": "@jupyter-widgets/controls",
          "model_name": "DescriptionStyleModel",
          "model_module_version": "1.5.0",
          "state": {
            "_model_module": "@jupyter-widgets/controls",
            "_model_module_version": "1.5.0",
            "_model_name": "DescriptionStyleModel",
            "_view_count": null,
            "_view_module": "@jupyter-widgets/base",
            "_view_module_version": "1.2.0",
            "_view_name": "StyleView",
            "description_width": ""
          }
        }
      }
    }
  },
  "cells": [
    {
      "cell_type": "markdown",
      "source": [
        "# Import necessary modules"
      ],
      "metadata": {
        "id": "ZM8-dSQw4dFH"
      }
    },
    {
      "cell_type": "code",
      "source": [
        "!pip install -U -q neurograd[\"all\"]\n",
        "\n",
        "import neurograd as ng\n",
        "import os\n",
        "import numpy as np\n",
        "import gzip\n",
        "import urllib.request\n",
        "\n",
        "try:\n",
        "    import cupy as cp\n",
        "except ImportError:\n",
        "    print(\"[INFO] CuPy not found – using NumPy (CPU) for the demo.\")\n",
        "    import numpy as cp\n",
        "\n",
        "from matplotlib import pyplot as plt\n",
        "import random"
      ],
      "metadata": {
        "id": "12GhOQ_WzjqH",
        "colab": {
          "base_uri": "https://localhost:8080/"
        },
        "outputId": "22a11cb7-20be-49e4-9a05-2139295a8e0e"
      },
      "execution_count": null,
      "outputs": [
        {
          "output_type": "stream",
          "name": "stdout",
          "text": [
            "\u001b[2K     \u001b[90m━━━━━━━━━━━━━━━━━━━━━━━━━━━━━━━━━━━━━━━━\u001b[0m \u001b[32m81.3/81.3 kB\u001b[0m \u001b[31m3.3 MB/s\u001b[0m eta \u001b[36m0:00:00\u001b[0m\n",
            "\u001b[2K   \u001b[90m━━━━━━━━━━━━━━━━━━━━━━━━━━━━━━━━━━━━━━━━\u001b[0m \u001b[32m1.7/1.7 MB\u001b[0m \u001b[31m40.3 MB/s\u001b[0m eta \u001b[36m0:00:00\u001b[0m\n",
            "\u001b[2K   \u001b[90m━━━━━━━━━━━━━━━━━━━━━━━━━━━━━━━━━━━━━━━━\u001b[0m \u001b[32m57.9/57.9 kB\u001b[0m \u001b[31m6.5 MB/s\u001b[0m eta \u001b[36m0:00:00\u001b[0m\n",
            "\u001b[2K   \u001b[90m━━━━━━━━━━━━━━━━━━━━━━━━━━━━━━━━━━━━━━━━\u001b[0m \u001b[32m12.6/12.6 MB\u001b[0m \u001b[31m128.2 MB/s\u001b[0m eta \u001b[36m0:00:00\u001b[0m\n",
            "\u001b[2K   \u001b[90m━━━━━━━━━━━━━━━━━━━━━━━━━━━━━━━━━━━━━━━━\u001b[0m \u001b[32m55.7/55.7 kB\u001b[0m \u001b[31m5.3 MB/s\u001b[0m eta \u001b[36m0:00:00\u001b[0m\n",
            "\u001b[2K   \u001b[90m━━━━━━━━━━━━━━━━━━━━━━━━━━━━━━━━━━━━━━━━\u001b[0m \u001b[32m248.8/248.8 kB\u001b[0m \u001b[31m24.4 MB/s\u001b[0m eta \u001b[36m0:00:00\u001b[0m\n",
            "\u001b[2K   \u001b[90m━━━━━━━━━━━━━━━━━━━━━━━━━━━━━━━━━━━━━━━━\u001b[0m \u001b[32m63.6/63.6 kB\u001b[0m \u001b[31m7.1 MB/s\u001b[0m eta \u001b[36m0:00:00\u001b[0m\n",
            "\u001b[2K   \u001b[90m━━━━━━━━━━━━━━━━━━━━━━━━━━━━━━━━━━━━━━━━\u001b[0m \u001b[32m12.3/12.3 MB\u001b[0m \u001b[31m124.8 MB/s\u001b[0m eta \u001b[36m0:00:00\u001b[0m\n",
            "\u001b[2K   \u001b[90m━━━━━━━━━━━━━━━━━━━━━━━━━━━━━━━━━━━━━━━━\u001b[0m \u001b[32m1.6/1.6 MB\u001b[0m \u001b[31m68.0 MB/s\u001b[0m eta \u001b[36m0:00:00\u001b[0m\n",
            "\u001b[2K   \u001b[90m━━━━━━━━━━━━━━━━━━━━━━━━━━━━━━━━━━━━━━━━\u001b[0m \u001b[32m69.4/69.4 kB\u001b[0m \u001b[31m9.1 MB/s\u001b[0m eta \u001b[36m0:00:00\u001b[0m\n",
            "\u001b[2K   \u001b[90m━━━━━━━━━━━━━━━━━━━━━━━━━━━━━━━━━━━━━━━━\u001b[0m \u001b[32m386.9/386.9 kB\u001b[0m \u001b[31m35.8 MB/s\u001b[0m eta \u001b[36m0:00:00\u001b[0m\n",
            "\u001b[2K   \u001b[90m━━━━━━━━━━━━━━━━━━━━━━━━━━━━━━━━━━━━━━━━\u001b[0m \u001b[32m133.5/133.5 kB\u001b[0m \u001b[31m15.3 MB/s\u001b[0m eta \u001b[36m0:00:00\u001b[0m\n",
            "\u001b[2K   \u001b[90m━━━━━━━━━━━━━━━━━━━━━━━━━━━━━━━━━━━━━━━━\u001b[0m \u001b[32m59.7/59.7 kB\u001b[0m \u001b[31m6.2 MB/s\u001b[0m eta \u001b[36m0:00:00\u001b[0m\n",
            "\u001b[2K   \u001b[90m━━━━━━━━━━━━━━━━━━━━━━━━━━━━━━━━━━━━━━━━\u001b[0m \u001b[32m66.4/66.4 kB\u001b[0m \u001b[31m7.0 MB/s\u001b[0m eta \u001b[36m0:00:00\u001b[0m\n",
            "\u001b[2K   \u001b[90m━━━━━━━━━━━━━━━━━━━━━━━━━━━━━━━━━━━━━━━━\u001b[0m \u001b[32m111.0/111.0 kB\u001b[0m \u001b[31m12.6 MB/s\u001b[0m eta \u001b[36m0:00:00\u001b[0m\n",
            "\u001b[?25h\u001b[31mERROR: pip's dependency resolver does not currently take into account all the packages that are installed. This behaviour is the source of the following dependency conflicts.\n",
            "google-colab 1.0.0 requires jupyter-server==1.16.0, but you have jupyter-server 2.16.0 which is incompatible.\u001b[0m\u001b[31m\n",
            "\u001b[0m"
          ]
        }
      ]
    },
    {
      "cell_type": "markdown",
      "source": [
        "# Prepare Lecun's MNIST dataset"
      ],
      "metadata": {
        "id": "kGpJcIbC4aqO"
      }
    },
    {
      "cell_type": "code",
      "execution_count": null,
      "metadata": {
        "colab": {
          "base_uri": "https://localhost:8080/"
        },
        "id": "5zhF-BR7zXxf",
        "outputId": "a29e9a9f-7145-4a6e-c14d-9e2b595ad5cd"
      },
      "outputs": [
        {
          "output_type": "stream",
          "name": "stdout",
          "text": [
            "[DOWNLOAD] https://storage.googleapis.com/cvdf-datasets/mnist/train-images-idx3-ubyte.gz\n",
            "[DOWNLOAD] https://storage.googleapis.com/cvdf-datasets/mnist/train-labels-idx1-ubyte.gz\n",
            "[DOWNLOAD] https://storage.googleapis.com/cvdf-datasets/mnist/t10k-images-idx3-ubyte.gz\n",
            "[DOWNLOAD] https://storage.googleapis.com/cvdf-datasets/mnist/t10k-labels-idx1-ubyte.gz\n",
            "\n",
            "=== Dataset summary ===\n",
            "X_train shape : (60000, 1, 32, 32)   dtype: float32\n",
            "y_train shape : (60000, 10)   dtype: float32\n",
            "X_test  shape : (10000, 1, 32, 32)    dtype: float32\n",
            "y_test shape : (10000, 10)   dtype: float32\n"
          ]
        }
      ],
      "source": [
        "# -------------------------------------------------\n",
        "# MNIST → CuPy (or NumPy) with one‑hot labels,\n",
        "# downloading directly from the Google‑Cloud mirror.\n",
        "\n",
        "MIRROR_URL = \"https://storage.googleapis.com/cvdf-datasets/mnist/\"\n",
        "FILES = {\n",
        "    \"train_images\": \"train-images-idx3-ubyte.gz\",\n",
        "    \"train_labels\": \"train-labels-idx1-ubyte.gz\",\n",
        "    \"test_images\":  \"t10k-images-idx3-ubyte.gz\",\n",
        "    \"test_labels\":  \"t10k-labels-idx1-ubyte.gz\",\n",
        "}\n",
        "NUM_CLASSES = 10\n",
        "IMG_SHAPE   = (28, 28)   # original MNIST size\n",
        "PADDED_SHAPE = (32, 32)  # after padding (2‑pixel border each side)\n",
        "\n",
        "\n",
        "\n",
        "def maybe_download(filename: str) -> str:\n",
        "    \"\"\"\n",
        "    Download `filename` from the Google‑Cloud mirror if it does not already exist.\n",
        "    Returns the local path to the file.\n",
        "    \"\"\"\n",
        "    if not os.path.exists(filename):\n",
        "        url = MIRROR_URL + filename\n",
        "        print(f\"[DOWNLOAD] {url}\")\n",
        "        urllib.request.urlretrieve(url, filename)\n",
        "    else:\n",
        "        print(f\"[SKIP] {filename} already present.\")\n",
        "    return filename\n",
        "\n",
        "\n",
        "\n",
        "def read_idx_gz(path: str, header_bytes: int) -> np.ndarray:\n",
        "    \"\"\"\n",
        "    Read a gzipped IDX file and return the raw contents as a 1‑D uint8 NumPy array.\n",
        "    `header_bytes` is the number of bytes to strip (magic number + dimensions).\n",
        "    \"\"\"\n",
        "    with gzip.open(path, \"rb\") as f:\n",
        "        buffer = f.read()\n",
        "    return np.frombuffer(buffer, dtype=np.uint8)[header_bytes:]\n",
        "\n",
        "\n",
        "# -------------------------------------------------\n",
        "# Download + parse all four files\n",
        "# -------------------------------------------------\n",
        "train_images_path = maybe_download(FILES[\"train_images\"])\n",
        "train_labels_path = maybe_download(FILES[\"train_labels\"])\n",
        "test_images_path  = maybe_download(FILES[\"test_images\"])\n",
        "test_labels_path  = maybe_download(FILES[\"test_labels\"])\n",
        "\n",
        "train_images = read_idx_gz(train_images_path, header_bytes=16).reshape(-1, *IMG_SHAPE)\n",
        "train_labels = read_idx_gz(train_labels_path, header_bytes=8)\n",
        "\n",
        "test_images  = read_idx_gz(test_images_path,  header_bytes=16).reshape(-1, *IMG_SHAPE)\n",
        "test_labels  = read_idx_gz(test_labels_path,  header_bytes=8)\n",
        "\n",
        "# -------------------------------------------------\n",
        "# Normalise, pad, add channel dimension, move to CuPy/NumPy\n",
        "# -------------------------------------------------\n",
        "def preprocess(images: np.ndarray) -> cp.ndarray:\n",
        "    \"\"\"\n",
        "    * Convert uint8 → float32 and scale to [0,1]\n",
        "    * Pad from 28×28 → 32×32 (2‑pixel zero border)\n",
        "    * Add the channel dimension → (N,1,32,32)\n",
        "    Returns a CuPy (or NumPy) array.\n",
        "    \"\"\"\n",
        "    # 1️⃣ Normalise\n",
        "    images = images.astype(np.float32) / 255.0\n",
        "\n",
        "    # 2️⃣ Pad height & width (constant = 0)\n",
        "    images = np.pad(images,\n",
        "                    pad_width=((0, 0), (2, 2), (2, 2)),\n",
        "                    mode=\"constant\")\n",
        "\n",
        "    # 3️⃣ Add channel axis\n",
        "    images = images[:, None, :, :]    # (N, 1, 32, 32)\n",
        "\n",
        "    # 4️⃣ Transfer to the backend (GPU if CuPy, else CPU)\n",
        "    return cp.asarray(images)\n",
        "\n",
        "\n",
        "X_train = preprocess(train_images)\n",
        "X_test  = preprocess(test_images)\n",
        "\n",
        "# -------------------------------------------------\n",
        "# Convert integer labels → one‑hot vectors\n",
        "# -------------------------------------------------\n",
        "def one_hot(labels: cp.ndarray, num_classes: int = NUM_CLASSES) -> cp.ndarray:\n",
        "    \"\"\"\n",
        "    `labels` is a CuPy/NumPy 1‑D integer array.\n",
        "    Returns a (N, num_classes) float32 array where the column matching the label is 1.\n",
        "    \"\"\"\n",
        "    # `cp.eye` creates an identity matrix (num_classes × num_classes).\n",
        "    # Indexing that matrix with the label vector expands each label into a row.\n",
        "    return cp.eye(num_classes, dtype=cp.float32)[labels]\n",
        "\n",
        "\n",
        "# Move integer labels onto the same backend first\n",
        "y_train = cp.asarray(train_labels, dtype=cp.int64)\n",
        "y_test  = cp.asarray(test_labels,  dtype=cp.int64)\n",
        "\n",
        "# One‑hot encode\n",
        "y_train = one_hot(y_train)\n",
        "y_test  = one_hot(y_test)\n",
        "\n",
        "# -------------------------------------------------\n",
        "# Quick sanity‑check (printing a few shapes / dtypes)\n",
        "# -------------------------------------------------\n",
        "print(\"\\n=== Dataset summary ===\")\n",
        "print(f\"X_train shape : {X_train.shape}   dtype: {X_train.dtype}\")\n",
        "print(f\"y_train shape : {y_train.shape}   dtype: {y_train.dtype}\")\n",
        "\n",
        "print(f\"X_test  shape : {X_test.shape}    dtype: {X_test.dtype}\")\n",
        "print(f\"y_test shape : {y_test.shape}   dtype: {y_test.dtype}\")"
      ]
    },
    {
      "cell_type": "code",
      "source": [
        "# Plot 4 random images\n",
        "\n",
        "indices = range(len(X_train))\n",
        "chosen = cp.random.choice(indices, 4)\n",
        "\n",
        "plt.figure(figsize=(10, 7))\n",
        "for i, idx in enumerate(chosen, 1):\n",
        "  plt.subplot(1, 4, i)\n",
        "  img = X_train[idx].reshape(32, 32).get()\n",
        "  label = y_train[idx].argmax().squeeze().get()\n",
        "  plt.axis(\"off\")\n",
        "  plt.imshow(img, cmap='gray')\n",
        "  plt.title(f\"Label: {label}\")\n",
        "plt.show()"
      ],
      "metadata": {
        "colab": {
          "base_uri": "https://localhost:8080/",
          "height": 227
        },
        "id": "n5Wk_Dv05QQz",
        "outputId": "8ff1f5ea-04aa-4574-d01b-2aeadbca672e"
      },
      "execution_count": null,
      "outputs": [
        {
          "output_type": "display_data",
          "data": {
            "text/plain": [
              "<Figure size 1000x700 with 4 Axes>"
            ],
            "image/png": "[encoded data removed]"
          },
          "metadata": {}
        }
      ]
    },
    {
      "cell_type": "code",
      "source": [
        "from neurograd.utils.data import Dataset, DataLoader\n",
        "\n",
        "train_dataset = Dataset(X_train, y_train)\n",
        "train_loader = DataLoader(train_dataset, batch_size=32, shuffle=True)\n",
        "\n",
        "test_dataset = Dataset(X_test, y_test)\n",
        "test_loader = DataLoader(test_dataset, batch_size=32, shuffle=False)"
      ],
      "metadata": {
        "id": "AOt2rCLO6VZv"
      },
      "execution_count": null,
      "outputs": []
    },
    {
      "cell_type": "markdown",
      "source": [
        "# Model architecture, optimizer and losses"
      ],
      "metadata": {
        "id": "_mjh6qAb7OJi"
      }
    },
    {
      "cell_type": "code",
      "source": [
        "from neurograd.nn.layers import Sequential, Conv2D, AveragePool2D, Flatten, Linear\n",
        "\n",
        "model = Sequential(\n",
        "    Conv2D(in_channels=1, out_channels=6, kernel_size=5, strides=1, activation=\"tanh\"),\n",
        "    AveragePool2D(pool_size=2, strides=2),\n",
        "    Conv2D(in_channels=6, out_channels=16, kernel_size=5, strides=1, activation=\"tanh\"),\n",
        "    AveragePool2D(pool_size=2, strides=2),\n",
        "    Flatten(),\n",
        "    Linear(in_features=400, out_features=120, activation=\"tanh\"),\n",
        "    Linear(in_features=120, out_features=84, activation=\"tanh\"),\n",
        "    Linear(in_features=84, out_features=10, activation=\"softmax\")\n",
        ")\n",
        "\n",
        "for name, param in model.named_parameters():\n",
        "    print(name, param.shape)"
      ],
      "metadata": {
        "colab": {
          "base_uri": "https://localhost:8080/"
        },
        "id": "lMmhKSHc8Atn",
        "outputId": "d6dbbebb-d728-4708-edba-5ea31d72127d"
      },
      "execution_count": null,
      "outputs": [
        {
          "output_type": "stream",
          "name": "stdout",
          "text": [
            "layer_0.kernels (6, 1, 5, 5)\n",
            "layer_0.bias (1, 6, 1, 1)\n",
            "layer_2.kernels (16, 6, 5, 5)\n",
            "layer_2.bias (1, 16, 1, 1)\n",
            "layer_5.weight (400, 120)\n",
            "layer_5.bias (120,)\n",
            "layer_6.weight (120, 84)\n",
            "layer_6.bias (84,)\n",
            "layer_7.weight (84, 10)\n",
            "layer_7.bias (10,)\n"
          ]
        }
      ]
    },
    {
      "cell_type": "code",
      "source": [
        "from neurograd.optim import Adam\n",
        "from neurograd.nn.losses import CategoricalCrossEntropy\n",
        "from neurograd.nn.metrics import accuracy_score\n",
        "\n",
        "optimizer = Adam(model.named_parameters(), lr=0.001)\n",
        "loss_fn = CategoricalCrossEntropy()"
      ],
      "metadata": {
        "id": "r108dB-v7mMj"
      },
      "execution_count": null,
      "outputs": []
    },
    {
      "cell_type": "markdown",
      "source": [
        "# Training (mixed precision)"
      ],
      "metadata": {
        "id": "7qNgCMin-coo"
      }
    },
    {
      "cell_type": "code",
      "source": [
        "from tqdm.auto import tqdm\n",
        "from neurograd.amp import GradScaler\n",
        "scaler = GradScaler()\n",
        "\n",
        "EPOCHS = 3\n",
        "BATCH_SIZE = train_loader.batch_size\n",
        "\n",
        "\n",
        "for epoch in range(1, EPOCHS + 1):\n",
        "\n",
        "  print(f\"Epoch: {epoch} / {EPOCHS}:\")\n",
        "  train_losses, train_acc = [], []\n",
        "  test_losses, test_acc = [], []\n",
        "\n",
        "  model.train()\n",
        "  for (X_train, y_train) in tqdm(train_loader):\n",
        "      with ng.autocast():\n",
        "        y_pred = model(X_train)\n",
        "        loss = loss_fn(y_train, y_pred)\n",
        "        train_losses.append(loss.data)\n",
        "        optimizer.zero_grad()\n",
        "        scaler.scale(loss).backward()\n",
        "        scaler.step(optimizer)\n",
        "        scaler.update()\n",
        "        acc = accuracy_score(y_train.argmax(axis=-1), y_pred.argmax(axis=-1))\n",
        "        train_acc.append(acc)\n",
        "\n",
        "  model.eval()\n",
        "  for (X_test, y_test) in test_loader:\n",
        "    with ng.autocast():\n",
        "      y_pred = model(X_test)\n",
        "      loss = loss_fn(y_test, y_pred)\n",
        "      acc = accuracy_score(y_test.argmax(axis=-1), y_pred.argmax(axis=-1))\n",
        "      test_losses.append(loss.data)\n",
        "      test_acc.append(acc)\n",
        "\n",
        "  # Convert lists to arrays before mean\n",
        "  train_losses = cp.asarray(train_losses)\n",
        "  train_acc = cp.asarray(train_acc)\n",
        "  test_losses = cp.asarray(test_losses)\n",
        "  test_acc = cp.asarray(test_acc)\n",
        "\n",
        "  print(\n",
        "      f\"Train loss: {cp.mean(train_losses):.4f}, \"\n",
        "      f\"Train acc: {cp.mean(train_acc):.4f}, \"\n",
        "      f\"Test loss: {cp.mean(test_losses):.4f}, \"\n",
        "      f\"Test acc: {cp.mean(test_acc):.4f}\"\n",
        "  )"
      ],
      "metadata": {
        "colab": {
          "base_uri": "https://localhost:8080/",
          "height": 217,
          "referenced_widgets": [
            "43843b93ffbc4475a6d63b47943b79ca",
            "27a5535bcacf49da9bdf8f1ad5431965",
            "5770ccf6f1534a0c81293109900a1da5",
            "af515d74439d4d42910f28198e9c6f8f",
            "c5c585cd1c0248aaada983fca7d9c3a6",
            "6771415316414c57b6933e337bc562a0",
            "4a603aa233c74382b92754408b6ecc27",
            "e47c1e8ebc05463eb05f8f04f927858c",
            "9f476ceac253480485bc8daee60e346d",
            "60df735e59784aa2a397f99187bb030d",
            "c4c2bb1054b8437ca5dfaa3f0e8ac54d",
            "9d863d2ff663408194c3d7b23819a465",
            "9fa6923818e149d8b1b8028e19475191",
            "5625668480774fcbaaed5957bd5d70dd",
            "354fe81fb1924e889913547a8729acc5",
            "e6b67b1c8ac34398ba5c0dd30a6127cc",
            "e08e0f58d94d4c86a471e8da5a2e2d8a",
            "bda145b1d26243c7be8ca1b9d7c24ba1",
            "646567a685a248e5a50f7d80d6256d81",
            "037b636f98e443c4b7b696226b474843",
            "653ca6005f054c41adc5487413c68b82",
            "35ae65d73c2945adb3d4587e8544fcab",
            "8e740153b1ff4188aed24f96da8a39bb",
            "d247e4b96d034edd99dc890f7a009cea",
            "7136f1a824fc4bdd851d27faa51f6499",
            "a03fc3a3a18c49d5a5fc5bfb6f873f3a",
            "ce5e863dafa8435fa023d45339cffdac",
            "47d77bff9edd4247a74e4425c937be94",
            "414dcce2cf4547cc9df773cbc8ee0d2a",
            "d9320ccc8eef4254b2f910667707ab2f",
            "d186cf8cf282412da1568964d026c136",
            "6f3267964aa04a9b90b6f6cd32f7942e",
            "6970c936bfb84104bd1fa76b40000a21"
          ]
        },
        "id": "WmlIWwO39ugK",
        "outputId": "4a8fe219-ca33-4cb6-f621-17e91aff873a"
      },
      "execution_count": null,
      "outputs": [
        {
          "output_type": "stream",
          "name": "stdout",
          "text": [
            "Epoch: 1 / 3:\n"
          ]
        },
        {
          "output_type": "display_data",
          "data": {
            "text/plain": [
              "  0%|          | 0/1875 [00:00<?, ?it/s]"
            ],
            "application/vnd.jupyter.widget-view+json": {
              "version_major": 2,
              "version_minor": 0,
              "model_id": "43843b93ffbc4475a6d63b47943b79ca"
            }
          },
          "metadata": {}
        },
        {
          "output_type": "stream",
          "name": "stdout",
          "text": [
            "Train loss: 0.2470, Train acc: 0.9274, Test loss: 0.1279, Test acc: 0.9602\n",
            "Epoch: 2 / 3:\n"
          ]
        },
        {
          "output_type": "display_data",
          "data": {
            "text/plain": [
              "  0%|          | 0/1875 [00:00<?, ?it/s]"
            ],
            "application/vnd.jupyter.widget-view+json": {
              "version_major": 2,
              "version_minor": 0,
              "model_id": "9d863d2ff663408194c3d7b23819a465"
            }
          },
          "metadata": {}
        },
        {
          "output_type": "stream",
          "name": "stdout",
          "text": [
            "Train loss: 0.0962, Train acc: 0.9705, Test loss: 0.0832, Test acc: 0.9728\n",
            "Epoch: 3 / 3:\n"
          ]
        },
        {
          "output_type": "display_data",
          "data": {
            "text/plain": [
              "  0%|          | 0/1875 [00:00<?, ?it/s]"
            ],
            "application/vnd.jupyter.widget-view+json": {
              "version_major": 2,
              "version_minor": 0,
              "model_id": "8e740153b1ff4188aed24f96da8a39bb"
            }
          },
          "metadata": {}
        },
        {
          "output_type": "stream",
          "name": "stdout",
          "text": [
            "Train loss: 0.0737, Train acc: 0.9771, Test loss: 0.0664, Test acc: 0.9787\n"
          ]
        }
      ]
    },
    {
      "cell_type": "markdown",
      "source": [
        "# Visualize model predictions"
      ],
      "metadata": {
        "id": "IYRMkvTHFo4e"
      }
    },
    {
      "cell_type": "code",
      "source": [
        "X, y = random.choice(test_loader)\n",
        "with ng.autocast():\n",
        "    y_pred = model(X)\n",
        "\n",
        "correct = 0\n",
        "for idx in range(32):  # 4 rows * 8 cols = 32 images\n",
        "    img = X[idx].data.reshape(32, 32).get()\n",
        "    label = y[idx].data.argmax(-1).get()\n",
        "    pred = y_pred[idx].data.argmax(-1).get()\n",
        "    correct += label == pred\n",
        "\n",
        "    plt.subplot(4, 8, idx + 1)  # subplot indices start at 1\n",
        "    plt.imshow(img, cmap='gray')\n",
        "    plt.axis('off')\n",
        "    plt.title(f\"Label: {label}\\nPred: {pred}\")\n",
        "\n",
        "plt.tight_layout()\n",
        "plt.show()\n",
        "print(f\"Guessed {correct} / 32\")"
      ],
      "metadata": {
        "colab": {
          "base_uri": "https://localhost:8080/",
          "height": 498
        },
        "id": "7_bM1xGz_IYl",
        "outputId": "58fb1f8f-454a-4adb-b5d0-9d6447f13fca"
      },
      "execution_count": null,
      "outputs": [
        {
          "output_type": "display_data",
          "data": {
            "text/plain": [
              "<Figure size 640x480 with 32 Axes>"
            ],
            "image/png": "[encoded data removed]"
          },
          "metadata": {}
        },
        {
          "output_type": "stream",
          "name": "stdout",
          "text": [
            "Guessed 30 / 32\n"
          ]
        }
      ]
    },
    {
      "cell_type": "code",
      "source": [],
      "metadata": {
        "id": "IjADapsZFuvQ"
      },
      "execution_count": null,
      "outputs": []
    }
  ]
}