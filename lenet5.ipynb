{
  "cells": [
    {
      "cell_type": "markdown",
      "metadata": {
        "id": "ZM8-dSQw4dFH"
      },
      "source": [
        "# Import necessary modules"
      ]
    },
    {
      "cell_type": "code",
      "execution_count": null,
      "metadata": {
        "colab": {
          "base_uri": "https://localhost:8080/"
        },
        "id": "12GhOQ_WzjqH",
        "outputId": "9f0032d7-13ea-4915-a665-4701bc391895"
      },
      "outputs": [
        {
          "name": "stdout",
          "output_type": "stream",
          "text": [
            "\u001b[2K     \u001b[90m━━━━━━━━━━━━━━━━━━━━━━━━━━━━━━━━━━━━━━━━\u001b[0m \u001b[32m81.3/81.3 kB\u001b[0m \u001b[31m6.0 MB/s\u001b[0m eta \u001b[36m0:00:00\u001b[0m\n",
            "\u001b[2K   \u001b[90m━━━━━━━━━━━━━━━━━━━━━━━━━━━━━━━━━━━━━━━━\u001b[0m \u001b[32m55.6/55.6 kB\u001b[0m \u001b[31m5.4 MB/s\u001b[0m eta \u001b[36m0:00:00\u001b[0m\n",
            "\u001b[2K   \u001b[90m━━━━━━━━━━━━━━━━━━━━━━━━━━━━━━━━━━━━━━━━\u001b[0m \u001b[32m1.7/1.7 MB\u001b[0m \u001b[31m45.5 MB/s\u001b[0m eta \u001b[36m0:00:00\u001b[0m\n",
            "\u001b[2K   \u001b[90m━━━━━━━━━━━━━━━━━━━━━━━━━━━━━━━━━━━━━━━━\u001b[0m \u001b[32m57.9/57.9 kB\u001b[0m \u001b[31m5.4 MB/s\u001b[0m eta \u001b[36m0:00:00\u001b[0m\n",
            "\u001b[2K   \u001b[90m━━━━━━━━━━━━━━━━━━━━━━━━━━━━━━━━━━━━━━━━\u001b[0m \u001b[32m12.6/12.6 MB\u001b[0m \u001b[31m128.3 MB/s\u001b[0m eta \u001b[36m0:00:00\u001b[0m\n",
            "\u001b[2K   \u001b[90m━━━━━━━━━━━━━━━━━━━━━━━━━━━━━━━━━━━━━━━━\u001b[0m \u001b[32m248.8/248.8 kB\u001b[0m \u001b[31m23.6 MB/s\u001b[0m eta \u001b[36m0:00:00\u001b[0m\n",
            "\u001b[2K   \u001b[90m━━━━━━━━━━━━━━━━━━━━━━━━━━━━━━━━━━━━━━━━\u001b[0m \u001b[32m63.6/63.6 kB\u001b[0m \u001b[31m5.9 MB/s\u001b[0m eta \u001b[36m0:00:00\u001b[0m\n",
            "\u001b[2K   \u001b[90m━━━━━━━━━━━━━━━━━━━━━━━━━━━━━━━━━━━━━━━━\u001b[0m \u001b[32m12.3/12.3 MB\u001b[0m \u001b[31m135.2 MB/s\u001b[0m eta \u001b[36m0:00:00\u001b[0m\n",
            "\u001b[2K   \u001b[90m━━━━━━━━━━━━━━━━━━━━━━━━━━━━━━━━━━━━━━━━\u001b[0m \u001b[32m1.6/1.6 MB\u001b[0m \u001b[31m84.0 MB/s\u001b[0m eta \u001b[36m0:00:00\u001b[0m\n",
            "\u001b[2K   \u001b[90m━━━━━━━━━━━━━━━━━━━━━━━━━━━━━━━━━━━━━━━━\u001b[0m \u001b[32m69.4/69.4 kB\u001b[0m \u001b[31m6.6 MB/s\u001b[0m eta \u001b[36m0:00:00\u001b[0m\n",
            "\u001b[2K   \u001b[90m━━━━━━━━━━━━━━━━━━━━━━━━━━━━━━━━━━━━━━━━\u001b[0m \u001b[32m386.9/386.9 kB\u001b[0m \u001b[31m35.2 MB/s\u001b[0m eta \u001b[36m0:00:00\u001b[0m\n",
            "\u001b[2K   \u001b[90m━━━━━━━━━━━━━━━━━━━━━━━━━━━━━━━━━━━━━━━━\u001b[0m \u001b[32m133.5/133.5 kB\u001b[0m \u001b[31m13.8 MB/s\u001b[0m eta \u001b[36m0:00:00\u001b[0m\n",
            "\u001b[2K   \u001b[90m━━━━━━━━━━━━━━━━━━━━━━━━━━━━━━━━━━━━━━━━\u001b[0m \u001b[32m59.7/59.7 kB\u001b[0m \u001b[31m5.5 MB/s\u001b[0m eta \u001b[36m0:00:00\u001b[0m\n",
            "\u001b[2K   \u001b[90m━━━━━━━━━━━━━━━━━━━━━━━━━━━━━━━━━━━━━━━━\u001b[0m \u001b[32m66.4/66.4 kB\u001b[0m \u001b[31m6.4 MB/s\u001b[0m eta \u001b[36m0:00:00\u001b[0m\n",
            "\u001b[2K   \u001b[90m━━━━━━━━━━━━━━━━━━━━━━━━━━━━━━━━━━━━━━━━\u001b[0m \u001b[32m111.0/111.0 kB\u001b[0m \u001b[31m9.9 MB/s\u001b[0m eta \u001b[36m0:00:00\u001b[0m\n",
            "\u001b[?25h\u001b[31mERROR: pip's dependency resolver does not currently take into account all the packages that are installed. This behaviour is the source of the following dependency conflicts.\n",
            "google-colab 1.0.0 requires jupyter-server==1.16.0, but you have jupyter-server 2.16.0 which is incompatible.\u001b[0m\u001b[31m\n",
            "\u001b[0m"
          ]
        }
      ],
      "source": [
        "!pip install -U -q neurograd[\"all\"]\n",
        "\n",
        "import neurograd as ng\n",
        "import os\n",
        "import numpy as np\n",
        "import gzip\n",
        "import urllib.request\n",
        "\n",
        "try:\n",
        "    import cupy as cp\n",
        "except ImportError:\n",
        "    print(\"[INFO] CuPy not found – using NumPy (CPU) for the demo.\")\n",
        "    import numpy as cp\n",
        "\n",
        "from matplotlib import pyplot as plt\n",
        "import random"
      ]
    },
    {
      "cell_type": "markdown",
      "metadata": {
        "id": "kGpJcIbC4aqO"
      },
      "source": [
        "# Prepare Lecun's MNIST dataset"
      ]
    },
    {
      "cell_type": "code",
      "execution_count": 2,
      "metadata": {
        "colab": {
          "base_uri": "https://localhost:8080/"
        },
        "id": "5zhF-BR7zXxf",
        "outputId": "dd60af21-4c35-4c6e-a1a8-09b865601637"
      },
      "outputs": [
        {
          "name": "stdout",
          "output_type": "stream",
          "text": [
            "[DOWNLOAD] https://storage.googleapis.com/cvdf-datasets/mnist/train-images-idx3-ubyte.gz\n",
            "[DOWNLOAD] https://storage.googleapis.com/cvdf-datasets/mnist/train-labels-idx1-ubyte.gz\n",
            "[DOWNLOAD] https://storage.googleapis.com/cvdf-datasets/mnist/t10k-images-idx3-ubyte.gz\n",
            "[DOWNLOAD] https://storage.googleapis.com/cvdf-datasets/mnist/t10k-labels-idx1-ubyte.gz\n",
            "\n",
            "=== Dataset summary ===\n",
            "X_train shape : (60000, 1, 32, 32)   dtype: float32\n",
            "y_train shape : (60000, 10)   dtype: float32\n",
            "X_test  shape : (10000, 1, 32, 32)    dtype: float32\n",
            "y_test shape : (10000, 10)   dtype: float32\n"
          ]
        }
      ],
      "source": [
        "# -------------------------------------------------\n",
        "# MNIST → CuPy (or NumPy) with one‑hot labels,\n",
        "# downloading directly from the Google‑Cloud mirror.\n",
        "\n",
        "MIRROR_URL = \"https://storage.googleapis.com/cvdf-datasets/mnist/\"\n",
        "FILES = {\n",
        "    \"train_images\": \"train-images-idx3-ubyte.gz\",\n",
        "    \"train_labels\": \"train-labels-idx1-ubyte.gz\",\n",
        "    \"test_images\":  \"t10k-images-idx3-ubyte.gz\",\n",
        "    \"test_labels\":  \"t10k-labels-idx1-ubyte.gz\",\n",
        "}\n",
        "NUM_CLASSES = 10\n",
        "IMG_SHAPE   = (28, 28)   # original MNIST size\n",
        "PADDED_SHAPE = (32, 32)  # after padding (2‑pixel border each side)\n",
        "\n",
        "\n",
        "\n",
        "def maybe_download(filename: str) -> str:\n",
        "    \"\"\"\n",
        "    Download `filename` from the Google‑Cloud mirror if it does not already exist.\n",
        "    Returns the local path to the file.\n",
        "    \"\"\"\n",
        "    if not os.path.exists(filename):\n",
        "        url = MIRROR_URL + filename\n",
        "        print(f\"[DOWNLOAD] {url}\")\n",
        "        urllib.request.urlretrieve(url, filename)\n",
        "    else:\n",
        "        print(f\"[SKIP] {filename} already present.\")\n",
        "    return filename\n",
        "\n",
        "\n",
        "\n",
        "def read_idx_gz(path: str, header_bytes: int) -> np.ndarray:\n",
        "    \"\"\"\n",
        "    Read a gzipped IDX file and return the raw contents as a 1‑D uint8 NumPy array.\n",
        "    `header_bytes` is the number of bytes to strip (magic number + dimensions).\n",
        "    \"\"\"\n",
        "    with gzip.open(path, \"rb\") as f:\n",
        "        buffer = f.read()\n",
        "    return np.frombuffer(buffer, dtype=np.uint8)[header_bytes:]\n",
        "\n",
        "\n",
        "# -------------------------------------------------\n",
        "# Download + parse all four files\n",
        "# -------------------------------------------------\n",
        "train_images_path = maybe_download(FILES[\"train_images\"])\n",
        "train_labels_path = maybe_download(FILES[\"train_labels\"])\n",
        "test_images_path  = maybe_download(FILES[\"test_images\"])\n",
        "test_labels_path  = maybe_download(FILES[\"test_labels\"])\n",
        "\n",
        "train_images = read_idx_gz(train_images_path, header_bytes=16).reshape(-1, *IMG_SHAPE)\n",
        "train_labels = read_idx_gz(train_labels_path, header_bytes=8)\n",
        "\n",
        "test_images  = read_idx_gz(test_images_path,  header_bytes=16).reshape(-1, *IMG_SHAPE)\n",
        "test_labels  = read_idx_gz(test_labels_path,  header_bytes=8)\n",
        "\n",
        "# -------------------------------------------------\n",
        "# Normalise, pad, add channel dimension, move to CuPy/NumPy\n",
        "# -------------------------------------------------\n",
        "def preprocess(images: np.ndarray) -> cp.ndarray:\n",
        "    \"\"\"\n",
        "    * Convert uint8 → float32 and scale to [0,1]\n",
        "    * Pad from 28×28 → 32×32 (2‑pixel zero border)\n",
        "    * Add the channel dimension → (N,1,32,32)\n",
        "    Returns a CuPy (or NumPy) array.\n",
        "    \"\"\"\n",
        "    # 1️⃣ Normalise\n",
        "    images = images.astype(np.float32) / 255.0\n",
        "\n",
        "    # 2️⃣ Pad height & width (constant = 0)\n",
        "    images = np.pad(images,\n",
        "                    pad_width=((0, 0), (2, 2), (2, 2)),\n",
        "                    mode=\"constant\")\n",
        "\n",
        "    # 3️⃣ Add channel axis\n",
        "    images = images[:, None, :, :]    # (N, 1, 32, 32)\n",
        "\n",
        "    # 4️⃣ Transfer to the backend (GPU if CuPy, else CPU)\n",
        "    return cp.asarray(images)\n",
        "\n",
        "\n",
        "X_train = preprocess(train_images)\n",
        "X_test  = preprocess(test_images)\n",
        "\n",
        "# -------------------------------------------------\n",
        "# Convert integer labels → one‑hot vectors\n",
        "# -------------------------------------------------\n",
        "def one_hot(labels: cp.ndarray, num_classes: int = NUM_CLASSES) -> cp.ndarray:\n",
        "    \"\"\"\n",
        "    `labels` is a CuPy/NumPy 1‑D integer array.\n",
        "    Returns a (N, num_classes) float32 array where the column matching the label is 1.\n",
        "    \"\"\"\n",
        "    # `cp.eye` creates an identity matrix (num_classes × num_classes).\n",
        "    # Indexing that matrix with the label vector expands each label into a row.\n",
        "    return cp.eye(num_classes, dtype=cp.float32)[labels]\n",
        "\n",
        "\n",
        "# Move integer labels onto the same backend first\n",
        "y_train = cp.asarray(train_labels, dtype=cp.int64)\n",
        "y_test  = cp.asarray(test_labels,  dtype=cp.int64)\n",
        "\n",
        "# One‑hot encode\n",
        "y_train = one_hot(y_train)\n",
        "y_test  = one_hot(y_test)\n",
        "\n",
        "# -------------------------------------------------\n",
        "# Quick sanity‑check (printing a few shapes / dtypes)\n",
        "# -------------------------------------------------\n",
        "print(\"\\n=== Dataset summary ===\")\n",
        "print(f\"X_train shape : {X_train.shape}   dtype: {X_train.dtype}\")\n",
        "print(f\"y_train shape : {y_train.shape}   dtype: {y_train.dtype}\")\n",
        "\n",
        "print(f\"X_test  shape : {X_test.shape}    dtype: {X_test.dtype}\")\n",
        "print(f\"y_test shape : {y_test.shape}   dtype: {y_test.dtype}\")"
      ]
    },
    {
      "cell_type": "code",
      "execution_count": 3,
      "metadata": {
        "colab": {
          "base_uri": "https://localhost:8080/",
          "height": 227
        },
        "id": "n5Wk_Dv05QQz",
        "outputId": "a728d638-3367-4b37-e69f-fff5ad879839"
      },
      "outputs": [
        {
          "data": {
            "image/png": "[encoded data removed]",
            "text/plain": [
              "<Figure size 1000x700 with 4 Axes>"
            ]
          },
          "metadata": {},
          "output_type": "display_data"
        }
      ],
      "source": [
        "# Plot 4 random images\n",
        "\n",
        "indices = range(len(X_train))\n",
        "chosen = cp.random.choice(indices, 4)\n",
        "\n",
        "plt.figure(figsize=(10, 7))\n",
        "for i, idx in enumerate(chosen, 1):\n",
        "  plt.subplot(1, 4, i)\n",
        "  img = X_train[idx].reshape(32, 32).get()\n",
        "  label = y_train[idx].argmax().squeeze().get()\n",
        "  plt.axis(\"off\")\n",
        "  plt.imshow(img, cmap='gray')\n",
        "  plt.title(f\"Label: {label}\")\n",
        "plt.show()"
      ]
    },
    {
      "cell_type": "code",
      "execution_count": 4,
      "metadata": {
        "id": "AOt2rCLO6VZv"
      },
      "outputs": [],
      "source": [
        "from neurograd.utils.data import Dataset, DataLoader\n",
        "\n",
        "train_dataset = Dataset(X_train, y_train)\n",
        "train_loader = DataLoader(train_dataset, batch_size=32, shuffle=True)\n",
        "\n",
        "test_dataset = Dataset(X_test, y_test)\n",
        "test_loader = DataLoader(test_dataset, batch_size=32, shuffle=False)"
      ]
    },
    {
      "cell_type": "markdown",
      "metadata": {
        "id": "_mjh6qAb7OJi"
      },
      "source": [
        "# Model architecture, optimizer and losses"
      ]
    },
    {
      "cell_type": "code",
      "execution_count": 5,
      "metadata": {
        "colab": {
          "base_uri": "https://localhost:8080/"
        },
        "id": "lMmhKSHc8Atn",
        "outputId": "5eebe866-cc2e-41a4-c251-b114430d088b"
      },
      "outputs": [
        {
          "name": "stdout",
          "output_type": "stream",
          "text": [
            "layer_0.kernels (6, 1, 5, 5)\n",
            "layer_0.bias (1, 6, 1, 1)\n",
            "layer_2.kernels (16, 6, 5, 5)\n",
            "layer_2.bias (1, 16, 1, 1)\n",
            "layer_5.weight (400, 120)\n",
            "layer_5.bias (120,)\n",
            "layer_6.weight (120, 84)\n",
            "layer_6.bias (84,)\n",
            "layer_7.weight (84, 10)\n",
            "layer_7.bias (10,)\n"
          ]
        }
      ],
      "source": [
        "from neurograd.nn.layers import Sequential, Conv2D, AveragePool2D, Flatten, Linear\n",
        "\n",
        "model = Sequential(\n",
        "    Conv2D(in_channels=1, out_channels=6, kernel_size=5, strides=1, activation=\"tanh\"),\n",
        "    AveragePool2D(pool_size=2, strides=2),\n",
        "    Conv2D(in_channels=6, out_channels=16, kernel_size=5, strides=1, activation=\"tanh\"),\n",
        "    AveragePool2D(pool_size=2, strides=2),\n",
        "    Flatten(),\n",
        "    Linear(in_features=400, out_features=120, activation=\"tanh\"),\n",
        "    Linear(in_features=120, out_features=84, activation=\"tanh\"),\n",
        "    Linear(in_features=84, out_features=10, activation=\"softmax\")\n",
        ")\n",
        "\n",
        "for name, param in model.named_parameters():\n",
        "    print(name, param.shape)"
      ]
    },
    {
      "cell_type": "code",
      "execution_count": 6,
      "metadata": {
        "id": "r108dB-v7mMj"
      },
      "outputs": [],
      "source": [
        "from neurograd.optim import Adam\n",
        "from neurograd.nn.losses import CategoricalCrossEntropy\n",
        "from neurograd.nn.metrics import accuracy_score\n",
        "\n",
        "optimizer = Adam(model.named_parameters(), lr=0.001)\n",
        "loss_fn = CategoricalCrossEntropy()"
      ]
    },
    {
      "cell_type": "markdown",
      "metadata": {
        "id": "7qNgCMin-coo"
      },
      "source": [
        "# Training (mixed precision)"
      ]
    },
    {
      "cell_type": "code",
      "execution_count": 7,
      "metadata": {
        "colab": {
          "base_uri": "https://localhost:8080/",
          "height": 217,
          "referenced_widgets": [
            "2800470cd76845c9b1583720e28e6757",
            "d522aa8752054f318706e587f86d7517",
            "c0f3e368d9a34e318254014468bd6ffe",
            "aeb1d45d06ac48959ec836d1d2366834",
            "702edf5653f1428cad55abb19266fcfa",
            "32e7c1e2b745484ea2895bca29a32aee",
            "bad78132df244a738729837f1099963b",
            "c0c3989e1cc0468cb7053f4c77b95f9e",
            "5bbe59df8a6c47cab117bcfd6bf1d53b",
            "08714e01053d4cb38354ae5c98125ddb",
            "ce74e33a627343eb8d9cfd6fb1edfe10",
            "6ce9f82b4c3541f79bb96f2d95230677",
            "e120299954b84403b7496febc088d6be",
            "d2184502ac8f4266abcdb73b54c53d10",
            "4c421b14a8124a1fa0745aca6b3a86c7",
            "8f8891e830ac44328f37469b2765226c",
            "4b3174353b96428d94164c0130a8f022",
            "fee998a799f346948dd7b8b523746f35",
            "9be34f7ac66d49f9921173dcfaea86fd",
            "930c54d625ac4ca28942598607fe8843",
            "600e994beef24f61b81072f5452d2310",
            "21d7a264a7514abc9e43ceb4fb897ea2",
            "b8e3ee2483644b69a8b46875834ada0d",
            "9737dddcbd1d4c3b92519c3577c5c5e3",
            "396bb07d364140ef88edff7a4d632ea1",
            "700468ccba8b483eadda51e879ce5282",
            "6922c05144664ebe8e2af47da6fb4f02",
            "6d65c475ef364f268161e28eacd31245",
            "41b4567afef0432b8225fcc100e7dfbd",
            "e4b642b254d243d28a0a1cddc59a67bb",
            "47deca675eea4841b17f4a4c79c8912f",
            "aa26b226a74941ae8fbfabc624ad3cea",
            "d481d7bed2c443dfaadb584c81944e29"
          ]
        },
        "id": "WmlIWwO39ugK",
        "outputId": "a9b351f2-0f9e-43a5-f7f3-2e5179c40dc6"
      },
      "outputs": [
        {
          "name": "stdout",
          "output_type": "stream",
          "text": [
            "Epoch: 1 / 3:\n"
          ]
        },
        {
          "data": {
            "application/vnd.jupyter.widget-view+json": {
              "model_id": "2800470cd76845c9b1583720e28e6757",
              "version_major": 2,
              "version_minor": 0
            },
            "text/plain": [
              "  0%|          | 0/1875 [00:00<?, ?it/s]"
            ]
          },
          "metadata": {},
          "output_type": "display_data"
        },
        {
          "name": "stdout",
          "output_type": "stream",
          "text": [
            "Train loss: 1.5762, Train acc: 0.9202, Test loss: 1.4167, Test acc: 0.9579\n",
            "Epoch: 2 / 3:\n"
          ]
        },
        {
          "data": {
            "application/vnd.jupyter.widget-view+json": {
              "model_id": "6ce9f82b4c3541f79bb96f2d95230677",
              "version_major": 2,
              "version_minor": 0
            },
            "text/plain": [
              "  0%|          | 0/1875 [00:00<?, ?it/s]"
            ]
          },
          "metadata": {},
          "output_type": "display_data"
        },
        {
          "name": "stdout",
          "output_type": "stream",
          "text": [
            "Train loss: 1.4212, Train acc: 0.9596, Test loss: 1.3687, Test acc: 0.9678\n",
            "Epoch: 3 / 3:\n"
          ]
        },
        {
          "data": {
            "application/vnd.jupyter.widget-view+json": {
              "model_id": "b8e3ee2483644b69a8b46875834ada0d",
              "version_major": 2,
              "version_minor": 0
            },
            "text/plain": [
              "  0%|          | 0/1875 [00:00<?, ?it/s]"
            ]
          },
          "metadata": {},
          "output_type": "display_data"
        },
        {
          "name": "stdout",
          "output_type": "stream",
          "text": [
            "Train loss: 1.3891, Train acc: 0.9672, Test loss: 1.3525, Test acc: 0.9742\n"
          ]
        }
      ],
      "source": [
        "from tqdm.auto import tqdm\n",
        "from neurograd.amp import GradScaler\n",
        "scaler = GradScaler()\n",
        "\n",
        "EPOCHS = 3\n",
        "BATCH_SIZE = train_loader.batch_size\n",
        "\n",
        "\n",
        "for epoch in range(1, EPOCHS + 1):\n",
        "\n",
        "  print(f\"Epoch: {epoch} / {EPOCHS}:\")\n",
        "  train_losses, train_acc = [], []\n",
        "  test_losses, test_acc = [], []\n",
        "\n",
        "  model.train()\n",
        "  for (X_train, y_train) in tqdm(train_loader):\n",
        "      with ng.autocast():\n",
        "        y_pred = model(X_train)\n",
        "        loss = loss_fn(y_train, y_pred)\n",
        "        train_losses.append(loss.data)\n",
        "        optimizer.zero_grad()\n",
        "        scaler.scale(loss).backward()\n",
        "        scaler.step(optimizer)\n",
        "        scaler.update()\n",
        "        acc = accuracy_score(y_train.argmax(axis=-1), y_pred.argmax(axis=-1))\n",
        "        train_acc.append(acc)\n",
        "\n",
        "  model.eval()\n",
        "  for (X_test, y_test) in test_loader:\n",
        "    with ng.autocast():\n",
        "      y_pred = model(X_test)\n",
        "      loss = loss_fn(y_test, y_pred)\n",
        "      acc = accuracy_score(y_test.argmax(axis=-1), y_pred.argmax(axis=-1))\n",
        "      test_losses.append(loss.data)\n",
        "      test_acc.append(acc)\n",
        "\n",
        "  # Convert lists to arrays before mean\n",
        "  train_losses = cp.asarray(train_losses)\n",
        "  train_acc = cp.asarray(train_acc)\n",
        "  test_losses = cp.asarray(test_losses)\n",
        "  test_acc = cp.asarray(test_acc)\n",
        "\n",
        "  print(\n",
        "      f\"Train loss: {cp.mean(train_losses):.4f}, \"\n",
        "      f\"Train acc: {cp.mean(train_acc):.4f}, \"\n",
        "      f\"Test loss: {cp.mean(test_losses):.4f}, \"\n",
        "      f\"Test acc: {cp.mean(test_acc):.4f}\"\n",
        "  )"
      ]
    },
    {
      "cell_type": "markdown",
      "metadata": {
        "id": "IYRMkvTHFo4e"
      },
      "source": [
        "# Visualize model predictions"
      ]
    },
    {
      "cell_type": "code",
      "execution_count": 8,
      "metadata": {
        "colab": {
          "base_uri": "https://localhost:8080/",
          "height": 498
        },
        "id": "7_bM1xGz_IYl",
        "outputId": "79b9a8a2-d66d-4ffe-8d00-55e6e6677ed7"
      },
      "outputs": [
        {
          "data": {
            "image/png": "[encoded data removed]",
            "text/plain": [
              "<Figure size 640x480 with 32 Axes>"
            ]
          },
          "metadata": {},
          "output_type": "display_data"
        },
        {
          "name": "stdout",
          "output_type": "stream",
          "text": [
            "Guessed 32 / 32\n"
          ]
        }
      ],
      "source": [
        "X, y = random.choice(test_loader)\n",
        "with ng.autocast():\n",
        "    y_pred = model(X)\n",
        "\n",
        "correct = 0\n",
        "for idx in range(32):  # 4 rows * 8 cols = 32 images\n",
        "    img = X[idx].data.reshape(32, 32).get()\n",
        "    label = y[idx].data.argmax(-1).get()\n",
        "    pred = y_pred[idx].data.argmax(-1).get()\n",
        "    correct += label == pred\n",
        "\n",
        "    plt.subplot(4, 8, idx + 1)  # subplot indices start at 1\n",
        "    plt.imshow(img, cmap='gray')\n",
        "    plt.axis('off')\n",
        "    plt.title(f\"Label: {label}\\nPred: {pred}\")\n",
        "\n",
        "plt.tight_layout()\n",
        "plt.show()\n",
        "print(f\"Guessed {correct} / 32\")"
      ]
    },
    {
      "cell_type": "code",
      "execution_count": null,
      "metadata": {
        "id": "f9u0cH6vItbC"
      },
      "outputs": [],
      "source": []
    },
    {
      "cell_type": "code",
      "execution_count": null,
      "metadata": {
        "id": "IjADapsZFuvQ"
      },
      "outputs": [],
      "source": []
    }
  ],
  "metadata": {
    "accelerator": "GPU",
    "colab": {
      "gpuType": "T4",
      "provenance": []
    },
    "kernelspec": {
      "display_name": "Python 3",
      "name": "python3"
    },
    "language_info": {
      "name": "python"
    },
    "widgets": {
      "application/vnd.jupyter.widget-state+json": {
        "08714e01053d4cb38354ae5c98125ddb": {
          "model_module": "@jupyter-widgets/base",
          "model_module_version": "1.2.0",
          "model_name": "LayoutModel",
          "state": {
            "_model_module": "@jupyter-widgets/base",
            "_model_module_version": "1.2.0",
            "_model_name": "LayoutModel",
            "_view_count": null,
            "_view_module": "@jupyter-widgets/base",
            "_view_module_version": "1.2.0",
            "_view_name": "LayoutView",
            "align_content": null,
            "align_items": null,
            "align_self": null,
            "border": null,
            "bottom": null,
            "display": null,
            "flex": null,
            "flex_flow": null,
            "grid_area": null,
            "grid_auto_columns": null,
            "grid_auto_flow": null,
            "grid_auto_rows": null,
            "grid_column": null,
            "grid_gap": null,
            "grid_row": null,
            "grid_template_areas": null,
            "grid_template_columns": null,
            "grid_template_rows": null,
            "height": null,
            "justify_content": null,
            "justify_items": null,
            "left": null,
            "margin": null,
            "max_height": null,
            "max_width": null,
            "min_height": null,
            "min_width": null,
            "object_fit": null,
            "object_position": null,
            "order": null,
            "overflow": null,
            "overflow_x": null,
            "overflow_y": null,
            "padding": null,
            "right": null,
            "top": null,
            "visibility": null,
            "width": null
          }
        },
        "21d7a264a7514abc9e43ceb4fb897ea2": {
          "model_module": "@jupyter-widgets/controls",
          "model_module_version": "1.5.0",
          "model_name": "DescriptionStyleModel",
          "state": {
            "_model_module": "@jupyter-widgets/controls",
            "_model_module_version": "1.5.0",
            "_model_name": "DescriptionStyleModel",
            "_view_count": null,
            "_view_module": "@jupyter-widgets/base",
            "_view_module_version": "1.2.0",
            "_view_name": "StyleView",
            "description_width": ""
          }
        },
        "2800470cd76845c9b1583720e28e6757": {
          "model_module": "@jupyter-widgets/controls",
          "model_module_version": "1.5.0",
          "model_name": "HBoxModel",
          "state": {
            "_dom_classes": [],
            "_model_module": "@jupyter-widgets/controls",
            "_model_module_version": "1.5.0",
            "_model_name": "HBoxModel",
            "_view_count": null,
            "_view_module": "@jupyter-widgets/controls",
            "_view_module_version": "1.5.0",
            "_view_name": "HBoxView",
            "box_style": "",
            "children": [
              "IPY_MODEL_d522aa8752054f318706e587f86d7517",
              "IPY_MODEL_c0f3e368d9a34e318254014468bd6ffe",
              "IPY_MODEL_aeb1d45d06ac48959ec836d1d2366834"
            ],
            "layout": "IPY_MODEL_702edf5653f1428cad55abb19266fcfa"
          }
        },
        "32e7c1e2b745484ea2895bca29a32aee": {
          "model_module": "@jupyter-widgets/base",
          "model_module_version": "1.2.0",
          "model_name": "LayoutModel",
          "state": {
            "_model_module": "@jupyter-widgets/base",
            "_model_module_version": "1.2.0",
            "_model_name": "LayoutModel",
            "_view_count": null,
            "_view_module": "@jupyter-widgets/base",
            "_view_module_version": "1.2.0",
            "_view_name": "LayoutView",
            "align_content": null,
            "align_items": null,
            "align_self": null,
            "border": null,
            "bottom": null,
            "display": null,
            "flex": null,
            "flex_flow": null,
            "grid_area": null,
            "grid_auto_columns": null,
            "grid_auto_flow": null,
            "grid_auto_rows": null,
            "grid_column": null,
            "grid_gap": null,
            "grid_row": null,
            "grid_template_areas": null,
            "grid_template_columns": null,
            "grid_template_rows": null,
            "height": null,
            "justify_content": null,
            "justify_items": null,
            "left": null,
            "margin": null,
            "max_height": null,
            "max_width": null,
            "min_height": null,
            "min_width": null,
            "object_fit": null,
            "object_position": null,
            "order": null,
            "overflow": null,
            "overflow_x": null,
            "overflow_y": null,
            "padding": null,
            "right": null,
            "top": null,
            "visibility": null,
            "width": null
          }
        },
        "396bb07d364140ef88edff7a4d632ea1": {
          "model_module": "@jupyter-widgets/controls",
          "model_module_version": "1.5.0",
          "model_name": "FloatProgressModel",
          "state": {
            "_dom_classes": [],
            "_model_module": "@jupyter-widgets/controls",
            "_model_module_version": "1.5.0",
            "_model_name": "FloatProgressModel",
            "_view_count": null,
            "_view_module": "@jupyter-widgets/controls",
            "_view_module_version": "1.5.0",
            "_view_name": "ProgressView",
            "bar_style": "success",
            "description": "",
            "description_tooltip": null,
            "layout": "IPY_MODEL_e4b642b254d243d28a0a1cddc59a67bb",
            "max": 1875,
            "min": 0,
            "orientation": "horizontal",
            "style": "IPY_MODEL_47deca675eea4841b17f4a4c79c8912f",
            "value": 1875
          }
        },
        "41b4567afef0432b8225fcc100e7dfbd": {
          "model_module": "@jupyter-widgets/controls",
          "model_module_version": "1.5.0",
          "model_name": "DescriptionStyleModel",
          "state": {
            "_model_module": "@jupyter-widgets/controls",
            "_model_module_version": "1.5.0",
            "_model_name": "DescriptionStyleModel",
            "_view_count": null,
            "_view_module": "@jupyter-widgets/base",
            "_view_module_version": "1.2.0",
            "_view_name": "StyleView",
            "description_width": ""
          }
        },
        "47deca675eea4841b17f4a4c79c8912f": {
          "model_module": "@jupyter-widgets/controls",
          "model_module_version": "1.5.0",
          "model_name": "ProgressStyleModel",
          "state": {
            "_model_module": "@jupyter-widgets/controls",
            "_model_module_version": "1.5.0",
            "_model_name": "ProgressStyleModel",
            "_view_count": null,
            "_view_module": "@jupyter-widgets/base",
            "_view_module_version": "1.2.0",
            "_view_name": "StyleView",
            "bar_color": null,
            "description_width": ""
          }
        },
        "4b3174353b96428d94164c0130a8f022": {
          "model_module": "@jupyter-widgets/base",
          "model_module_version": "1.2.0",
          "model_name": "LayoutModel",
          "state": {
            "_model_module": "@jupyter-widgets/base",
            "_model_module_version": "1.2.0",
            "_model_name": "LayoutModel",
            "_view_count": null,
            "_view_module": "@jupyter-widgets/base",
            "_view_module_version": "1.2.0",
            "_view_name": "LayoutView",
            "align_content": null,
            "align_items": null,
            "align_self": null,
            "border": null,
            "bottom": null,
            "display": null,
            "flex": null,
            "flex_flow": null,
            "grid_area": null,
            "grid_auto_columns": null,
            "grid_auto_flow": null,
            "grid_auto_rows": null,
            "grid_column": null,
            "grid_gap": null,
            "grid_row": null,
            "grid_template_areas": null,
            "grid_template_columns": null,
            "grid_template_rows": null,
            "height": null,
            "justify_content": null,
            "justify_items": null,
            "left": null,
            "margin": null,
            "max_height": null,
            "max_width": null,
            "min_height": null,
            "min_width": null,
            "object_fit": null,
            "object_position": null,
            "order": null,
            "overflow": null,
            "overflow_x": null,
            "overflow_y": null,
            "padding": null,
            "right": null,
            "top": null,
            "visibility": null,
            "width": null
          }
        },
        "4c421b14a8124a1fa0745aca6b3a86c7": {
          "model_module": "@jupyter-widgets/controls",
          "model_module_version": "1.5.0",
          "model_name": "HTMLModel",
          "state": {
            "_dom_classes": [],
            "_model_module": "@jupyter-widgets/controls",
            "_model_module_version": "1.5.0",
            "_model_name": "HTMLModel",
            "_view_count": null,
            "_view_module": "@jupyter-widgets/controls",
            "_view_module_version": "1.5.0",
            "_view_name": "HTMLView",
            "description": "",
            "description_tooltip": null,
            "layout": "IPY_MODEL_600e994beef24f61b81072f5452d2310",
            "placeholder": "​",
            "style": "IPY_MODEL_21d7a264a7514abc9e43ceb4fb897ea2",
            "value": " 1875/1875 [00:54&lt;00:00, 38.18it/s]"
          }
        },
        "5bbe59df8a6c47cab117bcfd6bf1d53b": {
          "model_module": "@jupyter-widgets/controls",
          "model_module_version": "1.5.0",
          "model_name": "ProgressStyleModel",
          "state": {
            "_model_module": "@jupyter-widgets/controls",
            "_model_module_version": "1.5.0",
            "_model_name": "ProgressStyleModel",
            "_view_count": null,
            "_view_module": "@jupyter-widgets/base",
            "_view_module_version": "1.2.0",
            "_view_name": "StyleView",
            "bar_color": null,
            "description_width": ""
          }
        },
        "600e994beef24f61b81072f5452d2310": {
          "model_module": "@jupyter-widgets/base",
          "model_module_version": "1.2.0",
          "model_name": "LayoutModel",
          "state": {
            "_model_module": "@jupyter-widgets/base",
            "_model_module_version": "1.2.0",
            "_model_name": "LayoutModel",
            "_view_count": null,
            "_view_module": "@jupyter-widgets/base",
            "_view_module_version": "1.2.0",
            "_view_name": "LayoutView",
            "align_content": null,
            "align_items": null,
            "align_self": null,
            "border": null,
            "bottom": null,
            "display": null,
            "flex": null,
            "flex_flow": null,
            "grid_area": null,
            "grid_auto_columns": null,
            "grid_auto_flow": null,
            "grid_auto_rows": null,
            "grid_column": null,
            "grid_gap": null,
            "grid_row": null,
            "grid_template_areas": null,
            "grid_template_columns": null,
            "grid_template_rows": null,
            "height": null,
            "justify_content": null,
            "justify_items": null,
            "left": null,
            "margin": null,
            "max_height": null,
            "max_width": null,
            "min_height": null,
            "min_width": null,
            "object_fit": null,
            "object_position": null,
            "order": null,
            "overflow": null,
            "overflow_x": null,
            "overflow_y": null,
            "padding": null,
            "right": null,
            "top": null,
            "visibility": null,
            "width": null
          }
        },
        "6922c05144664ebe8e2af47da6fb4f02": {
          "model_module": "@jupyter-widgets/base",
          "model_module_version": "1.2.0",
          "model_name": "LayoutModel",
          "state": {
            "_model_module": "@jupyter-widgets/base",
            "_model_module_version": "1.2.0",
            "_model_name": "LayoutModel",
            "_view_count": null,
            "_view_module": "@jupyter-widgets/base",
            "_view_module_version": "1.2.0",
            "_view_name": "LayoutView",
            "align_content": null,
            "align_items": null,
            "align_self": null,
            "border": null,
            "bottom": null,
            "display": null,
            "flex": null,
            "flex_flow": null,
            "grid_area": null,
            "grid_auto_columns": null,
            "grid_auto_flow": null,
            "grid_auto_rows": null,
            "grid_column": null,
            "grid_gap": null,
            "grid_row": null,
            "grid_template_areas": null,
            "grid_template_columns": null,
            "grid_template_rows": null,
            "height": null,
            "justify_content": null,
            "justify_items": null,
            "left": null,
            "margin": null,
            "max_height": null,
            "max_width": null,
            "min_height": null,
            "min_width": null,
            "object_fit": null,
            "object_position": null,
            "order": null,
            "overflow": null,
            "overflow_x": null,
            "overflow_y": null,
            "padding": null,
            "right": null,
            "top": null,
            "visibility": null,
            "width": null
          }
        },
        "6ce9f82b4c3541f79bb96f2d95230677": {
          "model_module": "@jupyter-widgets/controls",
          "model_module_version": "1.5.0",
          "model_name": "HBoxModel",
          "state": {
            "_dom_classes": [],
            "_model_module": "@jupyter-widgets/controls",
            "_model_module_version": "1.5.0",
            "_model_name": "HBoxModel",
            "_view_count": null,
            "_view_module": "@jupyter-widgets/controls",
            "_view_module_version": "1.5.0",
            "_view_name": "HBoxView",
            "box_style": "",
            "children": [
              "IPY_MODEL_e120299954b84403b7496febc088d6be",
              "IPY_MODEL_d2184502ac8f4266abcdb73b54c53d10",
              "IPY_MODEL_4c421b14a8124a1fa0745aca6b3a86c7"
            ],
            "layout": "IPY_MODEL_8f8891e830ac44328f37469b2765226c"
          }
        },
        "6d65c475ef364f268161e28eacd31245": {
          "model_module": "@jupyter-widgets/base",
          "model_module_version": "1.2.0",
          "model_name": "LayoutModel",
          "state": {
            "_model_module": "@jupyter-widgets/base",
            "_model_module_version": "1.2.0",
            "_model_name": "LayoutModel",
            "_view_count": null,
            "_view_module": "@jupyter-widgets/base",
            "_view_module_version": "1.2.0",
            "_view_name": "LayoutView",
            "align_content": null,
            "align_items": null,
            "align_self": null,
            "border": null,
            "bottom": null,
            "display": null,
            "flex": null,
            "flex_flow": null,
            "grid_area": null,
            "grid_auto_columns": null,
            "grid_auto_flow": null,
            "grid_auto_rows": null,
            "grid_column": null,
            "grid_gap": null,
            "grid_row": null,
            "grid_template_areas": null,
            "grid_template_columns": null,
            "grid_template_rows": null,
            "height": null,
            "justify_content": null,
            "justify_items": null,
            "left": null,
            "margin": null,
            "max_height": null,
            "max_width": null,
            "min_height": null,
            "min_width": null,
            "object_fit": null,
            "object_position": null,
            "order": null,
            "overflow": null,
            "overflow_x": null,
            "overflow_y": null,
            "padding": null,
            "right": null,
            "top": null,
            "visibility": null,
            "width": null
          }
        },
        "700468ccba8b483eadda51e879ce5282": {
          "model_module": "@jupyter-widgets/controls",
          "model_module_version": "1.5.0",
          "model_name": "HTMLModel",
          "state": {
            "_dom_classes": [],
            "_model_module": "@jupyter-widgets/controls",
            "_model_module_version": "1.5.0",
            "_model_name": "HTMLModel",
            "_view_count": null,
            "_view_module": "@jupyter-widgets/controls",
            "_view_module_version": "1.5.0",
            "_view_name": "HTMLView",
            "description": "",
            "description_tooltip": null,
            "layout": "IPY_MODEL_aa26b226a74941ae8fbfabc624ad3cea",
            "placeholder": "​",
            "style": "IPY_MODEL_d481d7bed2c443dfaadb584c81944e29",
            "value": " 1875/1875 [01:56&lt;00:00, 16.91it/s]"
          }
        },
        "702edf5653f1428cad55abb19266fcfa": {
          "model_module": "@jupyter-widgets/base",
          "model_module_version": "1.2.0",
          "model_name": "LayoutModel",
          "state": {
            "_model_module": "@jupyter-widgets/base",
            "_model_module_version": "1.2.0",
            "_model_name": "LayoutModel",
            "_view_count": null,
            "_view_module": "@jupyter-widgets/base",
            "_view_module_version": "1.2.0",
            "_view_name": "LayoutView",
            "align_content": null,
            "align_items": null,
            "align_self": null,
            "border": null,
            "bottom": null,
            "display": null,
            "flex": null,
            "flex_flow": null,
            "grid_area": null,
            "grid_auto_columns": null,
            "grid_auto_flow": null,
            "grid_auto_rows": null,
            "grid_column": null,
            "grid_gap": null,
            "grid_row": null,
            "grid_template_areas": null,
            "grid_template_columns": null,
            "grid_template_rows": null,
            "height": null,
            "justify_content": null,
            "justify_items": null,
            "left": null,
            "margin": null,
            "max_height": null,
            "max_width": null,
            "min_height": null,
            "min_width": null,
            "object_fit": null,
            "object_position": null,
            "order": null,
            "overflow": null,
            "overflow_x": null,
            "overflow_y": null,
            "padding": null,
            "right": null,
            "top": null,
            "visibility": null,
            "width": null
          }
        },
        "8f8891e830ac44328f37469b2765226c": {
          "model_module": "@jupyter-widgets/base",
          "model_module_version": "1.2.0",
          "model_name": "LayoutModel",
          "state": {
            "_model_module": "@jupyter-widgets/base",
            "_model_module_version": "1.2.0",
            "_model_name": "LayoutModel",
            "_view_count": null,
            "_view_module": "@jupyter-widgets/base",
            "_view_module_version": "1.2.0",
            "_view_name": "LayoutView",
            "align_content": null,
            "align_items": null,
            "align_self": null,
            "border": null,
            "bottom": null,
            "display": null,
            "flex": null,
            "flex_flow": null,
            "grid_area": null,
            "grid_auto_columns": null,
            "grid_auto_flow": null,
            "grid_auto_rows": null,
            "grid_column": null,
            "grid_gap": null,
            "grid_row": null,
            "grid_template_areas": null,
            "grid_template_columns": null,
            "grid_template_rows": null,
            "height": null,
            "justify_content": null,
            "justify_items": null,
            "left": null,
            "margin": null,
            "max_height": null,
            "max_width": null,
            "min_height": null,
            "min_width": null,
            "object_fit": null,
            "object_position": null,
            "order": null,
            "overflow": null,
            "overflow_x": null,
            "overflow_y": null,
            "padding": null,
            "right": null,
            "top": null,
            "visibility": null,
            "width": null
          }
        },
        "930c54d625ac4ca28942598607fe8843": {
          "model_module": "@jupyter-widgets/controls",
          "model_module_version": "1.5.0",
          "model_name": "ProgressStyleModel",
          "state": {
            "_model_module": "@jupyter-widgets/controls",
            "_model_module_version": "1.5.0",
            "_model_name": "ProgressStyleModel",
            "_view_count": null,
            "_view_module": "@jupyter-widgets/base",
            "_view_module_version": "1.2.0",
            "_view_name": "StyleView",
            "bar_color": null,
            "description_width": ""
          }
        },
        "9737dddcbd1d4c3b92519c3577c5c5e3": {
          "model_module": "@jupyter-widgets/controls",
          "model_module_version": "1.5.0",
          "model_name": "HTMLModel",
          "state": {
            "_dom_classes": [],
            "_model_module": "@jupyter-widgets/controls",
            "_model_module_version": "1.5.0",
            "_model_name": "HTMLModel",
            "_view_count": null,
            "_view_module": "@jupyter-widgets/controls",
            "_view_module_version": "1.5.0",
            "_view_name": "HTMLView",
            "description": "",
            "description_tooltip": null,
            "layout": "IPY_MODEL_6d65c475ef364f268161e28eacd31245",
            "placeholder": "​",
            "style": "IPY_MODEL_41b4567afef0432b8225fcc100e7dfbd",
            "value": "100%"
          }
        },
        "9be34f7ac66d49f9921173dcfaea86fd": {
          "model_module": "@jupyter-widgets/base",
          "model_module_version": "1.2.0",
          "model_name": "LayoutModel",
          "state": {
            "_model_module": "@jupyter-widgets/base",
            "_model_module_version": "1.2.0",
            "_model_name": "LayoutModel",
            "_view_count": null,
            "_view_module": "@jupyter-widgets/base",
            "_view_module_version": "1.2.0",
            "_view_name": "LayoutView",
            "align_content": null,
            "align_items": null,
            "align_self": null,
            "border": null,
            "bottom": null,
            "display": null,
            "flex": null,
            "flex_flow": null,
            "grid_area": null,
            "grid_auto_columns": null,
            "grid_auto_flow": null,
            "grid_auto_rows": null,
            "grid_column": null,
            "grid_gap": null,
            "grid_row": null,
            "grid_template_areas": null,
            "grid_template_columns": null,
            "grid_template_rows": null,
            "height": null,
            "justify_content": null,
            "justify_items": null,
            "left": null,
            "margin": null,
            "max_height": null,
            "max_width": null,
            "min_height": null,
            "min_width": null,
            "object_fit": null,
            "object_position": null,
            "order": null,
            "overflow": null,
            "overflow_x": null,
            "overflow_y": null,
            "padding": null,
            "right": null,
            "top": null,
            "visibility": null,
            "width": null
          }
        },
        "aa26b226a74941ae8fbfabc624ad3cea": {
          "model_module": "@jupyter-widgets/base",
          "model_module_version": "1.2.0",
          "model_name": "LayoutModel",
          "state": {
            "_model_module": "@jupyter-widgets/base",
            "_model_module_version": "1.2.0",
            "_model_name": "LayoutModel",
            "_view_count": null,
            "_view_module": "@jupyter-widgets/base",
            "_view_module_version": "1.2.0",
            "_view_name": "LayoutView",
            "align_content": null,
            "align_items": null,
            "align_self": null,
            "border": null,
            "bottom": null,
            "display": null,
            "flex": null,
            "flex_flow": null,
            "grid_area": null,
            "grid_auto_columns": null,
            "grid_auto_flow": null,
            "grid_auto_rows": null,
            "grid_column": null,
            "grid_gap": null,
            "grid_row": null,
            "grid_template_areas": null,
            "grid_template_columns": null,
            "grid_template_rows": null,
            "height": null,
            "justify_content": null,
            "justify_items": null,
            "left": null,
            "margin": null,
            "max_height": null,
            "max_width": null,
            "min_height": null,
            "min_width": null,
            "object_fit": null,
            "object_position": null,
            "order": null,
            "overflow": null,
            "overflow_x": null,
            "overflow_y": null,
            "padding": null,
            "right": null,
            "top": null,
            "visibility": null,
            "width": null
          }
        },
        "aeb1d45d06ac48959ec836d1d2366834": {
          "model_module": "@jupyter-widgets/controls",
          "model_module_version": "1.5.0",
          "model_name": "HTMLModel",
          "state": {
            "_dom_classes": [],
            "_model_module": "@jupyter-widgets/controls",
            "_model_module_version": "1.5.0",
            "_model_name": "HTMLModel",
            "_view_count": null,
            "_view_module": "@jupyter-widgets/controls",
            "_view_module_version": "1.5.0",
            "_view_name": "HTMLView",
            "description": "",
            "description_tooltip": null,
            "layout": "IPY_MODEL_08714e01053d4cb38354ae5c98125ddb",
            "placeholder": "​",
            "style": "IPY_MODEL_ce74e33a627343eb8d9cfd6fb1edfe10",
            "value": " 1875/1875 [00:48&lt;00:00, 48.49it/s]"
          }
        },
        "b8e3ee2483644b69a8b46875834ada0d": {
          "model_module": "@jupyter-widgets/controls",
          "model_module_version": "1.5.0",
          "model_name": "HBoxModel",
          "state": {
            "_dom_classes": [],
            "_model_module": "@jupyter-widgets/controls",
            "_model_module_version": "1.5.0",
            "_model_name": "HBoxModel",
            "_view_count": null,
            "_view_module": "@jupyter-widgets/controls",
            "_view_module_version": "1.5.0",
            "_view_name": "HBoxView",
            "box_style": "",
            "children": [
              "IPY_MODEL_9737dddcbd1d4c3b92519c3577c5c5e3",
              "IPY_MODEL_396bb07d364140ef88edff7a4d632ea1",
              "IPY_MODEL_700468ccba8b483eadda51e879ce5282"
            ],
            "layout": "IPY_MODEL_6922c05144664ebe8e2af47da6fb4f02"
          }
        },
        "bad78132df244a738729837f1099963b": {
          "model_module": "@jupyter-widgets/controls",
          "model_module_version": "1.5.0",
          "model_name": "DescriptionStyleModel",
          "state": {
            "_model_module": "@jupyter-widgets/controls",
            "_model_module_version": "1.5.0",
            "_model_name": "DescriptionStyleModel",
            "_view_count": null,
            "_view_module": "@jupyter-widgets/base",
            "_view_module_version": "1.2.0",
            "_view_name": "StyleView",
            "description_width": ""
          }
        },
        "c0c3989e1cc0468cb7053f4c77b95f9e": {
          "model_module": "@jupyter-widgets/base",
          "model_module_version": "1.2.0",
          "model_name": "LayoutModel",
          "state": {
            "_model_module": "@jupyter-widgets/base",
            "_model_module_version": "1.2.0",
            "_model_name": "LayoutModel",
            "_view_count": null,
            "_view_module": "@jupyter-widgets/base",
            "_view_module_version": "1.2.0",
            "_view_name": "LayoutView",
            "align_content": null,
            "align_items": null,
            "align_self": null,
            "border": null,
            "bottom": null,
            "display": null,
            "flex": null,
            "flex_flow": null,
            "grid_area": null,
            "grid_auto_columns": null,
            "grid_auto_flow": null,
            "grid_auto_rows": null,
            "grid_column": null,
            "grid_gap": null,
            "grid_row": null,
            "grid_template_areas": null,
            "grid_template_columns": null,
            "grid_template_rows": null,
            "height": null,
            "justify_content": null,
            "justify_items": null,
            "left": null,
            "margin": null,
            "max_height": null,
            "max_width": null,
            "min_height": null,
            "min_width": null,
            "object_fit": null,
            "object_position": null,
            "order": null,
            "overflow": null,
            "overflow_x": null,
            "overflow_y": null,
            "padding": null,
            "right": null,
            "top": null,
            "visibility": null,
            "width": null
          }
        },
        "c0f3e368d9a34e318254014468bd6ffe": {
          "model_module": "@jupyter-widgets/controls",
          "model_module_version": "1.5.0",
          "model_name": "FloatProgressModel",
          "state": {
            "_dom_classes": [],
            "_model_module": "@jupyter-widgets/controls",
            "_model_module_version": "1.5.0",
            "_model_name": "FloatProgressModel",
            "_view_count": null,
            "_view_module": "@jupyter-widgets/controls",
            "_view_module_version": "1.5.0",
            "_view_name": "ProgressView",
            "bar_style": "success",
            "description": "",
            "description_tooltip": null,
            "layout": "IPY_MODEL_c0c3989e1cc0468cb7053f4c77b95f9e",
            "max": 1875,
            "min": 0,
            "orientation": "horizontal",
            "style": "IPY_MODEL_5bbe59df8a6c47cab117bcfd6bf1d53b",
            "value": 1875
          }
        },
        "ce74e33a627343eb8d9cfd6fb1edfe10": {
          "model_module": "@jupyter-widgets/controls",
          "model_module_version": "1.5.0",
          "model_name": "DescriptionStyleModel",
          "state": {
            "_model_module": "@jupyter-widgets/controls",
            "_model_module_version": "1.5.0",
            "_model_name": "DescriptionStyleModel",
            "_view_count": null,
            "_view_module": "@jupyter-widgets/base",
            "_view_module_version": "1.2.0",
            "_view_name": "StyleView",
            "description_width": ""
          }
        },
        "d2184502ac8f4266abcdb73b54c53d10": {
          "model_module": "@jupyter-widgets/controls",
          "model_module_version": "1.5.0",
          "model_name": "FloatProgressModel",
          "state": {
            "_dom_classes": [],
            "_model_module": "@jupyter-widgets/controls",
            "_model_module_version": "1.5.0",
            "_model_name": "FloatProgressModel",
            "_view_count": null,
            "_view_module": "@jupyter-widgets/controls",
            "_view_module_version": "1.5.0",
            "_view_name": "ProgressView",
            "bar_style": "success",
            "description": "",
            "description_tooltip": null,
            "layout": "IPY_MODEL_9be34f7ac66d49f9921173dcfaea86fd",
            "max": 1875,
            "min": 0,
            "orientation": "horizontal",
            "style": "IPY_MODEL_930c54d625ac4ca28942598607fe8843",
            "value": 1875
          }
        },
        "d481d7bed2c443dfaadb584c81944e29": {
          "model_module": "@jupyter-widgets/controls",
          "model_module_version": "1.5.0",
          "model_name": "DescriptionStyleModel",
          "state": {
            "_model_module": "@jupyter-widgets/controls",
            "_model_module_version": "1.5.0",
            "_model_name": "DescriptionStyleModel",
            "_view_count": null,
            "_view_module": "@jupyter-widgets/base",
            "_view_module_version": "1.2.0",
            "_view_name": "StyleView",
            "description_width": ""
          }
        },
        "d522aa8752054f318706e587f86d7517": {
          "model_module": "@jupyter-widgets/controls",
          "model_module_version": "1.5.0",
          "model_name": "HTMLModel",
          "state": {
            "_dom_classes": [],
            "_model_module": "@jupyter-widgets/controls",
            "_model_module_version": "1.5.0",
            "_model_name": "HTMLModel",
            "_view_count": null,
            "_view_module": "@jupyter-widgets/controls",
            "_view_module_version": "1.5.0",
            "_view_name": "HTMLView",
            "description": "",
            "description_tooltip": null,
            "layout": "IPY_MODEL_32e7c1e2b745484ea2895bca29a32aee",
            "placeholder": "​",
            "style": "IPY_MODEL_bad78132df244a738729837f1099963b",
            "value": "100%"
          }
        },
        "e120299954b84403b7496febc088d6be": {
          "model_module": "@jupyter-widgets/controls",
          "model_module_version": "1.5.0",
          "model_name": "HTMLModel",
          "state": {
            "_dom_classes": [],
            "_model_module": "@jupyter-widgets/controls",
            "_model_module_version": "1.5.0",
            "_model_name": "HTMLModel",
            "_view_count": null,
            "_view_module": "@jupyter-widgets/controls",
            "_view_module_version": "1.5.0",
            "_view_name": "HTMLView",
            "description": "",
            "description_tooltip": null,
            "layout": "IPY_MODEL_4b3174353b96428d94164c0130a8f022",
            "placeholder": "​",
            "style": "IPY_MODEL_fee998a799f346948dd7b8b523746f35",
            "value": "100%"
          }
        },
        "e4b642b254d243d28a0a1cddc59a67bb": {
          "model_module": "@jupyter-widgets/base",
          "model_module_version": "1.2.0",
          "model_name": "LayoutModel",
          "state": {
            "_model_module": "@jupyter-widgets/base",
            "_model_module_version": "1.2.0",
            "_model_name": "LayoutModel",
            "_view_count": null,
            "_view_module": "@jupyter-widgets/base",
            "_view_module_version": "1.2.0",
            "_view_name": "LayoutView",
            "align_content": null,
            "align_items": null,
            "align_self": null,
            "border": null,
            "bottom": null,
            "display": null,
            "flex": null,
            "flex_flow": null,
            "grid_area": null,
            "grid_auto_columns": null,
            "grid_auto_flow": null,
            "grid_auto_rows": null,
            "grid_column": null,
            "grid_gap": null,
            "grid_row": null,
            "grid_template_areas": null,
            "grid_template_columns": null,
            "grid_template_rows": null,
            "height": null,
            "justify_content": null,
            "justify_items": null,
            "left": null,
            "margin": null,
            "max_height": null,
            "max_width": null,
            "min_height": null,
            "min_width": null,
            "object_fit": null,
            "object_position": null,
            "order": null,
            "overflow": null,
            "overflow_x": null,
            "overflow_y": null,
            "padding": null,
            "right": null,
            "top": null,
            "visibility": null,
            "width": null
          }
        },
        "fee998a799f346948dd7b8b523746f35": {
          "model_module": "@jupyter-widgets/controls",
          "model_module_version": "1.5.0",
          "model_name": "DescriptionStyleModel",
          "state": {
            "_model_module": "@jupyter-widgets/controls",
            "_model_module_version": "1.5.0",
            "_model_name": "DescriptionStyleModel",
            "_view_count": null,
            "_view_module": "@jupyter-widgets/base",
            "_view_module_version": "1.2.0",
            "_view_name": "StyleView",
            "description_width": ""
          }
        }
      }
    }
  },
  "nbformat": 4,
  "nbformat_minor": 0
}
