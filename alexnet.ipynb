{
 "cells": [
  {
   "cell_type": "markdown",
   "metadata": {
    "id": "ZM8-dSQw4dFH"
   },
   "source": [
    "# Import necessary modules"
   ]
  },
  {
   "cell_type": "code",
   "execution_count": 1,
   "metadata": {
    "colab": {
     "base_uri": "https://localhost:8080/"
    },
    "id": "12GhOQ_WzjqH",
    "outputId": "d991cd6e-2fbe-4517-9f47-0adce705c93f",
    "tags": []
   },
   "outputs": [
    {
     "name": "stdout",
     "output_type": "stream",
     "text": [
      "\u001b[33mWARNING: Running pip as the 'root' user can result in broken permissions and conflicting behaviour with the system package manager. It is recommended to use a virtual environment instead: https://pip.pypa.io/warnings/venv\u001b[0m\u001b[33m\n",
      "\u001b[0mNote: you may need to restart the kernel to use updated packages.\n",
      "\u001b[33mWARNING: Running pip as the 'root' user can result in broken permissions and conflicting behaviour with the system package manager. It is recommended to use a virtual environment instead: https://pip.pypa.io/warnings/venv\u001b[0m\u001b[33m\n",
      "\u001b[0mNote: you may need to restart the kernel to use updated packages.\n",
      "\u001b[33mWARNING: Running pip as the 'root' user can result in broken permissions and conflicting behaviour with the system package manager. It is recommended to use a virtual environment instead: https://pip.pypa.io/warnings/venv\u001b[0m\u001b[33m\n",
      "\u001b[0mNote: you may need to restart the kernel to use updated packages.\n",
      "Scalene extension successfully loaded. Note: Scalene currently only\n",
      "supports CPU+GPU profiling inside Jupyter notebooks. For full Scalene\n",
      "profiling, use the command line version.\n"
     ]
    }
   ],
   "source": [
    "%pip install -U -q neurograd[\"all\"]\n",
    "%pip install -U -q cupy-cuda12x\n",
    "# %pip install -q scalene==1.5.20\n",
    "%pip install -q scalene==1.5.50\n",
    "\n",
    "%reload_ext scalene\n",
    "import neurograd as ng\n",
    "import os\n",
    "import numpy as np\n",
    "import gzip\n",
    "import urllib.request\n",
    "\n",
    "try:\n",
    "    import cupy as cp\n",
    "    # Clear all device memory\n",
    "    cp.get_default_memory_pool().free_all_blocks()\n",
    "    cp.get_default_pinned_memory_pool().free_all_blocks()\n",
    "    cp.cuda.runtime.deviceSynchronize()\n",
    "except ImportError:\n",
    "    print(\"[INFO] CuPy not found – using NumPy (CPU) for the demo.\")\n",
    "    import numpy as cp\n",
    "\n",
    "from matplotlib import pyplot as plt\n",
    "import random"
   ]
  },
  {
   "cell_type": "markdown",
   "metadata": {
    "id": "kGpJcIbC4aqO"
   },
   "source": [
    "# Prepare tiny ImageNet"
   ]
  },
  {
   "cell_type": "code",
   "execution_count": 2,
   "metadata": {
    "colab": {
     "base_uri": "https://localhost:8080/"
    },
    "id": "5zhF-BR7zXxf",
    "outputId": "0c73c648-808a-4f15-dbd8-726fccd22e53",
    "tags": []
   },
   "outputs": [
    {
     "name": "stdout",
     "output_type": "stream",
     "text": [
      "[SKIP] tiny-imagenet-200.zip already present.\n",
      "[SKIP] Already extracted.\n",
      "[TRAIN] Restructured. Found 200 valid class directories.\n",
      "[VAL] Already restructured.\n",
      "[VERIFY] train: Expected 200 classes, found 200\n",
      "[VERIFY] val: Expected 200 classes, found 200\n",
      "[OK] Loaded 82115 WNID->words mappings.\n",
      "[OK] Renamed 91 directories with word labels.\n",
      "[OK] Renamed 91 directories with word labels.\n",
      "\n",
      "Tiny-ImageNet batch:\n",
      "X: (256, 3, 227, 227) <class 'numpy.float32'>\n",
      "y: (256, 200) <class 'numpy.float32'>\n",
      "\n",
      "Total valid class folders: 200\n",
      "Sample class folder names: ['n01443537_goldfish', 'n01629819_European_fire_salamander', 'n01641577_bullfrog', 'n01644900_tailed_frog', 'n01698640_American_alligator', 'n01742172_boa_constrictor', 'n01768244_trilobite', 'n01770393_scorpion', 'n01774384_black_widow', 'n01774750_tarantula']\n",
      "\n",
      "Relevant WNID->words mappings (200):\n",
      "  n01443537: goldfish\n",
      "  n01629819: European fire salamander\n",
      "  n01641577: bullfrog\n",
      "  n01644900: tailed frog\n",
      "  n01698640: American alligator\n",
      "  n01742172: boa constrictor\n",
      "  n01768244: trilobite\n",
      "  n01770393: scorpion\n",
      "  n01774384: black widow\n",
      "  n01774750: tarantula\n",
      "\n",
      "Dataset verification:\n",
      "Total classes in dataset: 200\n",
      "Expected classes: 200\n",
      "Match: good\n",
      "First 10 class names: ['n01443537_goldfish', 'n01629819_European_fire_salamander', 'n01641577_bullfrog', 'n01644900_tailed_frog', 'n01698640_American_alligator', 'n01742172_boa_constrictor', 'n01768244_trilobite', 'n01770393_scorpion', 'n01774384_black_widow', 'n01774750_tarantula']\n"
     ]
    }
   ],
   "source": [
    "# ================================================\n",
    "# Tiny-ImageNet-200: download, extract, restructure,\n",
    "# map WNIDs to words, then use ImageFolder + DataLoader\n",
    "# ================================================\n",
    "import os, zipfile, urllib.request, shutil\n",
    "from pathlib import Path\n",
    "import neurograd\n",
    "from neurograd import Tensor, xp\n",
    "from neurograd.utils.data import ImageFolder, DataLoader\n",
    "import albumentations as A\n",
    "\n",
    "# -------- config --------\n",
    "DATA_DIR = Path(\"./data\")\n",
    "ZIP_PATH = DATA_DIR / \"tiny-imagenet-200.zip\"\n",
    "ROOT     = DATA_DIR / \"tiny-imagenet-200\"\n",
    "TRAIN    = ROOT / \"train\"\n",
    "VAL      = ROOT / \"val\"\n",
    "VAL_IMG  = VAL / \"images\"\n",
    "VAL_ANN  = VAL / \"val_annotations.txt\"\n",
    "WORDS_TXT = ROOT / \"words.txt\"\n",
    "\n",
    "URLS = [\n",
    "    \"http://cs231n.stanford.edu/tiny-imagenet-200.zip\",\n",
    "    \"https://tiny-imagenet.s3.amazonaws.com/tiny-imagenet-200.zip\",  # fallback\n",
    "]\n",
    "\n",
    "BATCH_SIZE   = 256\n",
    "IMG_SHAPE    = (227, 227)\n",
    "IMG_MODE     = \"RGB\"\n",
    "USE_ONE_HOT  = True\n",
    "NUM_CLASSES  = 200\n",
    "\n",
    "# -------- helpers --------\n",
    "def download_with_fallback(urls, dst: Path):\n",
    "    dst.parent.mkdir(parents=True, exist_ok=True)\n",
    "    if dst.exists() and dst.stat().st_size > 0:\n",
    "        print(f\"[SKIP] {dst.name} already present.\")\n",
    "        return\n",
    "    for url in urls:\n",
    "        try:\n",
    "            print(f\"[DOWNLOAD] {url}\")\n",
    "            urllib.request.urlretrieve(url, dst)\n",
    "            print(\"[OK] Downloaded.\")\n",
    "            return\n",
    "        except Exception as e:\n",
    "            print(f\"[WARN] Failed: {e}\")\n",
    "    raise RuntimeError(\"All downloads failed.\")\n",
    "\n",
    "def extract_zip(zip_path: Path, out_dir: Path):\n",
    "    if out_dir.exists() and (out_dir / \"train\").exists() and (out_dir / \"val\").exists():\n",
    "        print(\"[SKIP] Already extracted.\")\n",
    "        return\n",
    "    print(f\"[EXTRACT] {zip_path} -> {out_dir.parent}\")\n",
    "    with zipfile.ZipFile(zip_path, \"r\") as zf:\n",
    "        zf.extractall(out_dir.parent)\n",
    "    print(\"[OK] Extracted.\")\n",
    "\n",
    "def clean_unwanted_directories(base_dir: Path):\n",
    "    \"\"\"Remove unwanted directories like .ipynb_checkpoints, .DS_Store, etc.\"\"\"\n",
    "    unwanted_patterns = ['.ipynb_checkpoints', '.DS_Store', '__pycache__', 'Thumbs.db']\n",
    "    removed_count = 0\n",
    "    \n",
    "    for pattern in unwanted_patterns:\n",
    "        for path in base_dir.glob(f\"**/{pattern}\"):\n",
    "            if path.is_dir():\n",
    "                shutil.rmtree(path)\n",
    "                print(f\"[CLEAN] Removed directory: {path}\")\n",
    "                removed_count += 1\n",
    "            elif path.is_file():\n",
    "                path.unlink()\n",
    "                print(f\"[CLEAN] Removed file: {path}\")\n",
    "                removed_count += 1\n",
    "    \n",
    "    if removed_count > 0:\n",
    "        print(f\"[OK] Cleaned {removed_count} unwanted items.\")\n",
    "    return removed_count\n",
    "\n",
    "def is_valid_wnid(directory_name: str):\n",
    "    \"\"\"Check if directory name looks like a valid WNID (starts with 'n' followed by 8 digits)\"\"\"\n",
    "    parts = directory_name.split('_')\n",
    "    wnid = parts[0]\n",
    "    return (len(wnid) == 9 and \n",
    "            wnid.startswith('n') and \n",
    "            wnid[1:].isdigit())\n",
    "\n",
    "def restructure_train_inplace(train_dir: Path):\n",
    "    # First clean unwanted directories\n",
    "    clean_unwanted_directories(train_dir)\n",
    "    \n",
    "    valid_dirs = []\n",
    "    for wnid in [p for p in train_dir.iterdir() if p.is_dir()]:\n",
    "        if is_valid_wnid(wnid.name):\n",
    "            valid_dirs.append(wnid)\n",
    "            images_dir = wnid / \"images\"\n",
    "            if images_dir.is_dir():\n",
    "                for img in images_dir.iterdir():\n",
    "                    if img.is_file():\n",
    "                        os.replace(img, wnid / img.name)\n",
    "                try:\n",
    "                    images_dir.rmdir()\n",
    "                except OSError:\n",
    "                    pass\n",
    "        else:\n",
    "            print(f\"[WARN] Removing invalid directory: {wnid.name}\")\n",
    "            if wnid.is_dir():\n",
    "                shutil.rmtree(wnid)\n",
    "            else:\n",
    "                wnid.unlink()\n",
    "    \n",
    "    print(f\"[TRAIN] Restructured. Found {len(valid_dirs)} valid class directories.\")\n",
    "\n",
    "def restructure_val_inplace(val_dir: Path):\n",
    "    # First clean unwanted directories\n",
    "    clean_unwanted_directories(val_dir)\n",
    "    \n",
    "    if not (val_dir / \"images\").exists():\n",
    "        print(\"[VAL] Already restructured.\")\n",
    "        return\n",
    "    \n",
    "    mapping = {}\n",
    "    with open(val_dir / \"val_annotations.txt\", \"r\") as f:\n",
    "        for line in f:\n",
    "            fname, wnid = line.strip().split(\"\\t\")[:2]\n",
    "            if is_valid_wnid(wnid):\n",
    "                mapping[fname] = wnid\n",
    "    \n",
    "    valid_classes = set()\n",
    "    for fname, wnid in mapping.items():\n",
    "        src = val_dir / \"images\" / fname\n",
    "        if src.exists():\n",
    "            dst_dir = val_dir / wnid\n",
    "            dst_dir.mkdir(parents=True, exist_ok=True)\n",
    "            os.replace(src, dst_dir / fname)\n",
    "            valid_classes.add(wnid)\n",
    "    \n",
    "    try:\n",
    "        (val_dir / \"images\").rmdir()\n",
    "    except OSError:\n",
    "        pass\n",
    "    \n",
    "    print(f\"[VAL] Restructured. Found {len(valid_classes)} valid class directories.\")\n",
    "\n",
    "def load_wnid_to_words(words_file: Path):\n",
    "    wnid_to_words = {}\n",
    "    if not words_file.exists():\n",
    "        print(f\"[WARN] {words_file} not found. Using WNIDs as class names.\")\n",
    "        return wnid_to_words\n",
    "    with open(words_file, \"r\") as f:\n",
    "        for line in f:\n",
    "            parts = line.strip().split(\"\\t\")\n",
    "            if len(parts) >= 2:\n",
    "                wnid = parts[0]\n",
    "                # Only include valid WNIDs that are actually used in Tiny-ImageNet-200\n",
    "                if is_valid_wnid(wnid):\n",
    "                    words = parts[1].split(\",\")[0].strip()\n",
    "                    wnid_to_words[wnid] = words\n",
    "    print(f\"[OK] Loaded {len(wnid_to_words)} WNID->words mappings.\")\n",
    "    return wnid_to_words\n",
    "\n",
    "def rename_directories_to_words(base_dir: Path, wnid_to_words: dict):\n",
    "    if not wnid_to_words:\n",
    "        print(\"[SKIP] No WNID mappings available.\")\n",
    "        return {}\n",
    "    \n",
    "    wnid_to_new_name, renamed_count = {}, 0\n",
    "    valid_dirs = [p for p in base_dir.iterdir() if p.is_dir() and is_valid_wnid(p.name)]\n",
    "    \n",
    "    for wnid_dir in valid_dirs:\n",
    "        wnid = wnid_dir.name.split('_')[0]  # Get the WNID part\n",
    "        if wnid in wnid_to_words:\n",
    "            clean_word = \"\".join(c if c.isalnum() else \"_\" for c in wnid_to_words[wnid]).strip(\"_\")\n",
    "            new_name = f\"{wnid}_{clean_word}\"\n",
    "            new_dir = base_dir / new_name\n",
    "            if not wnid_dir.name.endswith(f\"_{clean_word}\"):\n",
    "                try:\n",
    "                    wnid_dir.rename(new_dir)\n",
    "                    wnid_to_new_name[wnid] = new_name\n",
    "                    renamed_count += 1\n",
    "                except OSError as e:\n",
    "                    print(f\"[WARN] Could not rename {wnid}: {e}\")\n",
    "                    wnid_to_new_name[wnid] = wnid_dir.name\n",
    "            else:\n",
    "                wnid_to_new_name[wnid] = wnid_dir.name\n",
    "        else:\n",
    "            wnid_to_new_name[wnid] = wnid_dir.name\n",
    "    \n",
    "    print(f\"[OK] Renamed {renamed_count} directories with word labels.\")\n",
    "    return wnid_to_new_name\n",
    "\n",
    "def verify_class_count(base_dir: Path, expected_count: int = NUM_CLASSES):\n",
    "    \"\"\"Verify that we have exactly the expected number of classes\"\"\"\n",
    "    valid_dirs = [p for p in base_dir.iterdir() if p.is_dir() and is_valid_wnid(p.name)]\n",
    "    actual_count = len(valid_dirs)\n",
    "    \n",
    "    print(f\"[VERIFY] {base_dir.name}: Expected {expected_count} classes, found {actual_count}\")\n",
    "    \n",
    "    if actual_count != expected_count:\n",
    "        print(f\"[ERROR] Class count mismatch! Expected {expected_count}, got {actual_count}\")\n",
    "        print(\"Valid class directories found:\")\n",
    "        for i, d in enumerate(sorted(valid_dirs)[:10]):\n",
    "            print(f\"  {i+1}: {d.name}\")\n",
    "        if len(valid_dirs) > 10:\n",
    "            print(f\"  ... and {len(valid_dirs) - 10} more\")\n",
    "        return False\n",
    "    return True\n",
    "\n",
    "# -------- run prep --------\n",
    "download_with_fallback(URLS, ZIP_PATH)\n",
    "extract_zip(ZIP_PATH, ROOT)\n",
    "restructure_train_inplace(TRAIN)\n",
    "restructure_val_inplace(VAL)\n",
    "\n",
    "# Verify class counts before proceeding\n",
    "train_valid = verify_class_count(TRAIN, NUM_CLASSES)\n",
    "val_valid = verify_class_count(VAL, NUM_CLASSES)\n",
    "\n",
    "if not (train_valid and val_valid):\n",
    "    print(\"[ERROR] Invalid class structure detected. Please check your data.\")\n",
    "    exit(1)\n",
    "\n",
    "# -------- load wnid mappings and rename directories --------\n",
    "wnid_to_words = load_wnid_to_words(WORDS_TXT)\n",
    "train_mapping = rename_directories_to_words(TRAIN, wnid_to_words)\n",
    "val_mapping = rename_directories_to_words(VAL, wnid_to_words)\n",
    "\n",
    "# -------- one-hot transform --------\n",
    "def to_one_hot(idx: int, num_classes: int = NUM_CLASSES):\n",
    "    v = xp.zeros((num_classes,), dtype=xp.float32)\n",
    "    v[idx] = 1.0\n",
    "    return v\n",
    "\n",
    "target_tf = (lambda i: to_one_hot(i, NUM_CLASSES)) if USE_ONE_HOT else None\n",
    "target_dtype = xp.float32 if USE_ONE_HOT else xp.int64\n",
    "\n",
    "# -------- augmentations/datasets/loaders --------\n",
    "train_aug = A.Compose([\n",
    "    # geometry\n",
    "    A.RandomResizedCrop(\n",
    "        size=IMG_SHAPE,                   # (H, W)\n",
    "        scale=(0.5, 1.0),\n",
    "        ratio=(3/4, 4/3),\n",
    "        p=1.0\n",
    "    ),\n",
    "    A.HorizontalFlip(p=0.5),\n",
    "    A.Affine(\n",
    "        translate_percent=(0.08, 0.08),\n",
    "        scale=(0.85, 1.15),\n",
    "        rotate=(-15, 15),\n",
    "        shear=(-8, 8),\n",
    "        fit_output=False,\n",
    "        fill=0,                           # <- was cval\n",
    "        p=0.7\n",
    "    ),\n",
    "\n",
    "    # photometric\n",
    "    A.OneOf([\n",
    "        A.ColorJitter(brightness=0.4, contrast=0.4, saturation=0.4, hue=0.05, p=1.0),\n",
    "        A.HueSaturationValue(hue_shift_limit=12, sat_shift_limit=20, val_shift_limit=12, p=1.0),\n",
    "    ], p=0.9),\n",
    "    A.RandomGamma(gamma_limit=(70, 130), p=0.2),\n",
    "    A.RGBShift(r_shift_limit=10, g_shift_limit=10, b_shift_limit=10, p=0.2),\n",
    "\n",
    "    # blur/noise (light)\n",
    "    A.OneOf([\n",
    "        A.MotionBlur(blur_limit=5, p=1.0),\n",
    "        A.MedianBlur(blur_limit=3, p=1.0),\n",
    "        A.GaussNoise(std_range=(0.05, 0.15), mean_range=(0.0, 0.0), p=1.0),  # <- was var_limit/mean\n",
    "    ], p=0.25),\n",
    "\n",
    "    # occlusion\n",
    "    A.CoarseDropout(\n",
    "        num_holes_range=(1, 3),                     # <- was min_holes/max_holes\n",
    "        hole_height_range=(0.06, 0.18),             # <- was min_height/max_height\n",
    "        hole_width_range=(0.06, 0.18),              # <- was min_width/max_width\n",
    "        fill=0,                                     # <- was fill_value\n",
    "        p=0.7\n",
    "    ),\n",
    "])\n",
    "\n",
    "train_ds = ImageFolder(\n",
    "    root=str(TRAIN),\n",
    "    img_shape=IMG_SHAPE,\n",
    "    img_mode=IMG_MODE,\n",
    "    img_normalize=True,\n",
    "    img_transform=train_aug,\n",
    "    target_transform=target_tf,\n",
    "    img_dtype=xp.float32,\n",
    "    target_dtype=target_dtype,\n",
    "    chw=True,\n",
    ")\n",
    "\n",
    "val_ds = ImageFolder(\n",
    "    root=str(VAL),\n",
    "    img_shape=IMG_SHAPE,\n",
    "    img_mode=IMG_MODE,\n",
    "    img_normalize=True,\n",
    "    target_transform=target_tf,\n",
    "    img_dtype=xp.float32,\n",
    "    target_dtype=target_dtype,\n",
    "    chw=True,\n",
    ")\n",
    "\n",
    "train_loader = DataLoader(train_ds, batch_size=BATCH_SIZE, shuffle=True, seed=42)\n",
    "val_loader   = DataLoader(val_ds,   batch_size=BATCH_SIZE, shuffle=False)\n",
    "\n",
    "# -------- sanity check --------\n",
    "Xb, yb = next(iter(train_loader))\n",
    "print(\"\\nTiny-ImageNet batch:\")\n",
    "print(\"X:\", Xb.shape, Xb.dtype)\n",
    "print(\"y:\", yb.shape, yb.dtype)\n",
    "\n",
    "# Show class folder names (should now be exactly 200)\n",
    "class_folders = sorted([d for d in os.listdir(TRAIN) if os.path.isdir(os.path.join(TRAIN, d)) and is_valid_wnid(d)])\n",
    "print(f\"\\nTotal valid class folders: {len(class_folders)}\")\n",
    "print(\"Sample class folder names:\", class_folders[:10])\n",
    "\n",
    "# Show relevant WNID mappings (only for classes that exist in our dataset)\n",
    "if wnid_to_words:\n",
    "    relevant_mappings = {wnid: word for wnid, word in wnid_to_words.items() \n",
    "                        if any(folder.startswith(wnid) for folder in class_folders)}\n",
    "    print(f\"\\nRelevant WNID->words mappings ({len(relevant_mappings)}):\")\n",
    "    for i, (wnid, word) in enumerate(list(relevant_mappings.items())[:10]):\n",
    "        print(f\"  {wnid}: {word}\")\n",
    "\n",
    "TARGET_MAPPING = train_ds.target_mapping\n",
    "TARGET_INV_MAPPING = {v: k for k, v in TARGET_MAPPING.items()}\n",
    "TARGET_NAMES = train_ds.target_names\n",
    "\n",
    "print(f\"\\nDataset verification:\")\n",
    "print(f\"Total classes in dataset: {train_ds.num_classes}\")\n",
    "print(f\"Expected classes: {NUM_CLASSES}\")\n",
    "print(f\"Match: {'good' if train_ds.num_classes == NUM_CLASSES else 'not good'}\")\n",
    "\n",
    "if train_ds.num_classes == NUM_CLASSES:\n",
    "    print(\"First 10 class names:\", TARGET_NAMES[:10])\n",
    "else:\n",
    "    print(\"[ERROR] Class count still doesn't match!\")\n",
    "    print(\"All class names found:\", TARGET_NAMES)"
   ]
  },
  {
   "cell_type": "code",
   "execution_count": 3,
   "metadata": {
    "colab": {
     "base_uri": "https://localhost:8080/",
     "height": 200
    },
    "id": "n5Wk_Dv05QQz",
    "outputId": "68a56996-b599-43c5-8a9e-8d0313922bbd",
    "tags": []
   },
   "outputs": [
    {
     "data": {
      "image/png": "[encoded data removed]",
      "text/plain": [
       "<Figure size 640x480 with 4 Axes>"
      ]
     },
     "metadata": {},
     "output_type": "display_data"
    }
   ],
   "source": [
    "# Plot 4 random images\n",
    "\n",
    "indices = range(len(train_ds))\n",
    "chosen = random.sample(indices, 4)\n",
    "\n",
    "for i, idx in enumerate(chosen, 1):\n",
    "  plt.subplot(1, 4, i)\n",
    "  img, label = train_ds[idx]\n",
    "  img = img.data.transpose(1, 2, 0).get()\n",
    "  label = TARGET_INV_MAPPING.get(label.data.argmax().item()).split(\"_\")[1]\n",
    "  plt.axis(\"off\")\n",
    "  plt.imshow(img)\n",
    "  plt.title(f\"Label: {label}\")\n",
    "plt.tight_layout()\n",
    "plt.show()"
   ]
  },
  {
   "cell_type": "markdown",
   "metadata": {
    "id": "_mjh6qAb7OJi"
   },
   "source": [
    "# Model architecture, optimizer and losses"
   ]
  },
  {
   "cell_type": "code",
   "execution_count": 4,
   "metadata": {
    "colab": {
     "base_uri": "https://localhost:8080/"
    },
    "id": "lMmhKSHc8Atn",
    "outputId": "ed7bd561-9772-43e3-b366-e08ced6c44e4",
    "tags": []
   },
   "outputs": [
    {
     "name": "stdout",
     "output_type": "stream",
     "text": [
      "layer_0.kernels (96, 3, 11, 11)\n",
      "layer_0.bias (1, 96, 1, 1)\n",
      "layer_2.kernels (256, 96, 5, 5)\n",
      "layer_2.bias (1, 256, 1, 1)\n",
      "layer_4.kernels (384, 256, 3, 3)\n",
      "layer_4.bias (1, 384, 1, 1)\n",
      "layer_5.kernels (384, 384, 3, 3)\n",
      "layer_5.bias (1, 384, 1, 1)\n",
      "layer_6.kernels (256, 384, 3, 3)\n",
      "layer_6.bias (1, 256, 1, 1)\n",
      "layer_9.weight (9216, 4096)\n",
      "layer_9.bias (4096,)\n",
      "layer_10.weight (4096, 4096)\n",
      "layer_10.bias (4096,)\n",
      "layer_11.weight (4096, 200)\n",
      "layer_11.bias (200,)\n"
     ]
    }
   ],
   "source": [
    "from neurograd.nn.layers import Conv2D, MaxPool2D, Flatten, Linear, Sequential, Dropout\n",
    "\n",
    "model = Sequential(\n",
    "    Conv2D(3, 96, 11, strides=4, activation=\"relu\", batch_normalization=True),\n",
    "    MaxPool2D(3, strides=2),\n",
    "    Conv2D(96, 256, 5, padding=\"same\", activation=\"relu\", batch_normalization=True),\n",
    "    MaxPool2D(3, strides=2),\n",
    "    Conv2D(256, 384, 3, padding=\"same\", activation=\"relu\", batch_normalization=True),\n",
    "    Conv2D(384, 384, 3, padding=\"same\", activation=\"relu\", batch_normalization=True),\n",
    "    Conv2D(384, 256, 3, padding=\"same\", activation=\"relu\", batch_normalization=True),\n",
    "    MaxPool2D(3, strides=2),\n",
    "    Flatten(),\n",
    "    Linear(9216, 4096, activation=\"relu\", batch_normalization=True, dropout=0.5),\n",
    "    Linear(4096, 4096, activation=\"relu\", batch_normalization=True, dropout=0.5),\n",
    "    Linear(4096, NUM_CLASSES)\n",
    ")\n",
    "\n",
    "# model = ng.load(\"model.pkl\")\n",
    "\n",
    "\n",
    "for name, param in model.named_parameters():\n",
    "    if param.requires_grad:\n",
    "        print(name, param.shape)"
   ]
  },
  {
   "cell_type": "code",
   "execution_count": 5,
   "metadata": {
    "id": "r108dB-v7mMj",
    "tags": []
   },
   "outputs": [],
   "source": [
    "from neurograd.optim import Adam, SGD\n",
    "from neurograd.nn.losses import CategoricalCrossEntropy\n",
    "from neurograd.nn.metrics import accuracy_score\n",
    "\n",
    "optimizer = Adam(model.named_parameters(), lr=1e-3)\n",
    "loss_fn = CategoricalCrossEntropy(from_logits=True)"
   ]
  },
  {
   "cell_type": "markdown",
   "metadata": {
    "id": "7qNgCMin-coo"
   },
   "source": [
    "# Training (mixed precision)"
   ]
  },
  {
   "cell_type": "code",
   "execution_count": 7,
   "metadata": {
    "tags": []
   },
   "outputs": [
    {
     "name": "stdout",
     "output_type": "stream",
     "text": [
      "Epoch: 1 / 1:\n"
     ]
    },
    {
     "data": {
      "application/vnd.jupyter.widget-view+json": {
       "model_id": "9f173478037149f19c42b411ea698804",
       "version_major": 2,
       "version_minor": 0
      },
      "text/plain": [
       "  0%|          | 0/391 [00:00<?, ?it/s]"
      ]
     },
     "metadata": {},
     "output_type": "display_data"
    },
    {
     "name": "stdout",
     "output_type": "stream",
     "text": [
      "Train loss: 4.7973, Train acc: 0.0594, Test loss: 4.8537, Test acc: 0.0599\n"
     ]
    }
   ],
   "source": [
    "%%scalene --profile-only neurograd\n",
    "from tqdm.auto import tqdm\n",
    "from neurograd.amp import GradScaler\n",
    "from contextlib import nullcontext\n",
    "\n",
    "# ======== CONFIG ========\n",
    "USE_AMP = True  # Toggle mixed precision on/off\n",
    "EPOCHS = 1\n",
    "BATCH_SIZE = train_loader.batch_size\n",
    "# ========================\n",
    "\n",
    "scaler = GradScaler() if USE_AMP else None\n",
    "\n",
    "for epoch in range(1, EPOCHS + 1):\n",
    "    print(f\"Epoch: {epoch} / {EPOCHS}:\")\n",
    "    train_losses, train_acc = [], []\n",
    "    test_losses, test_acc = [], []\n",
    "    model.train()\n",
    "    ng.save(model, \"model.pkl\")\n",
    "    for (X_train, y_train) in tqdm(train_loader):\n",
    "        ctx = ng.autocast() if USE_AMP else nullcontext()\n",
    "        with ctx:\n",
    "            y_pred = model(X_train)\n",
    "            loss = loss_fn(y_train, y_pred)\n",
    "            # print(loss.data, loss.data.dtype)\n",
    "            train_losses.append(loss.data)\n",
    "            optimizer.zero_grad()\n",
    "            if USE_AMP:\n",
    "                scaler.scale(loss).backward()\n",
    "                scaler.step(optimizer)\n",
    "                scaler.update()\n",
    "            else:\n",
    "                loss.backward()\n",
    "                optimizer.step()\n",
    "            acc = accuracy_score(y_train.argmax(axis=-1), y_pred.argmax(axis=-1))\n",
    "            train_acc.append(acc)\n",
    "\n",
    "    model.eval()\n",
    "    for (X_test, y_test) in val_loader:\n",
    "        ctx = ng.autocast() if USE_AMP else nullcontext()\n",
    "        with ctx:\n",
    "            y_pred = model(X_test)\n",
    "            loss = loss_fn(y_test, y_pred)\n",
    "            acc = accuracy_score(y_test.argmax(axis=-1), y_pred.argmax(axis=-1))\n",
    "            test_losses.append(loss.data)\n",
    "            test_acc.append(acc)\n",
    "\n",
    "    # Convert lists to arrays before mean\n",
    "    train_losses = cp.asarray(train_losses)\n",
    "    train_acc = cp.asarray(train_acc)\n",
    "    test_losses = cp.asarray(test_losses)\n",
    "    test_acc = cp.asarray(test_acc)\n",
    "\n",
    "    print(\n",
    "        f\"Train loss: {cp.nanmean(train_losses):.4f}, \"\n",
    "        f\"Train acc: {cp.mean(train_acc):.4f}, \"\n",
    "        f\"Test loss: {cp.nanmean(test_losses):.4f}, \"\n",
    "        f\"Test acc: {cp.mean(test_acc):.4f}\"\n",
    "    )"
   ]
  },
  {
   "cell_type": "code",
   "execution_count": null,
   "metadata": {
    "execution": {
     "iopub.execute_input": "2025-08-20T23:34:11.884483Z",
     "iopub.status.busy": "2025-08-20T23:34:11.883551Z"
    }
   },
   "outputs": [
    {
     "name": "stdout",
     "output_type": "stream",
     "text": [
      "Epoch: 1 / 100:\n"
     ]
    },
    {
     "data": {
      "application/vnd.jupyter.widget-view+json": {
       "model_id": "5d328ded7b24428bae2350aa51390eac",
       "version_major": 2,
       "version_minor": 0
      },
      "text/plain": [
       "  0%|          | 0/391 [00:00<?, ?it/s]"
      ]
     },
     "metadata": {},
     "output_type": "display_data"
    },
    {
     "name": "stdout",
     "output_type": "stream",
     "text": [
      "Train loss: 3.9142, Train acc: 0.1671, Test loss: 3.9395, Test acc: 0.1828\n",
      "Epoch: 2 / 100:\n"
     ]
    },
    {
     "data": {
      "application/vnd.jupyter.widget-view+json": {
       "model_id": "97d11b8e011f4538b8d6ec66b5fb7cfe",
       "version_major": 2,
       "version_minor": 0
      },
      "text/plain": [
       "  0%|          | 0/391 [00:00<?, ?it/s]"
      ]
     },
     "metadata": {},
     "output_type": "display_data"
    },
    {
     "name": "stdout",
     "output_type": "stream",
     "text": [
      "Train loss: 3.8728, Train acc: 0.1729, Test loss: 3.8275, Test acc: 0.1771\n",
      "Epoch: 3 / 100:\n"
     ]
    },
    {
     "data": {
      "application/vnd.jupyter.widget-view+json": {
       "model_id": "6c203ae07a404effa0d4e5ae4e081365",
       "version_major": 2,
       "version_minor": 0
      },
      "text/plain": [
       "  0%|          | 0/391 [00:00<?, ?it/s]"
      ]
     },
     "metadata": {},
     "output_type": "display_data"
    },
    {
     "name": "stdout",
     "output_type": "stream",
     "text": [
      "Train loss: 3.8533, Train acc: 0.1755, Test loss: 3.6859, Test acc: 0.2034\n",
      "Epoch: 4 / 100:\n"
     ]
    },
    {
     "data": {
      "application/vnd.jupyter.widget-view+json": {
       "model_id": "43a325fe4e9c4f4492218d41df381ac6",
       "version_major": 2,
       "version_minor": 0
      },
      "text/plain": [
       "  0%|          | 0/391 [00:00<?, ?it/s]"
      ]
     },
     "metadata": {},
     "output_type": "display_data"
    },
    {
     "name": "stdout",
     "output_type": "stream",
     "text": [
      "Train loss: 3.7766, Train acc: 0.1856, Test loss: 3.6350, Test acc: 0.2137\n",
      "Epoch: 5 / 100:\n"
     ]
    },
    {
     "data": {
      "application/vnd.jupyter.widget-view+json": {
       "model_id": "04966b2b365d432a949655d922f9e2f8",
       "version_major": 2,
       "version_minor": 0
      },
      "text/plain": [
       "  0%|          | 0/391 [00:00<?, ?it/s]"
      ]
     },
     "metadata": {},
     "output_type": "display_data"
    },
    {
     "name": "stdout",
     "output_type": "stream",
     "text": [
      "Train loss: 3.7551, Train acc: 0.1905, Test loss: 4.0971, Test acc: 0.1670\n",
      "Epoch: 6 / 100:\n"
     ]
    },
    {
     "data": {
      "application/vnd.jupyter.widget-view+json": {
       "model_id": "4170d2a804b24cb09a742699462469f5",
       "version_major": 2,
       "version_minor": 0
      },
      "text/plain": [
       "  0%|          | 0/391 [00:00<?, ?it/s]"
      ]
     },
     "metadata": {},
     "output_type": "display_data"
    },
    {
     "name": "stdout",
     "output_type": "stream",
     "text": [
      "Train loss: 3.7119, Train acc: 0.1979, Test loss: 3.6118, Test acc: 0.2184\n",
      "Epoch: 7 / 100:\n"
     ]
    },
    {
     "data": {
      "application/vnd.jupyter.widget-view+json": {
       "model_id": "a31e5b228aa44ae28165f54005b8d9a3",
       "version_major": 2,
       "version_minor": 0
      },
      "text/plain": [
       "  0%|          | 0/391 [00:00<?, ?it/s]"
      ]
     },
     "metadata": {},
     "output_type": "display_data"
    },
    {
     "name": "stdout",
     "output_type": "stream",
     "text": [
      "Train loss: 3.6781, Train acc: 0.2022, Test loss: 3.5867, Test acc: 0.2197\n",
      "Epoch: 8 / 100:\n"
     ]
    },
    {
     "data": {
      "application/vnd.jupyter.widget-view+json": {
       "model_id": "5916d17d1d8b44f9aae1ff1a26e013de",
       "version_major": 2,
       "version_minor": 0
      },
      "text/plain": [
       "  0%|          | 0/391 [00:00<?, ?it/s]"
      ]
     },
     "metadata": {},
     "output_type": "display_data"
    },
    {
     "name": "stdout",
     "output_type": "stream",
     "text": [
      "Train loss: 3.6614, Train acc: 0.2037, Test loss: 3.5208, Test acc: 0.2251\n",
      "Epoch: 9 / 100:\n"
     ]
    },
    {
     "data": {
      "application/vnd.jupyter.widget-view+json": {
       "model_id": "84643dfffc70423bbdcdc671df3624f6",
       "version_major": 2,
       "version_minor": 0
      },
      "text/plain": [
       "  0%|          | 0/391 [00:00<?, ?it/s]"
      ]
     },
     "metadata": {},
     "output_type": "display_data"
    },
    {
     "name": "stdout",
     "output_type": "stream",
     "text": [
      "Train loss: 3.6340, Train acc: 0.2092, Test loss: 3.4852, Test acc: 0.2368\n",
      "Epoch: 10 / 100:\n"
     ]
    },
    {
     "data": {
      "application/vnd.jupyter.widget-view+json": {
       "model_id": "202a406d7d684db79edee0cd8a23f282",
       "version_major": 2,
       "version_minor": 0
      },
      "text/plain": [
       "  0%|          | 0/391 [00:00<?, ?it/s]"
      ]
     },
     "metadata": {},
     "output_type": "display_data"
    },
    {
     "name": "stdout",
     "output_type": "stream",
     "text": [
      "Train loss: 3.6179, Train acc: 0.2119, Test loss: 3.4492, Test acc: 0.2398\n",
      "Epoch: 11 / 100:\n"
     ]
    },
    {
     "data": {
      "application/vnd.jupyter.widget-view+json": {
       "model_id": "ac61faf2a708431db85277ef5b84c80a",
       "version_major": 2,
       "version_minor": 0
      },
      "text/plain": [
       "  0%|          | 0/391 [00:00<?, ?it/s]"
      ]
     },
     "metadata": {},
     "output_type": "display_data"
    },
    {
     "name": "stdout",
     "output_type": "stream",
     "text": [
      "Train loss: 3.5911, Train acc: 0.2158, Test loss: 3.4385, Test acc: 0.2409\n",
      "Epoch: 12 / 100:\n"
     ]
    },
    {
     "data": {
      "application/vnd.jupyter.widget-view+json": {
       "model_id": "16ba24d6c8cf40aea1aa160ab448b628",
       "version_major": 2,
       "version_minor": 0
      },
      "text/plain": [
       "  0%|          | 0/391 [00:00<?, ?it/s]"
      ]
     },
     "metadata": {},
     "output_type": "display_data"
    },
    {
     "name": "stdout",
     "output_type": "stream",
     "text": [
      "Train loss: 3.5657, Train acc: 0.2179, Test loss: 3.4768, Test acc: 0.2407\n",
      "Epoch: 13 / 100:\n"
     ]
    },
    {
     "data": {
      "application/vnd.jupyter.widget-view+json": {
       "model_id": "78be3319ae754125ae61ca8e2f0df495",
       "version_major": 2,
       "version_minor": 0
      },
      "text/plain": [
       "  0%|          | 0/391 [00:00<?, ?it/s]"
      ]
     },
     "metadata": {},
     "output_type": "display_data"
    },
    {
     "name": "stdout",
     "output_type": "stream",
     "text": [
      "Train loss: 3.5554, Train acc: 0.2214, Test loss: 3.3194, Test acc: 0.2631\n",
      "Epoch: 14 / 100:\n"
     ]
    },
    {
     "data": {
      "application/vnd.jupyter.widget-view+json": {
       "model_id": "0f31f974a8ad403fb3ac2a764290a744",
       "version_major": 2,
       "version_minor": 0
      },
      "text/plain": [
       "  0%|          | 0/391 [00:00<?, ?it/s]"
      ]
     },
     "metadata": {},
     "output_type": "display_data"
    }
   ],
   "source": [
    "from tqdm.auto import tqdm\n",
    "from neurograd.amp import GradScaler\n",
    "from contextlib import nullcontext\n",
    "\n",
    "# ======== CONFIG ========\n",
    "USE_AMP = True  # Toggle mixed precision on/off\n",
    "EPOCHS = 100\n",
    "BATCH_SIZE = train_loader.batch_size\n",
    "# ========================\n",
    "\n",
    "scaler = GradScaler() if USE_AMP else None\n",
    "\n",
    "for epoch in range(1, EPOCHS + 1):\n",
    "    print(f\"Epoch: {epoch} / {EPOCHS}:\")\n",
    "    train_losses, train_acc = [], []\n",
    "    test_losses, test_acc = [], []\n",
    "    model.train()\n",
    "    ng.save(model, \"model.pkl\")\n",
    "    for (X_train, y_train) in tqdm(train_loader):\n",
    "        ctx = ng.autocast() if USE_AMP else nullcontext()\n",
    "        with ctx:\n",
    "            y_pred = model(X_train)\n",
    "            loss = loss_fn(y_train, y_pred)\n",
    "            # print(loss.data, loss.data.dtype)\n",
    "            train_losses.append(loss.data)\n",
    "            optimizer.zero_grad()\n",
    "            if USE_AMP:\n",
    "                scaler.scale(loss).backward()\n",
    "                scaler.step(optimizer)\n",
    "                scaler.update()\n",
    "            else:\n",
    "                loss.backward()\n",
    "                optimizer.step()\n",
    "            acc = accuracy_score(y_train.argmax(axis=-1), y_pred.argmax(axis=-1))\n",
    "            train_acc.append(acc)\n",
    "\n",
    "    model.eval()\n",
    "    for (X_test, y_test) in val_loader:\n",
    "        ctx = ng.autocast() if USE_AMP else nullcontext()\n",
    "        with ctx:\n",
    "            y_pred = model(X_test)\n",
    "            loss = loss_fn(y_test, y_pred)\n",
    "            acc = accuracy_score(y_test.argmax(axis=-1), y_pred.argmax(axis=-1))\n",
    "            test_losses.append(loss.data)\n",
    "            test_acc.append(acc)\n",
    "\n",
    "    # Convert lists to arrays before mean\n",
    "    train_losses = cp.asarray(train_losses)\n",
    "    train_acc = cp.asarray(train_acc)\n",
    "    test_losses = cp.asarray(test_losses)\n",
    "    test_acc = cp.asarray(test_acc)\n",
    "\n",
    "    print(\n",
    "        f\"Train loss: {cp.nanmean(train_losses):.4f}, \"\n",
    "        f\"Train acc: {cp.mean(train_acc):.4f}, \"\n",
    "        f\"Test loss: {cp.nanmean(test_losses):.4f}, \"\n",
    "        f\"Test acc: {cp.mean(test_acc):.4f}\"\n",
    "    )"
   ]
  },
  {
   "cell_type": "code",
   "execution_count": null,
   "metadata": {
    "execution": {
     "iopub.execute_input": "2025-08-21T08:36:45.746451Z",
     "iopub.status.busy": "2025-08-21T08:36:45.745984Z"
    }
   },
   "outputs": [
    {
     "name": "stdout",
     "output_type": "stream",
     "text": [
      "Epoch: 1 / 100:\n"
     ]
    },
    {
     "data": {
      "application/vnd.jupyter.widget-view+json": {
       "model_id": "5ca4c808c55e49289f4b4379dc44b47a",
       "version_major": 2,
       "version_minor": 0
      },
      "text/plain": [
       "  0%|          | 0/391 [00:00<?, ?it/s]"
      ]
     },
     "metadata": {},
     "output_type": "display_data"
    },
    {
     "name": "stdout",
     "output_type": "stream",
     "text": [
      "Train loss: 3.5104, Train acc: 0.2292, Test loss: 3.7330, Test acc: 0.2070\n",
      "Epoch: 2 / 100:\n"
     ]
    },
    {
     "data": {
      "application/vnd.jupyter.widget-view+json": {
       "model_id": "fc2ca9ee11c34c6091653014b2afa876",
       "version_major": 2,
       "version_minor": 0
      },
      "text/plain": [
       "  0%|          | 0/391 [00:00<?, ?it/s]"
      ]
     },
     "metadata": {},
     "output_type": "display_data"
    },
    {
     "name": "stdout",
     "output_type": "stream",
     "text": [
      "Train loss: 3.5001, Train acc: 0.2298, Test loss: 3.2780, Test acc: 0.2703\n",
      "Epoch: 3 / 100:\n"
     ]
    },
    {
     "data": {
      "application/vnd.jupyter.widget-view+json": {
       "model_id": "3e641a3448c0446d8cbb86de7d0dee5d",
       "version_major": 2,
       "version_minor": 0
      },
      "text/plain": [
       "  0%|          | 0/391 [00:00<?, ?it/s]"
      ]
     },
     "metadata": {},
     "output_type": "display_data"
    },
    {
     "name": "stdout",
     "output_type": "stream",
     "text": [
      "Train loss: 3.4816, Train acc: 0.2315, Test loss: 3.3268, Test acc: 0.2621\n",
      "Epoch: 4 / 100:\n"
     ]
    },
    {
     "data": {
      "application/vnd.jupyter.widget-view+json": {
       "model_id": "04a28b5b818644539e85464700e89943",
       "version_major": 2,
       "version_minor": 0
      },
      "text/plain": [
       "  0%|          | 0/391 [00:00<?, ?it/s]"
      ]
     },
     "metadata": {},
     "output_type": "display_data"
    },
    {
     "name": "stdout",
     "output_type": "stream",
     "text": [
      "Train loss: 3.4399, Train acc: 0.2388, Test loss: 3.3912, Test acc: 0.2522\n",
      "Epoch: 5 / 100:\n"
     ]
    },
    {
     "data": {
      "application/vnd.jupyter.widget-view+json": {
       "model_id": "21a470ac7d254d299e41eb6f2dc518bd",
       "version_major": 2,
       "version_minor": 0
      },
      "text/plain": [
       "  0%|          | 0/391 [00:00<?, ?it/s]"
      ]
     },
     "metadata": {},
     "output_type": "display_data"
    },
    {
     "name": "stdout",
     "output_type": "stream",
     "text": [
      "Train loss: 3.4005, Train acc: 0.2447, Test loss: 3.2910, Test acc: 0.2715\n",
      "Epoch: 6 / 100:\n"
     ]
    },
    {
     "data": {
      "application/vnd.jupyter.widget-view+json": {
       "model_id": "d442736647cb4465995171c25c0c2539",
       "version_major": 2,
       "version_minor": 0
      },
      "text/plain": [
       "  0%|          | 0/391 [00:00<?, ?it/s]"
      ]
     },
     "metadata": {},
     "output_type": "display_data"
    },
    {
     "name": "stdout",
     "output_type": "stream",
     "text": [
      "Train loss: 3.3675, Train acc: 0.2492, Test loss: 3.5345, Test acc: 0.2297\n",
      "Epoch: 7 / 100:\n"
     ]
    },
    {
     "data": {
      "application/vnd.jupyter.widget-view+json": {
       "model_id": "088b253019cb4bd792eab867364f1502",
       "version_major": 2,
       "version_minor": 0
      },
      "text/plain": [
       "  0%|          | 0/391 [00:00<?, ?it/s]"
      ]
     },
     "metadata": {},
     "output_type": "display_data"
    },
    {
     "name": "stdout",
     "output_type": "stream",
     "text": [
      "Train loss: 3.3406, Train acc: 0.2547, Test loss: 4.0051, Test acc: 0.1912\n",
      "Epoch: 8 / 100:\n"
     ]
    },
    {
     "data": {
      "application/vnd.jupyter.widget-view+json": {
       "model_id": "e5713f865c184347b70c1d12134f4176",
       "version_major": 2,
       "version_minor": 0
      },
      "text/plain": [
       "  0%|          | 0/391 [00:00<?, ?it/s]"
      ]
     },
     "metadata": {},
     "output_type": "display_data"
    },
    {
     "name": "stdout",
     "output_type": "stream",
     "text": [
      "Train loss: 3.3198, Train acc: 0.2557, Test loss: 3.2980, Test acc: 0.2656\n",
      "Epoch: 9 / 100:\n"
     ]
    },
    {
     "data": {
      "application/vnd.jupyter.widget-view+json": {
       "model_id": "99f7fc6f70044d4babe4baa1d3b04506",
       "version_major": 2,
       "version_minor": 0
      },
      "text/plain": [
       "  0%|          | 0/391 [00:00<?, ?it/s]"
      ]
     },
     "metadata": {},
     "output_type": "display_data"
    },
    {
     "name": "stdout",
     "output_type": "stream",
     "text": [
      "Train loss: 3.3008, Train acc: 0.2624, Test loss: 3.2458, Test acc: 0.2733\n",
      "Epoch: 10 / 100:\n"
     ]
    },
    {
     "data": {
      "application/vnd.jupyter.widget-view+json": {
       "model_id": "613bbe5a88a24daf8d2a93c8dfad0ea4",
       "version_major": 2,
       "version_minor": 0
      },
      "text/plain": [
       "  0%|          | 0/391 [00:00<?, ?it/s]"
      ]
     },
     "metadata": {},
     "output_type": "display_data"
    },
    {
     "name": "stdout",
     "output_type": "stream",
     "text": [
      "Train loss: 3.3128, Train acc: 0.2582, Test loss: 3.2763, Test acc: 0.2697\n",
      "Epoch: 11 / 100:\n"
     ]
    },
    {
     "data": {
      "application/vnd.jupyter.widget-view+json": {
       "model_id": "681ae20884a24a299f4696e70f9da41c",
       "version_major": 2,
       "version_minor": 0
      },
      "text/plain": [
       "  0%|          | 0/391 [00:00<?, ?it/s]"
      ]
     },
     "metadata": {},
     "output_type": "display_data"
    },
    {
     "name": "stdout",
     "output_type": "stream",
     "text": [
      "Train loss: 3.3292, Train acc: 0.2562, Test loss: 3.4091, Test acc: 0.2548\n",
      "Epoch: 12 / 100:\n"
     ]
    },
    {
     "data": {
      "application/vnd.jupyter.widget-view+json": {
       "model_id": "8fab1a3a9b6b41ed974f79494de96f82",
       "version_major": 2,
       "version_minor": 0
      },
      "text/plain": [
       "  0%|          | 0/391 [00:00<?, ?it/s]"
      ]
     },
     "metadata": {},
     "output_type": "display_data"
    },
    {
     "name": "stdout",
     "output_type": "stream",
     "text": [
      "Train loss: 3.3206, Train acc: 0.2575, Test loss: 3.4236, Test acc: 0.2469\n",
      "Epoch: 13 / 100:\n"
     ]
    },
    {
     "data": {
      "application/vnd.jupyter.widget-view+json": {
       "model_id": "8317bff6eef84c1b841307942f0d77f1",
       "version_major": 2,
       "version_minor": 0
      },
      "text/plain": [
       "  0%|          | 0/391 [00:00<?, ?it/s]"
      ]
     },
     "metadata": {},
     "output_type": "display_data"
    },
    {
     "name": "stdout",
     "output_type": "stream",
     "text": [
      "Train loss: 3.2934, Train acc: 0.2608, Test loss: 3.3013, Test acc: 0.2709\n",
      "Epoch: 14 / 100:\n"
     ]
    },
    {
     "data": {
      "application/vnd.jupyter.widget-view+json": {
       "model_id": "9bbd83e7f53f4450a032489a4dc696b2",
       "version_major": 2,
       "version_minor": 0
      },
      "text/plain": [
       "  0%|          | 0/391 [00:00<?, ?it/s]"
      ]
     },
     "metadata": {},
     "output_type": "display_data"
    }
   ],
   "source": [
    "from tqdm.auto import tqdm\n",
    "from neurograd.amp import GradScaler\n",
    "from contextlib import nullcontext\n",
    "\n",
    "# ======== CONFIG ========\n",
    "USE_AMP = True  # Toggle mixed precision on/off\n",
    "EPOCHS = 100\n",
    "BATCH_SIZE = train_loader.batch_size\n",
    "# ========================\n",
    "\n",
    "scaler = GradScaler() if USE_AMP else None\n",
    "\n",
    "for epoch in range(1, EPOCHS + 1):\n",
    "    print(f\"Epoch: {epoch} / {EPOCHS}:\")\n",
    "    train_losses, train_acc = [], []\n",
    "    test_losses, test_acc = [], []\n",
    "    model.train()\n",
    "    ng.save(model, \"model.pkl\")\n",
    "    for (X_train, y_train) in tqdm(train_loader):\n",
    "        ctx = ng.autocast() if USE_AMP else nullcontext()\n",
    "        with ctx:\n",
    "            y_pred = model(X_train)\n",
    "            loss = loss_fn(y_train, y_pred)\n",
    "            # print(loss.data, loss.data.dtype)\n",
    "            train_losses.append(loss.data)\n",
    "            optimizer.zero_grad()\n",
    "            if USE_AMP:\n",
    "                scaler.scale(loss).backward()\n",
    "                scaler.step(optimizer)\n",
    "                scaler.update()\n",
    "            else:\n",
    "                loss.backward()\n",
    "                optimizer.step()\n",
    "            acc = accuracy_score(y_train.argmax(axis=-1), y_pred.argmax(axis=-1))\n",
    "            train_acc.append(acc)\n",
    "\n",
    "    model.eval()\n",
    "    for (X_test, y_test) in val_loader:\n",
    "        ctx = ng.autocast() if USE_AMP else nullcontext()\n",
    "        with ctx:\n",
    "            y_pred = model(X_test)\n",
    "            loss = loss_fn(y_test, y_pred)\n",
    "            acc = accuracy_score(y_test.argmax(axis=-1), y_pred.argmax(axis=-1))\n",
    "            test_losses.append(loss.data)\n",
    "            test_acc.append(acc)\n",
    "\n",
    "    # Convert lists to arrays before mean\n",
    "    train_losses = cp.asarray(train_losses)\n",
    "    train_acc = cp.asarray(train_acc)\n",
    "    test_losses = cp.asarray(test_losses)\n",
    "    test_acc = cp.asarray(test_acc)\n",
    "\n",
    "    print(\n",
    "        f\"Train loss: {cp.nanmean(train_losses):.4f}, \"\n",
    "        f\"Train acc: {cp.mean(train_acc):.4f}, \"\n",
    "        f\"Test loss: {cp.nanmean(test_losses):.4f}, \"\n",
    "        f\"Test acc: {cp.mean(test_acc):.4f}\"\n",
    "    )"
   ]
  },
  {
   "cell_type": "code",
   "execution_count": null,
   "metadata": {
    "execution": {
     "iopub.execute_input": "2025-08-21T12:30:30.459243Z",
     "iopub.status.busy": "2025-08-21T12:30:30.458324Z"
    }
   },
   "outputs": [
    {
     "name": "stdout",
     "output_type": "stream",
     "text": [
      "Epoch: 1 / 100:\n"
     ]
    },
    {
     "data": {
      "application/vnd.jupyter.widget-view+json": {
       "model_id": "6abe46f401844a66af36449fd484d95e",
       "version_major": 2,
       "version_minor": 0
      },
      "text/plain": [
       "  0%|          | 0/391 [00:00<?, ?it/s]"
      ]
     },
     "metadata": {},
     "output_type": "display_data"
    },
    {
     "name": "stdout",
     "output_type": "stream",
     "text": [
      "Train loss: 3.2895, Train acc: 0.2631, Test loss: 3.2389, Test acc: 0.2833\n",
      "Epoch: 2 / 100:\n"
     ]
    },
    {
     "data": {
      "application/vnd.jupyter.widget-view+json": {
       "model_id": "ec9f65e9547b419e8f449954a36d2a3b",
       "version_major": 2,
       "version_minor": 0
      },
      "text/plain": [
       "  0%|          | 0/391 [00:00<?, ?it/s]"
      ]
     },
     "metadata": {},
     "output_type": "display_data"
    },
    {
     "name": "stdout",
     "output_type": "stream",
     "text": [
      "Train loss: 3.2776, Train acc: 0.2645, Test loss: 3.4055, Test acc: 0.2558\n",
      "Epoch: 3 / 100:\n"
     ]
    },
    {
     "data": {
      "application/vnd.jupyter.widget-view+json": {
       "model_id": "844c302c2e1c41fd91928d8ba430bee9",
       "version_major": 2,
       "version_minor": 0
      },
      "text/plain": [
       "  0%|          | 0/391 [00:00<?, ?it/s]"
      ]
     },
     "metadata": {},
     "output_type": "display_data"
    },
    {
     "name": "stdout",
     "output_type": "stream",
     "text": [
      "Train loss: 3.2815, Train acc: 0.2613, Test loss: 3.3960, Test acc: 0.2568\n",
      "Epoch: 4 / 100:\n"
     ]
    },
    {
     "data": {
      "application/vnd.jupyter.widget-view+json": {
       "model_id": "64d2d935b0c843308d00896dd3a724be",
       "version_major": 2,
       "version_minor": 0
      },
      "text/plain": [
       "  0%|          | 0/391 [00:00<?, ?it/s]"
      ]
     },
     "metadata": {},
     "output_type": "display_data"
    },
    {
     "name": "stdout",
     "output_type": "stream",
     "text": [
      "Train loss: 3.2846, Train acc: 0.2634, Test loss: 3.9367, Test acc: 0.1970\n",
      "Epoch: 5 / 100:\n"
     ]
    },
    {
     "data": {
      "application/vnd.jupyter.widget-view+json": {
       "model_id": "be7973c43b564d209ec0813779e0ead0",
       "version_major": 2,
       "version_minor": 0
      },
      "text/plain": [
       "  0%|          | 0/391 [00:00<?, ?it/s]"
      ]
     },
     "metadata": {},
     "output_type": "display_data"
    },
    {
     "name": "stdout",
     "output_type": "stream",
     "text": [
      "Train loss: 3.2712, Train acc: 0.2639, Test loss: 3.5248, Test acc: 0.2385\n",
      "Epoch: 6 / 100:\n"
     ]
    },
    {
     "data": {
      "application/vnd.jupyter.widget-view+json": {
       "model_id": "20996d02080d463a88947867206a6f5e",
       "version_major": 2,
       "version_minor": 0
      },
      "text/plain": [
       "  0%|          | 0/391 [00:00<?, ?it/s]"
      ]
     },
     "metadata": {},
     "output_type": "display_data"
    },
    {
     "name": "stdout",
     "output_type": "stream",
     "text": [
      "Train loss: 3.2553, Train acc: 0.2676, Test loss: 3.5985, Test acc: 0.2309\n",
      "Epoch: 7 / 100:\n"
     ]
    },
    {
     "data": {
      "application/vnd.jupyter.widget-view+json": {
       "model_id": "dc9fc095457144ef8b570391a573b492",
       "version_major": 2,
       "version_minor": 0
      },
      "text/plain": [
       "  0%|          | 0/391 [00:00<?, ?it/s]"
      ]
     },
     "metadata": {},
     "output_type": "display_data"
    },
    {
     "name": "stdout",
     "output_type": "stream",
     "text": [
      "Train loss: 3.3681, Train acc: 0.2569, Test loss: 3.4458, Test acc: 0.2514\n",
      "Epoch: 8 / 100:\n"
     ]
    },
    {
     "data": {
      "application/vnd.jupyter.widget-view+json": {
       "model_id": "88135c9bf0bb4ec48437afbbb66c655f",
       "version_major": 2,
       "version_minor": 0
      },
      "text/plain": [
       "  0%|          | 0/391 [00:00<?, ?it/s]"
      ]
     },
     "metadata": {},
     "output_type": "display_data"
    },
    {
     "name": "stdout",
     "output_type": "stream",
     "text": [
      "Train loss: 3.3009, Train acc: 0.2657, Test loss: 3.0846, Test acc: 0.3075\n",
      "Epoch: 9 / 100:\n"
     ]
    },
    {
     "data": {
      "application/vnd.jupyter.widget-view+json": {
       "model_id": "fcc73732111745909e3eaf216b11d19f",
       "version_major": 2,
       "version_minor": 0
      },
      "text/plain": [
       "  0%|          | 0/391 [00:00<?, ?it/s]"
      ]
     },
     "metadata": {},
     "output_type": "display_data"
    },
    {
     "name": "stdout",
     "output_type": "stream",
     "text": [
      "Train loss: 3.2176, Train acc: 0.2740, Test loss: 4.1081, Test acc: 0.1745\n",
      "Epoch: 10 / 100:\n"
     ]
    },
    {
     "data": {
      "application/vnd.jupyter.widget-view+json": {
       "model_id": "3197930a3d834eadbb0116b531f64fb5",
       "version_major": 2,
       "version_minor": 0
      },
      "text/plain": [
       "  0%|          | 0/391 [00:00<?, ?it/s]"
      ]
     },
     "metadata": {},
     "output_type": "display_data"
    },
    {
     "name": "stdout",
     "output_type": "stream",
     "text": [
      "Train loss: 3.2020, Train acc: 0.2773, Test loss: 3.1296, Test acc: 0.3112\n",
      "Epoch: 11 / 100:\n"
     ]
    },
    {
     "data": {
      "application/vnd.jupyter.widget-view+json": {
       "model_id": "3da3b7ae1dfb4949925864a0298b6694",
       "version_major": 2,
       "version_minor": 0
      },
      "text/plain": [
       "  0%|          | 0/391 [00:00<?, ?it/s]"
      ]
     },
     "metadata": {},
     "output_type": "display_data"
    },
    {
     "name": "stdout",
     "output_type": "stream",
     "text": [
      "Train loss: 3.1937, Train acc: 0.2765, Test loss: 3.4536, Test acc: 0.2500\n",
      "Epoch: 12 / 100:\n"
     ]
    },
    {
     "data": {
      "application/vnd.jupyter.widget-view+json": {
       "model_id": "54d45f1c3dcd434a92bf6b05d77da9eb",
       "version_major": 2,
       "version_minor": 0
      },
      "text/plain": [
       "  0%|          | 0/391 [00:00<?, ?it/s]"
      ]
     },
     "metadata": {},
     "output_type": "display_data"
    },
    {
     "name": "stdout",
     "output_type": "stream",
     "text": [
      "Train loss: 3.1951, Train acc: 0.2785, Test loss: 3.1917, Test acc: 0.2894\n",
      "Epoch: 13 / 100:\n"
     ]
    },
    {
     "data": {
      "application/vnd.jupyter.widget-view+json": {
       "model_id": "eec6279db0c844ce82163e6d48b2ed78",
       "version_major": 2,
       "version_minor": 0
      },
      "text/plain": [
       "  0%|          | 0/391 [00:00<?, ?it/s]"
      ]
     },
     "metadata": {},
     "output_type": "display_data"
    },
    {
     "name": "stdout",
     "output_type": "stream",
     "text": [
      "Train loss: 3.1776, Train acc: 0.2787, Test loss: 3.6526, Test acc: 0.2245\n",
      "Epoch: 14 / 100:\n"
     ]
    },
    {
     "data": {
      "application/vnd.jupyter.widget-view+json": {
       "model_id": "6148ff6f5d214a43b21a6e67e4b70841",
       "version_major": 2,
       "version_minor": 0
      },
      "text/plain": [
       "  0%|          | 0/391 [00:00<?, ?it/s]"
      ]
     },
     "metadata": {},
     "output_type": "display_data"
    },
    {
     "name": "stdout",
     "output_type": "stream",
     "text": [
      "Train loss: 3.1566, Train acc: 0.2860, Test loss: 3.1724, Test acc: 0.2986\n",
      "Epoch: 15 / 100:\n"
     ]
    },
    {
     "data": {
      "application/vnd.jupyter.widget-view+json": {
       "model_id": "8ee461c2e719440ea15a29c955ca5d69",
       "version_major": 2,
       "version_minor": 0
      },
      "text/plain": [
       "  0%|          | 0/391 [00:00<?, ?it/s]"
      ]
     },
     "metadata": {},
     "output_type": "display_data"
    },
    {
     "name": "stdout",
     "output_type": "stream",
     "text": [
      "Train loss: 3.1310, Train acc: 0.2888, Test loss: 3.2148, Test acc: 0.2910\n",
      "Epoch: 16 / 100:\n"
     ]
    },
    {
     "data": {
      "application/vnd.jupyter.widget-view+json": {
       "model_id": "dfcb7902f81f431a866a1ead656dd6f4",
       "version_major": 2,
       "version_minor": 0
      },
      "text/plain": [
       "  0%|          | 0/391 [00:00<?, ?it/s]"
      ]
     },
     "metadata": {},
     "output_type": "display_data"
    },
    {
     "name": "stdout",
     "output_type": "stream",
     "text": [
      "Train loss: 3.1505, Train acc: 0.2849, Test loss: 3.5570, Test acc: 0.2437\n",
      "Epoch: 17 / 100:\n"
     ]
    },
    {
     "data": {
      "application/vnd.jupyter.widget-view+json": {
       "model_id": "c2ec4a15f71c415692a3584901c2df37",
       "version_major": 2,
       "version_minor": 0
      },
      "text/plain": [
       "  0%|          | 0/391 [00:00<?, ?it/s]"
      ]
     },
     "metadata": {},
     "output_type": "display_data"
    },
    {
     "name": "stdout",
     "output_type": "stream",
     "text": [
      "Train loss: 3.1306, Train acc: 0.2885, Test loss: 3.3880, Test acc: 0.2627\n",
      "Epoch: 18 / 100:\n"
     ]
    },
    {
     "data": {
      "application/vnd.jupyter.widget-view+json": {
       "model_id": "1f599240c9cd478eade142e09f47d535",
       "version_major": 2,
       "version_minor": 0
      },
      "text/plain": [
       "  0%|          | 0/391 [00:00<?, ?it/s]"
      ]
     },
     "metadata": {},
     "output_type": "display_data"
    },
    {
     "name": "stdout",
     "output_type": "stream",
     "text": [
      "Train loss: 3.1464, Train acc: 0.2857, Test loss: 4.4514, Test acc: 0.1501\n",
      "Epoch: 19 / 100:\n"
     ]
    },
    {
     "data": {
      "application/vnd.jupyter.widget-view+json": {
       "model_id": "7905c86a5fed4d6297828981c5869f39",
       "version_major": 2,
       "version_minor": 0
      },
      "text/plain": [
       "  0%|          | 0/391 [00:00<?, ?it/s]"
      ]
     },
     "metadata": {},
     "output_type": "display_data"
    },
    {
     "name": "stdout",
     "output_type": "stream",
     "text": [
      "Train loss: 3.1374, Train acc: 0.2862, Test loss: 3.7048, Test acc: 0.2183\n",
      "Epoch: 20 / 100:\n"
     ]
    },
    {
     "data": {
      "application/vnd.jupyter.widget-view+json": {
       "model_id": "781cc4598ac24cc9843b7ded08481f50",
       "version_major": 2,
       "version_minor": 0
      },
      "text/plain": [
       "  0%|          | 0/391 [00:00<?, ?it/s]"
      ]
     },
     "metadata": {},
     "output_type": "display_data"
    },
    {
     "name": "stdout",
     "output_type": "stream",
     "text": [
      "Train loss: 3.1159, Train acc: 0.2900, Test loss: 3.8858, Test acc: 0.2065\n",
      "Epoch: 21 / 100:\n"
     ]
    },
    {
     "data": {
      "application/vnd.jupyter.widget-view+json": {
       "model_id": "d825eb3f7aa448bb936e425f1621ba84",
       "version_major": 2,
       "version_minor": 0
      },
      "text/plain": [
       "  0%|          | 0/391 [00:00<?, ?it/s]"
      ]
     },
     "metadata": {},
     "output_type": "display_data"
    },
    {
     "name": "stdout",
     "output_type": "stream",
     "text": [
      "Train loss: 3.0996, Train acc: 0.2936, Test loss: 3.9575, Test acc: 0.1997\n",
      "Epoch: 22 / 100:\n"
     ]
    },
    {
     "data": {
      "application/vnd.jupyter.widget-view+json": {
       "model_id": "39255e86a4444b089bb8b97c96ac757d",
       "version_major": 2,
       "version_minor": 0
      },
      "text/plain": [
       "  0%|          | 0/391 [00:00<?, ?it/s]"
      ]
     },
     "metadata": {},
     "output_type": "display_data"
    },
    {
     "name": "stdout",
     "output_type": "stream",
     "text": [
      "Train loss: 3.0874, Train acc: 0.2950, Test loss: 3.1467, Test acc: 0.3029\n",
      "Epoch: 23 / 100:\n"
     ]
    },
    {
     "data": {
      "application/vnd.jupyter.widget-view+json": {
       "model_id": "f90831ae77da40428ca6447c2abcec10",
       "version_major": 2,
       "version_minor": 0
      },
      "text/plain": [
       "  0%|          | 0/391 [00:00<?, ?it/s]"
      ]
     },
     "metadata": {},
     "output_type": "display_data"
    }
   ],
   "source": [
    "from tqdm.auto import tqdm\n",
    "from neurograd.amp import GradScaler\n",
    "from contextlib import nullcontext\n",
    "\n",
    "# ======== CONFIG ========\n",
    "USE_AMP = True  # Toggle mixed precision on/off\n",
    "EPOCHS = 100\n",
    "BATCH_SIZE = train_loader.batch_size\n",
    "# ========================\n",
    "\n",
    "scaler = GradScaler() if USE_AMP else None\n",
    "\n",
    "for epoch in range(1, EPOCHS + 1):\n",
    "    print(f\"Epoch: {epoch} / {EPOCHS}:\")\n",
    "    train_losses, train_acc = [], []\n",
    "    test_losses, test_acc = [], []\n",
    "    model.train()\n",
    "    ng.save(model, \"model.pkl\")\n",
    "    for (X_train, y_train) in tqdm(train_loader):\n",
    "        ctx = ng.autocast() if USE_AMP else nullcontext()\n",
    "        with ctx:\n",
    "            y_pred = model(X_train)\n",
    "            loss = loss_fn(y_train, y_pred)\n",
    "            # print(loss.data, loss.data.dtype)\n",
    "            train_losses.append(loss.data)\n",
    "            optimizer.zero_grad()\n",
    "            if USE_AMP:\n",
    "                scaler.scale(loss).backward()\n",
    "                scaler.step(optimizer)\n",
    "                scaler.update()\n",
    "            else:\n",
    "                loss.backward()\n",
    "                optimizer.step()\n",
    "            acc = accuracy_score(y_train.argmax(axis=-1), y_pred.argmax(axis=-1))\n",
    "            train_acc.append(acc)\n",
    "\n",
    "    model.eval()\n",
    "    for (X_test, y_test) in val_loader:\n",
    "        ctx = ng.autocast() if USE_AMP else nullcontext()\n",
    "        with ctx:\n",
    "            y_pred = model(X_test)\n",
    "            loss = loss_fn(y_test, y_pred)\n",
    "            acc = accuracy_score(y_test.argmax(axis=-1), y_pred.argmax(axis=-1))\n",
    "            test_losses.append(loss.data)\n",
    "            test_acc.append(acc)\n",
    "\n",
    "    # Convert lists to arrays before mean\n",
    "    train_losses = cp.asarray(train_losses)\n",
    "    train_acc = cp.asarray(train_acc)\n",
    "    test_losses = cp.asarray(test_losses)\n",
    "    test_acc = cp.asarray(test_acc)\n",
    "\n",
    "    print(\n",
    "        f\"Train loss: {cp.nanmean(train_losses):.4f}, \"\n",
    "        f\"Train acc: {cp.mean(train_acc):.4f}, \"\n",
    "        f\"Test loss: {cp.nanmean(test_losses):.4f}, \"\n",
    "        f\"Test acc: {cp.mean(test_acc):.4f}\"\n",
    "    )"
   ]
  },
  {
   "cell_type": "code",
   "execution_count": 6,
   "metadata": {
    "execution": {
     "iopub.execute_input": "2025-08-21T18:27:42.666392Z",
     "iopub.status.busy": "2025-08-21T18:27:42.666234Z",
     "iopub.status.idle": "2025-08-21T21:21:02.945269Z",
     "shell.execute_reply": "2025-08-21T21:21:02.913394Z",
     "shell.execute_reply.started": "2025-08-21T18:27:42.666377Z"
    }
   },
   "outputs": [
    {
     "name": "stdout",
     "output_type": "stream",
     "text": [
      "Epoch: 1 / 100:\n"
     ]
    },
    {
     "data": {
      "application/vnd.jupyter.widget-view+json": {
       "model_id": "e57009820a794efdb631fc1a9a136ada",
       "version_major": 2,
       "version_minor": 0
      },
      "text/plain": [
       "  0%|          | 0/391 [00:00<?, ?it/s]"
      ]
     },
     "metadata": {},
     "output_type": "display_data"
    },
    {
     "name": "stdout",
     "output_type": "stream",
     "text": [
      "Train loss: 3.0542, Train acc: 0.3021, Test loss: 3.4602, Test acc: 0.2511\n",
      "Epoch: 2 / 100:\n"
     ]
    },
    {
     "data": {
      "application/vnd.jupyter.widget-view+json": {
       "model_id": "85891d0118f6402eab8e3346b20621a5",
       "version_major": 2,
       "version_minor": 0
      },
      "text/plain": [
       "  0%|          | 0/391 [00:00<?, ?it/s]"
      ]
     },
     "metadata": {},
     "output_type": "display_data"
    },
    {
     "name": "stdout",
     "output_type": "stream",
     "text": [
      "Train loss: 3.0540, Train acc: 0.3030, Test loss: 3.1037, Test acc: 0.3060\n",
      "Epoch: 3 / 100:\n"
     ]
    },
    {
     "data": {
      "application/vnd.jupyter.widget-view+json": {
       "model_id": "e7e4dbd55b2740848e01c1a5a0895479",
       "version_major": 2,
       "version_minor": 0
      },
      "text/plain": [
       "  0%|          | 0/391 [00:00<?, ?it/s]"
      ]
     },
     "metadata": {},
     "output_type": "display_data"
    },
    {
     "name": "stdout",
     "output_type": "stream",
     "text": [
      "Train loss: 3.0433, Train acc: 0.3030, Test loss: 3.1948, Test acc: 0.2940\n",
      "Epoch: 4 / 100:\n"
     ]
    },
    {
     "data": {
      "application/vnd.jupyter.widget-view+json": {
       "model_id": "2bfb6a538a3e4e579e55de6c41e8de79",
       "version_major": 2,
       "version_minor": 0
      },
      "text/plain": [
       "  0%|          | 0/391 [00:00<?, ?it/s]"
      ]
     },
     "metadata": {},
     "output_type": "display_data"
    },
    {
     "name": "stdout",
     "output_type": "stream",
     "text": [
      "Train loss: 3.0663, Train acc: 0.2991, Test loss: 3.5023, Test acc: 0.2476\n",
      "Epoch: 5 / 100:\n"
     ]
    },
    {
     "data": {
      "application/vnd.jupyter.widget-view+json": {
       "model_id": "4d4cad71d7e2482faf2372f101b89fca",
       "version_major": 2,
       "version_minor": 0
      },
      "text/plain": [
       "  0%|          | 0/391 [00:00<?, ?it/s]"
      ]
     },
     "metadata": {},
     "output_type": "display_data"
    },
    {
     "name": "stdout",
     "output_type": "stream",
     "text": [
      "Train loss: 3.0667, Train acc: 0.2989, Test loss: 3.6296, Test acc: 0.2351\n",
      "Epoch: 6 / 100:\n"
     ]
    },
    {
     "data": {
      "application/vnd.jupyter.widget-view+json": {
       "model_id": "2009f055d94f4dd2b084aef654dc5376",
       "version_major": 2,
       "version_minor": 0
      },
      "text/plain": [
       "  0%|          | 0/391 [00:00<?, ?it/s]"
      ]
     },
     "metadata": {},
     "output_type": "display_data"
    },
    {
     "name": "stdout",
     "output_type": "stream",
     "text": [
      "Train loss: 3.0929, Train acc: 0.2945, Test loss: 3.4269, Test acc: 0.2577\n",
      "Epoch: 7 / 100:\n"
     ]
    },
    {
     "data": {
      "application/vnd.jupyter.widget-view+json": {
       "model_id": "8b15640e57814da59056058aa2cfe1fa",
       "version_major": 2,
       "version_minor": 0
      },
      "text/plain": [
       "  0%|          | 0/391 [00:00<?, ?it/s]"
      ]
     },
     "metadata": {},
     "output_type": "display_data"
    },
    {
     "name": "stdout",
     "output_type": "stream",
     "text": [
      "Train loss: 3.0758, Train acc: 0.2959, Test loss: 3.3998, Test acc: 0.2689\n",
      "Epoch: 8 / 100:\n"
     ]
    },
    {
     "data": {
      "application/vnd.jupyter.widget-view+json": {
       "model_id": "90228fc55b2740b3a542a2ffc3f68f8e",
       "version_major": 2,
       "version_minor": 0
      },
      "text/plain": [
       "  0%|          | 0/391 [00:00<?, ?it/s]"
      ]
     },
     "metadata": {},
     "output_type": "display_data"
    },
    {
     "name": "stdout",
     "output_type": "stream",
     "text": [
      "Train loss: 3.0854, Train acc: 0.2955, Test loss: 3.2850, Test acc: 0.2888\n",
      "Epoch: 9 / 100:\n"
     ]
    },
    {
     "data": {
      "application/vnd.jupyter.widget-view+json": {
       "model_id": "e329483ba696411785a386557f3267dd",
       "version_major": 2,
       "version_minor": 0
      },
      "text/plain": [
       "  0%|          | 0/391 [00:00<?, ?it/s]"
      ]
     },
     "metadata": {},
     "output_type": "display_data"
    },
    {
     "name": "stdout",
     "output_type": "stream",
     "text": [
      "Train loss: 3.0673, Train acc: 0.2980, Test loss: 3.0969, Test acc: 0.3131\n",
      "Epoch: 10 / 100:\n"
     ]
    },
    {
     "data": {
      "application/vnd.jupyter.widget-view+json": {
       "model_id": "c57c2bad4b5e4e39929f11bb1b42cec1",
       "version_major": 2,
       "version_minor": 0
      },
      "text/plain": [
       "  0%|          | 0/391 [00:00<?, ?it/s]"
      ]
     },
     "metadata": {},
     "output_type": "display_data"
    },
    {
     "name": "stdout",
     "output_type": "stream",
     "text": [
      "Train loss: 3.1157, Train acc: 0.2885, Test loss: 3.2552, Test acc: 0.2872\n",
      "Epoch: 11 / 100:\n"
     ]
    },
    {
     "data": {
      "application/vnd.jupyter.widget-view+json": {
       "model_id": "5c77e0aa2d834fb0b27f56906bbe1310",
       "version_major": 2,
       "version_minor": 0
      },
      "text/plain": [
       "  0%|          | 0/391 [00:00<?, ?it/s]"
      ]
     },
     "metadata": {},
     "output_type": "display_data"
    },
    {
     "ename": "KeyboardInterrupt",
     "evalue": "",
     "output_type": "error",
     "traceback": [
      "\u001b[0;31m---------------------------------------------------------------------------\u001b[0m",
      "\u001b[0;31mKeyboardInterrupt\u001b[0m                         Traceback (most recent call last)",
      "Cell \u001b[0;32mIn[6], line 19\u001b[0m\n\u001b[1;32m     17\u001b[0m model\u001b[38;5;241m.\u001b[39mtrain()\n\u001b[1;32m     18\u001b[0m ng\u001b[38;5;241m.\u001b[39msave(model, \u001b[38;5;124m\"\u001b[39m\u001b[38;5;124mmodel.pkl\u001b[39m\u001b[38;5;124m\"\u001b[39m)\n\u001b[0;32m---> 19\u001b[0m \u001b[43m\u001b[49m\u001b[38;5;28;43;01mfor\u001b[39;49;00m\u001b[43m \u001b[49m\u001b[43m(\u001b[49m\u001b[43mX_train\u001b[49m\u001b[43m,\u001b[49m\u001b[43m \u001b[49m\u001b[43my_train\u001b[49m\u001b[43m)\u001b[49m\u001b[43m \u001b[49m\u001b[38;5;129;43;01min\u001b[39;49;00m\u001b[43m \u001b[49m\u001b[43mtqdm\u001b[49m\u001b[43m(\u001b[49m\u001b[43mtrain_loader\u001b[49m\u001b[43m)\u001b[49m\u001b[43m:\u001b[49m\n\u001b[1;32m     20\u001b[0m \u001b[43m    \u001b[49m\u001b[43mctx\u001b[49m\u001b[43m \u001b[49m\u001b[38;5;241;43m=\u001b[39;49m\u001b[43m \u001b[49m\u001b[43mng\u001b[49m\u001b[38;5;241;43m.\u001b[39;49m\u001b[43mautocast\u001b[49m\u001b[43m(\u001b[49m\u001b[43m)\u001b[49m\u001b[43m \u001b[49m\u001b[38;5;28;43;01mif\u001b[39;49;00m\u001b[43m \u001b[49m\u001b[43mUSE_AMP\u001b[49m\u001b[43m \u001b[49m\u001b[38;5;28;43;01melse\u001b[39;49;00m\u001b[43m \u001b[49m\u001b[43mnullcontext\u001b[49m\u001b[43m(\u001b[49m\u001b[43m)\u001b[49m\n\u001b[1;32m     21\u001b[0m \u001b[43m    \u001b[49m\u001b[38;5;28;43;01mwith\u001b[39;49;00m\u001b[43m \u001b[49m\u001b[43mctx\u001b[49m\u001b[43m:\u001b[49m\n",
      "File \u001b[0;32m/usr/local/lib/python3.11/dist-packages/tqdm/notebook.py:249\u001b[0m, in \u001b[0;36mtqdm_notebook.__iter__\u001b[0;34m(self)\u001b[0m\n\u001b[1;32m    247\u001b[0m \u001b[38;5;28;01mtry\u001b[39;00m:\n\u001b[1;32m    248\u001b[0m     it \u001b[38;5;241m=\u001b[39m \u001b[38;5;28msuper\u001b[39m(tqdm_notebook, \u001b[38;5;28mself\u001b[39m)\u001b[38;5;241m.\u001b[39m\u001b[38;5;21m__iter__\u001b[39m()\n\u001b[0;32m--> 249\u001b[0m \u001b[43m    \u001b[49m\u001b[38;5;28;43;01mfor\u001b[39;49;00m\u001b[43m \u001b[49m\u001b[43mobj\u001b[49m\u001b[43m \u001b[49m\u001b[38;5;129;43;01min\u001b[39;49;00m\u001b[43m \u001b[49m\u001b[43mit\u001b[49m\u001b[43m:\u001b[49m\n\u001b[1;32m    250\u001b[0m \u001b[43m        \u001b[49m\u001b[38;5;66;43;03m# return super(tqdm...) will not catch exception\u001b[39;49;00m\n\u001b[1;32m    251\u001b[0m \u001b[43m        \u001b[49m\u001b[38;5;28;43;01myield\u001b[39;49;00m\u001b[43m \u001b[49m\u001b[43mobj\u001b[49m\n\u001b[1;32m    252\u001b[0m \u001b[38;5;66;03m# NB: except ... [ as ...] breaks IPython async KeyboardInterrupt\u001b[39;00m\n",
      "File \u001b[0;32m/usr/local/lib/python3.11/dist-packages/tqdm/std.py:1182\u001b[0m, in \u001b[0;36mtqdm.__iter__\u001b[0;34m(self)\u001b[0m\n\u001b[1;32m   1179\u001b[0m time \u001b[38;5;241m=\u001b[39m \u001b[38;5;28mself\u001b[39m\u001b[38;5;241m.\u001b[39m_time\n\u001b[1;32m   1181\u001b[0m \u001b[38;5;28;01mtry\u001b[39;00m:\n\u001b[0;32m-> 1182\u001b[0m \u001b[43m    \u001b[49m\u001b[38;5;28;43;01mfor\u001b[39;49;00m\u001b[43m \u001b[49m\u001b[43mobj\u001b[49m\u001b[43m \u001b[49m\u001b[38;5;129;43;01min\u001b[39;49;00m\u001b[43m \u001b[49m\u001b[43miterable\u001b[49m\u001b[43m:\u001b[49m\n\u001b[1;32m   1183\u001b[0m \u001b[43m        \u001b[49m\u001b[38;5;28;43;01myield\u001b[39;49;00m\u001b[43m \u001b[49m\u001b[43mobj\u001b[49m\n\u001b[1;32m   1184\u001b[0m \u001b[43m        \u001b[49m\u001b[38;5;66;43;03m# Update and possibly print the progressbar.\u001b[39;49;00m\n\u001b[1;32m   1185\u001b[0m \u001b[43m        \u001b[49m\u001b[38;5;66;43;03m# Note: does not call self.update(1) for speed optimisation.\u001b[39;49;00m\n",
      "File \u001b[0;32m/usr/local/lib/python3.11/dist-packages/neurograd/utils/data.py:64\u001b[0m, in \u001b[0;36mDataLoader.__iter__\u001b[0;34m(self)\u001b[0m\n\u001b[1;32m     62\u001b[0m     \u001b[38;5;28mself\u001b[39m\u001b[38;5;241m.\u001b[39mdataset\u001b[38;5;241m.\u001b[39mshuffle(\u001b[38;5;28mself\u001b[39m\u001b[38;5;241m.\u001b[39mseed)\n\u001b[1;32m     63\u001b[0m \u001b[38;5;28;01mfor\u001b[39;00m idx \u001b[38;5;129;01min\u001b[39;00m \u001b[38;5;28mrange\u001b[39m(\u001b[38;5;28mlen\u001b[39m(\u001b[38;5;28mself\u001b[39m)):\n\u001b[0;32m---> 64\u001b[0m     \u001b[38;5;28;01myield\u001b[39;00m \u001b[38;5;28;43mself\u001b[39;49m\u001b[43m[\u001b[49m\u001b[43midx\u001b[49m\u001b[43m]\u001b[49m\n",
      "File \u001b[0;32m/usr/local/lib/python3.11/dist-packages/neurograd/utils/data.py:52\u001b[0m, in \u001b[0;36mDataLoader.__getitem__\u001b[0;34m(self, idx)\u001b[0m\n\u001b[1;32m     50\u001b[0m start \u001b[38;5;241m=\u001b[39m idx \u001b[38;5;241m*\u001b[39m \u001b[38;5;28mself\u001b[39m\u001b[38;5;241m.\u001b[39mbatch_size\n\u001b[1;32m     51\u001b[0m end \u001b[38;5;241m=\u001b[39m \u001b[38;5;28mmin\u001b[39m((idx \u001b[38;5;241m+\u001b[39m \u001b[38;5;241m1\u001b[39m) \u001b[38;5;241m*\u001b[39m \u001b[38;5;28mself\u001b[39m\u001b[38;5;241m.\u001b[39mbatch_size, \u001b[38;5;28mlen\u001b[39m(\u001b[38;5;28mself\u001b[39m\u001b[38;5;241m.\u001b[39mdataset))\n\u001b[0;32m---> 52\u001b[0m batch \u001b[38;5;241m=\u001b[39m \u001b[43m[\u001b[49m\u001b[38;5;28;43mself\u001b[39;49m\u001b[38;5;241;43m.\u001b[39;49m\u001b[43mdataset\u001b[49m\u001b[43m[\u001b[49m\u001b[43mi\u001b[49m\u001b[43m]\u001b[49m\u001b[43m \u001b[49m\u001b[38;5;28;43;01mfor\u001b[39;49;00m\u001b[43m \u001b[49m\u001b[43mi\u001b[49m\u001b[43m \u001b[49m\u001b[38;5;129;43;01min\u001b[39;49;00m\u001b[43m \u001b[49m\u001b[38;5;28;43mrange\u001b[39;49m\u001b[43m(\u001b[49m\u001b[43mstart\u001b[49m\u001b[43m,\u001b[49m\u001b[43m \u001b[49m\u001b[43mend\u001b[49m\u001b[43m)\u001b[49m\u001b[43m]\u001b[49m  \u001b[38;5;66;03m# int indices only\u001b[39;00m\n\u001b[1;32m     53\u001b[0m Xs, ys \u001b[38;5;241m=\u001b[39m \u001b[38;5;28mzip\u001b[39m(\u001b[38;5;241m*\u001b[39mbatch)\n\u001b[1;32m     54\u001b[0m X \u001b[38;5;241m=\u001b[39m Tensor(xp\u001b[38;5;241m.\u001b[39mstack([x\u001b[38;5;241m.\u001b[39mdata \u001b[38;5;28;01mfor\u001b[39;00m x \u001b[38;5;129;01min\u001b[39;00m Xs], axis\u001b[38;5;241m=\u001b[39m\u001b[38;5;241m0\u001b[39m), dtype\u001b[38;5;241m=\u001b[39mXs[\u001b[38;5;241m0\u001b[39m]\u001b[38;5;241m.\u001b[39mdtype)\n",
      "File \u001b[0;32m/usr/local/lib/python3.11/dist-packages/neurograd/utils/data.py:52\u001b[0m, in \u001b[0;36m<listcomp>\u001b[0;34m(.0)\u001b[0m\n\u001b[1;32m     50\u001b[0m start \u001b[38;5;241m=\u001b[39m idx \u001b[38;5;241m*\u001b[39m \u001b[38;5;28mself\u001b[39m\u001b[38;5;241m.\u001b[39mbatch_size\n\u001b[1;32m     51\u001b[0m end \u001b[38;5;241m=\u001b[39m \u001b[38;5;28mmin\u001b[39m((idx \u001b[38;5;241m+\u001b[39m \u001b[38;5;241m1\u001b[39m) \u001b[38;5;241m*\u001b[39m \u001b[38;5;28mself\u001b[39m\u001b[38;5;241m.\u001b[39mbatch_size, \u001b[38;5;28mlen\u001b[39m(\u001b[38;5;28mself\u001b[39m\u001b[38;5;241m.\u001b[39mdataset))\n\u001b[0;32m---> 52\u001b[0m batch \u001b[38;5;241m=\u001b[39m [\u001b[38;5;28;43mself\u001b[39;49m\u001b[38;5;241;43m.\u001b[39;49m\u001b[43mdataset\u001b[49m\u001b[43m[\u001b[49m\u001b[43mi\u001b[49m\u001b[43m]\u001b[49m \u001b[38;5;28;01mfor\u001b[39;00m i \u001b[38;5;129;01min\u001b[39;00m \u001b[38;5;28mrange\u001b[39m(start, end)]  \u001b[38;5;66;03m# int indices only\u001b[39;00m\n\u001b[1;32m     53\u001b[0m Xs, ys \u001b[38;5;241m=\u001b[39m \u001b[38;5;28mzip\u001b[39m(\u001b[38;5;241m*\u001b[39mbatch)\n\u001b[1;32m     54\u001b[0m X \u001b[38;5;241m=\u001b[39m Tensor(xp\u001b[38;5;241m.\u001b[39mstack([x\u001b[38;5;241m.\u001b[39mdata \u001b[38;5;28;01mfor\u001b[39;00m x \u001b[38;5;129;01min\u001b[39;00m Xs], axis\u001b[38;5;241m=\u001b[39m\u001b[38;5;241m0\u001b[39m), dtype\u001b[38;5;241m=\u001b[39mXs[\u001b[38;5;241m0\u001b[39m]\u001b[38;5;241m.\u001b[39mdtype)\n",
      "File \u001b[0;32m/usr/local/lib/python3.11/dist-packages/neurograd/utils/data.py:163\u001b[0m, in \u001b[0;36mImageFolder.__getitem__\u001b[0;34m(self, idx)\u001b[0m\n\u001b[1;32m    160\u001b[0m img_path \u001b[38;5;241m=\u001b[39m \u001b[38;5;28mself\u001b[39m\u001b[38;5;241m.\u001b[39mimages[idx]\n\u001b[1;32m    161\u001b[0m target_name \u001b[38;5;241m=\u001b[39m \u001b[38;5;28mself\u001b[39m\u001b[38;5;241m.\u001b[39mtargets[idx]\n\u001b[0;32m--> 163\u001b[0m image \u001b[38;5;241m=\u001b[39m \u001b[38;5;28;43mself\u001b[39;49m\u001b[38;5;241;43m.\u001b[39;49m\u001b[43m_load_image\u001b[49m\u001b[43m(\u001b[49m\u001b[43mimg_path\u001b[49m\u001b[43m)\u001b[49m\n\u001b[1;32m    164\u001b[0m target \u001b[38;5;241m=\u001b[39m \u001b[38;5;28mself\u001b[39m\u001b[38;5;241m.\u001b[39mtarget_mapping[target_name]\n\u001b[1;32m    166\u001b[0m \u001b[38;5;28;01mif\u001b[39;00m \u001b[38;5;28mself\u001b[39m\u001b[38;5;241m.\u001b[39mtarget_transform:\n",
      "File \u001b[0;32m/usr/local/lib/python3.11/dist-packages/neurograd/utils/data.py:143\u001b[0m, in \u001b[0;36mImageFolder._load_image\u001b[0;34m(self, path)\u001b[0m\n\u001b[1;32m    141\u001b[0m \u001b[38;5;28;01mdef\u001b[39;00m \u001b[38;5;21m_load_image\u001b[39m(\u001b[38;5;28mself\u001b[39m, path: \u001b[38;5;28mstr\u001b[39m) \u001b[38;5;241m-\u001b[39m\u001b[38;5;241m>\u001b[39m np\u001b[38;5;241m.\u001b[39mndarray:\n\u001b[1;32m    142\u001b[0m     \u001b[38;5;66;03m# safer open/close + deterministic convert/resize\u001b[39;00m\n\u001b[0;32m--> 143\u001b[0m     \u001b[38;5;28;01mwith\u001b[39;00m \u001b[43mImage\u001b[49m\u001b[38;5;241;43m.\u001b[39;49m\u001b[43mopen\u001b[49m\u001b[43m(\u001b[49m\u001b[43mpath\u001b[49m\u001b[43m)\u001b[49m \u001b[38;5;28;01mas\u001b[39;00m img:\n\u001b[1;32m    144\u001b[0m         \u001b[38;5;28;01mif\u001b[39;00m \u001b[38;5;28mself\u001b[39m\u001b[38;5;241m.\u001b[39mimg_mode \u001b[38;5;129;01mis\u001b[39;00m \u001b[38;5;129;01mnot\u001b[39;00m \u001b[38;5;28;01mNone\u001b[39;00m:\n\u001b[1;32m    145\u001b[0m             img \u001b[38;5;241m=\u001b[39m img\u001b[38;5;241m.\u001b[39mconvert(\u001b[38;5;28mself\u001b[39m\u001b[38;5;241m.\u001b[39mimg_mode)\n",
      "File \u001b[0;32m/usr/local/lib/python3.11/dist-packages/PIL/Image.py:3245\u001b[0m, in \u001b[0;36mopen\u001b[0;34m(fp, mode, formats)\u001b[0m\n\u001b[1;32m   3242\u001b[0m     fp \u001b[38;5;241m=\u001b[39m io\u001b[38;5;241m.\u001b[39mBytesIO(fp\u001b[38;5;241m.\u001b[39mread())\n\u001b[1;32m   3243\u001b[0m     exclusive_fp \u001b[38;5;241m=\u001b[39m \u001b[38;5;28;01mTrue\u001b[39;00m\n\u001b[0;32m-> 3245\u001b[0m prefix \u001b[38;5;241m=\u001b[39m fp\u001b[38;5;241m.\u001b[39mread(\u001b[38;5;241m16\u001b[39m)\n\u001b[1;32m   3247\u001b[0m preinit()\n\u001b[1;32m   3249\u001b[0m accept_warnings \u001b[38;5;241m=\u001b[39m []\n",
      "\u001b[0;31mKeyboardInterrupt\u001b[0m: "
     ]
    }
   ],
   "source": [
    "from tqdm.auto import tqdm\n",
    "from neurograd.amp import GradScaler\n",
    "from contextlib import nullcontext\n",
    "\n",
    "# ======== CONFIG ========\n",
    "USE_AMP = True  # Toggle mixed precision on/off\n",
    "EPOCHS = 100\n",
    "BATCH_SIZE = train_loader.batch_size\n",
    "# ========================\n",
    "\n",
    "scaler = GradScaler() if USE_AMP else None\n",
    "\n",
    "for epoch in range(1, EPOCHS + 1):\n",
    "    print(f\"Epoch: {epoch} / {EPOCHS}:\")\n",
    "    train_losses, train_acc = [], []\n",
    "    test_losses, test_acc = [], []\n",
    "    model.train()\n",
    "    ng.save(model, \"model.pkl\")\n",
    "    for (X_train, y_train) in tqdm(train_loader):\n",
    "        ctx = ng.autocast() if USE_AMP else nullcontext()\n",
    "        with ctx:\n",
    "            y_pred = model(X_train)\n",
    "            loss = loss_fn(y_train, y_pred)\n",
    "            # print(loss.data, loss.data.dtype)\n",
    "            train_losses.append(loss.data)\n",
    "            optimizer.zero_grad()\n",
    "            if USE_AMP:\n",
    "                scaler.scale(loss).backward()\n",
    "                scaler.step(optimizer)\n",
    "                scaler.update()\n",
    "            else:\n",
    "                loss.backward()\n",
    "                optimizer.step()\n",
    "            acc = accuracy_score(y_train.argmax(axis=-1), y_pred.argmax(axis=-1))\n",
    "            train_acc.append(acc)\n",
    "\n",
    "    model.eval()\n",
    "    for (X_test, y_test) in val_loader:\n",
    "        ctx = ng.autocast() if USE_AMP else nullcontext()\n",
    "        with ctx:\n",
    "            y_pred = model(X_test)\n",
    "            loss = loss_fn(y_test, y_pred)\n",
    "            acc = accuracy_score(y_test.argmax(axis=-1), y_pred.argmax(axis=-1))\n",
    "            test_losses.append(loss.data)\n",
    "            test_acc.append(acc)\n",
    "\n",
    "    # Convert lists to arrays before mean\n",
    "    train_losses = cp.asarray(train_losses)\n",
    "    train_acc = cp.asarray(train_acc)\n",
    "    test_losses = cp.asarray(test_losses)\n",
    "    test_acc = cp.asarray(test_acc)\n",
    "\n",
    "    print(\n",
    "        f\"Train loss: {cp.nanmean(train_losses):.4f}, \"\n",
    "        f\"Train acc: {cp.mean(train_acc):.4f}, \"\n",
    "        f\"Test loss: {cp.nanmean(test_losses):.4f}, \"\n",
    "        f\"Test acc: {cp.mean(test_acc):.4f}\"\n",
    "    )"
   ]
  },
  {
   "cell_type": "code",
   "execution_count": null,
   "metadata": {
    "execution": {
     "iopub.execute_input": "2025-08-21T21:27:23.242268Z",
     "iopub.status.busy": "2025-08-21T21:27:23.241874Z"
    }
   },
   "outputs": [
    {
     "name": "stdout",
     "output_type": "stream",
     "text": [
      "Epoch: 1 / 1:\n"
     ]
    }
   ],
   "source": [
    "%%scalene\n",
    "\n",
    "from tqdm.auto import tqdm\n",
    "from neurograd.amp import GradScaler\n",
    "from contextlib import nullcontext\n",
    "\n",
    "# ======== CONFIG ========\n",
    "USE_AMP = True  # Toggle mixed precision on/off\n",
    "EPOCHS = 1\n",
    "BATCH_SIZE = train_loader.batch_size\n",
    "# ========================\n",
    "\n",
    "scaler = GradScaler() if USE_AMP else None\n",
    "\n",
    "for epoch in range(1, EPOCHS + 1):\n",
    "    print(f\"Epoch: {epoch} / {EPOCHS}:\")\n",
    "    train_losses, train_acc = [], []\n",
    "    test_losses, test_acc = [], []\n",
    "    model.train()\n",
    "    ng.save(model, \"model.pkl\")\n",
    "    for (X_train, y_train) in tqdm(train_loader):\n",
    "        ctx = ng.autocast() if USE_AMP else nullcontext()\n",
    "        with ctx:\n",
    "            y_pred = model(X_train)\n",
    "            loss = loss_fn(y_train, y_pred)\n",
    "            # print(loss.data, loss.data.dtype)\n",
    "            train_losses.append(loss.data)\n",
    "            optimizer.zero_grad()\n",
    "            if USE_AMP:\n",
    "                scaler.scale(loss).backward()\n",
    "                scaler.step(optimizer)\n",
    "                scaler.update()\n",
    "            else:\n",
    "                loss.backward()\n",
    "                optimizer.step()\n",
    "            acc = accuracy_score(y_train.argmax(axis=-1), y_pred.argmax(axis=-1))\n",
    "            train_acc.append(acc)\n",
    "\n",
    "    model.eval()\n",
    "    for (X_test, y_test) in val_loader:\n",
    "        ctx = ng.autocast() if USE_AMP else nullcontext()\n",
    "        with ctx:\n",
    "            y_pred = model(X_test)\n",
    "            loss = loss_fn(y_test, y_pred)\n",
    "            acc = accuracy_score(y_test.argmax(axis=-1), y_pred.argmax(axis=-1))\n",
    "            test_losses.append(loss.data)\n",
    "            test_acc.append(acc)\n",
    "\n",
    "    # Convert lists to arrays before mean\n",
    "    train_losses = cp.asarray(train_losses)\n",
    "    train_acc = cp.asarray(train_acc)\n",
    "    test_losses = cp.asarray(test_losses)\n",
    "    test_acc = cp.asarray(test_acc)\n",
    "\n",
    "    print(\n",
    "        f\"Train loss: {cp.nanmean(train_losses):.4f}, \"\n",
    "        f\"Train acc: {cp.mean(train_acc):.4f}, \"\n",
    "        f\"Test loss: {cp.nanmean(test_losses):.4f}, \"\n",
    "        f\"Test acc: {cp.mean(test_acc):.4f}\"\n",
    "    )"
   ]
  },
  {
   "cell_type": "markdown",
   "metadata": {
    "id": "IYRMkvTHFo4e"
   },
   "source": [
    "# Visualize model predictions"
   ]
  },
  {
   "cell_type": "code",
   "execution_count": null,
   "metadata": {
    "colab": {
     "base_uri": "https://localhost:8080/",
     "height": 498
    },
    "execution": {
     "execution_failed": "2025-08-19T20:57:29.159Z"
    },
    "id": "7_bM1xGz_IYl",
    "outputId": "79b9a8a2-d66d-4ffe-8d00-55e6e6677ed7"
   },
   "outputs": [],
   "source": [
    "# Plot 4 random predictions from validation set\n",
    "X, y = random.choice(val_loader)\n",
    "\n",
    "with ng.autocast():\n",
    "    y_pred = model(X)\n",
    "\n",
    "indices = range(len(X))\n",
    "chosen = random.sample(indices, 4)\n",
    "\n",
    "correct = 0\n",
    "for i, idx in enumerate(chosen, 1):\n",
    "    plt.subplot(1, 4, i)\n",
    "    img = X[idx].data.transpose(1, 2, 0).get()  # Convert CHW to HWC\n",
    "\n",
    "    if USE_ONE_HOT:\n",
    "        label = y[idx].data.argmax(-1).item()\n",
    "        pred = y_pred[idx].data.argmax(-1).item()\n",
    "    else:\n",
    "        label = y[idx].data.item()\n",
    "        pred = y_pred[idx].data.argmax(-1).item()\n",
    "\n",
    "    correct += (label == pred)\n",
    "\n",
    "    # Get human-readable class names\n",
    "    label_name = TARGET_NAMES[label] if label < len(TARGET_NAMES) else str(label)\n",
    "    pred_name = TARGET_NAMES[pred] if pred < len(TARGET_NAMES) else str(pred)\n",
    "\n",
    "    plt.axis(\"off\")\n",
    "    plt.imshow(img)\n",
    "    plt.title(f\"Label: {label_name}\\nPred: {pred_name}\")\n",
    "\n",
    "plt.tight_layout()\n",
    "plt.show()\n",
    "print(f\"Guessed {correct} / 4\")"
   ]
  },
  {
   "cell_type": "code",
   "execution_count": null,
   "metadata": {},
   "outputs": [],
   "source": []
  }
 ],
 "metadata": {
  "accelerator": "GPU",
  "colab": {
   "gpuType": "T4",
   "provenance": []
  },
  "kaggle": {
   "accelerator": "none",
   "dataSources": [],
   "dockerImageVersionId": 31089,
   "isGpuEnabled": false,
   "isInternetEnabled": true,
   "language": "python",
   "sourceType": "notebook"
  },
  "kernelspec": {
   "display_name": "Python 3 (ipykernel)",
   "language": "python",
   "name": "python3"
  },
  "language_info": {
   "codemirror_mode": {
    "name": "ipython",
    "version": 3
   },
   "file_extension": ".py",
   "mimetype": "text/x-python",
   "name": "python",
   "nbconvert_exporter": "python",
   "pygments_lexer": "ipython3",
   "version": "3.11.7"
  },
  "widgets": {
   "application/vnd.jupyter.widget-state+json": {
    "00a5ce718ed5497fb353b8329d23ab10": {
     "model_module": "@jupyter-widgets/controls",
     "model_module_version": "1.5.0",
     "model_name": "DescriptionStyleModel",
     "state": {
      "_model_module": "@jupyter-widgets/controls",
      "_model_module_version": "1.5.0",
      "_model_name": "DescriptionStyleModel",
      "_view_count": null,
      "_view_module": "@jupyter-widgets/base",
      "_view_module_version": "1.2.0",
      "_view_name": "StyleView",
      "description_width": ""
     }
    },
    "00ddf327ceea475bb82ef72d5541ebdb": {
     "model_module": "@jupyter-widgets/controls",
     "model_module_version": "1.5.0",
     "model_name": "HBoxModel",
     "state": {
      "_dom_classes": [],
      "_model_module": "@jupyter-widgets/controls",
      "_model_module_version": "1.5.0",
      "_model_name": "HBoxModel",
      "_view_count": null,
      "_view_module": "@jupyter-widgets/controls",
      "_view_module_version": "1.5.0",
      "_view_name": "HBoxView",
      "box_style": "",
      "children": [
       "IPY_MODEL_dde2e2f2e7024152b9102bcf1fc237c1",
       "IPY_MODEL_af3118beb5fe4946ad285441fbb47ea8",
       "IPY_MODEL_5bfb1262f64c436fb9dea22e280e2597"
      ],
      "layout": "IPY_MODEL_1d4693817f0f444b93476e9a059df7b3"
     }
    },
    "03d11e19e62842ceb50fd9a81f33bc7f": {
     "model_module": "@jupyter-widgets/controls",
     "model_module_version": "1.5.0",
     "model_name": "HTMLModel",
     "state": {
      "_dom_classes": [],
      "_model_module": "@jupyter-widgets/controls",
      "_model_module_version": "1.5.0",
      "_model_name": "HTMLModel",
      "_view_count": null,
      "_view_module": "@jupyter-widgets/controls",
      "_view_module_version": "1.5.0",
      "_view_name": "HTMLView",
      "description": "",
      "description_tooltip": null,
      "layout": "IPY_MODEL_a3ea202c5b7f4a39bc9b44072a658823",
      "placeholder": "​",
      "style": "IPY_MODEL_f4e9c0bacb5042f4bd8e2e2d556bc033",
      "value": " 782/782 [08:07&lt;00:00,  1.81it/s]"
     }
    },
    "11ae289a2502433ebefb6116792f5f10": {
     "model_module": "@jupyter-widgets/controls",
     "model_module_version": "1.5.0",
     "model_name": "FloatProgressModel",
     "state": {
      "_dom_classes": [],
      "_model_module": "@jupyter-widgets/controls",
      "_model_module_version": "1.5.0",
      "_model_name": "FloatProgressModel",
      "_view_count": null,
      "_view_module": "@jupyter-widgets/controls",
      "_view_module_version": "1.5.0",
      "_view_name": "ProgressView",
      "bar_style": "success",
      "description": "",
      "description_tooltip": null,
      "layout": "IPY_MODEL_c3dfe838574341ed971aeaebba5b360f",
      "max": 782,
      "min": 0,
      "orientation": "horizontal",
      "style": "IPY_MODEL_b07251bd292448f08a88fb12ccb4c3e5",
      "value": 782
     }
    },
    "12927d6dc2b8427db516601f442fabf3": {
     "model_module": "@jupyter-widgets/base",
     "model_module_version": "1.2.0",
     "model_name": "LayoutModel",
     "state": {
      "_model_module": "@jupyter-widgets/base",
      "_model_module_version": "1.2.0",
      "_model_name": "LayoutModel",
      "_view_count": null,
      "_view_module": "@jupyter-widgets/base",
      "_view_module_version": "1.2.0",
      "_view_name": "LayoutView",
      "align_content": null,
      "align_items": null,
      "align_self": null,
      "border": null,
      "bottom": null,
      "display": null,
      "flex": null,
      "flex_flow": null,
      "grid_area": null,
      "grid_auto_columns": null,
      "grid_auto_flow": null,
      "grid_auto_rows": null,
      "grid_column": null,
      "grid_gap": null,
      "grid_row": null,
      "grid_template_areas": null,
      "grid_template_columns": null,
      "grid_template_rows": null,
      "height": null,
      "justify_content": null,
      "justify_items": null,
      "left": null,
      "margin": null,
      "max_height": null,
      "max_width": null,
      "min_height": null,
      "min_width": null,
      "object_fit": null,
      "object_position": null,
      "order": null,
      "overflow": null,
      "overflow_x": null,
      "overflow_y": null,
      "padding": null,
      "right": null,
      "top": null,
      "visibility": null,
      "width": null
     }
    },
    "1d4693817f0f444b93476e9a059df7b3": {
     "model_module": "@jupyter-widgets/base",
     "model_module_version": "1.2.0",
     "model_name": "LayoutModel",
     "state": {
      "_model_module": "@jupyter-widgets/base",
      "_model_module_version": "1.2.0",
      "_model_name": "LayoutModel",
      "_view_count": null,
      "_view_module": "@jupyter-widgets/base",
      "_view_module_version": "1.2.0",
      "_view_name": "LayoutView",
      "align_content": null,
      "align_items": null,
      "align_self": null,
      "border": null,
      "bottom": null,
      "display": null,
      "flex": null,
      "flex_flow": null,
      "grid_area": null,
      "grid_auto_columns": null,
      "grid_auto_flow": null,
      "grid_auto_rows": null,
      "grid_column": null,
      "grid_gap": null,
      "grid_row": null,
      "grid_template_areas": null,
      "grid_template_columns": null,
      "grid_template_rows": null,
      "height": null,
      "justify_content": null,
      "justify_items": null,
      "left": null,
      "margin": null,
      "max_height": null,
      "max_width": null,
      "min_height": null,
      "min_width": null,
      "object_fit": null,
      "object_position": null,
      "order": null,
      "overflow": null,
      "overflow_x": null,
      "overflow_y": null,
      "padding": null,
      "right": null,
      "top": null,
      "visibility": null,
      "width": null
     }
    },
    "2e1bc7c2cdb749e2b01c9295293451f7": {
     "model_module": "@jupyter-widgets/base",
     "model_module_version": "1.2.0",
     "model_name": "LayoutModel",
     "state": {
      "_model_module": "@jupyter-widgets/base",
      "_model_module_version": "1.2.0",
      "_model_name": "LayoutModel",
      "_view_count": null,
      "_view_module": "@jupyter-widgets/base",
      "_view_module_version": "1.2.0",
      "_view_name": "LayoutView",
      "align_content": null,
      "align_items": null,
      "align_self": null,
      "border": null,
      "bottom": null,
      "display": null,
      "flex": null,
      "flex_flow": null,
      "grid_area": null,
      "grid_auto_columns": null,
      "grid_auto_flow": null,
      "grid_auto_rows": null,
      "grid_column": null,
      "grid_gap": null,
      "grid_row": null,
      "grid_template_areas": null,
      "grid_template_columns": null,
      "grid_template_rows": null,
      "height": null,
      "justify_content": null,
      "justify_items": null,
      "left": null,
      "margin": null,
      "max_height": null,
      "max_width": null,
      "min_height": null,
      "min_width": null,
      "object_fit": null,
      "object_position": null,
      "order": null,
      "overflow": null,
      "overflow_x": null,
      "overflow_y": null,
      "padding": null,
      "right": null,
      "top": null,
      "visibility": null,
      "width": null
     }
    },
    "2e5690aaa1434cebadb96e2177bacfcf": {
     "model_module": "@jupyter-widgets/controls",
     "model_module_version": "1.5.0",
     "model_name": "DescriptionStyleModel",
     "state": {
      "_model_module": "@jupyter-widgets/controls",
      "_model_module_version": "1.5.0",
      "_model_name": "DescriptionStyleModel",
      "_view_count": null,
      "_view_module": "@jupyter-widgets/base",
      "_view_module_version": "1.2.0",
      "_view_name": "StyleView",
      "description_width": ""
     }
    },
    "32f341f5b3814f88ad44c42615a5b0eb": {
     "model_module": "@jupyter-widgets/controls",
     "model_module_version": "1.5.0",
     "model_name": "ProgressStyleModel",
     "state": {
      "_model_module": "@jupyter-widgets/controls",
      "_model_module_version": "1.5.0",
      "_model_name": "ProgressStyleModel",
      "_view_count": null,
      "_view_module": "@jupyter-widgets/base",
      "_view_module_version": "1.2.0",
      "_view_name": "StyleView",
      "bar_color": null,
      "description_width": ""
     }
    },
    "367b431c0bbe4528b0a141c0dc776b07": {
     "model_module": "@jupyter-widgets/base",
     "model_module_version": "1.2.0",
     "model_name": "LayoutModel",
     "state": {
      "_model_module": "@jupyter-widgets/base",
      "_model_module_version": "1.2.0",
      "_model_name": "LayoutModel",
      "_view_count": null,
      "_view_module": "@jupyter-widgets/base",
      "_view_module_version": "1.2.0",
      "_view_name": "LayoutView",
      "align_content": null,
      "align_items": null,
      "align_self": null,
      "border": null,
      "bottom": null,
      "display": null,
      "flex": null,
      "flex_flow": null,
      "grid_area": null,
      "grid_auto_columns": null,
      "grid_auto_flow": null,
      "grid_auto_rows": null,
      "grid_column": null,
      "grid_gap": null,
      "grid_row": null,
      "grid_template_areas": null,
      "grid_template_columns": null,
      "grid_template_rows": null,
      "height": null,
      "justify_content": null,
      "justify_items": null,
      "left": null,
      "margin": null,
      "max_height": null,
      "max_width": null,
      "min_height": null,
      "min_width": null,
      "object_fit": null,
      "object_position": null,
      "order": null,
      "overflow": null,
      "overflow_x": null,
      "overflow_y": null,
      "padding": null,
      "right": null,
      "top": null,
      "visibility": null,
      "width": null
     }
    },
    "36b4a953282c42218c28ae948434209c": {
     "model_module": "@jupyter-widgets/controls",
     "model_module_version": "1.5.0",
     "model_name": "FloatProgressModel",
     "state": {
      "_dom_classes": [],
      "_model_module": "@jupyter-widgets/controls",
      "_model_module_version": "1.5.0",
      "_model_name": "FloatProgressModel",
      "_view_count": null,
      "_view_module": "@jupyter-widgets/controls",
      "_view_module_version": "1.5.0",
      "_view_name": "ProgressView",
      "bar_style": "success",
      "description": "",
      "description_tooltip": null,
      "layout": "IPY_MODEL_dde11222734642c4b70d68d0a3a418c0",
      "max": 782,
      "min": 0,
      "orientation": "horizontal",
      "style": "IPY_MODEL_b7e72432d8e14b40904ac208522fff87",
      "value": 782
     }
    },
    "373061212d1a45c48356e87463ebd22c": {
     "model_module": "@jupyter-widgets/controls",
     "model_module_version": "1.5.0",
     "model_name": "DescriptionStyleModel",
     "state": {
      "_model_module": "@jupyter-widgets/controls",
      "_model_module_version": "1.5.0",
      "_model_name": "DescriptionStyleModel",
      "_view_count": null,
      "_view_module": "@jupyter-widgets/base",
      "_view_module_version": "1.2.0",
      "_view_name": "StyleView",
      "description_width": ""
     }
    },
    "38a58fff12ba4d838d120dd3c4191638": {
     "model_module": "@jupyter-widgets/base",
     "model_module_version": "1.2.0",
     "model_name": "LayoutModel",
     "state": {
      "_model_module": "@jupyter-widgets/base",
      "_model_module_version": "1.2.0",
      "_model_name": "LayoutModel",
      "_view_count": null,
      "_view_module": "@jupyter-widgets/base",
      "_view_module_version": "1.2.0",
      "_view_name": "LayoutView",
      "align_content": null,
      "align_items": null,
      "align_self": null,
      "border": null,
      "bottom": null,
      "display": null,
      "flex": null,
      "flex_flow": null,
      "grid_area": null,
      "grid_auto_columns": null,
      "grid_auto_flow": null,
      "grid_auto_rows": null,
      "grid_column": null,
      "grid_gap": null,
      "grid_row": null,
      "grid_template_areas": null,
      "grid_template_columns": null,
      "grid_template_rows": null,
      "height": null,
      "justify_content": null,
      "justify_items": null,
      "left": null,
      "margin": null,
      "max_height": null,
      "max_width": null,
      "min_height": null,
      "min_width": null,
      "object_fit": null,
      "object_position": null,
      "order": null,
      "overflow": null,
      "overflow_x": null,
      "overflow_y": null,
      "padding": null,
      "right": null,
      "top": null,
      "visibility": null,
      "width": null
     }
    },
    "3ef6f403e8894aca89f7a8cab4c3b3df": {
     "model_module": "@jupyter-widgets/controls",
     "model_module_version": "1.5.0",
     "model_name": "HTMLModel",
     "state": {
      "_dom_classes": [],
      "_model_module": "@jupyter-widgets/controls",
      "_model_module_version": "1.5.0",
      "_model_name": "HTMLModel",
      "_view_count": null,
      "_view_module": "@jupyter-widgets/controls",
      "_view_module_version": "1.5.0",
      "_view_name": "HTMLView",
      "description": "",
      "description_tooltip": null,
      "layout": "IPY_MODEL_d45edd9cab6540ed8770637fcf3e7628",
      "placeholder": "​",
      "style": "IPY_MODEL_fe8c38160d044443b9f353a71ce278fe",
      "value": "100%"
     }
    },
    "430748901276400b8d487aafd86ad537": {
     "model_module": "@jupyter-widgets/controls",
     "model_module_version": "1.5.0",
     "model_name": "HTMLModel",
     "state": {
      "_dom_classes": [],
      "_model_module": "@jupyter-widgets/controls",
      "_model_module_version": "1.5.0",
      "_model_name": "HTMLModel",
      "_view_count": null,
      "_view_module": "@jupyter-widgets/controls",
      "_view_module_version": "1.5.0",
      "_view_name": "HTMLView",
      "description": "",
      "description_tooltip": null,
      "layout": "IPY_MODEL_c91f9ca7c0e34348b37f5a24b5b0a01b",
      "placeholder": "​",
      "style": "IPY_MODEL_682c9569278d4e02ac6f165e056cb623",
      "value": " 782/782 [08:05&lt;00:00,  1.92it/s]"
     }
    },
    "46792aa94d4e40df87e7ebacb00b56b4": {
     "model_module": "@jupyter-widgets/controls",
     "model_module_version": "1.5.0",
     "model_name": "DescriptionStyleModel",
     "state": {
      "_model_module": "@jupyter-widgets/controls",
      "_model_module_version": "1.5.0",
      "_model_name": "DescriptionStyleModel",
      "_view_count": null,
      "_view_module": "@jupyter-widgets/base",
      "_view_module_version": "1.2.0",
      "_view_name": "StyleView",
      "description_width": ""
     }
    },
    "4cff7b065da7481cb30762b0386f36d3": {
     "model_module": "@jupyter-widgets/controls",
     "model_module_version": "1.5.0",
     "model_name": "HTMLModel",
     "state": {
      "_dom_classes": [],
      "_model_module": "@jupyter-widgets/controls",
      "_model_module_version": "1.5.0",
      "_model_name": "HTMLModel",
      "_view_count": null,
      "_view_module": "@jupyter-widgets/controls",
      "_view_module_version": "1.5.0",
      "_view_name": "HTMLView",
      "description": "",
      "description_tooltip": null,
      "layout": "IPY_MODEL_90f80f7f0b214df392ea191e85c06efa",
      "placeholder": "​",
      "style": "IPY_MODEL_373061212d1a45c48356e87463ebd22c",
      "value": "100%"
     }
    },
    "4d158039a7c4437f812a1d22f66ed07b": {
     "model_module": "@jupyter-widgets/base",
     "model_module_version": "1.2.0",
     "model_name": "LayoutModel",
     "state": {
      "_model_module": "@jupyter-widgets/base",
      "_model_module_version": "1.2.0",
      "_model_name": "LayoutModel",
      "_view_count": null,
      "_view_module": "@jupyter-widgets/base",
      "_view_module_version": "1.2.0",
      "_view_name": "LayoutView",
      "align_content": null,
      "align_items": null,
      "align_self": null,
      "border": null,
      "bottom": null,
      "display": null,
      "flex": null,
      "flex_flow": null,
      "grid_area": null,
      "grid_auto_columns": null,
      "grid_auto_flow": null,
      "grid_auto_rows": null,
      "grid_column": null,
      "grid_gap": null,
      "grid_row": null,
      "grid_template_areas": null,
      "grid_template_columns": null,
      "grid_template_rows": null,
      "height": null,
      "justify_content": null,
      "justify_items": null,
      "left": null,
      "margin": null,
      "max_height": null,
      "max_width": null,
      "min_height": null,
      "min_width": null,
      "object_fit": null,
      "object_position": null,
      "order": null,
      "overflow": null,
      "overflow_x": null,
      "overflow_y": null,
      "padding": null,
      "right": null,
      "top": null,
      "visibility": null,
      "width": null
     }
    },
    "4f02cf2a7e3a491bb4e3a76225207950": {
     "model_module": "@jupyter-widgets/base",
     "model_module_version": "1.2.0",
     "model_name": "LayoutModel",
     "state": {
      "_model_module": "@jupyter-widgets/base",
      "_model_module_version": "1.2.0",
      "_model_name": "LayoutModel",
      "_view_count": null,
      "_view_module": "@jupyter-widgets/base",
      "_view_module_version": "1.2.0",
      "_view_name": "LayoutView",
      "align_content": null,
      "align_items": null,
      "align_self": null,
      "border": null,
      "bottom": null,
      "display": null,
      "flex": null,
      "flex_flow": null,
      "grid_area": null,
      "grid_auto_columns": null,
      "grid_auto_flow": null,
      "grid_auto_rows": null,
      "grid_column": null,
      "grid_gap": null,
      "grid_row": null,
      "grid_template_areas": null,
      "grid_template_columns": null,
      "grid_template_rows": null,
      "height": null,
      "justify_content": null,
      "justify_items": null,
      "left": null,
      "margin": null,
      "max_height": null,
      "max_width": null,
      "min_height": null,
      "min_width": null,
      "object_fit": null,
      "object_position": null,
      "order": null,
      "overflow": null,
      "overflow_x": null,
      "overflow_y": null,
      "padding": null,
      "right": null,
      "top": null,
      "visibility": null,
      "width": null
     }
    },
    "4f7a4523e07e4bc0a91e98ca6b7c5f61": {
     "model_module": "@jupyter-widgets/controls",
     "model_module_version": "1.5.0",
     "model_name": "DescriptionStyleModel",
     "state": {
      "_model_module": "@jupyter-widgets/controls",
      "_model_module_version": "1.5.0",
      "_model_name": "DescriptionStyleModel",
      "_view_count": null,
      "_view_module": "@jupyter-widgets/base",
      "_view_module_version": "1.2.0",
      "_view_name": "StyleView",
      "description_width": ""
     }
    },
    "53f9817f435441a4bc833f8b9beb75e7": {
     "model_module": "@jupyter-widgets/controls",
     "model_module_version": "1.5.0",
     "model_name": "DescriptionStyleModel",
     "state": {
      "_model_module": "@jupyter-widgets/controls",
      "_model_module_version": "1.5.0",
      "_model_name": "DescriptionStyleModel",
      "_view_count": null,
      "_view_module": "@jupyter-widgets/base",
      "_view_module_version": "1.2.0",
      "_view_name": "StyleView",
      "description_width": ""
     }
    },
    "553c7b10a5944188bb10a4851bcd01c8": {
     "model_module": "@jupyter-widgets/controls",
     "model_module_version": "1.5.0",
     "model_name": "HTMLModel",
     "state": {
      "_dom_classes": [],
      "_model_module": "@jupyter-widgets/controls",
      "_model_module_version": "1.5.0",
      "_model_name": "HTMLModel",
      "_view_count": null,
      "_view_module": "@jupyter-widgets/controls",
      "_view_module_version": "1.5.0",
      "_view_name": "HTMLView",
      "description": "",
      "description_tooltip": null,
      "layout": "IPY_MODEL_a491c2d9ffdd49b8a44321bfaa0f4962",
      "placeholder": "​",
      "style": "IPY_MODEL_a17f0212617b4c75b8da611a210c1675",
      "value": " 53/782 [00:33&lt;07:57,  1.53it/s]"
     }
    },
    "5542aa6c6dd544138e814bf36d673480": {
     "model_module": "@jupyter-widgets/controls",
     "model_module_version": "1.5.0",
     "model_name": "FloatProgressModel",
     "state": {
      "_dom_classes": [],
      "_model_module": "@jupyter-widgets/controls",
      "_model_module_version": "1.5.0",
      "_model_name": "FloatProgressModel",
      "_view_count": null,
      "_view_module": "@jupyter-widgets/controls",
      "_view_module_version": "1.5.0",
      "_view_name": "ProgressView",
      "bar_style": "success",
      "description": "",
      "description_tooltip": null,
      "layout": "IPY_MODEL_7184f30f84e643d492998762a7842d0a",
      "max": 782,
      "min": 0,
      "orientation": "horizontal",
      "style": "IPY_MODEL_32f341f5b3814f88ad44c42615a5b0eb",
      "value": 782
     }
    },
    "575d33a5fc064a87ba006f13b9b88d36": {
     "model_module": "@jupyter-widgets/controls",
     "model_module_version": "1.5.0",
     "model_name": "HTMLModel",
     "state": {
      "_dom_classes": [],
      "_model_module": "@jupyter-widgets/controls",
      "_model_module_version": "1.5.0",
      "_model_name": "HTMLModel",
      "_view_count": null,
      "_view_module": "@jupyter-widgets/controls",
      "_view_module_version": "1.5.0",
      "_view_name": "HTMLView",
      "description": "",
      "description_tooltip": null,
      "layout": "IPY_MODEL_9619e8768bbf447491b4b3bf1654ba12",
      "placeholder": "​",
      "style": "IPY_MODEL_46792aa94d4e40df87e7ebacb00b56b4",
      "value": " 782/782 [08:14&lt;00:00,  2.00it/s]"
     }
    },
    "588ba68630b14a56890acff7cb6284ea": {
     "model_module": "@jupyter-widgets/controls",
     "model_module_version": "1.5.0",
     "model_name": "HTMLModel",
     "state": {
      "_dom_classes": [],
      "_model_module": "@jupyter-widgets/controls",
      "_model_module_version": "1.5.0",
      "_model_name": "HTMLModel",
      "_view_count": null,
      "_view_module": "@jupyter-widgets/controls",
      "_view_module_version": "1.5.0",
      "_view_name": "HTMLView",
      "description": "",
      "description_tooltip": null,
      "layout": "IPY_MODEL_cc40c730a67a4a229136eaa5878b200d",
      "placeholder": "​",
      "style": "IPY_MODEL_53f9817f435441a4bc833f8b9beb75e7",
      "value": "100%"
     }
    },
    "5ac41749a0544bc4ae976e3808f183e5": {
     "model_module": "@jupyter-widgets/base",
     "model_module_version": "1.2.0",
     "model_name": "LayoutModel",
     "state": {
      "_model_module": "@jupyter-widgets/base",
      "_model_module_version": "1.2.0",
      "_model_name": "LayoutModel",
      "_view_count": null,
      "_view_module": "@jupyter-widgets/base",
      "_view_module_version": "1.2.0",
      "_view_name": "LayoutView",
      "align_content": null,
      "align_items": null,
      "align_self": null,
      "border": null,
      "bottom": null,
      "display": null,
      "flex": null,
      "flex_flow": null,
      "grid_area": null,
      "grid_auto_columns": null,
      "grid_auto_flow": null,
      "grid_auto_rows": null,
      "grid_column": null,
      "grid_gap": null,
      "grid_row": null,
      "grid_template_areas": null,
      "grid_template_columns": null,
      "grid_template_rows": null,
      "height": null,
      "justify_content": null,
      "justify_items": null,
      "left": null,
      "margin": null,
      "max_height": null,
      "max_width": null,
      "min_height": null,
      "min_width": null,
      "object_fit": null,
      "object_position": null,
      "order": null,
      "overflow": null,
      "overflow_x": null,
      "overflow_y": null,
      "padding": null,
      "right": null,
      "top": null,
      "visibility": null,
      "width": null
     }
    },
    "5bcdc83dd3474d15a412b0bb38fda9bb": {
     "model_module": "@jupyter-widgets/controls",
     "model_module_version": "1.5.0",
     "model_name": "HBoxModel",
     "state": {
      "_dom_classes": [],
      "_model_module": "@jupyter-widgets/controls",
      "_model_module_version": "1.5.0",
      "_model_name": "HBoxModel",
      "_view_count": null,
      "_view_module": "@jupyter-widgets/controls",
      "_view_module_version": "1.5.0",
      "_view_name": "HBoxView",
      "box_style": "",
      "children": [
       "IPY_MODEL_d0f5b1f57fab4aea8510346b69e50e51",
       "IPY_MODEL_11ae289a2502433ebefb6116792f5f10",
       "IPY_MODEL_f1fc9bb0f4e347f48c74fb34a2dbbcfb"
      ],
      "layout": "IPY_MODEL_ad42668e0a5742cd9bb7c8e048bd31ae"
     }
    },
    "5bfb1262f64c436fb9dea22e280e2597": {
     "model_module": "@jupyter-widgets/controls",
     "model_module_version": "1.5.0",
     "model_name": "HTMLModel",
     "state": {
      "_dom_classes": [],
      "_model_module": "@jupyter-widgets/controls",
      "_model_module_version": "1.5.0",
      "_model_name": "HTMLModel",
      "_view_count": null,
      "_view_module": "@jupyter-widgets/controls",
      "_view_module_version": "1.5.0",
      "_view_name": "HTMLView",
      "description": "",
      "description_tooltip": null,
      "layout": "IPY_MODEL_d856383408b54a689603b8c178c2aaed",
      "placeholder": "​",
      "style": "IPY_MODEL_e09b2b39adbc4540b6cff6ff08bf3aa0",
      "value": " 782/782 [08:07&lt;00:00,  1.97it/s]"
     }
    },
    "5d3c0d4bf2ca4d0b9f7954c49e0a813e": {
     "model_module": "@jupyter-widgets/controls",
     "model_module_version": "1.5.0",
     "model_name": "DescriptionStyleModel",
     "state": {
      "_model_module": "@jupyter-widgets/controls",
      "_model_module_version": "1.5.0",
      "_model_name": "DescriptionStyleModel",
      "_view_count": null,
      "_view_module": "@jupyter-widgets/base",
      "_view_module_version": "1.2.0",
      "_view_name": "StyleView",
      "description_width": ""
     }
    },
    "5f85a79e1bbb4899970cb01d9b729574": {
     "model_module": "@jupyter-widgets/controls",
     "model_module_version": "1.5.0",
     "model_name": "DescriptionStyleModel",
     "state": {
      "_model_module": "@jupyter-widgets/controls",
      "_model_module_version": "1.5.0",
      "_model_name": "DescriptionStyleModel",
      "_view_count": null,
      "_view_module": "@jupyter-widgets/base",
      "_view_module_version": "1.2.0",
      "_view_name": "StyleView",
      "description_width": ""
     }
    },
    "5fe973f5ef7d47faa72e0d2cf93fe09c": {
     "model_module": "@jupyter-widgets/controls",
     "model_module_version": "1.5.0",
     "model_name": "HBoxModel",
     "state": {
      "_dom_classes": [],
      "_model_module": "@jupyter-widgets/controls",
      "_model_module_version": "1.5.0",
      "_model_name": "HBoxModel",
      "_view_count": null,
      "_view_module": "@jupyter-widgets/controls",
      "_view_module_version": "1.5.0",
      "_view_name": "HBoxView",
      "box_style": "",
      "children": [
       "IPY_MODEL_588ba68630b14a56890acff7cb6284ea",
       "IPY_MODEL_f3171cc57b48470dba4d76d192d31bcd",
       "IPY_MODEL_575d33a5fc064a87ba006f13b9b88d36"
      ],
      "layout": "IPY_MODEL_7bc78a1e9abc479b9cf82dc3e051ac58"
     }
    },
    "61f7886b71e346a6ab334e1ac26ed882": {
     "model_module": "@jupyter-widgets/base",
     "model_module_version": "1.2.0",
     "model_name": "LayoutModel",
     "state": {
      "_model_module": "@jupyter-widgets/base",
      "_model_module_version": "1.2.0",
      "_model_name": "LayoutModel",
      "_view_count": null,
      "_view_module": "@jupyter-widgets/base",
      "_view_module_version": "1.2.0",
      "_view_name": "LayoutView",
      "align_content": null,
      "align_items": null,
      "align_self": null,
      "border": null,
      "bottom": null,
      "display": null,
      "flex": null,
      "flex_flow": null,
      "grid_area": null,
      "grid_auto_columns": null,
      "grid_auto_flow": null,
      "grid_auto_rows": null,
      "grid_column": null,
      "grid_gap": null,
      "grid_row": null,
      "grid_template_areas": null,
      "grid_template_columns": null,
      "grid_template_rows": null,
      "height": null,
      "justify_content": null,
      "justify_items": null,
      "left": null,
      "margin": null,
      "max_height": null,
      "max_width": null,
      "min_height": null,
      "min_width": null,
      "object_fit": null,
      "object_position": null,
      "order": null,
      "overflow": null,
      "overflow_x": null,
      "overflow_y": null,
      "padding": null,
      "right": null,
      "top": null,
      "visibility": null,
      "width": null
     }
    },
    "63de4807ebff4d7c8f80352b44eb13b0": {
     "model_module": "@jupyter-widgets/controls",
     "model_module_version": "1.5.0",
     "model_name": "DescriptionStyleModel",
     "state": {
      "_model_module": "@jupyter-widgets/controls",
      "_model_module_version": "1.5.0",
      "_model_name": "DescriptionStyleModel",
      "_view_count": null,
      "_view_module": "@jupyter-widgets/base",
      "_view_module_version": "1.2.0",
      "_view_name": "StyleView",
      "description_width": ""
     }
    },
    "682c9569278d4e02ac6f165e056cb623": {
     "model_module": "@jupyter-widgets/controls",
     "model_module_version": "1.5.0",
     "model_name": "DescriptionStyleModel",
     "state": {
      "_model_module": "@jupyter-widgets/controls",
      "_model_module_version": "1.5.0",
      "_model_name": "DescriptionStyleModel",
      "_view_count": null,
      "_view_module": "@jupyter-widgets/base",
      "_view_module_version": "1.2.0",
      "_view_name": "StyleView",
      "description_width": ""
     }
    },
    "6ddcf4a765104985a824832a58a9c41f": {
     "model_module": "@jupyter-widgets/base",
     "model_module_version": "1.2.0",
     "model_name": "LayoutModel",
     "state": {
      "_model_module": "@jupyter-widgets/base",
      "_model_module_version": "1.2.0",
      "_model_name": "LayoutModel",
      "_view_count": null,
      "_view_module": "@jupyter-widgets/base",
      "_view_module_version": "1.2.0",
      "_view_name": "LayoutView",
      "align_content": null,
      "align_items": null,
      "align_self": null,
      "border": null,
      "bottom": null,
      "display": null,
      "flex": null,
      "flex_flow": null,
      "grid_area": null,
      "grid_auto_columns": null,
      "grid_auto_flow": null,
      "grid_auto_rows": null,
      "grid_column": null,
      "grid_gap": null,
      "grid_row": null,
      "grid_template_areas": null,
      "grid_template_columns": null,
      "grid_template_rows": null,
      "height": null,
      "justify_content": null,
      "justify_items": null,
      "left": null,
      "margin": null,
      "max_height": null,
      "max_width": null,
      "min_height": null,
      "min_width": null,
      "object_fit": null,
      "object_position": null,
      "order": null,
      "overflow": null,
      "overflow_x": null,
      "overflow_y": null,
      "padding": null,
      "right": null,
      "top": null,
      "visibility": null,
      "width": null
     }
    },
    "7184f30f84e643d492998762a7842d0a": {
     "model_module": "@jupyter-widgets/base",
     "model_module_version": "1.2.0",
     "model_name": "LayoutModel",
     "state": {
      "_model_module": "@jupyter-widgets/base",
      "_model_module_version": "1.2.0",
      "_model_name": "LayoutModel",
      "_view_count": null,
      "_view_module": "@jupyter-widgets/base",
      "_view_module_version": "1.2.0",
      "_view_name": "LayoutView",
      "align_content": null,
      "align_items": null,
      "align_self": null,
      "border": null,
      "bottom": null,
      "display": null,
      "flex": null,
      "flex_flow": null,
      "grid_area": null,
      "grid_auto_columns": null,
      "grid_auto_flow": null,
      "grid_auto_rows": null,
      "grid_column": null,
      "grid_gap": null,
      "grid_row": null,
      "grid_template_areas": null,
      "grid_template_columns": null,
      "grid_template_rows": null,
      "height": null,
      "justify_content": null,
      "justify_items": null,
      "left": null,
      "margin": null,
      "max_height": null,
      "max_width": null,
      "min_height": null,
      "min_width": null,
      "object_fit": null,
      "object_position": null,
      "order": null,
      "overflow": null,
      "overflow_x": null,
      "overflow_y": null,
      "padding": null,
      "right": null,
      "top": null,
      "visibility": null,
      "width": null
     }
    },
    "7b154f76ed8b4b56b6c9f9749c60fd55": {
     "model_module": "@jupyter-widgets/controls",
     "model_module_version": "1.5.0",
     "model_name": "ProgressStyleModel",
     "state": {
      "_model_module": "@jupyter-widgets/controls",
      "_model_module_version": "1.5.0",
      "_model_name": "ProgressStyleModel",
      "_view_count": null,
      "_view_module": "@jupyter-widgets/base",
      "_view_module_version": "1.2.0",
      "_view_name": "StyleView",
      "bar_color": null,
      "description_width": ""
     }
    },
    "7bc78a1e9abc479b9cf82dc3e051ac58": {
     "model_module": "@jupyter-widgets/base",
     "model_module_version": "1.2.0",
     "model_name": "LayoutModel",
     "state": {
      "_model_module": "@jupyter-widgets/base",
      "_model_module_version": "1.2.0",
      "_model_name": "LayoutModel",
      "_view_count": null,
      "_view_module": "@jupyter-widgets/base",
      "_view_module_version": "1.2.0",
      "_view_name": "LayoutView",
      "align_content": null,
      "align_items": null,
      "align_self": null,
      "border": null,
      "bottom": null,
      "display": null,
      "flex": null,
      "flex_flow": null,
      "grid_area": null,
      "grid_auto_columns": null,
      "grid_auto_flow": null,
      "grid_auto_rows": null,
      "grid_column": null,
      "grid_gap": null,
      "grid_row": null,
      "grid_template_areas": null,
      "grid_template_columns": null,
      "grid_template_rows": null,
      "height": null,
      "justify_content": null,
      "justify_items": null,
      "left": null,
      "margin": null,
      "max_height": null,
      "max_width": null,
      "min_height": null,
      "min_width": null,
      "object_fit": null,
      "object_position": null,
      "order": null,
      "overflow": null,
      "overflow_x": null,
      "overflow_y": null,
      "padding": null,
      "right": null,
      "top": null,
      "visibility": null,
      "width": null
     }
    },
    "82a363e6bb564164a7f6c9f8b4a982e1": {
     "model_module": "@jupyter-widgets/controls",
     "model_module_version": "1.5.0",
     "model_name": "FloatProgressModel",
     "state": {
      "_dom_classes": [],
      "_model_module": "@jupyter-widgets/controls",
      "_model_module_version": "1.5.0",
      "_model_name": "FloatProgressModel",
      "_view_count": null,
      "_view_module": "@jupyter-widgets/controls",
      "_view_module_version": "1.5.0",
      "_view_name": "ProgressView",
      "bar_style": "danger",
      "description": "",
      "description_tooltip": null,
      "layout": "IPY_MODEL_12927d6dc2b8427db516601f442fabf3",
      "max": 782,
      "min": 0,
      "orientation": "horizontal",
      "style": "IPY_MODEL_9ff1b5d29357444c85f74c46f5358237",
      "value": 53
     }
    },
    "8689e518b9e945c3b662d9c663ae0a5f": {
     "model_module": "@jupyter-widgets/base",
     "model_module_version": "1.2.0",
     "model_name": "LayoutModel",
     "state": {
      "_model_module": "@jupyter-widgets/base",
      "_model_module_version": "1.2.0",
      "_model_name": "LayoutModel",
      "_view_count": null,
      "_view_module": "@jupyter-widgets/base",
      "_view_module_version": "1.2.0",
      "_view_name": "LayoutView",
      "align_content": null,
      "align_items": null,
      "align_self": null,
      "border": null,
      "bottom": null,
      "display": null,
      "flex": null,
      "flex_flow": null,
      "grid_area": null,
      "grid_auto_columns": null,
      "grid_auto_flow": null,
      "grid_auto_rows": null,
      "grid_column": null,
      "grid_gap": null,
      "grid_row": null,
      "grid_template_areas": null,
      "grid_template_columns": null,
      "grid_template_rows": null,
      "height": null,
      "justify_content": null,
      "justify_items": null,
      "left": null,
      "margin": null,
      "max_height": null,
      "max_width": null,
      "min_height": null,
      "min_width": null,
      "object_fit": null,
      "object_position": null,
      "order": null,
      "overflow": null,
      "overflow_x": null,
      "overflow_y": null,
      "padding": null,
      "right": null,
      "top": null,
      "visibility": null,
      "width": null
     }
    },
    "88a9f733f5384bc18ebe354e385c0a36": {
     "model_module": "@jupyter-widgets/base",
     "model_module_version": "1.2.0",
     "model_name": "LayoutModel",
     "state": {
      "_model_module": "@jupyter-widgets/base",
      "_model_module_version": "1.2.0",
      "_model_name": "LayoutModel",
      "_view_count": null,
      "_view_module": "@jupyter-widgets/base",
      "_view_module_version": "1.2.0",
      "_view_name": "LayoutView",
      "align_content": null,
      "align_items": null,
      "align_self": null,
      "border": null,
      "bottom": null,
      "display": null,
      "flex": null,
      "flex_flow": null,
      "grid_area": null,
      "grid_auto_columns": null,
      "grid_auto_flow": null,
      "grid_auto_rows": null,
      "grid_column": null,
      "grid_gap": null,
      "grid_row": null,
      "grid_template_areas": null,
      "grid_template_columns": null,
      "grid_template_rows": null,
      "height": null,
      "justify_content": null,
      "justify_items": null,
      "left": null,
      "margin": null,
      "max_height": null,
      "max_width": null,
      "min_height": null,
      "min_width": null,
      "object_fit": null,
      "object_position": null,
      "order": null,
      "overflow": null,
      "overflow_x": null,
      "overflow_y": null,
      "padding": null,
      "right": null,
      "top": null,
      "visibility": null,
      "width": null
     }
    },
    "90f80f7f0b214df392ea191e85c06efa": {
     "model_module": "@jupyter-widgets/base",
     "model_module_version": "1.2.0",
     "model_name": "LayoutModel",
     "state": {
      "_model_module": "@jupyter-widgets/base",
      "_model_module_version": "1.2.0",
      "_model_name": "LayoutModel",
      "_view_count": null,
      "_view_module": "@jupyter-widgets/base",
      "_view_module_version": "1.2.0",
      "_view_name": "LayoutView",
      "align_content": null,
      "align_items": null,
      "align_self": null,
      "border": null,
      "bottom": null,
      "display": null,
      "flex": null,
      "flex_flow": null,
      "grid_area": null,
      "grid_auto_columns": null,
      "grid_auto_flow": null,
      "grid_auto_rows": null,
      "grid_column": null,
      "grid_gap": null,
      "grid_row": null,
      "grid_template_areas": null,
      "grid_template_columns": null,
      "grid_template_rows": null,
      "height": null,
      "justify_content": null,
      "justify_items": null,
      "left": null,
      "margin": null,
      "max_height": null,
      "max_width": null,
      "min_height": null,
      "min_width": null,
      "object_fit": null,
      "object_position": null,
      "order": null,
      "overflow": null,
      "overflow_x": null,
      "overflow_y": null,
      "padding": null,
      "right": null,
      "top": null,
      "visibility": null,
      "width": null
     }
    },
    "940bac3caaa6462ca5f1d233d4f11e65": {
     "model_module": "@jupyter-widgets/base",
     "model_module_version": "1.2.0",
     "model_name": "LayoutModel",
     "state": {
      "_model_module": "@jupyter-widgets/base",
      "_model_module_version": "1.2.0",
      "_model_name": "LayoutModel",
      "_view_count": null,
      "_view_module": "@jupyter-widgets/base",
      "_view_module_version": "1.2.0",
      "_view_name": "LayoutView",
      "align_content": null,
      "align_items": null,
      "align_self": null,
      "border": null,
      "bottom": null,
      "display": null,
      "flex": null,
      "flex_flow": null,
      "grid_area": null,
      "grid_auto_columns": null,
      "grid_auto_flow": null,
      "grid_auto_rows": null,
      "grid_column": null,
      "grid_gap": null,
      "grid_row": null,
      "grid_template_areas": null,
      "grid_template_columns": null,
      "grid_template_rows": null,
      "height": null,
      "justify_content": null,
      "justify_items": null,
      "left": null,
      "margin": null,
      "max_height": null,
      "max_width": null,
      "min_height": null,
      "min_width": null,
      "object_fit": null,
      "object_position": null,
      "order": null,
      "overflow": null,
      "overflow_x": null,
      "overflow_y": null,
      "padding": null,
      "right": null,
      "top": null,
      "visibility": null,
      "width": null
     }
    },
    "9619e8768bbf447491b4b3bf1654ba12": {
     "model_module": "@jupyter-widgets/base",
     "model_module_version": "1.2.0",
     "model_name": "LayoutModel",
     "state": {
      "_model_module": "@jupyter-widgets/base",
      "_model_module_version": "1.2.0",
      "_model_name": "LayoutModel",
      "_view_count": null,
      "_view_module": "@jupyter-widgets/base",
      "_view_module_version": "1.2.0",
      "_view_name": "LayoutView",
      "align_content": null,
      "align_items": null,
      "align_self": null,
      "border": null,
      "bottom": null,
      "display": null,
      "flex": null,
      "flex_flow": null,
      "grid_area": null,
      "grid_auto_columns": null,
      "grid_auto_flow": null,
      "grid_auto_rows": null,
      "grid_column": null,
      "grid_gap": null,
      "grid_row": null,
      "grid_template_areas": null,
      "grid_template_columns": null,
      "grid_template_rows": null,
      "height": null,
      "justify_content": null,
      "justify_items": null,
      "left": null,
      "margin": null,
      "max_height": null,
      "max_width": null,
      "min_height": null,
      "min_width": null,
      "object_fit": null,
      "object_position": null,
      "order": null,
      "overflow": null,
      "overflow_x": null,
      "overflow_y": null,
      "padding": null,
      "right": null,
      "top": null,
      "visibility": null,
      "width": null
     }
    },
    "980aa0289b8f4bb3b92df5e4f49ef504": {
     "model_module": "@jupyter-widgets/controls",
     "model_module_version": "1.5.0",
     "model_name": "HTMLModel",
     "state": {
      "_dom_classes": [],
      "_model_module": "@jupyter-widgets/controls",
      "_model_module_version": "1.5.0",
      "_model_name": "HTMLModel",
      "_view_count": null,
      "_view_module": "@jupyter-widgets/controls",
      "_view_module_version": "1.5.0",
      "_view_name": "HTMLView",
      "description": "",
      "description_tooltip": null,
      "layout": "IPY_MODEL_61f7886b71e346a6ab334e1ac26ed882",
      "placeholder": "​",
      "style": "IPY_MODEL_63de4807ebff4d7c8f80352b44eb13b0",
      "value": "  7%"
     }
    },
    "9b1ebb3c22ab4c119cf77a8f523c55b1": {
     "model_module": "@jupyter-widgets/controls",
     "model_module_version": "1.5.0",
     "model_name": "ProgressStyleModel",
     "state": {
      "_model_module": "@jupyter-widgets/controls",
      "_model_module_version": "1.5.0",
      "_model_name": "ProgressStyleModel",
      "_view_count": null,
      "_view_module": "@jupyter-widgets/base",
      "_view_module_version": "1.2.0",
      "_view_name": "StyleView",
      "bar_color": null,
      "description_width": ""
     }
    },
    "9b7333296ec34e5c934595043f667ceb": {
     "model_module": "@jupyter-widgets/controls",
     "model_module_version": "1.5.0",
     "model_name": "DescriptionStyleModel",
     "state": {
      "_model_module": "@jupyter-widgets/controls",
      "_model_module_version": "1.5.0",
      "_model_name": "DescriptionStyleModel",
      "_view_count": null,
      "_view_module": "@jupyter-widgets/base",
      "_view_module_version": "1.2.0",
      "_view_name": "StyleView",
      "description_width": ""
     }
    },
    "9eb284716a5b48aebf25a08aeb88b543": {
     "model_module": "@jupyter-widgets/base",
     "model_module_version": "1.2.0",
     "model_name": "LayoutModel",
     "state": {
      "_model_module": "@jupyter-widgets/base",
      "_model_module_version": "1.2.0",
      "_model_name": "LayoutModel",
      "_view_count": null,
      "_view_module": "@jupyter-widgets/base",
      "_view_module_version": "1.2.0",
      "_view_name": "LayoutView",
      "align_content": null,
      "align_items": null,
      "align_self": null,
      "border": null,
      "bottom": null,
      "display": null,
      "flex": null,
      "flex_flow": null,
      "grid_area": null,
      "grid_auto_columns": null,
      "grid_auto_flow": null,
      "grid_auto_rows": null,
      "grid_column": null,
      "grid_gap": null,
      "grid_row": null,
      "grid_template_areas": null,
      "grid_template_columns": null,
      "grid_template_rows": null,
      "height": null,
      "justify_content": null,
      "justify_items": null,
      "left": null,
      "margin": null,
      "max_height": null,
      "max_width": null,
      "min_height": null,
      "min_width": null,
      "object_fit": null,
      "object_position": null,
      "order": null,
      "overflow": null,
      "overflow_x": null,
      "overflow_y": null,
      "padding": null,
      "right": null,
      "top": null,
      "visibility": null,
      "width": null
     }
    },
    "9ff1b5d29357444c85f74c46f5358237": {
     "model_module": "@jupyter-widgets/controls",
     "model_module_version": "1.5.0",
     "model_name": "ProgressStyleModel",
     "state": {
      "_model_module": "@jupyter-widgets/controls",
      "_model_module_version": "1.5.0",
      "_model_name": "ProgressStyleModel",
      "_view_count": null,
      "_view_module": "@jupyter-widgets/base",
      "_view_module_version": "1.2.0",
      "_view_name": "StyleView",
      "bar_color": null,
      "description_width": ""
     }
    },
    "a17f0212617b4c75b8da611a210c1675": {
     "model_module": "@jupyter-widgets/controls",
     "model_module_version": "1.5.0",
     "model_name": "DescriptionStyleModel",
     "state": {
      "_model_module": "@jupyter-widgets/controls",
      "_model_module_version": "1.5.0",
      "_model_name": "DescriptionStyleModel",
      "_view_count": null,
      "_view_module": "@jupyter-widgets/base",
      "_view_module_version": "1.2.0",
      "_view_name": "StyleView",
      "description_width": ""
     }
    },
    "a28f246df78147c9aff5ad7ff701cbf0": {
     "model_module": "@jupyter-widgets/controls",
     "model_module_version": "1.5.0",
     "model_name": "HTMLModel",
     "state": {
      "_dom_classes": [],
      "_model_module": "@jupyter-widgets/controls",
      "_model_module_version": "1.5.0",
      "_model_name": "HTMLModel",
      "_view_count": null,
      "_view_module": "@jupyter-widgets/controls",
      "_view_module_version": "1.5.0",
      "_view_name": "HTMLView",
      "description": "",
      "description_tooltip": null,
      "layout": "IPY_MODEL_5ac41749a0544bc4ae976e3808f183e5",
      "placeholder": "​",
      "style": "IPY_MODEL_9b7333296ec34e5c934595043f667ceb",
      "value": "100%"
     }
    },
    "a3ea202c5b7f4a39bc9b44072a658823": {
     "model_module": "@jupyter-widgets/base",
     "model_module_version": "1.2.0",
     "model_name": "LayoutModel",
     "state": {
      "_model_module": "@jupyter-widgets/base",
      "_model_module_version": "1.2.0",
      "_model_name": "LayoutModel",
      "_view_count": null,
      "_view_module": "@jupyter-widgets/base",
      "_view_module_version": "1.2.0",
      "_view_name": "LayoutView",
      "align_content": null,
      "align_items": null,
      "align_self": null,
      "border": null,
      "bottom": null,
      "display": null,
      "flex": null,
      "flex_flow": null,
      "grid_area": null,
      "grid_auto_columns": null,
      "grid_auto_flow": null,
      "grid_auto_rows": null,
      "grid_column": null,
      "grid_gap": null,
      "grid_row": null,
      "grid_template_areas": null,
      "grid_template_columns": null,
      "grid_template_rows": null,
      "height": null,
      "justify_content": null,
      "justify_items": null,
      "left": null,
      "margin": null,
      "max_height": null,
      "max_width": null,
      "min_height": null,
      "min_width": null,
      "object_fit": null,
      "object_position": null,
      "order": null,
      "overflow": null,
      "overflow_x": null,
      "overflow_y": null,
      "padding": null,
      "right": null,
      "top": null,
      "visibility": null,
      "width": null
     }
    },
    "a491c2d9ffdd49b8a44321bfaa0f4962": {
     "model_module": "@jupyter-widgets/base",
     "model_module_version": "1.2.0",
     "model_name": "LayoutModel",
     "state": {
      "_model_module": "@jupyter-widgets/base",
      "_model_module_version": "1.2.0",
      "_model_name": "LayoutModel",
      "_view_count": null,
      "_view_module": "@jupyter-widgets/base",
      "_view_module_version": "1.2.0",
      "_view_name": "LayoutView",
      "align_content": null,
      "align_items": null,
      "align_self": null,
      "border": null,
      "bottom": null,
      "display": null,
      "flex": null,
      "flex_flow": null,
      "grid_area": null,
      "grid_auto_columns": null,
      "grid_auto_flow": null,
      "grid_auto_rows": null,
      "grid_column": null,
      "grid_gap": null,
      "grid_row": null,
      "grid_template_areas": null,
      "grid_template_columns": null,
      "grid_template_rows": null,
      "height": null,
      "justify_content": null,
      "justify_items": null,
      "left": null,
      "margin": null,
      "max_height": null,
      "max_width": null,
      "min_height": null,
      "min_width": null,
      "object_fit": null,
      "object_position": null,
      "order": null,
      "overflow": null,
      "overflow_x": null,
      "overflow_y": null,
      "padding": null,
      "right": null,
      "top": null,
      "visibility": null,
      "width": null
     }
    },
    "a5080ae5eb814a2b86965892201444f0": {
     "model_module": "@jupyter-widgets/base",
     "model_module_version": "1.2.0",
     "model_name": "LayoutModel",
     "state": {
      "_model_module": "@jupyter-widgets/base",
      "_model_module_version": "1.2.0",
      "_model_name": "LayoutModel",
      "_view_count": null,
      "_view_module": "@jupyter-widgets/base",
      "_view_module_version": "1.2.0",
      "_view_name": "LayoutView",
      "align_content": null,
      "align_items": null,
      "align_self": null,
      "border": null,
      "bottom": null,
      "display": null,
      "flex": null,
      "flex_flow": null,
      "grid_area": null,
      "grid_auto_columns": null,
      "grid_auto_flow": null,
      "grid_auto_rows": null,
      "grid_column": null,
      "grid_gap": null,
      "grid_row": null,
      "grid_template_areas": null,
      "grid_template_columns": null,
      "grid_template_rows": null,
      "height": null,
      "justify_content": null,
      "justify_items": null,
      "left": null,
      "margin": null,
      "max_height": null,
      "max_width": null,
      "min_height": null,
      "min_width": null,
      "object_fit": null,
      "object_position": null,
      "order": null,
      "overflow": null,
      "overflow_x": null,
      "overflow_y": null,
      "padding": null,
      "right": null,
      "top": null,
      "visibility": null,
      "width": null
     }
    },
    "a937a3db874044889227c7ab1a18e3bd": {
     "model_module": "@jupyter-widgets/controls",
     "model_module_version": "1.5.0",
     "model_name": "FloatProgressModel",
     "state": {
      "_dom_classes": [],
      "_model_module": "@jupyter-widgets/controls",
      "_model_module_version": "1.5.0",
      "_model_name": "FloatProgressModel",
      "_view_count": null,
      "_view_module": "@jupyter-widgets/controls",
      "_view_module_version": "1.5.0",
      "_view_name": "ProgressView",
      "bar_style": "success",
      "description": "",
      "description_tooltip": null,
      "layout": "IPY_MODEL_367b431c0bbe4528b0a141c0dc776b07",
      "max": 782,
      "min": 0,
      "orientation": "horizontal",
      "style": "IPY_MODEL_d7e7d440bfe54fd2a3753907f9a8b479",
      "value": 782
     }
    },
    "ad42668e0a5742cd9bb7c8e048bd31ae": {
     "model_module": "@jupyter-widgets/base",
     "model_module_version": "1.2.0",
     "model_name": "LayoutModel",
     "state": {
      "_model_module": "@jupyter-widgets/base",
      "_model_module_version": "1.2.0",
      "_model_name": "LayoutModel",
      "_view_count": null,
      "_view_module": "@jupyter-widgets/base",
      "_view_module_version": "1.2.0",
      "_view_name": "LayoutView",
      "align_content": null,
      "align_items": null,
      "align_self": null,
      "border": null,
      "bottom": null,
      "display": null,
      "flex": null,
      "flex_flow": null,
      "grid_area": null,
      "grid_auto_columns": null,
      "grid_auto_flow": null,
      "grid_auto_rows": null,
      "grid_column": null,
      "grid_gap": null,
      "grid_row": null,
      "grid_template_areas": null,
      "grid_template_columns": null,
      "grid_template_rows": null,
      "height": null,
      "justify_content": null,
      "justify_items": null,
      "left": null,
      "margin": null,
      "max_height": null,
      "max_width": null,
      "min_height": null,
      "min_width": null,
      "object_fit": null,
      "object_position": null,
      "order": null,
      "overflow": null,
      "overflow_x": null,
      "overflow_y": null,
      "padding": null,
      "right": null,
      "top": null,
      "visibility": null,
      "width": null
     }
    },
    "af3118beb5fe4946ad285441fbb47ea8": {
     "model_module": "@jupyter-widgets/controls",
     "model_module_version": "1.5.0",
     "model_name": "FloatProgressModel",
     "state": {
      "_dom_classes": [],
      "_model_module": "@jupyter-widgets/controls",
      "_model_module_version": "1.5.0",
      "_model_name": "FloatProgressModel",
      "_view_count": null,
      "_view_module": "@jupyter-widgets/controls",
      "_view_module_version": "1.5.0",
      "_view_name": "ProgressView",
      "bar_style": "success",
      "description": "",
      "description_tooltip": null,
      "layout": "IPY_MODEL_2e1bc7c2cdb749e2b01c9295293451f7",
      "max": 782,
      "min": 0,
      "orientation": "horizontal",
      "style": "IPY_MODEL_9b1ebb3c22ab4c119cf77a8f523c55b1",
      "value": 782
     }
    },
    "b07251bd292448f08a88fb12ccb4c3e5": {
     "model_module": "@jupyter-widgets/controls",
     "model_module_version": "1.5.0",
     "model_name": "ProgressStyleModel",
     "state": {
      "_model_module": "@jupyter-widgets/controls",
      "_model_module_version": "1.5.0",
      "_model_name": "ProgressStyleModel",
      "_view_count": null,
      "_view_module": "@jupyter-widgets/base",
      "_view_module_version": "1.2.0",
      "_view_name": "StyleView",
      "bar_color": null,
      "description_width": ""
     }
    },
    "b1d256999a64478aaf27a62d9d733aa8": {
     "model_module": "@jupyter-widgets/controls",
     "model_module_version": "1.5.0",
     "model_name": "HBoxModel",
     "state": {
      "_dom_classes": [],
      "_model_module": "@jupyter-widgets/controls",
      "_model_module_version": "1.5.0",
      "_model_name": "HBoxModel",
      "_view_count": null,
      "_view_module": "@jupyter-widgets/controls",
      "_view_module_version": "1.5.0",
      "_view_name": "HBoxView",
      "box_style": "",
      "children": [
       "IPY_MODEL_a28f246df78147c9aff5ad7ff701cbf0",
       "IPY_MODEL_5542aa6c6dd544138e814bf36d673480",
       "IPY_MODEL_03d11e19e62842ceb50fd9a81f33bc7f"
      ],
      "layout": "IPY_MODEL_8689e518b9e945c3b662d9c663ae0a5f"
     }
    },
    "b7e72432d8e14b40904ac208522fff87": {
     "model_module": "@jupyter-widgets/controls",
     "model_module_version": "1.5.0",
     "model_name": "ProgressStyleModel",
     "state": {
      "_model_module": "@jupyter-widgets/controls",
      "_model_module_version": "1.5.0",
      "_model_name": "ProgressStyleModel",
      "_view_count": null,
      "_view_module": "@jupyter-widgets/base",
      "_view_module_version": "1.2.0",
      "_view_name": "StyleView",
      "bar_color": null,
      "description_width": ""
     }
    },
    "b80141d2c47c46fa91510d7fbab6dbac": {
     "model_module": "@jupyter-widgets/controls",
     "model_module_version": "1.5.0",
     "model_name": "HTMLModel",
     "state": {
      "_dom_classes": [],
      "_model_module": "@jupyter-widgets/controls",
      "_model_module_version": "1.5.0",
      "_model_name": "HTMLModel",
      "_view_count": null,
      "_view_module": "@jupyter-widgets/controls",
      "_view_module_version": "1.5.0",
      "_view_name": "HTMLView",
      "description": "",
      "description_tooltip": null,
      "layout": "IPY_MODEL_6ddcf4a765104985a824832a58a9c41f",
      "placeholder": "​",
      "style": "IPY_MODEL_5f85a79e1bbb4899970cb01d9b729574",
      "value": " 782/782 [08:06&lt;00:00,  2.01it/s]"
     }
    },
    "b92df4d13f854c61a467fb53b5b87f8a": {
     "model_module": "@jupyter-widgets/controls",
     "model_module_version": "1.5.0",
     "model_name": "HTMLModel",
     "state": {
      "_dom_classes": [],
      "_model_module": "@jupyter-widgets/controls",
      "_model_module_version": "1.5.0",
      "_model_name": "HTMLModel",
      "_view_count": null,
      "_view_module": "@jupyter-widgets/controls",
      "_view_module_version": "1.5.0",
      "_view_name": "HTMLView",
      "description": "",
      "description_tooltip": null,
      "layout": "IPY_MODEL_eb52d6a804414f398f7903e59cb00354",
      "placeholder": "​",
      "style": "IPY_MODEL_feb85931878b4b8782d1e97d16119f0e",
      "value": " 782/782 [08:04&lt;00:00,  2.02it/s]"
     }
    },
    "c3a46edac78e46a8a24299fe83dc8f8b": {
     "model_module": "@jupyter-widgets/controls",
     "model_module_version": "1.5.0",
     "model_name": "HTMLModel",
     "state": {
      "_dom_classes": [],
      "_model_module": "@jupyter-widgets/controls",
      "_model_module_version": "1.5.0",
      "_model_name": "HTMLModel",
      "_view_count": null,
      "_view_module": "@jupyter-widgets/controls",
      "_view_module_version": "1.5.0",
      "_view_name": "HTMLView",
      "description": "",
      "description_tooltip": null,
      "layout": "IPY_MODEL_d9d205cd51cb453b8e3b031a5b4176a9",
      "placeholder": "​",
      "style": "IPY_MODEL_00a5ce718ed5497fb353b8329d23ab10",
      "value": "100%"
     }
    },
    "c3dfe838574341ed971aeaebba5b360f": {
     "model_module": "@jupyter-widgets/base",
     "model_module_version": "1.2.0",
     "model_name": "LayoutModel",
     "state": {
      "_model_module": "@jupyter-widgets/base",
      "_model_module_version": "1.2.0",
      "_model_name": "LayoutModel",
      "_view_count": null,
      "_view_module": "@jupyter-widgets/base",
      "_view_module_version": "1.2.0",
      "_view_name": "LayoutView",
      "align_content": null,
      "align_items": null,
      "align_self": null,
      "border": null,
      "bottom": null,
      "display": null,
      "flex": null,
      "flex_flow": null,
      "grid_area": null,
      "grid_auto_columns": null,
      "grid_auto_flow": null,
      "grid_auto_rows": null,
      "grid_column": null,
      "grid_gap": null,
      "grid_row": null,
      "grid_template_areas": null,
      "grid_template_columns": null,
      "grid_template_rows": null,
      "height": null,
      "justify_content": null,
      "justify_items": null,
      "left": null,
      "margin": null,
      "max_height": null,
      "max_width": null,
      "min_height": null,
      "min_width": null,
      "object_fit": null,
      "object_position": null,
      "order": null,
      "overflow": null,
      "overflow_x": null,
      "overflow_y": null,
      "padding": null,
      "right": null,
      "top": null,
      "visibility": null,
      "width": null
     }
    },
    "c45e49d84520436b8ef67d9532987ecf": {
     "model_module": "@jupyter-widgets/base",
     "model_module_version": "1.2.0",
     "model_name": "LayoutModel",
     "state": {
      "_model_module": "@jupyter-widgets/base",
      "_model_module_version": "1.2.0",
      "_model_name": "LayoutModel",
      "_view_count": null,
      "_view_module": "@jupyter-widgets/base",
      "_view_module_version": "1.2.0",
      "_view_name": "LayoutView",
      "align_content": null,
      "align_items": null,
      "align_self": null,
      "border": null,
      "bottom": null,
      "display": null,
      "flex": null,
      "flex_flow": null,
      "grid_area": null,
      "grid_auto_columns": null,
      "grid_auto_flow": null,
      "grid_auto_rows": null,
      "grid_column": null,
      "grid_gap": null,
      "grid_row": null,
      "grid_template_areas": null,
      "grid_template_columns": null,
      "grid_template_rows": null,
      "height": null,
      "justify_content": null,
      "justify_items": null,
      "left": null,
      "margin": null,
      "max_height": null,
      "max_width": null,
      "min_height": null,
      "min_width": null,
      "object_fit": null,
      "object_position": null,
      "order": null,
      "overflow": null,
      "overflow_x": null,
      "overflow_y": null,
      "padding": null,
      "right": null,
      "top": null,
      "visibility": null,
      "width": null
     }
    },
    "c7ad67c4dce24a66a91c4016172354c3": {
     "model_module": "@jupyter-widgets/controls",
     "model_module_version": "1.5.0",
     "model_name": "HBoxModel",
     "state": {
      "_dom_classes": [],
      "_model_module": "@jupyter-widgets/controls",
      "_model_module_version": "1.5.0",
      "_model_name": "HBoxModel",
      "_view_count": null,
      "_view_module": "@jupyter-widgets/controls",
      "_view_module_version": "1.5.0",
      "_view_name": "HBoxView",
      "box_style": "",
      "children": [
       "IPY_MODEL_4cff7b065da7481cb30762b0386f36d3",
       "IPY_MODEL_d69b7368386441b8b4dc6394aa5a5bc6",
       "IPY_MODEL_b92df4d13f854c61a467fb53b5b87f8a"
      ],
      "layout": "IPY_MODEL_38a58fff12ba4d838d120dd3c4191638"
     }
    },
    "c91f9ca7c0e34348b37f5a24b5b0a01b": {
     "model_module": "@jupyter-widgets/base",
     "model_module_version": "1.2.0",
     "model_name": "LayoutModel",
     "state": {
      "_model_module": "@jupyter-widgets/base",
      "_model_module_version": "1.2.0",
      "_model_name": "LayoutModel",
      "_view_count": null,
      "_view_module": "@jupyter-widgets/base",
      "_view_module_version": "1.2.0",
      "_view_name": "LayoutView",
      "align_content": null,
      "align_items": null,
      "align_self": null,
      "border": null,
      "bottom": null,
      "display": null,
      "flex": null,
      "flex_flow": null,
      "grid_area": null,
      "grid_auto_columns": null,
      "grid_auto_flow": null,
      "grid_auto_rows": null,
      "grid_column": null,
      "grid_gap": null,
      "grid_row": null,
      "grid_template_areas": null,
      "grid_template_columns": null,
      "grid_template_rows": null,
      "height": null,
      "justify_content": null,
      "justify_items": null,
      "left": null,
      "margin": null,
      "max_height": null,
      "max_width": null,
      "min_height": null,
      "min_width": null,
      "object_fit": null,
      "object_position": null,
      "order": null,
      "overflow": null,
      "overflow_x": null,
      "overflow_y": null,
      "padding": null,
      "right": null,
      "top": null,
      "visibility": null,
      "width": null
     }
    },
    "cad06531ee3f44f092f1357675b18459": {
     "model_module": "@jupyter-widgets/base",
     "model_module_version": "1.2.0",
     "model_name": "LayoutModel",
     "state": {
      "_model_module": "@jupyter-widgets/base",
      "_model_module_version": "1.2.0",
      "_model_name": "LayoutModel",
      "_view_count": null,
      "_view_module": "@jupyter-widgets/base",
      "_view_module_version": "1.2.0",
      "_view_name": "LayoutView",
      "align_content": null,
      "align_items": null,
      "align_self": null,
      "border": null,
      "bottom": null,
      "display": null,
      "flex": null,
      "flex_flow": null,
      "grid_area": null,
      "grid_auto_columns": null,
      "grid_auto_flow": null,
      "grid_auto_rows": null,
      "grid_column": null,
      "grid_gap": null,
      "grid_row": null,
      "grid_template_areas": null,
      "grid_template_columns": null,
      "grid_template_rows": null,
      "height": null,
      "justify_content": null,
      "justify_items": null,
      "left": null,
      "margin": null,
      "max_height": null,
      "max_width": null,
      "min_height": null,
      "min_width": null,
      "object_fit": null,
      "object_position": null,
      "order": null,
      "overflow": null,
      "overflow_x": null,
      "overflow_y": null,
      "padding": null,
      "right": null,
      "top": null,
      "visibility": null,
      "width": null
     }
    },
    "cc40c730a67a4a229136eaa5878b200d": {
     "model_module": "@jupyter-widgets/base",
     "model_module_version": "1.2.0",
     "model_name": "LayoutModel",
     "state": {
      "_model_module": "@jupyter-widgets/base",
      "_model_module_version": "1.2.0",
      "_model_name": "LayoutModel",
      "_view_count": null,
      "_view_module": "@jupyter-widgets/base",
      "_view_module_version": "1.2.0",
      "_view_name": "LayoutView",
      "align_content": null,
      "align_items": null,
      "align_self": null,
      "border": null,
      "bottom": null,
      "display": null,
      "flex": null,
      "flex_flow": null,
      "grid_area": null,
      "grid_auto_columns": null,
      "grid_auto_flow": null,
      "grid_auto_rows": null,
      "grid_column": null,
      "grid_gap": null,
      "grid_row": null,
      "grid_template_areas": null,
      "grid_template_columns": null,
      "grid_template_rows": null,
      "height": null,
      "justify_content": null,
      "justify_items": null,
      "left": null,
      "margin": null,
      "max_height": null,
      "max_width": null,
      "min_height": null,
      "min_width": null,
      "object_fit": null,
      "object_position": null,
      "order": null,
      "overflow": null,
      "overflow_x": null,
      "overflow_y": null,
      "padding": null,
      "right": null,
      "top": null,
      "visibility": null,
      "width": null
     }
    },
    "d0f5b1f57fab4aea8510346b69e50e51": {
     "model_module": "@jupyter-widgets/controls",
     "model_module_version": "1.5.0",
     "model_name": "HTMLModel",
     "state": {
      "_dom_classes": [],
      "_model_module": "@jupyter-widgets/controls",
      "_model_module_version": "1.5.0",
      "_model_name": "HTMLModel",
      "_view_count": null,
      "_view_module": "@jupyter-widgets/controls",
      "_view_module_version": "1.5.0",
      "_view_name": "HTMLView",
      "description": "",
      "description_tooltip": null,
      "layout": "IPY_MODEL_cad06531ee3f44f092f1357675b18459",
      "placeholder": "​",
      "style": "IPY_MODEL_5d3c0d4bf2ca4d0b9f7954c49e0a813e",
      "value": "100%"
     }
    },
    "d45edd9cab6540ed8770637fcf3e7628": {
     "model_module": "@jupyter-widgets/base",
     "model_module_version": "1.2.0",
     "model_name": "LayoutModel",
     "state": {
      "_model_module": "@jupyter-widgets/base",
      "_model_module_version": "1.2.0",
      "_model_name": "LayoutModel",
      "_view_count": null,
      "_view_module": "@jupyter-widgets/base",
      "_view_module_version": "1.2.0",
      "_view_name": "LayoutView",
      "align_content": null,
      "align_items": null,
      "align_self": null,
      "border": null,
      "bottom": null,
      "display": null,
      "flex": null,
      "flex_flow": null,
      "grid_area": null,
      "grid_auto_columns": null,
      "grid_auto_flow": null,
      "grid_auto_rows": null,
      "grid_column": null,
      "grid_gap": null,
      "grid_row": null,
      "grid_template_areas": null,
      "grid_template_columns": null,
      "grid_template_rows": null,
      "height": null,
      "justify_content": null,
      "justify_items": null,
      "left": null,
      "margin": null,
      "max_height": null,
      "max_width": null,
      "min_height": null,
      "min_width": null,
      "object_fit": null,
      "object_position": null,
      "order": null,
      "overflow": null,
      "overflow_x": null,
      "overflow_y": null,
      "padding": null,
      "right": null,
      "top": null,
      "visibility": null,
      "width": null
     }
    },
    "d69b7368386441b8b4dc6394aa5a5bc6": {
     "model_module": "@jupyter-widgets/controls",
     "model_module_version": "1.5.0",
     "model_name": "FloatProgressModel",
     "state": {
      "_dom_classes": [],
      "_model_module": "@jupyter-widgets/controls",
      "_model_module_version": "1.5.0",
      "_model_name": "FloatProgressModel",
      "_view_count": null,
      "_view_module": "@jupyter-widgets/controls",
      "_view_module_version": "1.5.0",
      "_view_name": "ProgressView",
      "bar_style": "success",
      "description": "",
      "description_tooltip": null,
      "layout": "IPY_MODEL_a5080ae5eb814a2b86965892201444f0",
      "max": 782,
      "min": 0,
      "orientation": "horizontal",
      "style": "IPY_MODEL_7b154f76ed8b4b56b6c9f9749c60fd55",
      "value": 782
     }
    },
    "d7e7d440bfe54fd2a3753907f9a8b479": {
     "model_module": "@jupyter-widgets/controls",
     "model_module_version": "1.5.0",
     "model_name": "ProgressStyleModel",
     "state": {
      "_model_module": "@jupyter-widgets/controls",
      "_model_module_version": "1.5.0",
      "_model_name": "ProgressStyleModel",
      "_view_count": null,
      "_view_module": "@jupyter-widgets/base",
      "_view_module_version": "1.2.0",
      "_view_name": "StyleView",
      "bar_color": null,
      "description_width": ""
     }
    },
    "d84a3697ae48434597dd63bb37258dc0": {
     "model_module": "@jupyter-widgets/controls",
     "model_module_version": "1.5.0",
     "model_name": "ProgressStyleModel",
     "state": {
      "_model_module": "@jupyter-widgets/controls",
      "_model_module_version": "1.5.0",
      "_model_name": "ProgressStyleModel",
      "_view_count": null,
      "_view_module": "@jupyter-widgets/base",
      "_view_module_version": "1.2.0",
      "_view_name": "StyleView",
      "bar_color": null,
      "description_width": ""
     }
    },
    "d856383408b54a689603b8c178c2aaed": {
     "model_module": "@jupyter-widgets/base",
     "model_module_version": "1.2.0",
     "model_name": "LayoutModel",
     "state": {
      "_model_module": "@jupyter-widgets/base",
      "_model_module_version": "1.2.0",
      "_model_name": "LayoutModel",
      "_view_count": null,
      "_view_module": "@jupyter-widgets/base",
      "_view_module_version": "1.2.0",
      "_view_name": "LayoutView",
      "align_content": null,
      "align_items": null,
      "align_self": null,
      "border": null,
      "bottom": null,
      "display": null,
      "flex": null,
      "flex_flow": null,
      "grid_area": null,
      "grid_auto_columns": null,
      "grid_auto_flow": null,
      "grid_auto_rows": null,
      "grid_column": null,
      "grid_gap": null,
      "grid_row": null,
      "grid_template_areas": null,
      "grid_template_columns": null,
      "grid_template_rows": null,
      "height": null,
      "justify_content": null,
      "justify_items": null,
      "left": null,
      "margin": null,
      "max_height": null,
      "max_width": null,
      "min_height": null,
      "min_width": null,
      "object_fit": null,
      "object_position": null,
      "order": null,
      "overflow": null,
      "overflow_x": null,
      "overflow_y": null,
      "padding": null,
      "right": null,
      "top": null,
      "visibility": null,
      "width": null
     }
    },
    "d9d205cd51cb453b8e3b031a5b4176a9": {
     "model_module": "@jupyter-widgets/base",
     "model_module_version": "1.2.0",
     "model_name": "LayoutModel",
     "state": {
      "_model_module": "@jupyter-widgets/base",
      "_model_module_version": "1.2.0",
      "_model_name": "LayoutModel",
      "_view_count": null,
      "_view_module": "@jupyter-widgets/base",
      "_view_module_version": "1.2.0",
      "_view_name": "LayoutView",
      "align_content": null,
      "align_items": null,
      "align_self": null,
      "border": null,
      "bottom": null,
      "display": null,
      "flex": null,
      "flex_flow": null,
      "grid_area": null,
      "grid_auto_columns": null,
      "grid_auto_flow": null,
      "grid_auto_rows": null,
      "grid_column": null,
      "grid_gap": null,
      "grid_row": null,
      "grid_template_areas": null,
      "grid_template_columns": null,
      "grid_template_rows": null,
      "height": null,
      "justify_content": null,
      "justify_items": null,
      "left": null,
      "margin": null,
      "max_height": null,
      "max_width": null,
      "min_height": null,
      "min_width": null,
      "object_fit": null,
      "object_position": null,
      "order": null,
      "overflow": null,
      "overflow_x": null,
      "overflow_y": null,
      "padding": null,
      "right": null,
      "top": null,
      "visibility": null,
      "width": null
     }
    },
    "db77f09628464022b26c4fb7cace7dbe": {
     "model_module": "@jupyter-widgets/controls",
     "model_module_version": "1.5.0",
     "model_name": "HBoxModel",
     "state": {
      "_dom_classes": [],
      "_model_module": "@jupyter-widgets/controls",
      "_model_module_version": "1.5.0",
      "_model_name": "HBoxModel",
      "_view_count": null,
      "_view_module": "@jupyter-widgets/controls",
      "_view_module_version": "1.5.0",
      "_view_name": "HBoxView",
      "box_style": "",
      "children": [
       "IPY_MODEL_980aa0289b8f4bb3b92df5e4f49ef504",
       "IPY_MODEL_82a363e6bb564164a7f6c9f8b4a982e1",
       "IPY_MODEL_553c7b10a5944188bb10a4851bcd01c8"
      ],
      "layout": "IPY_MODEL_4f02cf2a7e3a491bb4e3a76225207950"
     }
    },
    "dde11222734642c4b70d68d0a3a418c0": {
     "model_module": "@jupyter-widgets/base",
     "model_module_version": "1.2.0",
     "model_name": "LayoutModel",
     "state": {
      "_model_module": "@jupyter-widgets/base",
      "_model_module_version": "1.2.0",
      "_model_name": "LayoutModel",
      "_view_count": null,
      "_view_module": "@jupyter-widgets/base",
      "_view_module_version": "1.2.0",
      "_view_name": "LayoutView",
      "align_content": null,
      "align_items": null,
      "align_self": null,
      "border": null,
      "bottom": null,
      "display": null,
      "flex": null,
      "flex_flow": null,
      "grid_area": null,
      "grid_auto_columns": null,
      "grid_auto_flow": null,
      "grid_auto_rows": null,
      "grid_column": null,
      "grid_gap": null,
      "grid_row": null,
      "grid_template_areas": null,
      "grid_template_columns": null,
      "grid_template_rows": null,
      "height": null,
      "justify_content": null,
      "justify_items": null,
      "left": null,
      "margin": null,
      "max_height": null,
      "max_width": null,
      "min_height": null,
      "min_width": null,
      "object_fit": null,
      "object_position": null,
      "order": null,
      "overflow": null,
      "overflow_x": null,
      "overflow_y": null,
      "padding": null,
      "right": null,
      "top": null,
      "visibility": null,
      "width": null
     }
    },
    "dde2e2f2e7024152b9102bcf1fc237c1": {
     "model_module": "@jupyter-widgets/controls",
     "model_module_version": "1.5.0",
     "model_name": "HTMLModel",
     "state": {
      "_dom_classes": [],
      "_model_module": "@jupyter-widgets/controls",
      "_model_module_version": "1.5.0",
      "_model_name": "HTMLModel",
      "_view_count": null,
      "_view_module": "@jupyter-widgets/controls",
      "_view_module_version": "1.5.0",
      "_view_name": "HTMLView",
      "description": "",
      "description_tooltip": null,
      "layout": "IPY_MODEL_940bac3caaa6462ca5f1d233d4f11e65",
      "placeholder": "​",
      "style": "IPY_MODEL_2e5690aaa1434cebadb96e2177bacfcf",
      "value": "100%"
     }
    },
    "e09b2b39adbc4540b6cff6ff08bf3aa0": {
     "model_module": "@jupyter-widgets/controls",
     "model_module_version": "1.5.0",
     "model_name": "DescriptionStyleModel",
     "state": {
      "_model_module": "@jupyter-widgets/controls",
      "_model_module_version": "1.5.0",
      "_model_name": "DescriptionStyleModel",
      "_view_count": null,
      "_view_module": "@jupyter-widgets/base",
      "_view_module_version": "1.2.0",
      "_view_name": "StyleView",
      "description_width": ""
     }
    },
    "e4179d6b29c248c3bd08723c06b7e4a0": {
     "model_module": "@jupyter-widgets/controls",
     "model_module_version": "1.5.0",
     "model_name": "HBoxModel",
     "state": {
      "_dom_classes": [],
      "_model_module": "@jupyter-widgets/controls",
      "_model_module_version": "1.5.0",
      "_model_name": "HBoxModel",
      "_view_count": null,
      "_view_module": "@jupyter-widgets/controls",
      "_view_module_version": "1.5.0",
      "_view_name": "HBoxView",
      "box_style": "",
      "children": [
       "IPY_MODEL_3ef6f403e8894aca89f7a8cab4c3b3df",
       "IPY_MODEL_a937a3db874044889227c7ab1a18e3bd",
       "IPY_MODEL_430748901276400b8d487aafd86ad537"
      ],
      "layout": "IPY_MODEL_88a9f733f5384bc18ebe354e385c0a36"
     }
    },
    "e7faea54094f482bae61dafb250b1ae3": {
     "model_module": "@jupyter-widgets/controls",
     "model_module_version": "1.5.0",
     "model_name": "HBoxModel",
     "state": {
      "_dom_classes": [],
      "_model_module": "@jupyter-widgets/controls",
      "_model_module_version": "1.5.0",
      "_model_name": "HBoxModel",
      "_view_count": null,
      "_view_module": "@jupyter-widgets/controls",
      "_view_module_version": "1.5.0",
      "_view_name": "HBoxView",
      "box_style": "",
      "children": [
       "IPY_MODEL_c3a46edac78e46a8a24299fe83dc8f8b",
       "IPY_MODEL_36b4a953282c42218c28ae948434209c",
       "IPY_MODEL_b80141d2c47c46fa91510d7fbab6dbac"
      ],
      "layout": "IPY_MODEL_4d158039a7c4437f812a1d22f66ed07b"
     }
    },
    "eb52d6a804414f398f7903e59cb00354": {
     "model_module": "@jupyter-widgets/base",
     "model_module_version": "1.2.0",
     "model_name": "LayoutModel",
     "state": {
      "_model_module": "@jupyter-widgets/base",
      "_model_module_version": "1.2.0",
      "_model_name": "LayoutModel",
      "_view_count": null,
      "_view_module": "@jupyter-widgets/base",
      "_view_module_version": "1.2.0",
      "_view_name": "LayoutView",
      "align_content": null,
      "align_items": null,
      "align_self": null,
      "border": null,
      "bottom": null,
      "display": null,
      "flex": null,
      "flex_flow": null,
      "grid_area": null,
      "grid_auto_columns": null,
      "grid_auto_flow": null,
      "grid_auto_rows": null,
      "grid_column": null,
      "grid_gap": null,
      "grid_row": null,
      "grid_template_areas": null,
      "grid_template_columns": null,
      "grid_template_rows": null,
      "height": null,
      "justify_content": null,
      "justify_items": null,
      "left": null,
      "margin": null,
      "max_height": null,
      "max_width": null,
      "min_height": null,
      "min_width": null,
      "object_fit": null,
      "object_position": null,
      "order": null,
      "overflow": null,
      "overflow_x": null,
      "overflow_y": null,
      "padding": null,
      "right": null,
      "top": null,
      "visibility": null,
      "width": null
     }
    },
    "f1fc9bb0f4e347f48c74fb34a2dbbcfb": {
     "model_module": "@jupyter-widgets/controls",
     "model_module_version": "1.5.0",
     "model_name": "HTMLModel",
     "state": {
      "_dom_classes": [],
      "_model_module": "@jupyter-widgets/controls",
      "_model_module_version": "1.5.0",
      "_model_name": "HTMLModel",
      "_view_count": null,
      "_view_module": "@jupyter-widgets/controls",
      "_view_module_version": "1.5.0",
      "_view_name": "HTMLView",
      "description": "",
      "description_tooltip": null,
      "layout": "IPY_MODEL_c45e49d84520436b8ef67d9532987ecf",
      "placeholder": "​",
      "style": "IPY_MODEL_4f7a4523e07e4bc0a91e98ca6b7c5f61",
      "value": " 782/782 [08:07&lt;00:00,  1.96it/s]"
     }
    },
    "f3171cc57b48470dba4d76d192d31bcd": {
     "model_module": "@jupyter-widgets/controls",
     "model_module_version": "1.5.0",
     "model_name": "FloatProgressModel",
     "state": {
      "_dom_classes": [],
      "_model_module": "@jupyter-widgets/controls",
      "_model_module_version": "1.5.0",
      "_model_name": "FloatProgressModel",
      "_view_count": null,
      "_view_module": "@jupyter-widgets/controls",
      "_view_module_version": "1.5.0",
      "_view_name": "ProgressView",
      "bar_style": "success",
      "description": "",
      "description_tooltip": null,
      "layout": "IPY_MODEL_9eb284716a5b48aebf25a08aeb88b543",
      "max": 782,
      "min": 0,
      "orientation": "horizontal",
      "style": "IPY_MODEL_d84a3697ae48434597dd63bb37258dc0",
      "value": 782
     }
    },
    "f4e9c0bacb5042f4bd8e2e2d556bc033": {
     "model_module": "@jupyter-widgets/controls",
     "model_module_version": "1.5.0",
     "model_name": "DescriptionStyleModel",
     "state": {
      "_model_module": "@jupyter-widgets/controls",
      "_model_module_version": "1.5.0",
      "_model_name": "DescriptionStyleModel",
      "_view_count": null,
      "_view_module": "@jupyter-widgets/base",
      "_view_module_version": "1.2.0",
      "_view_name": "StyleView",
      "description_width": ""
     }
    },
    "fe8c38160d044443b9f353a71ce278fe": {
     "model_module": "@jupyter-widgets/controls",
     "model_module_version": "1.5.0",
     "model_name": "DescriptionStyleModel",
     "state": {
      "_model_module": "@jupyter-widgets/controls",
      "_model_module_version": "1.5.0",
      "_model_name": "DescriptionStyleModel",
      "_view_count": null,
      "_view_module": "@jupyter-widgets/base",
      "_view_module_version": "1.2.0",
      "_view_name": "StyleView",
      "description_width": ""
     }
    },
    "feb85931878b4b8782d1e97d16119f0e": {
     "model_module": "@jupyter-widgets/controls",
     "model_module_version": "1.5.0",
     "model_name": "DescriptionStyleModel",
     "state": {
      "_model_module": "@jupyter-widgets/controls",
      "_model_module_version": "1.5.0",
      "_model_name": "DescriptionStyleModel",
      "_view_count": null,
      "_view_module": "@jupyter-widgets/base",
      "_view_module_version": "1.2.0",
      "_view_name": "StyleView",
      "description_width": ""
     }
    }
   }
  }
 },
 "nbformat": 4,
 "nbformat_minor": 4
}
